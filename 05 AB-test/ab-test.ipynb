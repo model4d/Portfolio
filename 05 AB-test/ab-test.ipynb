{
 "cells": [
  {
   "cell_type": "markdown",
   "metadata": {},
   "source": [
    "<h1 align=\"center\"> Приоритизация гипотез и анализ результатов А/В-теста</h1>\n",
    "    \n",
    "Мне, как аналитику крупного интернет-магазина и отделу маркетинга поставлена задача увеличения выручки компании. Для этого мы подготовили список гипотез,  одну из которых собираемся проверить с помощью А/В-теста.\n",
    "\n",
    "__Цель:__\n",
    "* Приоритизировать гипотезы, чтобы выбрать ту, которую будем тестировать;\n",
    "* Проанализировать результаты А/В-тестирования и принять решение по дальнейшим шагам.\n",
    "\n",
    "__Варианты решений:__\n",
    "1. Остановить тест, зафиксировать победу одной из групп.\n",
    "2. Остановить тест, зафиксировать отсутствие различий между группами.\n",
    "3. Продолжить тест.\n",
    "\n",
    "__Порядок выполнения исследования:__\n",
    "\n",
    "* загрузка данных, обзор и предобработка;\n",
    "* приоритизация гипотез;\n",
    "* анализ А/В-теста;\n",
    "* формулирование итоговых выводов и рекомендаций.\n"
   ]
  },
  {
   "cell_type": "markdown",
   "metadata": {},
   "source": [
    "<a id=\"1\"></a>\n",
    "### Загрузка данных и подготовка их к анализу"
   ]
  },
  {
   "cell_type": "code",
   "execution_count": 1,
   "metadata": {},
   "outputs": [],
   "source": [
    "# Загрузим необходимые библиотеки\n",
    "import pandas as pd\n",
    "import numpy as np\n",
    "import matplotlib.pyplot as plt\n",
    "from scipy import stats as st\n",
    "import math as mth"
   ]
  },
  {
   "cell_type": "code",
   "execution_count": 2,
   "metadata": {},
   "outputs": [],
   "source": [
    "# снимем ограничение для отображения всех символов строки\n",
    "pd.set_option('display.max_colwidth', None)\n",
    "\n",
    "# снимем ограничение для отображения всех столбцов датафрейма\n",
    "pd.set_option(\"display.max_columns\", None)"
   ]
  },
  {
   "cell_type": "code",
   "execution_count": 3,
   "metadata": {},
   "outputs": [],
   "source": [
    "# Загружаем исходные данные:\n",
    "hypothesis, orders, visitors = (\n",
    "    pd.read_csv('/datasets/hypothesis.csv'),  # гипотезы\n",
    "    pd.read_csv('/datasets/orders.csv'),  # датасет с заказами\n",
    "    pd.read_csv('/datasets/visitors.csv'),  # датасет с посетителями\n",
    ")"
   ]
  },
  {
   "cell_type": "code",
   "execution_count": 4,
   "metadata": {},
   "outputs": [],
   "source": [
    "def data_review(df):\n",
    "    \n",
    "    ''' Функция принимает на входе датафрейм, из которого\n",
    "        выводит на экран 3 первые и 3 последние строки,\n",
    "        считает и выводит общее количество полных дубликатов строк,\n",
    "        комбинацию символов \"Id\" в названии столбца заменяет на \"_id\",\n",
    "        переводит в нижний регистр названия столбцов,\n",
    "        выводит краткую сводку по получившемуся датафрейму. '''\n",
    "\n",
    "    \n",
    "    print('\\033[1m' + 'Первые три строки таблицы:' + '\\033[0m' + '\\n', \n",
    "          df.head(3), '\\n'\n",
    "         )\n",
    "    print('\\033[1m' + 'Последние три строки таблицы:' + '\\033[0m' + '\\n', \n",
    "          df.tail(3), '\\n'\n",
    "         )\n",
    "    print('\\033[1m' + 'Количество дубликатов в таблице:' + '\\033[0m'\n",
    "          , df.duplicated().sum(), '\\n', '\\n'\n",
    "          , '\\033[1m' + 'Краткая сводка:' + '\\033[0m'\n",
    "         )\n",
    "    df.columns = [name.replace('Id', '_id') for name in df.columns]\n",
    "    df.columns = df.columns.str.lower()\n",
    "    df.info()"
   ]
  },
  {
   "cell_type": "code",
   "execution_count": 5,
   "metadata": {
    "scrolled": false
   },
   "outputs": [
    {
     "name": "stdout",
     "output_type": "stream",
     "text": [
      "\u001b[1mПервые три строки таблицы:\u001b[0m\n",
      "                                                                                                      Hypothesis  \\\n",
      "0            Добавить два новых канала привлечения трафика, что позволит привлекать на 30% больше пользователей   \n",
      "1                                     Запустить собственную службу доставки, что сократит срок доставки заказов   \n",
      "2  Добавить блоки рекомендаций товаров на сайт интернет магазина, чтобы повысить конверсию и средний чек заказа   \n",
      "\n",
      "   Reach  Impact  Confidence  Efforts  \n",
      "0      3      10           8        6  \n",
      "1      2       5           4       10  \n",
      "2      8       3           7        3   \n",
      "\n",
      "\u001b[1mПоследние три строки таблицы:\u001b[0m\n",
      "                                                                                              Hypothesis  \\\n",
      "6  Показать на главной странице баннеры с актуальными акциями и распродажами, чтобы увеличить конверсию   \n",
      "7      Добавить форму подписки на все основные страницы, чтобы собрать базу клиентов для email-рассылок   \n",
      "8                                               Запустить акцию, дающую скидку на товар в день рождения   \n",
      "\n",
      "   Reach  Impact  Confidence  Efforts  \n",
      "6      5       3           8        3  \n",
      "7     10       7           8        5  \n",
      "8      1       9           9        5   \n",
      "\n",
      "\u001b[1mКоличество дубликатов в таблице:\u001b[0m 0 \n",
      " \n",
      " \u001b[1mКраткая сводка:\u001b[0m\n",
      "<class 'pandas.core.frame.DataFrame'>\n",
      "RangeIndex: 9 entries, 0 to 8\n",
      "Data columns (total 5 columns):\n",
      " #   Column      Non-Null Count  Dtype \n",
      "---  ------      --------------  ----- \n",
      " 0   hypothesis  9 non-null      object\n",
      " 1   reach       9 non-null      int64 \n",
      " 2   impact      9 non-null      int64 \n",
      " 3   confidence  9 non-null      int64 \n",
      " 4   efforts     9 non-null      int64 \n",
      "dtypes: int64(4), object(1)\n",
      "memory usage: 488.0+ bytes\n"
     ]
    }
   ],
   "source": [
    "data_review(hypothesis)"
   ]
  },
  {
   "cell_type": "markdown",
   "metadata": {},
   "source": [
    "С датафреймом по гипотезам все нормально."
   ]
  },
  {
   "cell_type": "markdown",
   "metadata": {},
   "source": [
    "Смотрим следующий датафрейм с заказами:"
   ]
  },
  {
   "cell_type": "code",
   "execution_count": 6,
   "metadata": {
    "scrolled": false
   },
   "outputs": [
    {
     "name": "stdout",
     "output_type": "stream",
     "text": [
      "\u001b[1mПервые три строки таблицы:\u001b[0m\n",
      "    transactionId   visitorId        date  revenue group\n",
      "0     3667963787  3312258926  2019-08-15     1650     B\n",
      "1     2804400009  3642806036  2019-08-15      730     B\n",
      "2     2961555356  4069496402  2019-08-15      400     A \n",
      "\n",
      "\u001b[1mПоследние три строки таблицы:\u001b[0m\n",
      "       transactionId   visitorId        date  revenue group\n",
      "1194     1807773912   573423106  2019-08-14    10550     A\n",
      "1195     1947021204  1614305549  2019-08-14      100     A\n",
      "1196     3936777065  2108080724  2019-08-15   202740     B \n",
      "\n",
      "\u001b[1mКоличество дубликатов в таблице:\u001b[0m 0 \n",
      " \n",
      " \u001b[1mКраткая сводка:\u001b[0m\n",
      "<class 'pandas.core.frame.DataFrame'>\n",
      "RangeIndex: 1197 entries, 0 to 1196\n",
      "Data columns (total 5 columns):\n",
      " #   Column          Non-Null Count  Dtype \n",
      "---  ------          --------------  ----- \n",
      " 0   transaction_id  1197 non-null   int64 \n",
      " 1   visitor_id      1197 non-null   int64 \n",
      " 2   date            1197 non-null   object\n",
      " 3   revenue         1197 non-null   int64 \n",
      " 4   group           1197 non-null   object\n",
      "dtypes: int64(3), object(2)\n",
      "memory usage: 46.9+ KB\n"
     ]
    }
   ],
   "source": [
    "data_review(orders)"
   ]
  },
  {
   "cell_type": "markdown",
   "metadata": {},
   "source": [
    "Здесь нужно привести столбец date к типу datetime."
   ]
  },
  {
   "cell_type": "markdown",
   "metadata": {},
   "source": [
    "Смотрим третий датафрейм с посетителями интернет-магазина:"
   ]
  },
  {
   "cell_type": "code",
   "execution_count": 7,
   "metadata": {},
   "outputs": [
    {
     "name": "stdout",
     "output_type": "stream",
     "text": [
      "\u001b[1mПервые три строки таблицы:\u001b[0m\n",
      "          date group  visitors\n",
      "0  2019-08-01     A       719\n",
      "1  2019-08-02     A       619\n",
      "2  2019-08-03     A       507 \n",
      "\n",
      "\u001b[1mПоследние три строки таблицы:\u001b[0m\n",
      "           date group  visitors\n",
      "59  2019-08-29     B       531\n",
      "60  2019-08-30     B       490\n",
      "61  2019-08-31     B       718 \n",
      "\n",
      "\u001b[1mКоличество дубликатов в таблице:\u001b[0m 0 \n",
      " \n",
      " \u001b[1mКраткая сводка:\u001b[0m\n",
      "<class 'pandas.core.frame.DataFrame'>\n",
      "RangeIndex: 62 entries, 0 to 61\n",
      "Data columns (total 3 columns):\n",
      " #   Column    Non-Null Count  Dtype \n",
      "---  ------    --------------  ----- \n",
      " 0   date      62 non-null     object\n",
      " 1   group     62 non-null     object\n",
      " 2   visitors  62 non-null     int64 \n",
      "dtypes: int64(1), object(2)\n",
      "memory usage: 1.6+ KB\n"
     ]
    }
   ],
   "source": [
    "data_review(visitors)"
   ]
  },
  {
   "cell_type": "markdown",
   "metadata": {},
   "source": [
    "Здесь также необходимо преобразовать столбец с датами."
   ]
  },
  {
   "cell_type": "markdown",
   "metadata": {},
   "source": [
    "Скорректируем формат столбцов date:"
   ]
  },
  {
   "cell_type": "code",
   "execution_count": 8,
   "metadata": {},
   "outputs": [],
   "source": [
    "orders['date'] = pd.to_datetime(orders['date'])\n",
    "visitors['date'] = pd.to_datetime(visitors['date'])"
   ]
  },
  {
   "cell_type": "markdown",
   "metadata": {},
   "source": [
    "В данном разделе мы загрузили исходные датасеты, проверили строки в них на дублирование, привели названия столбцов к единому виду, столбцы с датами конвертировали в формат **datetime**."
   ]
  },
  {
   "cell_type": "markdown",
   "metadata": {},
   "source": [
    "<a id=\"2\"></a>\n",
    "### Часть 1. Приоритизация гипотез"
   ]
  },
  {
   "cell_type": "markdown",
   "metadata": {},
   "source": [
    "Выведем на экран полностью таблицу с гипотезами и их параметрами, которые были оценены по десятибальной шкале:"
   ]
  },
  {
   "cell_type": "code",
   "execution_count": 9,
   "metadata": {
    "scrolled": true
   },
   "outputs": [
    {
     "data": {
      "text/html": [
       "<div>\n",
       "<style scoped>\n",
       "    .dataframe tbody tr th:only-of-type {\n",
       "        vertical-align: middle;\n",
       "    }\n",
       "\n",
       "    .dataframe tbody tr th {\n",
       "        vertical-align: top;\n",
       "    }\n",
       "\n",
       "    .dataframe thead th {\n",
       "        text-align: right;\n",
       "    }\n",
       "</style>\n",
       "<table border=\"1\" class=\"dataframe\">\n",
       "  <thead>\n",
       "    <tr style=\"text-align: right;\">\n",
       "      <th></th>\n",
       "      <th>hypothesis</th>\n",
       "      <th>reach</th>\n",
       "      <th>impact</th>\n",
       "      <th>confidence</th>\n",
       "      <th>efforts</th>\n",
       "    </tr>\n",
       "  </thead>\n",
       "  <tbody>\n",
       "    <tr>\n",
       "      <th>0</th>\n",
       "      <td>Добавить два новых канала привлечения трафика, что позволит привлекать на 30% больше пользователей</td>\n",
       "      <td>3</td>\n",
       "      <td>10</td>\n",
       "      <td>8</td>\n",
       "      <td>6</td>\n",
       "    </tr>\n",
       "    <tr>\n",
       "      <th>1</th>\n",
       "      <td>Запустить собственную службу доставки, что сократит срок доставки заказов</td>\n",
       "      <td>2</td>\n",
       "      <td>5</td>\n",
       "      <td>4</td>\n",
       "      <td>10</td>\n",
       "    </tr>\n",
       "    <tr>\n",
       "      <th>2</th>\n",
       "      <td>Добавить блоки рекомендаций товаров на сайт интернет магазина, чтобы повысить конверсию и средний чек заказа</td>\n",
       "      <td>8</td>\n",
       "      <td>3</td>\n",
       "      <td>7</td>\n",
       "      <td>3</td>\n",
       "    </tr>\n",
       "    <tr>\n",
       "      <th>3</th>\n",
       "      <td>Изменить структура категорий, что увеличит конверсию, т.к. пользователи быстрее найдут нужный товар</td>\n",
       "      <td>8</td>\n",
       "      <td>3</td>\n",
       "      <td>3</td>\n",
       "      <td>8</td>\n",
       "    </tr>\n",
       "    <tr>\n",
       "      <th>4</th>\n",
       "      <td>Изменить цвет фона главной страницы, чтобы увеличить вовлеченность пользователей</td>\n",
       "      <td>3</td>\n",
       "      <td>1</td>\n",
       "      <td>1</td>\n",
       "      <td>1</td>\n",
       "    </tr>\n",
       "    <tr>\n",
       "      <th>5</th>\n",
       "      <td>Добавить страницу отзывов клиентов о магазине, что позволит увеличить количество заказов</td>\n",
       "      <td>3</td>\n",
       "      <td>2</td>\n",
       "      <td>2</td>\n",
       "      <td>3</td>\n",
       "    </tr>\n",
       "    <tr>\n",
       "      <th>6</th>\n",
       "      <td>Показать на главной странице баннеры с актуальными акциями и распродажами, чтобы увеличить конверсию</td>\n",
       "      <td>5</td>\n",
       "      <td>3</td>\n",
       "      <td>8</td>\n",
       "      <td>3</td>\n",
       "    </tr>\n",
       "    <tr>\n",
       "      <th>7</th>\n",
       "      <td>Добавить форму подписки на все основные страницы, чтобы собрать базу клиентов для email-рассылок</td>\n",
       "      <td>10</td>\n",
       "      <td>7</td>\n",
       "      <td>8</td>\n",
       "      <td>5</td>\n",
       "    </tr>\n",
       "    <tr>\n",
       "      <th>8</th>\n",
       "      <td>Запустить акцию, дающую скидку на товар в день рождения</td>\n",
       "      <td>1</td>\n",
       "      <td>9</td>\n",
       "      <td>9</td>\n",
       "      <td>5</td>\n",
       "    </tr>\n",
       "  </tbody>\n",
       "</table>\n",
       "</div>"
      ],
      "text/plain": [
       "                                                                                                     hypothesis  \\\n",
       "0            Добавить два новых канала привлечения трафика, что позволит привлекать на 30% больше пользователей   \n",
       "1                                     Запустить собственную службу доставки, что сократит срок доставки заказов   \n",
       "2  Добавить блоки рекомендаций товаров на сайт интернет магазина, чтобы повысить конверсию и средний чек заказа   \n",
       "3           Изменить структура категорий, что увеличит конверсию, т.к. пользователи быстрее найдут нужный товар   \n",
       "4                              Изменить цвет фона главной страницы, чтобы увеличить вовлеченность пользователей   \n",
       "5                      Добавить страницу отзывов клиентов о магазине, что позволит увеличить количество заказов   \n",
       "6          Показать на главной странице баннеры с актуальными акциями и распродажами, чтобы увеличить конверсию   \n",
       "7              Добавить форму подписки на все основные страницы, чтобы собрать базу клиентов для email-рассылок   \n",
       "8                                                       Запустить акцию, дающую скидку на товар в день рождения   \n",
       "\n",
       "   reach  impact  confidence  efforts  \n",
       "0      3      10           8        6  \n",
       "1      2       5           4       10  \n",
       "2      8       3           7        3  \n",
       "3      8       3           3        8  \n",
       "4      3       1           1        1  \n",
       "5      3       2           2        3  \n",
       "6      5       3           8        3  \n",
       "7     10       7           8        5  \n",
       "8      1       9           9        5  "
      ]
     },
     "execution_count": 9,
     "metadata": {},
     "output_type": "execute_result"
    }
   ],
   "source": [
    "hypothesis"
   ]
  },
  {
   "cell_type": "markdown",
   "metadata": {},
   "source": [
    "Мы видим несколько параметров: Reach - охват, Impact - влияние, Confidence - уверенность, Efforts - усилия. Используя эти параметры, мы можем расположить гипотезы в порядке их важности для улучшения ключевых метрик бизнеса."
   ]
  },
  {
   "cell_type": "markdown",
   "metadata": {},
   "source": [
    "#### Приоритизация гипотез с помощью фреймворка ICE"
   ]
  },
  {
   "cell_type": "markdown",
   "metadata": {},
   "source": [
    "Данный метод приоритизации использует следующую формулу для определения ранга гипотезы:"
   ]
  },
  {
   "cell_type": "markdown",
   "metadata": {},
   "source": [
    "$$\\text{ICE SCORE} = \\frac{Impact\\cdot Confidence}{Efforts}$$"
   ]
  },
  {
   "cell_type": "code",
   "execution_count": 10,
   "metadata": {},
   "outputs": [],
   "source": [
    "# Добавим к таблице новый столбец, вычислив значения для него по формуле для ICE:\n",
    "hypothesis['ice'] = hypothesis['impact']*hypothesis['confidence']/hypothesis['efforts']"
   ]
  },
  {
   "cell_type": "code",
   "execution_count": 11,
   "metadata": {
    "scrolled": false
   },
   "outputs": [
    {
     "data": {
      "text/html": [
       "<div>\n",
       "<style scoped>\n",
       "    .dataframe tbody tr th:only-of-type {\n",
       "        vertical-align: middle;\n",
       "    }\n",
       "\n",
       "    .dataframe tbody tr th {\n",
       "        vertical-align: top;\n",
       "    }\n",
       "\n",
       "    .dataframe thead th {\n",
       "        text-align: right;\n",
       "    }\n",
       "</style>\n",
       "<table border=\"1\" class=\"dataframe\">\n",
       "  <thead>\n",
       "    <tr style=\"text-align: right;\">\n",
       "      <th></th>\n",
       "      <th>hypothesis</th>\n",
       "      <th>reach</th>\n",
       "      <th>impact</th>\n",
       "      <th>confidence</th>\n",
       "      <th>efforts</th>\n",
       "      <th>ice</th>\n",
       "    </tr>\n",
       "  </thead>\n",
       "  <tbody>\n",
       "    <tr>\n",
       "      <th>0</th>\n",
       "      <td>Запустить акцию, дающую скидку на товар в день рождения</td>\n",
       "      <td>1</td>\n",
       "      <td>9</td>\n",
       "      <td>9</td>\n",
       "      <td>5</td>\n",
       "      <td>16.200000</td>\n",
       "    </tr>\n",
       "    <tr>\n",
       "      <th>1</th>\n",
       "      <td>Добавить два новых канала привлечения трафика, что позволит привлекать на 30% больше пользователей</td>\n",
       "      <td>3</td>\n",
       "      <td>10</td>\n",
       "      <td>8</td>\n",
       "      <td>6</td>\n",
       "      <td>13.333333</td>\n",
       "    </tr>\n",
       "    <tr>\n",
       "      <th>2</th>\n",
       "      <td>Добавить форму подписки на все основные страницы, чтобы собрать базу клиентов для email-рассылок</td>\n",
       "      <td>10</td>\n",
       "      <td>7</td>\n",
       "      <td>8</td>\n",
       "      <td>5</td>\n",
       "      <td>11.200000</td>\n",
       "    </tr>\n",
       "    <tr>\n",
       "      <th>3</th>\n",
       "      <td>Показать на главной странице баннеры с актуальными акциями и распродажами, чтобы увеличить конверсию</td>\n",
       "      <td>5</td>\n",
       "      <td>3</td>\n",
       "      <td>8</td>\n",
       "      <td>3</td>\n",
       "      <td>8.000000</td>\n",
       "    </tr>\n",
       "    <tr>\n",
       "      <th>4</th>\n",
       "      <td>Добавить блоки рекомендаций товаров на сайт интернет магазина, чтобы повысить конверсию и средний чек заказа</td>\n",
       "      <td>8</td>\n",
       "      <td>3</td>\n",
       "      <td>7</td>\n",
       "      <td>3</td>\n",
       "      <td>7.000000</td>\n",
       "    </tr>\n",
       "    <tr>\n",
       "      <th>5</th>\n",
       "      <td>Запустить собственную службу доставки, что сократит срок доставки заказов</td>\n",
       "      <td>2</td>\n",
       "      <td>5</td>\n",
       "      <td>4</td>\n",
       "      <td>10</td>\n",
       "      <td>2.000000</td>\n",
       "    </tr>\n",
       "    <tr>\n",
       "      <th>6</th>\n",
       "      <td>Добавить страницу отзывов клиентов о магазине, что позволит увеличить количество заказов</td>\n",
       "      <td>3</td>\n",
       "      <td>2</td>\n",
       "      <td>2</td>\n",
       "      <td>3</td>\n",
       "      <td>1.333333</td>\n",
       "    </tr>\n",
       "    <tr>\n",
       "      <th>7</th>\n",
       "      <td>Изменить структура категорий, что увеличит конверсию, т.к. пользователи быстрее найдут нужный товар</td>\n",
       "      <td>8</td>\n",
       "      <td>3</td>\n",
       "      <td>3</td>\n",
       "      <td>8</td>\n",
       "      <td>1.125000</td>\n",
       "    </tr>\n",
       "    <tr>\n",
       "      <th>8</th>\n",
       "      <td>Изменить цвет фона главной страницы, чтобы увеличить вовлеченность пользователей</td>\n",
       "      <td>3</td>\n",
       "      <td>1</td>\n",
       "      <td>1</td>\n",
       "      <td>1</td>\n",
       "      <td>1.000000</td>\n",
       "    </tr>\n",
       "  </tbody>\n",
       "</table>\n",
       "</div>"
      ],
      "text/plain": [
       "                                                                                                     hypothesis  \\\n",
       "0                                                       Запустить акцию, дающую скидку на товар в день рождения   \n",
       "1            Добавить два новых канала привлечения трафика, что позволит привлекать на 30% больше пользователей   \n",
       "2              Добавить форму подписки на все основные страницы, чтобы собрать базу клиентов для email-рассылок   \n",
       "3          Показать на главной странице баннеры с актуальными акциями и распродажами, чтобы увеличить конверсию   \n",
       "4  Добавить блоки рекомендаций товаров на сайт интернет магазина, чтобы повысить конверсию и средний чек заказа   \n",
       "5                                     Запустить собственную службу доставки, что сократит срок доставки заказов   \n",
       "6                      Добавить страницу отзывов клиентов о магазине, что позволит увеличить количество заказов   \n",
       "7           Изменить структура категорий, что увеличит конверсию, т.к. пользователи быстрее найдут нужный товар   \n",
       "8                              Изменить цвет фона главной страницы, чтобы увеличить вовлеченность пользователей   \n",
       "\n",
       "   reach  impact  confidence  efforts        ice  \n",
       "0      1       9           9        5  16.200000  \n",
       "1      3      10           8        6  13.333333  \n",
       "2     10       7           8        5  11.200000  \n",
       "3      5       3           8        3   8.000000  \n",
       "4      8       3           7        3   7.000000  \n",
       "5      2       5           4       10   2.000000  \n",
       "6      3       2           2        3   1.333333  \n",
       "7      8       3           3        8   1.125000  \n",
       "8      3       1           1        1   1.000000  "
      ]
     },
     "execution_count": 11,
     "metadata": {},
     "output_type": "execute_result"
    }
   ],
   "source": [
    "# Выведем таблицу с новым столбцом, отсортировав по нему в порядке убывания, а также сбросим индексы:\n",
    "hypothesis = hypothesis.sort_values(by='ice', ascending=False, ignore_index=True)\n",
    "hypothesis"
   ]
  },
  {
   "cell_type": "markdown",
   "metadata": {},
   "source": [
    "Наилучший ранг получила гипотеза о скидке ко дню рождения. Но, наш метод расчета не учитывает размер аудитории, которую он охватывает. Например, победившая гипотеза затрагивает каждый день в среднем только одного из 365 посетителей интернет-магазина. Кроме того, для ее реализации необходимо получить от покупателя достаточно чувствительную личную информацию (дату рождения), и чтобы нивелировать этот фактор, придется увеличивать процент предлагаемой скидки."
   ]
  },
  {
   "cell_type": "markdown",
   "metadata": {},
   "source": [
    "#### Приоритизация гипотез с помощью фреймворка RICE"
   ]
  },
  {
   "cell_type": "markdown",
   "metadata": {},
   "source": [
    "Формула для данного метода приоритизации:"
   ]
  },
  {
   "cell_type": "markdown",
   "metadata": {},
   "source": [
    "$$\\text{RICE SCORE} = \\frac{Reach\\cdot Impact\\cdot Confidence}{Efforts}$$"
   ]
  },
  {
   "cell_type": "markdown",
   "metadata": {},
   "source": [
    "Далее выполним несколько шагов, чтобы получить в итоге ранжированную по методу RICE таблицу с указанием изменения ранга по сравнению с предыдущим методом:"
   ]
  },
  {
   "cell_type": "code",
   "execution_count": 12,
   "metadata": {},
   "outputs": [],
   "source": [
    "# Добавим к таблице новый столбец, вычислив значения для него по формуле для RICE:\n",
    "hypothesis['rice'] = hypothesis['reach']*hypothesis['impact']*hypothesis['confidence']/hypothesis['efforts']"
   ]
  },
  {
   "cell_type": "code",
   "execution_count": 13,
   "metadata": {},
   "outputs": [],
   "source": [
    "# Сортируем по RICE\n",
    "hypothesis_sorted = hypothesis.sort_values(by='rice', ascending=False)"
   ]
  },
  {
   "cell_type": "code",
   "execution_count": 14,
   "metadata": {},
   "outputs": [],
   "source": [
    "# Добавляем колонку с изменением позиции\n",
    "hypothesis_sorted['rank_change'] = hypothesis_sorted.index - hypothesis.index"
   ]
  },
  {
   "cell_type": "code",
   "execution_count": 15,
   "metadata": {},
   "outputs": [],
   "source": [
    "# Добавляем плюсики к положительным значениям\n",
    "hypothesis_sorted['rank_change'] = hypothesis_sorted['rank_change'].apply(lambda x: f\"+{x}\" if x > 0 else str(x))"
   ]
  },
  {
   "cell_type": "code",
   "execution_count": 16,
   "metadata": {},
   "outputs": [],
   "source": [
    "# Функция для окрашивания значений\n",
    "def color_positions(val):\n",
    "    if val == '0':\n",
    "        return ''\n",
    "    color = 'green' if '+' in val else 'red'\n",
    "    return f'color: {color}'"
   ]
  },
  {
   "cell_type": "code",
   "execution_count": 17,
   "metadata": {},
   "outputs": [],
   "source": [
    "def bold_text(val):\n",
    "    return 'font-weight: bold'"
   ]
  },
  {
   "cell_type": "code",
   "execution_count": 18,
   "metadata": {
    "scrolled": false
   },
   "outputs": [
    {
     "data": {
      "text/html": [
       "<style  type=\"text/css\" >\n",
       "#T_b1833_row0_col1,#T_b1833_row1_col1,#T_b1833_row5_col1{\n",
       "            color:  green;\n",
       "            font-weight:  bold;\n",
       "        }#T_b1833_row2_col1,#T_b1833_row4_col1,#T_b1833_row6_col1,#T_b1833_row7_col1{\n",
       "            color:  red;\n",
       "            font-weight:  bold;\n",
       "        }#T_b1833_row3_col1,#T_b1833_row8_col1{\n",
       "            font-weight:  bold;\n",
       "        }</style><table id=\"T_b1833_\" ><thead>    <tr>        <th class=\"blank level0\" ></th>        <th class=\"col_heading level0 col0\" >hypothesis</th>        <th class=\"col_heading level0 col1\" >rank_change</th>        <th class=\"col_heading level0 col2\" >ice</th>        <th class=\"col_heading level0 col3\" >rice</th>    </tr></thead><tbody>\n",
       "                <tr>\n",
       "                        <th id=\"T_b1833_level0_row0\" class=\"row_heading level0 row0\" >0</th>\n",
       "                        <td id=\"T_b1833_row0_col0\" class=\"data row0 col0\" >Добавить форму подписки на все основные страницы, чтобы собрать базу клиентов для email-рассылок</td>\n",
       "                        <td id=\"T_b1833_row0_col1\" class=\"data row0 col1\" >+2</td>\n",
       "                        <td id=\"T_b1833_row0_col2\" class=\"data row0 col2\" >11.200</td>\n",
       "                        <td id=\"T_b1833_row0_col3\" class=\"data row0 col3\" >112.0</td>\n",
       "            </tr>\n",
       "            <tr>\n",
       "                        <th id=\"T_b1833_level0_row1\" class=\"row_heading level0 row1\" >1</th>\n",
       "                        <td id=\"T_b1833_row1_col0\" class=\"data row1 col0\" >Добавить блоки рекомендаций товаров на сайт интернет магазина, чтобы повысить конверсию и средний чек заказа</td>\n",
       "                        <td id=\"T_b1833_row1_col1\" class=\"data row1 col1\" >+3</td>\n",
       "                        <td id=\"T_b1833_row1_col2\" class=\"data row1 col2\" >7.000</td>\n",
       "                        <td id=\"T_b1833_row1_col3\" class=\"data row1 col3\" >56.0</td>\n",
       "            </tr>\n",
       "            <tr>\n",
       "                        <th id=\"T_b1833_level0_row2\" class=\"row_heading level0 row2\" >2</th>\n",
       "                        <td id=\"T_b1833_row2_col0\" class=\"data row2 col0\" >Добавить два новых канала привлечения трафика, что позволит привлекать на 30% больше пользователей</td>\n",
       "                        <td id=\"T_b1833_row2_col1\" class=\"data row2 col1\" >-1</td>\n",
       "                        <td id=\"T_b1833_row2_col2\" class=\"data row2 col2\" >13.333</td>\n",
       "                        <td id=\"T_b1833_row2_col3\" class=\"data row2 col3\" >40.0</td>\n",
       "            </tr>\n",
       "            <tr>\n",
       "                        <th id=\"T_b1833_level0_row3\" class=\"row_heading level0 row3\" >3</th>\n",
       "                        <td id=\"T_b1833_row3_col0\" class=\"data row3 col0\" >Показать на главной странице баннеры с актуальными акциями и распродажами, чтобы увеличить конверсию</td>\n",
       "                        <td id=\"T_b1833_row3_col1\" class=\"data row3 col1\" >0</td>\n",
       "                        <td id=\"T_b1833_row3_col2\" class=\"data row3 col2\" >8.000</td>\n",
       "                        <td id=\"T_b1833_row3_col3\" class=\"data row3 col3\" >40.0</td>\n",
       "            </tr>\n",
       "            <tr>\n",
       "                        <th id=\"T_b1833_level0_row4\" class=\"row_heading level0 row4\" >4</th>\n",
       "                        <td id=\"T_b1833_row4_col0\" class=\"data row4 col0\" >Запустить акцию, дающую скидку на товар в день рождения</td>\n",
       "                        <td id=\"T_b1833_row4_col1\" class=\"data row4 col1\" >-4</td>\n",
       "                        <td id=\"T_b1833_row4_col2\" class=\"data row4 col2\" >16.200</td>\n",
       "                        <td id=\"T_b1833_row4_col3\" class=\"data row4 col3\" >16.2</td>\n",
       "            </tr>\n",
       "            <tr>\n",
       "                        <th id=\"T_b1833_level0_row5\" class=\"row_heading level0 row5\" >5</th>\n",
       "                        <td id=\"T_b1833_row5_col0\" class=\"data row5 col0\" >Изменить структура категорий, что увеличит конверсию, т.к. пользователи быстрее найдут нужный товар</td>\n",
       "                        <td id=\"T_b1833_row5_col1\" class=\"data row5 col1\" >+2</td>\n",
       "                        <td id=\"T_b1833_row5_col2\" class=\"data row5 col2\" >1.125</td>\n",
       "                        <td id=\"T_b1833_row5_col3\" class=\"data row5 col3\" >9.0</td>\n",
       "            </tr>\n",
       "            <tr>\n",
       "                        <th id=\"T_b1833_level0_row6\" class=\"row_heading level0 row6\" >6</th>\n",
       "                        <td id=\"T_b1833_row6_col0\" class=\"data row6 col0\" >Запустить собственную службу доставки, что сократит срок доставки заказов</td>\n",
       "                        <td id=\"T_b1833_row6_col1\" class=\"data row6 col1\" >-1</td>\n",
       "                        <td id=\"T_b1833_row6_col2\" class=\"data row6 col2\" >2.000</td>\n",
       "                        <td id=\"T_b1833_row6_col3\" class=\"data row6 col3\" >4.0</td>\n",
       "            </tr>\n",
       "            <tr>\n",
       "                        <th id=\"T_b1833_level0_row7\" class=\"row_heading level0 row7\" >7</th>\n",
       "                        <td id=\"T_b1833_row7_col0\" class=\"data row7 col0\" >Добавить страницу отзывов клиентов о магазине, что позволит увеличить количество заказов</td>\n",
       "                        <td id=\"T_b1833_row7_col1\" class=\"data row7 col1\" >-1</td>\n",
       "                        <td id=\"T_b1833_row7_col2\" class=\"data row7 col2\" >1.333</td>\n",
       "                        <td id=\"T_b1833_row7_col3\" class=\"data row7 col3\" >4.0</td>\n",
       "            </tr>\n",
       "            <tr>\n",
       "                        <th id=\"T_b1833_level0_row8\" class=\"row_heading level0 row8\" >8</th>\n",
       "                        <td id=\"T_b1833_row8_col0\" class=\"data row8 col0\" >Изменить цвет фона главной страницы, чтобы увеличить вовлеченность пользователей</td>\n",
       "                        <td id=\"T_b1833_row8_col1\" class=\"data row8 col1\" >0</td>\n",
       "                        <td id=\"T_b1833_row8_col2\" class=\"data row8 col2\" >1.000</td>\n",
       "                        <td id=\"T_b1833_row8_col3\" class=\"data row8 col3\" >3.0</td>\n",
       "            </tr>\n",
       "    </tbody></table>"
      ],
      "text/plain": [
       "<pandas.io.formats.style.Styler at 0x7f8ffc3f6f40>"
      ]
     },
     "execution_count": 18,
     "metadata": {},
     "output_type": "execute_result"
    }
   ],
   "source": [
    "hypothesis_rank = (hypothesis_sorted[['hypothesis', 'rank_change', 'ice', 'rice']]\n",
    "             .reset_index(drop=True)\n",
    "             .style\n",
    "             .applymap(color_positions, subset=['rank_change'])\n",
    "             .applymap(bold_text, subset=['rank_change'])\n",
    "             .format({'ice': '{:.3f}', 'rice': '{:.1f}'})\n",
    ")\n",
    "\n",
    "hypothesis_rank"
   ]
  },
  {
   "cell_type": "markdown",
   "metadata": {},
   "source": [
    "Как раз победитель из предыдущего метода приоритизации сильно ухудшил свой ранг (на 4 позиции) из-за низкого охвата аудитории. А здесь лидирует гипотеза с максимальным параметром охвата посетителей интернет-магазина. Это гипотеза о добавлении формы подписки на все основные страницы для формирования базы клиентов для email-рассылок.  \n",
    "В целом, гипотезы, имеющие больший охват аудитории улучшили свой приоритет, а имеющие меньший охват - ухудшили."
   ]
  },
  {
   "cell_type": "markdown",
   "metadata": {},
   "source": [
    "<a id=\"3\"></a>\n",
    "### Часть 2. Анализ А/В-теста"
   ]
  },
  {
   "cell_type": "markdown",
   "metadata": {},
   "source": [
    "У нас есть результаты А/В-теста, которые предстоит проанализировать. Но, вообще говоря, мы должны были сначала провести А/А-эксперимент и посмотреть, все ли критерии успешного эксперимента были соблюдены. Среди таких критериев:\n",
    "* количество пользователей в двух выделенных группах совпадает с точностью до 1%;\n",
    "* данные в ходе эксперимента собираются корректно;\n",
    "* показатели ключевых метрик в двух выделенных группах совпадают с точностью до 1%;\n",
    "* инструмент \"деления\" пользователей на группы отработал корректно, не допустив \"миграции\" пользователей между группами."
   ]
  },
  {
   "cell_type": "markdown",
   "metadata": {},
   "source": [
    "Корректность сбора данных и равенство показателей ключевых метрик в А/А-тесте нам остается принять на веру. А вот совпадение размера выборок и насколько успешно пользователи были разделены на контрольную и тестовую группы, мы сейчас проверим, используя результаты А/В-тестирования."
   ]
  },
  {
   "cell_type": "markdown",
   "metadata": {},
   "source": [
    "#### Проверка критериев А/А-теста"
   ]
  },
  {
   "cell_type": "markdown",
   "metadata": {},
   "source": [
    "Совпадение размеров групп проверим с датафреймом visitors"
   ]
  },
  {
   "cell_type": "code",
   "execution_count": 19,
   "metadata": {},
   "outputs": [
    {
     "data": {
      "text/plain": [
       "'0.952%'"
      ]
     },
     "execution_count": 19,
     "metadata": {},
     "output_type": "execute_result"
    }
   ],
   "source": [
    "# Посчитаем сумму пользователей по двум группам\n",
    "grouped = visitors.groupby('group')['visitors'].sum()\n",
    "\n",
    "# Вычислим относительную разницу между группами\n",
    "round((1 - grouped['A'] / grouped['B'])*100, 3).astype(str) + '%'"
   ]
  },
  {
   "cell_type": "markdown",
   "metadata": {},
   "source": [
    "Количество пользователей в группах **А** и **В** отличается менее, чем на **1%**, что вполне нас устраивает."
   ]
  },
  {
   "cell_type": "markdown",
   "metadata": {},
   "source": [
    "Теперь проверим, как отработал инструмент \"деления\" трафика. Для этого необходимо идентифицировать каждого пользователя по **id**. Такая информация есть только в датафрейме orders, который содержит данные только по пользователям сделавшим  заказ:"
   ]
  },
  {
   "cell_type": "code",
   "execution_count": 20,
   "metadata": {},
   "outputs": [
    {
     "data": {
      "text/plain": [
       "58"
      ]
     },
     "execution_count": 20,
     "metadata": {},
     "output_type": "execute_result"
    }
   ],
   "source": [
    "# Отфильтруем строки по группе А\n",
    "group_A = orders[orders['group']=='A']['visitor_id']\n",
    "\n",
    "# Отфильтруем строки по группе В\n",
    "group_B = orders[orders['group']=='B']['visitor_id']\n",
    "\n",
    "# Получим список значений 'visitor_id', которые попали в обе группы\n",
    "A_and_B = set(group_A).intersection(set(group_B))\n",
    "\n",
    "# Посмотрим на длину этого списка\n",
    "len(A_and_B)"
   ]
  },
  {
   "cell_type": "markdown",
   "metadata": {},
   "source": [
    "Увы. Получился довольно большой список пользователей, которые попали в обе группы, контрольную и экспериментальную. Мы можем посчитать долю покупателей, ошибочно попавших в обе группы, но как это соотносится с общим числом посетителей интернет-магазина точно сказать нельзя. Можем лишь предположить, что наш инструмент деления трафика для всех пользователей в среднем ошибается с той же вероятностью, что и для пользователей, сделавших заказ. Можно, конечно, немного усложнить себе задачу, и посчитать доли ошибочных заказов для каждой даты и группы отдельно, чтобы потом вычесть соответствующие доли для посетителей в таблице **visitors**. Но вряд ли эта излишняя аккуратность имеет смысл, когда точными данными мы не располагаем.  \n",
    "Скорректируем число посетителей в соответствии с полученной долей ошибочных заказов:"
   ]
  },
  {
   "cell_type": "code",
   "execution_count": 21,
   "metadata": {},
   "outputs": [],
   "source": [
    "# Число ошибочных заказов\n",
    "a = len(orders[orders['visitor_id'].isin(A_and_B)])\n",
    "\n",
    "# Общее число заказов\n",
    "b = len(orders)"
   ]
  },
  {
   "cell_type": "code",
   "execution_count": 22,
   "metadata": {},
   "outputs": [
    {
     "data": {
      "text/plain": [
       "0.15121136173767752"
      ]
     },
     "execution_count": 22,
     "metadata": {},
     "output_type": "execute_result"
    }
   ],
   "source": [
    "# Процент ошибочных заказов\n",
    "a/b"
   ]
  },
  {
   "cell_type": "markdown",
   "metadata": {},
   "source": [
    "Примерно **15%** заказов было сделано пользователями, ошибочно распределенными сразу в две группы."
   ]
  },
  {
   "cell_type": "markdown",
   "metadata": {},
   "source": [
    "Добавим столбец в таблицу **visitors** с уменьшенным на **15%** числом посетителей интернет-магазина:"
   ]
  },
  {
   "cell_type": "code",
   "execution_count": 23,
   "metadata": {},
   "outputs": [],
   "source": [
    "visitors['visitors_corrected'] = visitors['visitors'] - visitors['visitors'] * a // b"
   ]
  },
  {
   "cell_type": "code",
   "execution_count": 24,
   "metadata": {
    "scrolled": true
   },
   "outputs": [
    {
     "data": {
      "text/html": [
       "<div>\n",
       "<style scoped>\n",
       "    .dataframe tbody tr th:only-of-type {\n",
       "        vertical-align: middle;\n",
       "    }\n",
       "\n",
       "    .dataframe tbody tr th {\n",
       "        vertical-align: top;\n",
       "    }\n",
       "\n",
       "    .dataframe thead th {\n",
       "        text-align: right;\n",
       "    }\n",
       "</style>\n",
       "<table border=\"1\" class=\"dataframe\">\n",
       "  <thead>\n",
       "    <tr style=\"text-align: right;\">\n",
       "      <th></th>\n",
       "      <th>date</th>\n",
       "      <th>group</th>\n",
       "      <th>visitors</th>\n",
       "      <th>visitors_corrected</th>\n",
       "    </tr>\n",
       "  </thead>\n",
       "  <tbody>\n",
       "    <tr>\n",
       "      <th>0</th>\n",
       "      <td>2019-08-01</td>\n",
       "      <td>A</td>\n",
       "      <td>719</td>\n",
       "      <td>611</td>\n",
       "    </tr>\n",
       "    <tr>\n",
       "      <th>1</th>\n",
       "      <td>2019-08-02</td>\n",
       "      <td>A</td>\n",
       "      <td>619</td>\n",
       "      <td>526</td>\n",
       "    </tr>\n",
       "    <tr>\n",
       "      <th>2</th>\n",
       "      <td>2019-08-03</td>\n",
       "      <td>A</td>\n",
       "      <td>507</td>\n",
       "      <td>431</td>\n",
       "    </tr>\n",
       "    <tr>\n",
       "      <th>3</th>\n",
       "      <td>2019-08-04</td>\n",
       "      <td>A</td>\n",
       "      <td>717</td>\n",
       "      <td>609</td>\n",
       "    </tr>\n",
       "    <tr>\n",
       "      <th>4</th>\n",
       "      <td>2019-08-05</td>\n",
       "      <td>A</td>\n",
       "      <td>756</td>\n",
       "      <td>642</td>\n",
       "    </tr>\n",
       "  </tbody>\n",
       "</table>\n",
       "</div>"
      ],
      "text/plain": [
       "        date group  visitors  visitors_corrected\n",
       "0 2019-08-01     A       719                 611\n",
       "1 2019-08-02     A       619                 526\n",
       "2 2019-08-03     A       507                 431\n",
       "3 2019-08-04     A       717                 609\n",
       "4 2019-08-05     A       756                 642"
      ]
     },
     "execution_count": 24,
     "metadata": {},
     "output_type": "execute_result"
    }
   ],
   "source": [
    "visitors.head()"
   ]
  },
  {
   "cell_type": "markdown",
   "metadata": {},
   "source": [
    "Мы получили новые данные для размеров групп, но, поскольку мы уменьшили их на равную долю, снова проверять критерий равенства выборок смысла не имеет - мы получим ту же разницу около **1%**."
   ]
  },
  {
   "cell_type": "markdown",
   "metadata": {},
   "source": [
    "Итак, мы получили, что инструмент деления трафика посетителей интернет-магазина в **15%** случаев ошибся. В результате был скорректирован датафрейм **visitors**.  \n",
    "Давайте также внесем изменения и в таблицу заказов, отфильтровав строки с ошибочными значениями **visitor_id**:"
   ]
  },
  {
   "cell_type": "code",
   "execution_count": 25,
   "metadata": {},
   "outputs": [],
   "source": [
    "orders_corrected = orders[~orders['visitor_id'].isin(A_and_B)]"
   ]
  },
  {
   "cell_type": "markdown",
   "metadata": {},
   "source": [
    "Чтобы завершить этот блок корректировки таблицы заказов, проверим на дублирование столбец с идентификаторами заказов, на всякий случай:"
   ]
  },
  {
   "cell_type": "code",
   "execution_count": 26,
   "metadata": {},
   "outputs": [
    {
     "data": {
      "text/plain": [
       "3628490752    1\n",
       "290089453     1\n",
       "1108180333    1\n",
       "446569841     1\n",
       "3167192434    1\n",
       "Name: transaction_id, dtype: int64"
      ]
     },
     "execution_count": 26,
     "metadata": {},
     "output_type": "execute_result"
    }
   ],
   "source": [
    "orders_corrected['transaction_id'].value_counts().head()"
   ]
  },
  {
   "cell_type": "markdown",
   "metadata": {},
   "source": [
    "Здесь порядок.  \n",
    "Также, можно поискать дубликаты из комбинации нескольких столбцов. Например, если один и тот же пользователь делает больше одного заказа на одинаковую сумму в один день, это выглядит довольно подозрительно:"
   ]
  },
  {
   "cell_type": "code",
   "execution_count": 27,
   "metadata": {
    "scrolled": true
   },
   "outputs": [
    {
     "data": {
      "text/html": [
       "<div>\n",
       "<style scoped>\n",
       "    .dataframe tbody tr th:only-of-type {\n",
       "        vertical-align: middle;\n",
       "    }\n",
       "\n",
       "    .dataframe tbody tr th {\n",
       "        vertical-align: top;\n",
       "    }\n",
       "\n",
       "    .dataframe thead th {\n",
       "        text-align: right;\n",
       "    }\n",
       "</style>\n",
       "<table border=\"1\" class=\"dataframe\">\n",
       "  <thead>\n",
       "    <tr style=\"text-align: right;\">\n",
       "      <th></th>\n",
       "      <th>transaction_id</th>\n",
       "      <th>visitor_id</th>\n",
       "      <th>date</th>\n",
       "      <th>revenue</th>\n",
       "      <th>group</th>\n",
       "    </tr>\n",
       "  </thead>\n",
       "  <tbody>\n",
       "    <tr>\n",
       "      <th>556</th>\n",
       "      <td>571224785</td>\n",
       "      <td>3941503500</td>\n",
       "      <td>2019-08-06</td>\n",
       "      <td>4990</td>\n",
       "      <td>B</td>\n",
       "    </tr>\n",
       "    <tr>\n",
       "      <th>558</th>\n",
       "      <td>3621273697</td>\n",
       "      <td>3941503500</td>\n",
       "      <td>2019-08-06</td>\n",
       "      <td>4990</td>\n",
       "      <td>B</td>\n",
       "    </tr>\n",
       "  </tbody>\n",
       "</table>\n",
       "</div>"
      ],
      "text/plain": [
       "     transaction_id  visitor_id       date  revenue group\n",
       "556       571224785  3941503500 2019-08-06     4990     B\n",
       "558      3621273697  3941503500 2019-08-06     4990     B"
      ]
     },
     "execution_count": 27,
     "metadata": {},
     "output_type": "execute_result"
    }
   ],
   "source": [
    "orders_corrected[orders_corrected.duplicated(subset=['visitor_id', 'date', 'revenue'], keep=False)]"
   ]
  },
  {
   "cell_type": "markdown",
   "metadata": {},
   "source": [
    "Возможно, произошла накладка. Оставим только одну покупку из двух:"
   ]
  },
  {
   "cell_type": "code",
   "execution_count": 28,
   "metadata": {},
   "outputs": [],
   "source": [
    "orders_corrected = orders_corrected.drop(index=558)"
   ]
  },
  {
   "cell_type": "code",
   "execution_count": 29,
   "metadata": {
    "scrolled": false
   },
   "outputs": [
    {
     "name": "stdout",
     "output_type": "stream",
     "text": [
      "<class 'pandas.core.frame.DataFrame'>\n",
      "Int64Index: 1015 entries, 0 to 1196\n",
      "Data columns (total 5 columns):\n",
      " #   Column          Non-Null Count  Dtype         \n",
      "---  ------          --------------  -----         \n",
      " 0   transaction_id  1015 non-null   int64         \n",
      " 1   visitor_id      1015 non-null   int64         \n",
      " 2   date            1015 non-null   datetime64[ns]\n",
      " 3   revenue         1015 non-null   int64         \n",
      " 4   group           1015 non-null   object        \n",
      "dtypes: datetime64[ns](1), int64(3), object(1)\n",
      "memory usage: 47.6+ KB\n"
     ]
    }
   ],
   "source": [
    "orders_corrected.info()"
   ]
  },
  {
   "cell_type": "markdown",
   "metadata": {},
   "source": [
    "#### Проверка размера выборки и длительности теста"
   ]
  },
  {
   "cell_type": "markdown",
   "metadata": {},
   "source": [
    "Воспользуемся онлайн-калькулятором, чтобы  убедиться, что размер выборок достаточен для достижения статистической значимости изменений. Посчитаем значения конверсии для контрольной и тестовой группы пользователей:"
   ]
  },
  {
   "cell_type": "code",
   "execution_count": 30,
   "metadata": {},
   "outputs": [
    {
     "data": {
      "text/plain": [
       "0.02497865072587532"
      ]
     },
     "execution_count": 30,
     "metadata": {},
     "output_type": "execute_result"
    }
   ],
   "source": [
    "conversion_control = (len(orders_corrected[orders_corrected['group']=='A'])/\n",
    "                      visitors[visitors['group']=='A']['visitors'].sum())\n",
    "conversion_control"
   ]
  },
  {
   "cell_type": "code",
   "execution_count": 31,
   "metadata": {},
   "outputs": [
    {
     "data": {
      "text/plain": [
       "0.028917318672023684"
      ]
     },
     "execution_count": 31,
     "metadata": {},
     "output_type": "execute_result"
    }
   ],
   "source": [
    "conversion_test = (len(orders_corrected[orders_corrected['group']=='B'])/\n",
    "                      visitors[visitors['group']=='B']['visitors'].sum())\n",
    "conversion_test"
   ]
  },
  {
   "cell_type": "markdown",
   "metadata": {},
   "source": [
    "Относительное изменение конверсии:"
   ]
  },
  {
   "cell_type": "code",
   "execution_count": 32,
   "metadata": {},
   "outputs": [
    {
     "data": {
      "text/plain": [
       "0.15768137316033282"
      ]
     },
     "execution_count": 32,
     "metadata": {},
     "output_type": "execute_result"
    }
   ],
   "source": [
    "(conversion_test - conversion_control) / conversion_control"
   ]
  },
  {
   "cell_type": "markdown",
   "metadata": {},
   "source": [
    "При исходной конверсии **2.5%**, относительном ее изменении на **15,77%**, мощности теста в **80%** и уровне значимости в **5%** вычисление размера каждой группы на калькуляторе https://www.evanmiller.org/ab-testing/sample-size.html дает значение **25176**. Т.е. в сумме для групп А и В необходимо иметь **50 тысяч 352 посетителя**.  \n",
    "В нашем эксперименте всего задействовано:"
   ]
  },
  {
   "cell_type": "code",
   "execution_count": 33,
   "metadata": {},
   "outputs": [
    {
     "data": {
      "text/plain": [
       "37652"
      ]
     },
     "execution_count": 33,
     "metadata": {},
     "output_type": "execute_result"
    }
   ],
   "source": [
    "visitors['visitors'].sum()"
   ]
  },
  {
   "cell_type": "markdown",
   "metadata": {},
   "source": [
    "Около **37 тысяч 652 пользователя**. Этого недостаточно. Согласно онлайн-сервису мы в своем эксперименте не достигли минимально необходимого размера выборки, чтобы говорить о статистически значимом улучшении конверсии. Поэтому, есть необходимость продолжить тест."
   ]
  },
  {
   "cell_type": "markdown",
   "metadata": {},
   "source": [
    "Попробуем также графически изучить вопрос о необходимости продолжения эксперимента, например, посмотреть на графике, насколько быстро происходит стабилизация значений конверсии. Для этого, сначала построим график конверсии по дням, для контрольной и тестовой группы:"
   ]
  },
  {
   "cell_type": "code",
   "execution_count": 34,
   "metadata": {
    "scrolled": true
   },
   "outputs": [
    {
     "data": {
      "text/html": [
       "<div>\n",
       "<style scoped>\n",
       "    .dataframe tbody tr th:only-of-type {\n",
       "        vertical-align: middle;\n",
       "    }\n",
       "\n",
       "    .dataframe tbody tr th {\n",
       "        vertical-align: top;\n",
       "    }\n",
       "\n",
       "    .dataframe thead th {\n",
       "        text-align: right;\n",
       "    }\n",
       "</style>\n",
       "<table border=\"1\" class=\"dataframe\">\n",
       "  <thead>\n",
       "    <tr style=\"text-align: right;\">\n",
       "      <th></th>\n",
       "      <th>group</th>\n",
       "      <th>date</th>\n",
       "      <th>transaction_id</th>\n",
       "      <th>visitors</th>\n",
       "      <th>conversion</th>\n",
       "    </tr>\n",
       "  </thead>\n",
       "  <tbody>\n",
       "    <tr>\n",
       "      <th>0</th>\n",
       "      <td>A</td>\n",
       "      <td>2019-08-01</td>\n",
       "      <td>23</td>\n",
       "      <td>719</td>\n",
       "      <td>0.031989</td>\n",
       "    </tr>\n",
       "    <tr>\n",
       "      <th>1</th>\n",
       "      <td>A</td>\n",
       "      <td>2019-08-02</td>\n",
       "      <td>19</td>\n",
       "      <td>619</td>\n",
       "      <td>0.030695</td>\n",
       "    </tr>\n",
       "    <tr>\n",
       "      <th>2</th>\n",
       "      <td>A</td>\n",
       "      <td>2019-08-03</td>\n",
       "      <td>24</td>\n",
       "      <td>507</td>\n",
       "      <td>0.047337</td>\n",
       "    </tr>\n",
       "    <tr>\n",
       "      <th>3</th>\n",
       "      <td>A</td>\n",
       "      <td>2019-08-04</td>\n",
       "      <td>11</td>\n",
       "      <td>717</td>\n",
       "      <td>0.015342</td>\n",
       "    </tr>\n",
       "    <tr>\n",
       "      <th>4</th>\n",
       "      <td>A</td>\n",
       "      <td>2019-08-05</td>\n",
       "      <td>22</td>\n",
       "      <td>756</td>\n",
       "      <td>0.029101</td>\n",
       "    </tr>\n",
       "  </tbody>\n",
       "</table>\n",
       "</div>"
      ],
      "text/plain": [
       "  group       date  transaction_id  visitors  conversion\n",
       "0     A 2019-08-01              23       719    0.031989\n",
       "1     A 2019-08-02              19       619    0.030695\n",
       "2     A 2019-08-03              24       507    0.047337\n",
       "3     A 2019-08-04              11       717    0.015342\n",
       "4     A 2019-08-05              22       756    0.029101"
      ]
     },
     "execution_count": 34,
     "metadata": {},
     "output_type": "execute_result"
    }
   ],
   "source": [
    "# Посчитаем число заказов по датам и группам в таблице заказов:\n",
    "orders_grouped = orders_corrected.groupby(['group', 'date'])['transaction_id'].count().reset_index()\n",
    "\n",
    "# Объединим две таблицы:\n",
    "merged = (orders_grouped\n",
    "                .merge(visitors[['date', 'group', 'visitors']]\n",
    "                       , left_on=['date', 'group']\n",
    "                       , right_on=['date', 'group']\n",
    "                       , how='left')\n",
    "               )\n",
    "\n",
    "# Добавим столбец с конверсией по датам и группам:\n",
    "merged['conversion'] = merged['transaction_id'] / merged['visitors']\n",
    "merged.head()"
   ]
  },
  {
   "cell_type": "code",
   "execution_count": 35,
   "metadata": {
    "scrolled": false
   },
   "outputs": [
    {
     "data": {
      "image/png": "[encoded data removed]",
      "text/plain": [
       "<Figure size 720x432 with 1 Axes>"
      ]
     },
     "metadata": {
      "needs_background": "light"
     },
     "output_type": "display_data"
    }
   ],
   "source": [
    "plt.figure(figsize=(10, 6))\n",
    "\n",
    "for group in merged['group'].unique():\n",
    "    group_data = merged[merged['group'] == group]\n",
    "    plt.plot(group_data['date'], group_data['conversion'], label=f'Group {group}')\n",
    "\n",
    "plt.title('Конверсия по дням')\n",
    "plt.xlabel('Дата')\n",
    "plt.ylabel('Конверсия')\n",
    "plt.legend()\n",
    "plt.grid(True)\n",
    "plt.xticks(rotation=45)\n",
    "plt.tight_layout()\n",
    "\n",
    "plt.show()"
   ]
  },
  {
   "cell_type": "markdown",
   "metadata": {},
   "source": [
    "Полученный график не дает возможности сравнить конверсии в двух группах.  \n",
    "Попробуем построить график кумулятивной средней конверсии, т.е. для каждой даты в двух группах посчитаем среднюю конверсию на базе накопленных к данному дню данных с момента начала эксперимента:"
   ]
  },
  {
   "cell_type": "code",
   "execution_count": 36,
   "metadata": {},
   "outputs": [
    {
     "data": {
      "text/html": [
       "<div>\n",
       "<style scoped>\n",
       "    .dataframe tbody tr th:only-of-type {\n",
       "        vertical-align: middle;\n",
       "    }\n",
       "\n",
       "    .dataframe tbody tr th {\n",
       "        vertical-align: top;\n",
       "    }\n",
       "\n",
       "    .dataframe thead th {\n",
       "        text-align: right;\n",
       "    }\n",
       "</style>\n",
       "<table border=\"1\" class=\"dataframe\">\n",
       "  <thead>\n",
       "    <tr style=\"text-align: right;\">\n",
       "      <th></th>\n",
       "      <th>group</th>\n",
       "      <th>date</th>\n",
       "      <th>transaction_id</th>\n",
       "      <th>visitors_cumsum</th>\n",
       "      <th>conversion</th>\n",
       "    </tr>\n",
       "  </thead>\n",
       "  <tbody>\n",
       "    <tr>\n",
       "      <th>0</th>\n",
       "      <td>A</td>\n",
       "      <td>2019-08-01</td>\n",
       "      <td>23</td>\n",
       "      <td>719</td>\n",
       "      <td>0.031989</td>\n",
       "    </tr>\n",
       "    <tr>\n",
       "      <th>1</th>\n",
       "      <td>A</td>\n",
       "      <td>2019-08-02</td>\n",
       "      <td>42</td>\n",
       "      <td>1338</td>\n",
       "      <td>0.031390</td>\n",
       "    </tr>\n",
       "    <tr>\n",
       "      <th>2</th>\n",
       "      <td>A</td>\n",
       "      <td>2019-08-03</td>\n",
       "      <td>66</td>\n",
       "      <td>1845</td>\n",
       "      <td>0.035772</td>\n",
       "    </tr>\n",
       "    <tr>\n",
       "      <th>3</th>\n",
       "      <td>A</td>\n",
       "      <td>2019-08-04</td>\n",
       "      <td>77</td>\n",
       "      <td>2562</td>\n",
       "      <td>0.030055</td>\n",
       "    </tr>\n",
       "    <tr>\n",
       "      <th>4</th>\n",
       "      <td>A</td>\n",
       "      <td>2019-08-05</td>\n",
       "      <td>99</td>\n",
       "      <td>3318</td>\n",
       "      <td>0.029837</td>\n",
       "    </tr>\n",
       "  </tbody>\n",
       "</table>\n",
       "</div>"
      ],
      "text/plain": [
       "  group       date  transaction_id  visitors_cumsum  conversion\n",
       "0     A 2019-08-01              23              719    0.031989\n",
       "1     A 2019-08-02              42             1338    0.031390\n",
       "2     A 2019-08-03              66             1845    0.035772\n",
       "3     A 2019-08-04              77             2562    0.030055\n",
       "4     A 2019-08-05              99             3318    0.029837"
      ]
     },
     "execution_count": 36,
     "metadata": {},
     "output_type": "execute_result"
    }
   ],
   "source": [
    "# Посчитаем кумулятивное число заказов по датам и группам в таблице заказов:\n",
    "orders_cumsum = orders_corrected.groupby(['group', 'date'])['transaction_id'].count().cumsum().reset_index()\n",
    "\n",
    "# Добавим столбец с кумулятивным числом посетителей в visitors:\n",
    "visitors['visitors_cumsum'] = visitors['visitors'].cumsum()\n",
    "\n",
    "# Объединим две таблицы:\n",
    "merged_table = (orders_cumsum\n",
    "                .merge(visitors[['date', 'group', 'visitors_cumsum']]\n",
    "                       , left_on=['date', 'group']\n",
    "                       , right_on=['date', 'group']\n",
    "                       , how='left')\n",
    "               )\n",
    "\n",
    "# Добавим столбец с кумулятивной конверсией по датам и группам:\n",
    "merged_table['conversion'] = merged_table['transaction_id'] / merged_table['visitors_cumsum']\n",
    "merged_table.head()"
   ]
  },
  {
   "cell_type": "markdown",
   "metadata": {},
   "source": [
    "Построим график кумулятивной средней конверсии и добавим на него уровни средней конверсии, которые мы получили выше для контрольной и тестовой группы:"
   ]
  },
  {
   "cell_type": "code",
   "execution_count": 37,
   "metadata": {
    "scrolled": false
   },
   "outputs": [
    {
     "data": {
      "image/png": "[encoded data removed]",
      "text/plain": [
       "<Figure size 720x432 with 1 Axes>"
      ]
     },
     "metadata": {
      "needs_background": "light"
     },
     "output_type": "display_data"
    }
   ],
   "source": [
    "plt.figure(figsize=(10, 6))\n",
    "\n",
    "for group in merged_table['group'].unique():\n",
    "    group_data = merged_table[merged_table['group'] == group]\n",
    "    plt.plot(group_data['date'], group_data['conversion'], label=f'Group {group}')\n",
    "\n",
    "plt.title('Кумулятивная средняя конверсия по дням')\n",
    "plt.xlabel('Дата')\n",
    "plt.ylabel('Конверсия')\n",
    "plt.legend()\n",
    "plt.grid(True)\n",
    "plt.xticks(rotation=45)\n",
    "plt.tight_layout()\n",
    "\n",
    "plt.axhline(y=0.028917318672023684, color='grey', linestyle='--')\n",
    "plt.axhline(y=0.02497865072587532, color='grey', linestyle='--')\n",
    "\n",
    "plt.show()"
   ]
  },
  {
   "cell_type": "markdown",
   "metadata": {},
   "source": [
    "График накопительной средней конверсии также сигнализирует нам о том, что данных не хватило. Казалось бы, уровень конверсии в группах стабилизировался примерно через две недели от начала эксперимента. Но, если для контрольной группы эта стабилизация произошла рядом со средним показателем конверсии (**0.025 - 0.026**) в группе, то для тестовой группы уровень накопленной средней конверсии (**0.027**) не достиг среднего уровня (**0.029**) по группе. Т.е. график подтверждает сделанный выше вывод, что данных не достаточно.  \n",
    "\n",
    "При условии, что в эксперименте был задействован весь трафик, увеличить количество данных можно только путем продления эксперимента.  \n",
    "Воспользуемся онлайн-сервисом https://vwo.com/tools/ab-test-duration-calculator/ для вычисления продолжительности А/В-теста.\n",
    "Здесь, помимо значений конверсии нам понадобится суммарное среднее в день число посетителей интернет-магазина:"
   ]
  },
  {
   "cell_type": "code",
   "execution_count": 38,
   "metadata": {},
   "outputs": [
    {
     "data": {
      "text/plain": [
       "1214.5806451612902"
      ]
     },
     "execution_count": 38,
     "metadata": {},
     "output_type": "execute_result"
    }
   ],
   "source": [
    "visitors.groupby('date')['visitors'].sum().mean()"
   ]
  },
  {
   "cell_type": "markdown",
   "metadata": {},
   "source": [
    "При среднем числе посещений **1215** в сутки, существующей конверсии **2.5%** и прогнозируемом улучшении конверсии на **15.77%**, мы получили **41 день** для необходимой продолжительности А/В-теста. Т.е. эксперимент нужно продолжить еще на **10 дней**.  \n",
    "Такой же вывод по длительности теста можно было получить и не применяя данный калькулятор, а просто поделив  общее необходимое число посетителей, примерно **50 тысяч**, на среднее число посетителей в день - **1200**."
   ]
  },
  {
   "cell_type": "markdown",
   "metadata": {},
   "source": [
    "Чтобы нагляднее увидеть разницу между группами, можно построить график относительного различия конверсий:"
   ]
  },
  {
   "cell_type": "code",
   "execution_count": 39,
   "metadata": {},
   "outputs": [
    {
     "data": {
      "image/png": "[encoded data removed]",
      "text/plain": [
       "<Figure size 720x432 with 1 Axes>"
      ]
     },
     "metadata": {
      "needs_background": "light"
     },
     "output_type": "display_data"
    }
   ],
   "source": [
    "merged_table_A = merged_table[merged_table['group'] == 'A']\n",
    "merged_table_B = merged_table[merged_table['group'] == 'B']\n",
    "merged_A_B = (merged_table_A[['date','conversion']]\n",
    "              .merge(merged_table_B[['date','conversion']]\n",
    "                     , left_on='date'\n",
    "                     , right_on='date'\n",
    "                     , how='left'\n",
    "                     , suffixes=['A', 'B'])\n",
    "             )\n",
    "\n",
    "plt.figure(figsize=(10, 6))\n",
    "\n",
    "plt.plot(merged_A_B['date']\n",
    "         , merged_A_B['conversionB']/merged_A_B['conversionA']-1)\n",
    "\n",
    "plt.title(\"Относительный прирост кумулятивной средней\\nконверсии группы B относительно группы A\")\n",
    "plt.xlabel('Дата')\n",
    "\n",
    "\n",
    "plt.xticks(rotation=45)\n",
    "\n",
    "plt.axhline(y=0, color='black', linestyle='--')\n",
    "plt.axhline(y=0.05, color='grey', linestyle='--');"
   ]
  },
  {
   "cell_type": "markdown",
   "metadata": {},
   "source": [
    "Мы видим, что группа **В** примерно на 10-11 день эксперимента стала показывать конверсию стабильно выше, чем в группе **А**. Кроме того, в самом конце теста видна возможная тенденция к увеличению преимущества группы **В**. Таким образом,  было бы неплохо посмотреть, что будет происходить с этой метрикой дальше.."
   ]
  },
  {
   "cell_type": "markdown",
   "metadata": {},
   "source": [
    "#### Проверка гипотезы о равенстве долей"
   ]
  },
  {
   "cell_type": "markdown",
   "metadata": {},
   "source": [
    "Мы можем, также, использовать статистический подход для сравнения конверсий (доли пользователей, сделавших заказ) в группах **А** и **В**.\n",
    "\n",
    "**Нулевая гипотеза**: конверсии равны.  \n",
    "**Альтернативная гипотеза**: между конверсиями есть значимая разница."
   ]
  },
  {
   "cell_type": "code",
   "execution_count": 40,
   "metadata": {},
   "outputs": [],
   "source": [
    "alpha = .05 # критический уровень статистической значимости\n",
    "\n",
    "successes = (np.array([len(orders_corrected[orders_corrected['group']=='A'])\n",
    "                       , len(orders_corrected[orders_corrected['group']=='B'])])\n",
    "            )\n",
    "trials = (np.array([visitors[visitors['group']=='A']['visitors'].sum()\n",
    "                    , visitors[visitors['group']=='B']['visitors'].sum()])\n",
    "         )\n",
    "\n",
    "# пропорция успехов в первой группе:\n",
    "p1 = successes[0]/trials[0]\n",
    "\n",
    "# пропорция успехов во второй группе:\n",
    "p2 = successes[1]/trials[1]\n",
    "\n",
    "# пропорция успехов в комбинированном датасете:\n",
    "p_combined = (successes[0] + successes[1]) / (trials[0] + trials[1])\n",
    "\n",
    "# разница пропорций в датасетах\n",
    "difference = p1 - p2 "
   ]
  },
  {
   "cell_type": "code",
   "execution_count": 41,
   "metadata": {},
   "outputs": [],
   "source": [
    "# считаем статистику в ст.отклонениях стандартного нормального распределения\n",
    "z_value = difference / mth.sqrt(p_combined * (1 - p_combined) * (1/trials[0] + 1/trials[1]))\n",
    "\n",
    "# задаем стандартное нормальное распределение (среднее 0, ст.отклонение 1)\n",
    "distr = st.norm(0, 1)  "
   ]
  },
  {
   "cell_type": "code",
   "execution_count": 42,
   "metadata": {},
   "outputs": [
    {
     "name": "stdout",
     "output_type": "stream",
     "text": [
      "p-значение:  0.018303994456679407\n",
      "Отвергаем нулевую гипотезу: между долями есть значимая разница\n"
     ]
    }
   ],
   "source": [
    "p_value = (1 - distr.cdf(abs(z_value))) * 2\n",
    "\n",
    "print('p-значение: ', p_value)\n",
    "\n",
    "if p_value < alpha:\n",
    "    print('Отвергаем нулевую гипотезу: между долями есть значимая разница')\n",
    "else:\n",
    "    print(\n",
    "        'Не получилось отвергнуть нулевую гипотезу, нет оснований считать доли разными'\n",
    "    ) "
   ]
  },
  {
   "cell_type": "markdown",
   "metadata": {},
   "source": [
    "Существует статистически значимая разница между конверсиями для двух выборок."
   ]
  },
  {
   "cell_type": "markdown",
   "metadata": {},
   "source": [
    "#### Подготовка данных для анализа А/В-теста"
   ]
  },
  {
   "cell_type": "code",
   "execution_count": 43,
   "metadata": {
    "scrolled": false
   },
   "outputs": [
    {
     "data": {
      "text/html": [
       "<div>\n",
       "<style scoped>\n",
       "    .dataframe tbody tr th:only-of-type {\n",
       "        vertical-align: middle;\n",
       "    }\n",
       "\n",
       "    .dataframe tbody tr th {\n",
       "        vertical-align: top;\n",
       "    }\n",
       "\n",
       "    .dataframe thead th {\n",
       "        text-align: right;\n",
       "    }\n",
       "</style>\n",
       "<table border=\"1\" class=\"dataframe\">\n",
       "  <thead>\n",
       "    <tr style=\"text-align: right;\">\n",
       "      <th></th>\n",
       "      <th>date</th>\n",
       "      <th>ordersPerDateA</th>\n",
       "      <th>revenuePerDateA</th>\n",
       "      <th>ordersPerDateB</th>\n",
       "      <th>revenuePerDateB</th>\n",
       "      <th>ordersCummulativeA</th>\n",
       "      <th>revenueCummulativeA</th>\n",
       "      <th>ordersCummulativeB</th>\n",
       "      <th>revenueCummulativeB</th>\n",
       "      <th>visitorsPerDateA</th>\n",
       "      <th>visitorsPerDateB</th>\n",
       "      <th>visitorsCummulativeA</th>\n",
       "      <th>visitorsCummulativeB</th>\n",
       "    </tr>\n",
       "  </thead>\n",
       "  <tbody>\n",
       "    <tr>\n",
       "      <th>0</th>\n",
       "      <td>2019-08-01</td>\n",
       "      <td>23</td>\n",
       "      <td>142779</td>\n",
       "      <td>17</td>\n",
       "      <td>59758</td>\n",
       "      <td>23</td>\n",
       "      <td>142779</td>\n",
       "      <td>17</td>\n",
       "      <td>59758</td>\n",
       "      <td>719</td>\n",
       "      <td>713</td>\n",
       "      <td>719</td>\n",
       "      <td>713</td>\n",
       "    </tr>\n",
       "    <tr>\n",
       "      <th>1</th>\n",
       "      <td>2019-08-02</td>\n",
       "      <td>19</td>\n",
       "      <td>91602</td>\n",
       "      <td>23</td>\n",
       "      <td>162043</td>\n",
       "      <td>42</td>\n",
       "      <td>234381</td>\n",
       "      <td>40</td>\n",
       "      <td>221801</td>\n",
       "      <td>619</td>\n",
       "      <td>581</td>\n",
       "      <td>1338</td>\n",
       "      <td>1294</td>\n",
       "    </tr>\n",
       "    <tr>\n",
       "      <th>2</th>\n",
       "      <td>2019-08-03</td>\n",
       "      <td>24</td>\n",
       "      <td>112473</td>\n",
       "      <td>14</td>\n",
       "      <td>67049</td>\n",
       "      <td>66</td>\n",
       "      <td>346854</td>\n",
       "      <td>54</td>\n",
       "      <td>288850</td>\n",
       "      <td>507</td>\n",
       "      <td>509</td>\n",
       "      <td>1845</td>\n",
       "      <td>1803</td>\n",
       "    </tr>\n",
       "    <tr>\n",
       "      <th>3</th>\n",
       "      <td>2019-08-04</td>\n",
       "      <td>11</td>\n",
       "      <td>41176</td>\n",
       "      <td>14</td>\n",
       "      <td>96890</td>\n",
       "      <td>77</td>\n",
       "      <td>388030</td>\n",
       "      <td>68</td>\n",
       "      <td>385740</td>\n",
       "      <td>717</td>\n",
       "      <td>770</td>\n",
       "      <td>2562</td>\n",
       "      <td>2573</td>\n",
       "    </tr>\n",
       "    <tr>\n",
       "      <th>4</th>\n",
       "      <td>2019-08-05</td>\n",
       "      <td>22</td>\n",
       "      <td>86383</td>\n",
       "      <td>21</td>\n",
       "      <td>89908</td>\n",
       "      <td>99</td>\n",
       "      <td>474413</td>\n",
       "      <td>89</td>\n",
       "      <td>475648</td>\n",
       "      <td>756</td>\n",
       "      <td>707</td>\n",
       "      <td>3318</td>\n",
       "      <td>3280</td>\n",
       "    </tr>\n",
       "  </tbody>\n",
       "</table>\n",
       "</div>"
      ],
      "text/plain": [
       "        date  ordersPerDateA  revenuePerDateA  ordersPerDateB  \\\n",
       "0 2019-08-01              23           142779              17   \n",
       "1 2019-08-02              19            91602              23   \n",
       "2 2019-08-03              24           112473              14   \n",
       "3 2019-08-04              11            41176              14   \n",
       "4 2019-08-05              22            86383              21   \n",
       "\n",
       "   revenuePerDateB  ordersCummulativeA  revenueCummulativeA  \\\n",
       "0            59758                  23               142779   \n",
       "1           162043                  42               234381   \n",
       "2            67049                  66               346854   \n",
       "3            96890                  77               388030   \n",
       "4            89908                  99               474413   \n",
       "\n",
       "   ordersCummulativeB  revenueCummulativeB  visitorsPerDateA  \\\n",
       "0                  17                59758               719   \n",
       "1                  40               221801               619   \n",
       "2                  54               288850               507   \n",
       "3                  68               385740               717   \n",
       "4                  89               475648               756   \n",
       "\n",
       "   visitorsPerDateB  visitorsCummulativeA  visitorsCummulativeB  \n",
       "0               713                   719                   713  \n",
       "1               581                  1338                  1294  \n",
       "2               509                  1845                  1803  \n",
       "3               770                  2562                  2573  \n",
       "4               707                  3318                  3280  "
      ]
     },
     "execution_count": 43,
     "metadata": {},
     "output_type": "execute_result"
    }
   ],
   "source": [
    "# Подготовим датафрейм с количеством пользователей в группе А для каждой даты:\n",
    "visitorsADaily = visitors[visitors['group'] == 'A'][['date', 'visitors']]\n",
    "visitorsADaily.columns = ['date', 'visitorsPerDateA']\n",
    "\n",
    "# Подготовим датафрейм с количеством пользователей до выбранной даты включительно в группе А:\n",
    "visitorsACummulative = visitorsADaily.apply(\n",
    "    lambda x: visitorsADaily[visitorsADaily['date'] <= x['date']].agg(\n",
    "        {'date': 'max', 'visitorsPerDateA': 'sum'}\n",
    "    ),\n",
    "    axis=1,\n",
    ")\n",
    "visitorsACummulative.columns = ['date', 'visitorsCummulativeA']\n",
    "\n",
    "# Подготовим датафрейм с количеством пользователей в группе В для каждой даты:\n",
    "visitorsBDaily = visitors[visitors['group'] == 'B'][['date', 'visitors']]\n",
    "visitorsBDaily.columns = ['date', 'visitorsPerDateB']\n",
    "\n",
    "# Подготовим датафрейм с количеством пользователей до выбранной даты включительно в группе В:\n",
    "visitorsBCummulative = visitorsBDaily.apply(\n",
    "    lambda x: visitorsBDaily[visitorsBDaily['date'] <= x['date']].agg(\n",
    "        {'date': 'max', 'visitorsPerDateB': 'sum'}\n",
    "    ),\n",
    "    axis=1,\n",
    ")\n",
    "visitorsBCummulative.columns = ['date', 'visitorsCummulativeB']\n",
    "\n",
    "# Подготовим датафрейм с количеством заказов и суммарной выручкой в выбранную дату в группе А:\n",
    "ordersADaily = (\n",
    "    orders_corrected[orders_corrected['group'] == 'A'][['date', 'transaction_id', 'visitor_id', 'revenue']]\n",
    "    .groupby('date', as_index=False)\n",
    "    .agg({'transaction_id': pd.Series.nunique, 'revenue': 'sum'})\n",
    ")\n",
    "ordersADaily.columns = ['date', 'ordersPerDateA', 'revenuePerDateA']\n",
    "\n",
    "# Подготовим датафрейм с суммарным числом заказов и суммарной выручкой до выбранной даты включительно в группе А:\n",
    "ordersACummulative = ordersADaily.apply(\n",
    "    lambda x: ordersADaily[ordersADaily['date'] <= x['date']].agg(\n",
    "        {'date': 'max', 'ordersPerDateA': 'sum', 'revenuePerDateA': 'sum'}\n",
    "    ),\n",
    "    axis=1,\n",
    ").sort_values(by=['date'])\n",
    "ordersACummulative.columns = [\n",
    "    'date',\n",
    "    'ordersCummulativeA',\n",
    "    'revenueCummulativeA',\n",
    "]\n",
    "\n",
    "# Подготовим датафрейм с количеством заказов и суммарной выручкой в выбранную дату в группе В:\n",
    "ordersBDaily = (\n",
    "    orders_corrected[orders_corrected['group'] == 'B'][['date', 'transaction_id', 'visitor_id', 'revenue']]\n",
    "    .groupby('date', as_index=False)\n",
    "    .agg({'transaction_id': pd.Series.nunique, 'revenue': 'sum'})\n",
    ")\n",
    "ordersBDaily.columns = ['date', 'ordersPerDateB', 'revenuePerDateB']\n",
    "\n",
    "# Подготовим датафрейм с суммарным числом заказов и суммарной выручкой до выбранной даты включительно в группе В:\n",
    "ordersBCummulative = ordersBDaily.apply(\n",
    "    lambda x: ordersBDaily[ordersBDaily['date'] <= x['date']].agg(\n",
    "        {'date': 'max', 'ordersPerDateB': 'sum', 'revenuePerDateB': 'sum'}\n",
    "    ),\n",
    "    axis=1,\n",
    ").sort_values(by=['date'])\n",
    "ordersBCummulative.columns = [\n",
    "    'date',\n",
    "    'ordersCummulativeB',\n",
    "    'revenueCummulativeB',\n",
    "]\n",
    "\n",
    "data = (\n",
    "    ordersADaily.merge(\n",
    "        ordersBDaily, left_on='date', right_on='date', how='left'\n",
    "    )\n",
    "    .merge(ordersACummulative, left_on='date', right_on='date', how='left')\n",
    "    .merge(ordersBCummulative, left_on='date', right_on='date', how='left')\n",
    "    .merge(visitorsADaily, left_on='date', right_on='date', how='left')\n",
    "    .merge(visitorsBDaily, left_on='date', right_on='date', how='left')\n",
    "    .merge(visitorsACummulative, left_on='date', right_on='date', how='left')\n",
    "    .merge(visitorsBCummulative, left_on='date', right_on='date', how='left')\n",
    ")\n",
    "\n",
    "data.head()"
   ]
  },
  {
   "cell_type": "markdown",
   "metadata": {},
   "source": [
    "Посчитаем число заказов для пользователей, сделавших хотя бы один заказ:"
   ]
  },
  {
   "cell_type": "code",
   "execution_count": 44,
   "metadata": {},
   "outputs": [],
   "source": [
    "ordersByUsersA = (\n",
    "    orders_corrected[orders_corrected['group'] == 'A']\n",
    "    .groupby('visitor_id', as_index=False)\n",
    "    .agg({'transaction_id': pd.Series.nunique})\n",
    ")\n",
    "ordersByUsersA.columns = ['visitor_id', 'orders']\n",
    "\n",
    "ordersByUsersB = (\n",
    "    orders_corrected[orders_corrected['group'] == 'B']\n",
    "    .groupby('visitor_id', as_index=False)\n",
    "    .agg({'transaction_id': pd.Series.nunique})\n",
    ")\n",
    "ordersByUsersB.columns = ['visitor_id', 'orders']"
   ]
  },
  {
   "cell_type": "markdown",
   "metadata": {},
   "source": [
    "#### График кумулятивной выручки по группам"
   ]
  },
  {
   "cell_type": "code",
   "execution_count": 45,
   "metadata": {},
   "outputs": [
    {
     "data": {
      "text/html": [
       "<div>\n",
       "<style scoped>\n",
       "    .dataframe tbody tr th:only-of-type {\n",
       "        vertical-align: middle;\n",
       "    }\n",
       "\n",
       "    .dataframe tbody tr th {\n",
       "        vertical-align: top;\n",
       "    }\n",
       "\n",
       "    .dataframe thead th {\n",
       "        text-align: right;\n",
       "    }\n",
       "</style>\n",
       "<table border=\"1\" class=\"dataframe\">\n",
       "  <thead>\n",
       "    <tr style=\"text-align: right;\">\n",
       "      <th></th>\n",
       "      <th>date</th>\n",
       "      <th>group</th>\n",
       "      <th>orders</th>\n",
       "      <th>buyers</th>\n",
       "      <th>revenue</th>\n",
       "      <th>visitors</th>\n",
       "    </tr>\n",
       "  </thead>\n",
       "  <tbody>\n",
       "    <tr>\n",
       "      <th>0</th>\n",
       "      <td>2019-08-01</td>\n",
       "      <td>A</td>\n",
       "      <td>23</td>\n",
       "      <td>19</td>\n",
       "      <td>142779</td>\n",
       "      <td>719</td>\n",
       "    </tr>\n",
       "    <tr>\n",
       "      <th>1</th>\n",
       "      <td>2019-08-01</td>\n",
       "      <td>B</td>\n",
       "      <td>17</td>\n",
       "      <td>17</td>\n",
       "      <td>59758</td>\n",
       "      <td>713</td>\n",
       "    </tr>\n",
       "    <tr>\n",
       "      <th>2</th>\n",
       "      <td>2019-08-02</td>\n",
       "      <td>A</td>\n",
       "      <td>42</td>\n",
       "      <td>36</td>\n",
       "      <td>234381</td>\n",
       "      <td>1338</td>\n",
       "    </tr>\n",
       "    <tr>\n",
       "      <th>3</th>\n",
       "      <td>2019-08-02</td>\n",
       "      <td>B</td>\n",
       "      <td>40</td>\n",
       "      <td>39</td>\n",
       "      <td>221801</td>\n",
       "      <td>1294</td>\n",
       "    </tr>\n",
       "    <tr>\n",
       "      <th>4</th>\n",
       "      <td>2019-08-03</td>\n",
       "      <td>A</td>\n",
       "      <td>66</td>\n",
       "      <td>60</td>\n",
       "      <td>346854</td>\n",
       "      <td>1845</td>\n",
       "    </tr>\n",
       "  </tbody>\n",
       "</table>\n",
       "</div>"
      ],
      "text/plain": [
       "        date group  orders  buyers  revenue  visitors\n",
       "0 2019-08-01     A      23      19   142779       719\n",
       "1 2019-08-01     B      17      17    59758       713\n",
       "2 2019-08-02     A      42      36   234381      1338\n",
       "3 2019-08-02     B      40      39   221801      1294\n",
       "4 2019-08-03     A      66      60   346854      1845"
      ]
     },
     "execution_count": 45,
     "metadata": {},
     "output_type": "execute_result"
    }
   ],
   "source": [
    "# создаем массив уникальных пар значений дат и групп теста\n",
    "datesGroups = orders_corrected[['date','group']].drop_duplicates()\n",
    "\n",
    "# получаем агрегированные кумулятивные по дням данные о заказах \n",
    "ordersAggregated = (datesGroups\n",
    "                    .apply(lambda x: orders_corrected[np.logical_and(orders_corrected['date'] <= x['date']\n",
    "                                                                     , orders_corrected['group'] == x['group'])]\n",
    "                           .agg({'date' : 'max'\n",
    "                                 , 'group' : 'max'\n",
    "                                 , 'transaction_id' : 'nunique'\n",
    "                                 , 'visitor_id' : 'nunique'\n",
    "                                 , 'revenue' : 'sum'})\n",
    "                           , axis=1)\n",
    "                    .sort_values(by=['date','group'])\n",
    "                   )\n",
    "\n",
    "# получаем агрегированные кумулятивные по дням данные о посетителях интернет-магазина \n",
    "visitorsAggregated = (datesGroups\n",
    "                      .apply(lambda x: visitors[np.logical_and(visitors['date'] <= x['date']\n",
    "                                                               , visitors['group'] == x['group'])]\n",
    "                             .agg({'date' : 'max'\n",
    "                                   , 'group' : 'max'\n",
    "                                   , 'visitors' : 'sum'})\n",
    "                             , axis=1)\n",
    "                      .sort_values(by=['date','group'])\n",
    "                     )\n",
    "\n",
    "# объединяем кумулятивные данные в одной таблице и присваиваем ее столбцам понятные названия\n",
    "cumulativeData = ordersAggregated.merge(visitorsAggregated, left_on=['date', 'group'], right_on=['date', 'group'])\n",
    "cumulativeData.columns = ['date', 'group', 'orders', 'buyers', 'revenue', 'visitors']\n",
    "\n",
    "cumulativeData.head()"
   ]
  },
  {
   "cell_type": "code",
   "execution_count": 46,
   "metadata": {
    "scrolled": false
   },
   "outputs": [
    {
     "data": {
      "image/png": "[encoded data removed]",
      "text/plain": [
       "<Figure size 720x504 with 1 Axes>"
      ]
     },
     "metadata": {
      "needs_background": "light"
     },
     "output_type": "display_data"
    }
   ],
   "source": [
    "# датафрейм с кумулятивным количеством заказов и кумулятивной выручкой по дням в группе А\n",
    "cumulativeRevenueA = cumulativeData[cumulativeData['group']=='A'][['date','revenue', 'orders']]\n",
    "\n",
    "# датафрейм с кумулятивным количеством заказов и кумулятивной выручкой по дням в группе B\n",
    "cumulativeRevenueB = cumulativeData[cumulativeData['group']=='B'][['date','revenue', 'orders']]\n",
    "\n",
    "plt.figure(figsize=(10, 7))\n",
    "\n",
    "# Строим график выручки группы А\n",
    "plt.plot(cumulativeRevenueA['date'], cumulativeRevenueA['revenue'], label='A')\n",
    "\n",
    "# Строим график выручки группы B\n",
    "plt.plot(cumulativeRevenueB['date'], cumulativeRevenueB['revenue'], label='B')\n",
    "\n",
    "plt.title('Кумулятивная выручка по дням и группам А/В-тестирования')\n",
    "plt.xlabel('Дата')\n",
    "plt.ylabel('Суммарная выручка')\n",
    "plt.legend()\n",
    "plt.grid(True)\n",
    "plt.xticks(rotation=45)\n",
    "plt.tight_layout()\n",
    "\n",
    "plt.yticks(np.arange(0, 5500000, 500000))\n",
    "\n",
    "plt.show();"
   ]
  },
  {
   "cell_type": "markdown",
   "metadata": {},
   "source": [
    "Мы видим, что кумулятивная выручка группы **А** имеет линейную зависимость. График группы **В** почти не отличается от первого графика вплоть до 18 августа, когда происходит резкий одномоментный рост кумулятивной выручки. Причиной такого роста мог стать очень дорогой заказ, сделанный 19 августа, либо аномально большое число заказов в этот день."
   ]
  },
  {
   "cell_type": "markdown",
   "metadata": {},
   "source": [
    "#### График кумулятивного среднего чека по группам"
   ]
  },
  {
   "cell_type": "code",
   "execution_count": 47,
   "metadata": {
    "scrolled": false
   },
   "outputs": [
    {
     "data": {
      "image/png": "[encoded data removed]",
      "text/plain": [
       "<Figure size 720x504 with 1 Axes>"
      ]
     },
     "metadata": {
      "needs_background": "light"
     },
     "output_type": "display_data"
    }
   ],
   "source": [
    "plt.figure(figsize=(10, 7))\n",
    "\n",
    "plt.plot(cumulativeRevenueA['date'], cumulativeRevenueA['revenue']/cumulativeRevenueA['orders'], label='A')\n",
    "plt.plot(cumulativeRevenueB['date'], cumulativeRevenueB['revenue']/cumulativeRevenueB['orders'], label='B')\n",
    "\n",
    "plt.title('Кумулятивный средний чек по дням и группам А/В-тестирования')\n",
    "plt.xlabel('Дата')\n",
    "plt.ylabel('Средний чек')\n",
    "plt.legend()\n",
    "plt.grid(True)\n",
    "plt.xticks(rotation=45)\n",
    "plt.tight_layout()\n",
    "\n",
    "plt.yticks(np.arange(3000, 11000, 1000))\n",
    "\n",
    "plt.show();"
   ]
  },
  {
   "cell_type": "markdown",
   "metadata": {},
   "source": [
    "Мы видим, что для группы **А** средний чек после 13 августа установился в районе отметки **7000**. А резкий рост графика группы **В** 19 августа повторил всплеск, полученный на предыдущем графике. И теперь мы понимаем, что дело не в увеличении количества заказов в этот день, а в очень дорогом заказе. После 19-го августа график **В**, видимо, вернулся к обычным показателям для среднего чека, что выражается в постепенном снижении значений накопленных данных. График группы **В** пока далек от стабилизации, а значит эксперимент необходимо продолжить."
   ]
  },
  {
   "cell_type": "markdown",
   "metadata": {},
   "source": [
    "#### График относительного изменения кумулятивного среднего чека группы В к группе А"
   ]
  },
  {
   "cell_type": "code",
   "execution_count": 48,
   "metadata": {},
   "outputs": [
    {
     "data": {
      "image/png": "[encoded data removed]",
      "text/plain": [
       "<Figure size 720x504 with 1 Axes>"
      ]
     },
     "metadata": {
      "needs_background": "light"
     },
     "output_type": "display_data"
    }
   ],
   "source": [
    "# собираем данные в одном датафрейме\n",
    "mergedCumulativeRevenue = (cumulativeRevenueA.merge(cumulativeRevenueB\n",
    "                                                    , left_on='date'\n",
    "                                                    , right_on='date'\n",
    "                                                    , how='left'\n",
    "                                                    , suffixes=['A', 'B'])\n",
    "                          )\n",
    "\n",
    "plt.figure(figsize=(10, 7))\n",
    "\n",
    "# cтроим отношение средних чеков\n",
    "plt.plot(mergedCumulativeRevenue['date']\n",
    "         , (mergedCumulativeRevenue['revenueB']/mergedCumulativeRevenue['ordersB'])\n",
    "         /(mergedCumulativeRevenue['revenueA']/mergedCumulativeRevenue['ordersA'])-1)\n",
    "\n",
    "plt.title('Относительное изменение кумулятивного среднего чека группы В к группе А')\n",
    "plt.xlabel('Дата')\n",
    "plt.ylabel('Изменение')\n",
    "\n",
    "plt.grid(True)\n",
    "plt.xticks(rotation=45)\n",
    "plt.tight_layout()\n",
    "\n",
    "plt.yticks(np.arange(-0.5, 0.6, 0.1))\n",
    "\n",
    "# добавляем ось X\n",
    "plt.axhline(y=0, color='red', linestyle='--')\n",
    "\n",
    "plt.show();"
   ]
  },
  {
   "cell_type": "markdown",
   "metadata": {},
   "source": [
    "Мы видим, что тестовая группа **В** уходит то в \"плюс\", то в \"минус\", относительно контрольной группы **А**. И, вроде бы, к концу эксперимента группа **В** выигрывает эту битву, но уверенности нет, т.к. мы знаем, что 19 августа был крупный заказ. Необходимо исключить его влияние и построить график еще раз."
   ]
  },
  {
   "cell_type": "markdown",
   "metadata": {},
   "source": [
    "#### График кумулятивного среднего количества заказов на посетителя по группам"
   ]
  },
  {
   "cell_type": "code",
   "execution_count": 49,
   "metadata": {
    "scrolled": false
   },
   "outputs": [
    {
     "data": {
      "image/png": "[encoded data removed]",
      "text/plain": [
       "<Figure size 720x504 with 1 Axes>"
      ]
     },
     "metadata": {
      "needs_background": "light"
     },
     "output_type": "display_data"
    }
   ],
   "source": [
    "# считаем среднее количество заказов на посетителя\n",
    "cumulativeData['conversion'] = cumulativeData['orders']/cumulativeData['visitors']\n",
    "\n",
    "# отделяем данные по группе A\n",
    "cumulativeDataA = cumulativeData[cumulativeData['group']=='A']\n",
    "\n",
    "# отделяем данные по группе B\n",
    "cumulativeDataB = cumulativeData[cumulativeData['group']=='B']\n",
    "\n",
    "plt.figure(figsize=(10, 7))\n",
    "\n",
    "# строим графики\n",
    "plt.plot(cumulativeDataA['date'], cumulativeDataA['conversion'], label='A')\n",
    "plt.plot(cumulativeDataB['date'], cumulativeDataB['conversion'], label='B')\n",
    "plt.legend()\n",
    "\n",
    "plt.title('Кумулятивное среднее количество заказов на посетителя')\n",
    "plt.xlabel('Дата')\n",
    "plt.ylabel('Заказы')\n",
    "\n",
    "plt.grid(True)\n",
    "plt.xticks(rotation=45)\n",
    "plt.tight_layout()\n",
    "\n",
    "plt.yticks(np.arange(0.027, 0.043, 0.002))\n",
    "\n",
    "plt.show();"
   ]
  },
  {
   "cell_type": "markdown",
   "metadata": {},
   "source": [
    "Среднее число заказов на посетителя очень нестабильно, поэтому вначале мы видим сильные колебания значений в двух группах. Но, по мере накопления данных, метрика стабилизировалась, при этом в группе **А** значения стали стабильно ниже, чем в группе **В**. Правда, стоит отметить, что группа **В** демонстрирует тенденцию к небольшому снижению. А значит, необходимо и дальше снимать данные до полной стабилизации метрики в данной группе."
   ]
  },
  {
   "cell_type": "markdown",
   "metadata": {},
   "source": [
    "#### График относительного изменения кумулятивного среднего количества заказов на посетителя группы В к группе А"
   ]
  },
  {
   "cell_type": "code",
   "execution_count": 50,
   "metadata": {
    "scrolled": false
   },
   "outputs": [
    {
     "data": {
      "image/png": "[encoded data removed]",
      "text/plain": [
       "<Figure size 720x504 with 1 Axes>"
      ]
     },
     "metadata": {
      "needs_background": "light"
     },
     "output_type": "display_data"
    }
   ],
   "source": [
    "mergedCumulativeConversions = (cumulativeDataA[['date','conversion']]\n",
    "                               .merge(cumulativeDataB[['date','conversion']]\n",
    "                                      , left_on='date'\n",
    "                                      , right_on='date'\n",
    "                                      , how='left'\n",
    "                                      , suffixes=['A', 'B'])\n",
    "                              )\n",
    "\n",
    "plt.figure(figsize=(10, 7))\n",
    "\n",
    "(plt.plot(mergedCumulativeConversions['date']\n",
    "          , mergedCumulativeConversions['conversionB']/mergedCumulativeConversions['conversionA']-1)\n",
    ")\n",
    "\n",
    "plt.axhline(y=0, color='black', linestyle='--')\n",
    "plt.axhline(y=0.15, color='grey', linestyle='--')\n",
    "\n",
    "\n",
    "plt.title('Относительное изменение кумулятивного среднего количества заказов на посетителя')\n",
    "plt.xlabel('Дата')\n",
    "plt.ylabel('Изменение')\n",
    "\n",
    "plt.grid(False)\n",
    "plt.xticks(rotation=45)\n",
    "plt.yticks(np.arange(-0.3, 0.25, 0.05))\n",
    "plt.tight_layout()\n",
    "\n",
    "plt.show();"
   ]
  },
  {
   "cell_type": "markdown",
   "metadata": {},
   "source": [
    "Поначалу, группа **В** проигрывала группе **А**, но затем стала доминировать. Мы видим, что метрика имеет тенденцию к стабилизации на уровне **15%**. Выше мы уже видели похожее значение для относительного изменения кумулятивной конверсии пользователей, когда выполняли проверку размера выборки и длительности эксперимента."
   ]
  },
  {
   "cell_type": "markdown",
   "metadata": {},
   "source": [
    "#### Точечный график количества заказов по пользователям"
   ]
  },
  {
   "cell_type": "code",
   "execution_count": 51,
   "metadata": {},
   "outputs": [],
   "source": [
    "# Сгруппируем данные по пользователям и посчитаем количество заказов, которые они сделали:\n",
    "ordersByUsers = orders_corrected.groupby('visitor_id', as_index=False).agg({'transaction_id': 'count'})\n",
    "\n",
    "# Переименуем столбцы:\n",
    "ordersByUsers.columns = ['visitor_id', 'orders']"
   ]
  },
  {
   "cell_type": "code",
   "execution_count": 52,
   "metadata": {},
   "outputs": [
    {
     "data": {
      "image/png": "[encoded data removed]",
      "text/plain": [
       "<Figure size 720x504 with 1 Axes>"
      ]
     },
     "metadata": {
      "needs_background": "light"
     },
     "output_type": "display_data"
    }
   ],
   "source": [
    "x_values = pd.Series(range(0,len(ordersByUsers)))\n",
    "\n",
    "plt.figure(figsize=(10, 7))\n",
    "\n",
    "plt.scatter(x_values, ordersByUsers['orders'])\n",
    "\n",
    "plt.title('Точечный график количества заказов по пользователям')\n",
    "plt.xlabel('Пользователи')\n",
    "plt.ylabel('Заказы')\n",
    "\n",
    "plt.grid(True)\n",
    "plt.xticks(rotation=45)\n",
    "plt.yticks(np.arange(1., 3.5, 1))\n",
    "plt.tight_layout()\n",
    "\n",
    "plt.show();"
   ]
  },
  {
   "cell_type": "markdown",
   "metadata": {},
   "source": [
    "Большинство пользователей сделало один заказ. Есть также те, кто делал два и три заказа. Эти данные собраны за месяц, поэтому даже \"редкие\" 3 заказа не могут являться чем-то необычным. Не исключено, что среди забракованных ранее нами пользователей были  и с бОльшим количеством заказов. Но сейчас это уже не важно, мы исключили их из рассмотрения."
   ]
  },
  {
   "cell_type": "markdown",
   "metadata": {},
   "source": [
    "#### 95-й и 99-й перцентили количества заказов на пользователя. Граница для аномальных пользователей"
   ]
  },
  {
   "cell_type": "code",
   "execution_count": 53,
   "metadata": {},
   "outputs": [
    {
     "data": {
      "text/plain": [
       "array([1., 2.])"
      ]
     },
     "execution_count": 53,
     "metadata": {},
     "output_type": "execute_result"
    }
   ],
   "source": [
    "np.percentile(ordersByUsers['orders'], [95, 99])"
   ]
  },
  {
   "cell_type": "markdown",
   "metadata": {},
   "source": [
    "Не более **5%** пользователей совершали больше одной покупки и не более **1%** - больше двух покупок.  \n",
    "Как уже было отмечено выше, в данном случае мы не видим аномальных значений для числа заказов на одного пользователя. Поэтому можно никого не исключать."
   ]
  },
  {
   "cell_type": "markdown",
   "metadata": {},
   "source": [
    "Будем считать аномальными пользователями тех, кто сделал более двух заказов."
   ]
  },
  {
   "cell_type": "markdown",
   "metadata": {},
   "source": [
    "#### Точечный график стоимостей заказов"
   ]
  },
  {
   "cell_type": "code",
   "execution_count": 54,
   "metadata": {},
   "outputs": [
    {
     "data": {
      "image/png": "[encoded data removed]",
      "text/plain": [
       "<Figure size 720x504 with 1 Axes>"
      ]
     },
     "metadata": {
      "needs_background": "light"
     },
     "output_type": "display_data"
    }
   ],
   "source": [
    "x_values = pd.Series(range(0,len(orders_corrected['revenue'])))\n",
    "\n",
    "plt.figure(figsize=(10, 7))\n",
    "\n",
    "plt.scatter(x_values, orders_corrected['revenue'])\n",
    "\n",
    "plt.title('Точечный график стоимостей заказов')\n",
    "plt.xlabel('Заказы')\n",
    "plt.ylabel('Стоимость')\n",
    "\n",
    "plt.grid(True)\n",
    "plt.xticks(rotation=45)\n",
    "plt.yticks(np.arange(9, 1300000, 200000))\n",
    "plt.tight_layout()\n",
    "\n",
    "plt.show();"
   ]
  },
  {
   "cell_type": "markdown",
   "metadata": {},
   "source": [
    "Мы видим аномальный заказ стоимостью более миллиона. Видимо, он и повлиял на всплеск на графиках выручки и среднего чека, который произошел 19 августа. Что касается других значений, то стоимость основной массы заказов не превышает 100 тысяч."
   ]
  },
  {
   "cell_type": "markdown",
   "metadata": {},
   "source": [
    "#### 95-й и 99-й перцентили стоимости заказов. Граница для аномальных заказов"
   ]
  },
  {
   "cell_type": "code",
   "execution_count": 55,
   "metadata": {},
   "outputs": [
    {
     "data": {
      "text/plain": [
       "array([26832., 53904.])"
      ]
     },
     "execution_count": 55,
     "metadata": {},
     "output_type": "execute_result"
    }
   ],
   "source": [
    "np.percentile(orders_corrected['revenue'], [95, 99])"
   ]
  },
  {
   "cell_type": "markdown",
   "metadata": {},
   "source": [
    "Выберем границей для аномальных заказов **99-й** перцентиль, т.е. исключим те заказы, которые стоят более **53904**."
   ]
  },
  {
   "cell_type": "markdown",
   "metadata": {},
   "source": [
    "#### Статистическая значимость различий в среднем количестве заказов на посетителя между группами по \"сырым\" данным"
   ]
  },
  {
   "cell_type": "markdown",
   "metadata": {},
   "source": [
    "**Нулевая гипотеза**: различий в среднем количестве заказов между группами нет.  \n",
    "**Альтернативная гипотеза**: есть различия в среднем количестве заказов между группами."
   ]
  },
  {
   "cell_type": "markdown",
   "metadata": {},
   "source": [
    "Объявим переменные **sampleA** и **sampleB**, в которых пользователям из разных групп будет соответствовать количество заказов. Тем, кто ничего не заказал, будут соответствовать нули:"
   ]
  },
  {
   "cell_type": "code",
   "execution_count": 56,
   "metadata": {},
   "outputs": [
    {
     "name": "stdout",
     "output_type": "stream",
     "text": [
      "P-value: 0.011\n",
      "Отвергаем нулевую гипотезу: между средним количеством заказов в группах есть разница\n",
      "Относительный прирост среднего количества заказов группы В к А: 15.768%\n"
     ]
    }
   ],
   "source": [
    "sampleA = pd.concat(\n",
    "    [\n",
    "        ordersByUsersA['orders'],\n",
    "        pd.Series(\n",
    "            0,\n",
    "            index=np.arange(\n",
    "                data['visitorsPerDateA'].sum() - len(ordersByUsersA['orders'])\n",
    "            ),\n",
    "            name='orders',\n",
    "        ),\n",
    "    ],\n",
    "    axis=0,\n",
    ")\n",
    "\n",
    "sampleB = pd.concat(\n",
    "    [\n",
    "        ordersByUsersB['orders'],\n",
    "        pd.Series(\n",
    "            0,\n",
    "            index=np.arange(\n",
    "                data['visitorsPerDateB'].sum() - len(ordersByUsersB['orders'])\n",
    "            ),\n",
    "            name='orders',\n",
    "        ),\n",
    "    ],\n",
    "    axis=0,\n",
    ")\n",
    "\n",
    "alpha = 0.05\n",
    "p_value = st.mannwhitneyu(sampleA, sampleB)[1]\n",
    "\n",
    "print(\"P-value: {0:.3f}\".format(p_value))\n",
    "\n",
    "if (p_value < alpha):\n",
    "    print(\"Отвергаем нулевую гипотезу: между средним количеством заказов в группах есть разница\")\n",
    "else:\n",
    "    print(\"Не получилось отвергнуть нулевую гипотезу, нет оснований считать группы разными\")\n",
    "    \n",
    "print(\"Относительный прирост среднего количества заказов группы В к А: {0:.3%}\".format(sampleB.mean() / sampleA.mean()-1))"
   ]
  },
  {
   "cell_type": "markdown",
   "metadata": {},
   "source": [
    "По \"сырым\" данным в среднем числе заказов групп **А** и **В** есть статистически значимые различия."
   ]
  },
  {
   "cell_type": "markdown",
   "metadata": {},
   "source": [
    "#### Статистическая значимость различий в среднем чеке заказа между группами по \"сырым\" данным"
   ]
  },
  {
   "cell_type": "markdown",
   "metadata": {},
   "source": [
    "**Нулевая гипотеза**: различий в среднем чеке заказа между группами нет.  \n",
    "**Альтернативная гипотеза**: есть различия в среднем чеке заказа между группами."
   ]
  },
  {
   "cell_type": "code",
   "execution_count": 57,
   "metadata": {},
   "outputs": [
    {
     "name": "stdout",
     "output_type": "stream",
     "text": [
      "P-value: 0.820\n",
      "Не получилось отвергнуть нулевую гипотезу, нет оснований считать средние чеки групп разными\n",
      "Относительный прирост среднего чека группы В к А: 28.769%\n"
     ]
    }
   ],
   "source": [
    "check_A = orders_corrected[orders_corrected['group']=='A']['revenue']\n",
    "check_B = orders_corrected[orders_corrected['group']=='B']['revenue']\n",
    "\n",
    "alpha = 0.05\n",
    "p_value = st.mannwhitneyu(check_A, check_B)[1]\n",
    "\n",
    "print(\"P-value: {0:.3f}\".format(p_value))\n",
    "\n",
    "if (p_value < alpha):\n",
    "    print(\"Отвергаем нулевую гипотезу: между средними чеками в группах есть разница\")\n",
    "else:\n",
    "    print(\"Не получилось отвергнуть нулевую гипотезу, нет оснований считать средние чеки групп разными\")\n",
    "    \n",
    "print(\"Относительный прирост среднего чека группы В к А: {0:.3%}\".format(check_B.mean() / check_A.mean()-1))"
   ]
  },
  {
   "cell_type": "markdown",
   "metadata": {},
   "source": [
    "Поскольку **P-value** значительно больше **5%**, нет причин отвергать нулевую гипотезу, что означает, что в среднем чеке нет различий, хотя в тестовой группе **B** он и больше почти на **29%**."
   ]
  },
  {
   "cell_type": "markdown",
   "metadata": {},
   "source": [
    "Наблюдаемое различие средних чеков в **29%** не является статистически значимым, поскольку при проведении непараметрического теста Уилкоксона-Манна-Уитни не удалось отвергнуть нулевую гипотезу - значение **P-value** получилось значительно больше **5%**."
   ]
  },
  {
   "cell_type": "markdown",
   "metadata": {},
   "source": [
    "#### Статистическая значимость различий в среднем количестве заказов на посетителя между группами по \"очищенным\" данным¶"
   ]
  },
  {
   "cell_type": "markdown",
   "metadata": {},
   "source": [
    "Выше было получено, что в наших данных нет пользователей с аномальным числом заказов. Поэтому данный раздел можно оставить пустым."
   ]
  },
  {
   "cell_type": "markdown",
   "metadata": {},
   "source": [
    "Примем за аномальных пользователей тех, кто совершил более 2-х заказов или совершил заказ дороже **53904** рублей:"
   ]
  },
  {
   "cell_type": "code",
   "execution_count": 58,
   "metadata": {},
   "outputs": [
    {
     "data": {
      "text/plain": [
       "16"
      ]
     },
     "execution_count": 58,
     "metadata": {},
     "output_type": "execute_result"
    }
   ],
   "source": [
    "usersWithManyOrders = pd.concat(\n",
    "    [\n",
    "        ordersByUsersA[ordersByUsersA['orders'] > 2]['visitor_id'],\n",
    "        ordersByUsersB[ordersByUsersB['orders'] > 2]['visitor_id'],\n",
    "    ],\n",
    "    axis=0,\n",
    ")\n",
    "usersWithExpensiveOrders = orders_corrected[orders_corrected['revenue'] > 53904]['visitor_id']\n",
    "abnormalUsers = (\n",
    "    pd.concat([usersWithManyOrders, usersWithExpensiveOrders], axis=0)\n",
    "    .drop_duplicates()\n",
    "    .sort_values()\n",
    ")\n",
    "\n",
    "abnormalUsers.shape[0]"
   ]
  },
  {
   "cell_type": "markdown",
   "metadata": {},
   "source": [
    "Получилось 16 аномальных пользователей."
   ]
  },
  {
   "cell_type": "markdown",
   "metadata": {},
   "source": [
    "Посчитаем статистическую значимость различий в среднем количестве заказов на посетителя между группами по \"очищенным\" данным."
   ]
  },
  {
   "cell_type": "markdown",
   "metadata": {},
   "source": [
    "- H0 - Нет  различий в среднем количестве заказов на посетителя между группами;\n",
    "- H1 - Есть различия между группами в среднем количестве заказов на посетителя."
   ]
  },
  {
   "cell_type": "code",
   "execution_count": 59,
   "metadata": {
    "scrolled": true
   },
   "outputs": [
    {
     "name": "stdout",
     "output_type": "stream",
     "text": [
      "P-value: 0.007\n",
      "Отвергаем нулевую гипотезу: между средним количеством заказов в группах есть разница\n",
      "Относительный прирост среднего количества заказов группы В к А: 18.700%\n"
     ]
    }
   ],
   "source": [
    "# выборка количества заказов по пользователям группы А:\n",
    "sampleAFiltered = pd.concat(\n",
    "    [\n",
    "        ordersByUsersA[\n",
    "            np.logical_not(ordersByUsersA['visitor_id'].isin(abnormalUsers))\n",
    "        ]['orders'],\n",
    "        pd.Series(\n",
    "            0,\n",
    "            index=np.arange(\n",
    "                data['visitorsPerDateA'].sum() - len(ordersByUsersA['orders'])\n",
    "            ),\n",
    "            name='orders',\n",
    "        ),\n",
    "    ],\n",
    "    axis=0,\n",
    ")\n",
    "\n",
    "# выборка количества заказов по пользователям группы В:\n",
    "sampleBFiltered = pd.concat(\n",
    "    [\n",
    "        ordersByUsersB[\n",
    "            np.logical_not(ordersByUsersB['visitor_id'].isin(abnormalUsers))\n",
    "        ]['orders'],\n",
    "        pd.Series(\n",
    "            0,\n",
    "            index=np.arange(\n",
    "                data['visitorsPerDateB'].sum() - len(ordersByUsersB['orders'])\n",
    "            ),\n",
    "            name='orders',\n",
    "        ),\n",
    "    ],\n",
    "    axis=0,\n",
    ")\n",
    "\n",
    "# Применим критерий Манна-Уитни к полученным выборкам:\n",
    "alpha = 0.05\n",
    "p_value = st.mannwhitneyu(sampleAFiltered, sampleBFiltered)[1]\n",
    "\n",
    "print(\"P-value: {0:.3f}\".format(p_value))\n",
    "\n",
    "if (p_value < alpha):\n",
    "    print(\"Отвергаем нулевую гипотезу: между средним количеством заказов в группах есть разница\")\n",
    "else:\n",
    "    print(\"Не получилось отвергнуть нулевую гипотезу, нет оснований считать группы разными\")\n",
    "    \n",
    "print(\"Относительный прирост среднего количества заказов группы В к А: {0:.3%}\"\n",
    "      .format(sampleBFiltered.mean() / sampleAFiltered.mean()-1))"
   ]
  },
  {
   "cell_type": "markdown",
   "metadata": {},
   "source": [
    "Мы получили относительный прирост среднего числа заказов на пользователя в **18.7%**, который является статистически значимым, поскольку при проведении непараметрического теста Уилкоксона-Манна-Уитни мы  отвергаем нулевую гипотезу - значение **P-value** стало даже еще меньше, чем было на \"сырых\" данных."
   ]
  },
  {
   "cell_type": "markdown",
   "metadata": {},
   "source": [
    "#### Статистическая значимость различий в среднем чеке заказа между группами по \"очищенным\" данным"
   ]
  },
  {
   "cell_type": "markdown",
   "metadata": {},
   "source": [
    "Будем считать аномальными заказами только те, которые дороже **53904**. Это менее одного процента всех заказов"
   ]
  },
  {
   "cell_type": "code",
   "execution_count": 60,
   "metadata": {},
   "outputs": [
    {
     "data": {
      "text/plain": [
       "9"
      ]
     },
     "execution_count": 60,
     "metadata": {},
     "output_type": "execute_result"
    }
   ],
   "source": [
    "abnormalOrders = (orders_corrected[orders_corrected['revenue'] > 53904]['transaction_id']\n",
    "                 .drop_duplicates()\n",
    "                 .sort_values()\n",
    "                )\n",
    "\n",
    "abnormalOrders.shape[0]"
   ]
  },
  {
   "cell_type": "markdown",
   "metadata": {},
   "source": [
    "Посчитаем статистическую значимость различий в среднем чеке после удаления аномальных пользователей."
   ]
  },
  {
   "cell_type": "markdown",
   "metadata": {},
   "source": [
    "**Нулевая гипотеза**: различий в среднем чеке для \"очищенных\" заказов нет для контрольной и тестовой групп.   \n",
    "**Альтернативная гипотеза**: есть различия между группами в среднем чеке \"очищенных\" заказов."
   ]
  },
  {
   "cell_type": "code",
   "execution_count": 61,
   "metadata": {
    "scrolled": true
   },
   "outputs": [
    {
     "name": "stdout",
     "output_type": "stream",
     "text": [
      "P-value: 0.890\n",
      "Не получилось отвергнуть нулевую гипотезу, нет оснований считать средние чеки групп разными для очищенных данных\n",
      "Относительный прирост среднего чека группы В к А: -3.126%\n"
     ]
    }
   ],
   "source": [
    "orders_A_clear = (orders_corrected[np.logical_and(orders_corrected['group'] == 'A'\n",
    "                                                  , np.logical_not(orders_corrected['transaction_id']\n",
    "                                                      .isin(abnormalOrders)))]['revenue']\n",
    "                 )\n",
    "orders_B_clear = (orders_corrected[np.logical_and(orders_corrected['group'] == 'B'\n",
    "                                                  , np.logical_not(orders_corrected['transaction_id']\n",
    "                                                      .isin(abnormalOrders)))]['revenue']\n",
    "                 )\n",
    "\n",
    "\n",
    "alpha = 0.05\n",
    "p_value = st.mannwhitneyu(orders_A_clear, orders_B_clear)[1]\n",
    "\n",
    "print(\"P-value: {0:.3f}\".format(p_value))\n",
    "\n",
    "if (p_value < alpha):\n",
    "    print(\"Отвергаем нулевую гипотезу: между средними чеками в группах есть разница\")\n",
    "else:\n",
    "    print(\"Не получилось отвергнуть нулевую гипотезу, нет оснований считать средние чеки групп разными для очищенных данных\")\n",
    "    \n",
    "print(\"Относительный прирост среднего чека группы В к А: {0:.3%}\".format(orders_B_clear.mean() / orders_A_clear.mean()-1))\n"
   ]
  },
  {
   "cell_type": "code",
   "execution_count": 62,
   "metadata": {
    "scrolled": true
   },
   "outputs": [
    {
     "name": "stdout",
     "output_type": "stream",
     "text": [
      "P-value: 0.777\n",
      "Не получилось отвергнуть нулевую гипотезу, нет оснований считать средние чеки групп разными для очищенных данных\n",
      "Относительный прирост среднего чека группы В к А: -3.197%\n"
     ]
    }
   ],
   "source": [
    "orders_A_clear = (orders_corrected[np.logical_and(orders_corrected['group'] == 'A'\n",
    "                                                  , np.logical_not(orders_corrected['visitor_id']\n",
    "                                                      .isin(abnormalUsers)))]['revenue']\n",
    "                 )\n",
    "orders_B_clear = (orders_corrected[np.logical_and(orders_corrected['group'] == 'B'\n",
    "                                                  , np.logical_not(orders_corrected['visitor_id']\n",
    "                                                      .isin(abnormalUsers)))]['revenue']\n",
    "                 )\n",
    "\n",
    "\n",
    "alpha = 0.05\n",
    "p_value = st.mannwhitneyu(orders_A_clear, orders_B_clear)[1]\n",
    "\n",
    "print(\"P-value: {0:.3f}\".format(p_value))\n",
    "\n",
    "if (p_value < alpha):\n",
    "    print(\"Отвергаем нулевую гипотезу: между средними чеками в группах есть разница\")\n",
    "else:\n",
    "    print(\"Не получилось отвергнуть нулевую гипотезу, нет оснований считать средние чеки групп разными для очищенных данных\")\n",
    "    \n",
    "print(\"Относительный прирост среднего чека группы В к А: {0:.3%}\".format(orders_B_clear.mean() / orders_A_clear.mean()-1))\n"
   ]
  },
  {
   "cell_type": "markdown",
   "metadata": {},
   "source": [
    "Мы получили относительную убыль среднего чека в **-3.2%**, которая не является статистически значимой, поскольку значение **P-value** гораздо больше **5%**."
   ]
  },
  {
   "cell_type": "markdown",
   "metadata": {},
   "source": [
    "#### График кумулятивной выручки по группам по \"очищенным\" данным"
   ]
  },
  {
   "cell_type": "markdown",
   "metadata": {},
   "source": [
    "Интересно теперь посмотреть, как будет выглядеть график кумулятивной выручки, если исключить заказы дороже **53904**. Напомним, что на \"сырых\" данных мы наблюдали резкий скачок 19 августа для тестовой группы."
   ]
  },
  {
   "cell_type": "code",
   "execution_count": 63,
   "metadata": {},
   "outputs": [],
   "source": [
    "orders_no_splash = orders_corrected.query('revenue<=53904')"
   ]
  },
  {
   "cell_type": "code",
   "execution_count": 64,
   "metadata": {
    "scrolled": false
   },
   "outputs": [
    {
     "data": {
      "text/html": [
       "<div>\n",
       "<style scoped>\n",
       "    .dataframe tbody tr th:only-of-type {\n",
       "        vertical-align: middle;\n",
       "    }\n",
       "\n",
       "    .dataframe tbody tr th {\n",
       "        vertical-align: top;\n",
       "    }\n",
       "\n",
       "    .dataframe thead th {\n",
       "        text-align: right;\n",
       "    }\n",
       "</style>\n",
       "<table border=\"1\" class=\"dataframe\">\n",
       "  <thead>\n",
       "    <tr style=\"text-align: right;\">\n",
       "      <th></th>\n",
       "      <th>date</th>\n",
       "      <th>group</th>\n",
       "      <th>orders</th>\n",
       "      <th>buyers</th>\n",
       "      <th>revenue</th>\n",
       "    </tr>\n",
       "  </thead>\n",
       "  <tbody>\n",
       "    <tr>\n",
       "      <th>55</th>\n",
       "      <td>2019-08-01</td>\n",
       "      <td>A</td>\n",
       "      <td>23</td>\n",
       "      <td>19</td>\n",
       "      <td>142779</td>\n",
       "    </tr>\n",
       "    <tr>\n",
       "      <th>66</th>\n",
       "      <td>2019-08-01</td>\n",
       "      <td>B</td>\n",
       "      <td>17</td>\n",
       "      <td>17</td>\n",
       "      <td>59758</td>\n",
       "    </tr>\n",
       "    <tr>\n",
       "      <th>175</th>\n",
       "      <td>2019-08-02</td>\n",
       "      <td>A</td>\n",
       "      <td>42</td>\n",
       "      <td>36</td>\n",
       "      <td>234381</td>\n",
       "    </tr>\n",
       "    <tr>\n",
       "      <th>173</th>\n",
       "      <td>2019-08-02</td>\n",
       "      <td>B</td>\n",
       "      <td>40</td>\n",
       "      <td>39</td>\n",
       "      <td>221801</td>\n",
       "    </tr>\n",
       "    <tr>\n",
       "      <th>291</th>\n",
       "      <td>2019-08-03</td>\n",
       "      <td>A</td>\n",
       "      <td>66</td>\n",
       "      <td>60</td>\n",
       "      <td>346854</td>\n",
       "    </tr>\n",
       "  </tbody>\n",
       "</table>\n",
       "</div>"
      ],
      "text/plain": [
       "          date group  orders  buyers  revenue\n",
       "55  2019-08-01     A      23      19   142779\n",
       "66  2019-08-01     B      17      17    59758\n",
       "175 2019-08-02     A      42      36   234381\n",
       "173 2019-08-02     B      40      39   221801\n",
       "291 2019-08-03     A      66      60   346854"
      ]
     },
     "execution_count": 64,
     "metadata": {},
     "output_type": "execute_result"
    }
   ],
   "source": [
    "# создаем массив уникальных пар значений дат и групп теста\n",
    "datesGroups = orders_corrected[['date','group']].drop_duplicates()\n",
    "\n",
    "# получаем агрегированные кумулятивные по дням данные о заказах \n",
    "orders_new = (datesGroups\n",
    "                    .apply(lambda x: orders_no_splash[np.logical_and(orders_no_splash['date'] <= x['date']\n",
    "                                                                     , orders_no_splash['group'] == x['group'])]\n",
    "                           .agg({'date' : 'max'\n",
    "                                 , 'group' : 'max'\n",
    "                                 , 'transaction_id' : 'nunique'\n",
    "                                 , 'visitor_id' : 'nunique'\n",
    "                                 , 'revenue' : 'sum'})\n",
    "                           , axis=1)\n",
    "                    .sort_values(by=['date','group'])\n",
    "                   )\n",
    "\n",
    "# присваиваем столбцам понятные названия\n",
    "\n",
    "orders_new.columns = ['date', 'group', 'orders', 'buyers', 'revenue']\n",
    "\n",
    "orders_new.head()"
   ]
  },
  {
   "cell_type": "code",
   "execution_count": 65,
   "metadata": {
    "scrolled": false
   },
   "outputs": [
    {
     "data": {
      "image/png": "[encoded data removed]",
      "text/plain": [
       "<Figure size 720x504 with 1 Axes>"
      ]
     },
     "metadata": {
      "needs_background": "light"
     },
     "output_type": "display_data"
    }
   ],
   "source": [
    "# датафрейм с кумулятивным количеством заказов и кумулятивной выручкой по дням в группе А\n",
    "orders_new_A = orders_new[orders_new['group']=='A'][['date','revenue', 'orders']]\n",
    "\n",
    "# датафрейм с кумулятивным количеством заказов и кумулятивной выручкой по дням в группе B\n",
    "orders_new_B = orders_new[orders_new['group']=='B'][['date','revenue', 'orders']]\n",
    "\n",
    "plt.figure(figsize=(10, 7))\n",
    "\n",
    "# Строим график выручки группы А\n",
    "plt.plot(orders_new_A['date'], orders_new_A['revenue'], label='A')\n",
    "\n",
    "# Строим график выручки группы B\n",
    "plt.plot(orders_new_B['date'], orders_new_B['revenue'], label='B')\n",
    "\n",
    "plt.title('Кумулятивная выручка по дням и группам А/В-тестирования (99-й перцентиль)')\n",
    "plt.xlabel('Дата')\n",
    "plt.ylabel('Суммарная выручка')\n",
    "plt.legend()\n",
    "plt.grid(True)\n",
    "plt.xticks(rotation=45)\n",
    "plt.tight_layout()\n",
    "\n",
    "plt.yticks(np.arange(0, 3500000, 500000))\n",
    "\n",
    "plt.show();"
   ]
  },
  {
   "cell_type": "markdown",
   "metadata": {},
   "source": [
    "Графики кумулятивной выручки почти выровнялись. Есть небольшое преимущество у тестовой группы **В**, у которой, правда, 7 августа есть еще один небольшой скачок. Давайте попробуем исключить до **5%** самых дорогих заказов. Напомним, что границей для них служит значение **26832**:"
   ]
  },
  {
   "cell_type": "code",
   "execution_count": 66,
   "metadata": {},
   "outputs": [],
   "source": [
    "orders_no_splash_95 = orders_corrected.query('revenue<=26832')"
   ]
  },
  {
   "cell_type": "code",
   "execution_count": 67,
   "metadata": {
    "scrolled": false
   },
   "outputs": [],
   "source": [
    "# получаем агрегированные кумулятивные по дням данные о заказах \n",
    "orders_new_95 = (datesGroups\n",
    "                    .apply(lambda x: orders_no_splash_95[np.logical_and(orders_no_splash_95['date'] <= x['date']\n",
    "                                                                     , orders_no_splash_95['group'] == x['group'])]\n",
    "                           .agg({'date' : 'max'\n",
    "                                 , 'group' : 'max'\n",
    "                                 , 'transaction_id' : 'nunique'\n",
    "                                 , 'visitor_id' : 'nunique'\n",
    "                                 , 'revenue' : 'sum'})\n",
    "                           , axis=1)\n",
    "                    .sort_values(by=['date','group'])\n",
    "                   )\n",
    "\n",
    "# присваиваем столбцам понятные названия\n",
    "\n",
    "orders_new_95.columns = ['date', 'group', 'orders', 'buyers', 'revenue']"
   ]
  },
  {
   "cell_type": "code",
   "execution_count": 68,
   "metadata": {
    "scrolled": false
   },
   "outputs": [
    {
     "data": {
      "image/png": "[encoded data removed]",
      "text/plain": [
       "<Figure size 720x504 with 1 Axes>"
      ]
     },
     "metadata": {
      "needs_background": "light"
     },
     "output_type": "display_data"
    }
   ],
   "source": [
    "# датафрейм с кумулятивным количеством заказов и кумулятивной выручкой по дням в группе А\n",
    "orders_new_A_95 = orders_new_95[orders_new_95['group']=='A'][['date','revenue', 'orders']]\n",
    "\n",
    "# датафрейм с кумулятивным количеством заказов и кумулятивной выручкой по дням в группе B\n",
    "orders_new_B_95 = orders_new_95[orders_new_95['group']=='B'][['date','revenue', 'orders']]\n",
    "\n",
    "plt.figure(figsize=(10, 7))\n",
    "\n",
    "# Строим график выручки группы А\n",
    "plt.plot(orders_new_A_95['date'], orders_new_A_95['revenue'], label='A')\n",
    "\n",
    "# Строим график выручки группы B\n",
    "plt.plot(orders_new_B_95['date'], orders_new_B_95['revenue'], label='B')\n",
    "\n",
    "plt.title('Кумулятивная выручка по дням и группам А/В-тестирования (95-й перцентиль)')\n",
    "plt.xlabel('Дата')\n",
    "plt.ylabel('Суммарная выручка')\n",
    "plt.legend()\n",
    "plt.grid(True)\n",
    "plt.xticks(rotation=45)\n",
    "plt.tight_layout()\n",
    "\n",
    "plt.yticks(np.arange(0, 3500000, 500000))\n",
    "\n",
    "plt.show();"
   ]
  },
  {
   "cell_type": "markdown",
   "metadata": {},
   "source": [
    "Теперь графики превратились в почти прямые линии и мы видим, что есть небольшая тенденция  более быстрого накопления выручки группой **В**. Выше мы получали, что  группа **В** характеризуется лучшей конверсией, т.е. в ней фиксируется больше заказов в пересчете на одного посетителя. Это, видимо, и объясняет более быстрый рост кумулятивной выручки."
   ]
  },
  {
   "cell_type": "markdown",
   "metadata": {},
   "source": [
    "#### График кумулятивного среднего чека по группам на \"очищенных\" данных"
   ]
  },
  {
   "cell_type": "markdown",
   "metadata": {},
   "source": [
    "Посмотрим на график среднего чека без аномальных заказов. Сделаем это сразу для 95-го перцентиля:"
   ]
  },
  {
   "cell_type": "code",
   "execution_count": 69,
   "metadata": {
    "scrolled": false
   },
   "outputs": [
    {
     "data": {
      "image/png": "[encoded data removed]",
      "text/plain": [
       "<Figure size 720x504 with 1 Axes>"
      ]
     },
     "metadata": {
      "needs_background": "light"
     },
     "output_type": "display_data"
    }
   ],
   "source": [
    "plt.figure(figsize=(10, 7))\n",
    "\n",
    "plt.plot(orders_new_A_95['date'], orders_new_A_95['revenue']/orders_new_A_95['orders'], label='A')\n",
    "plt.plot(orders_new_B_95['date'], orders_new_B_95['revenue']/orders_new_B_95['orders'], label='B')\n",
    "\n",
    "plt.title('Кумулятивный средний чек по дням и группам А/В-тестирования (95-й перцентиль)')\n",
    "plt.xlabel('Дата')\n",
    "plt.ylabel('Средний чек')\n",
    "plt.legend()\n",
    "plt.grid(True)\n",
    "plt.xticks(rotation=45)\n",
    "plt.tight_layout()\n",
    "\n",
    "plt.yticks(np.arange(3000, 11000, 1000))\n",
    "\n",
    "plt.show();"
   ]
  },
  {
   "cell_type": "markdown",
   "metadata": {},
   "source": [
    "Мы видим, что после очистки, по среднему чеку группы не отличаются."
   ]
  },
  {
   "cell_type": "markdown",
   "metadata": {},
   "source": [
    "#### График относительного изменения кумулятивного среднего чека группы В к группе А (95-й перцентиль)"
   ]
  },
  {
   "cell_type": "code",
   "execution_count": 70,
   "metadata": {},
   "outputs": [
    {
     "data": {
      "image/png": "[encoded data removed]",
      "text/plain": [
       "<Figure size 720x504 with 1 Axes>"
      ]
     },
     "metadata": {
      "needs_background": "light"
     },
     "output_type": "display_data"
    }
   ],
   "source": [
    "# собираем данные в одном датафрейме\n",
    "mergedCumulativeRevenue = (orders_new_A_95\n",
    "                           .merge(orders_new_B_95\n",
    "                                  , left_on='date'\n",
    "                                  , right_on='date'\n",
    "                                  , how='left'\n",
    "                                  , suffixes=['A', 'B'])\n",
    "                          )\n",
    "\n",
    "plt.figure(figsize=(10, 7))\n",
    "\n",
    "# cтроим отношение средних чеков\n",
    "plt.plot(mergedCumulativeRevenue['date']\n",
    "         , (mergedCumulativeRevenue['revenueB']/mergedCumulativeRevenue['ordersB'])\n",
    "         /(mergedCumulativeRevenue['revenueA']/mergedCumulativeRevenue['ordersA'])-1)\n",
    "\n",
    "plt.title('Относительное изменение кумулятивного среднего чека группы В к группе А')\n",
    "plt.xlabel('Дата')\n",
    "plt.ylabel('Изменение')\n",
    "\n",
    "plt.grid(True)\n",
    "plt.xticks(rotation=45)\n",
    "plt.tight_layout()\n",
    "\n",
    "plt.yticks(np.arange(-0.2, 0.2, 0.05))\n",
    "\n",
    "# добавляем ось X\n",
    "plt.axhline(y=0, color='red', linestyle='--')\n",
    "\n",
    "plt.show();"
   ]
  },
  {
   "cell_type": "markdown",
   "metadata": {},
   "source": [
    "Относительное изменение среднего чека без **5%** дорогих заказов колеблется в районе нуля. Необходимо накопить больше данных, чтобы увидеть на каком уровне, выше или ниже нуля, стабилизируется линия."
   ]
  },
  {
   "cell_type": "markdown",
   "metadata": {},
   "source": [
    "#### Решение по результатам А/В-теста"
   ]
  },
  {
   "cell_type": "markdown",
   "metadata": {},
   "source": [
    "Итак, пришло время собрать всю информацию в единое целое и принять решение по дальнейшей судьбе теста: продолжить его или остановить, зафиксировав победу одной из групп или отсутствие различий между группами.\n",
    "\n",
    "Мы воспользовались двумя онлайн-сервисами для определения минимального размера выборки и длительности проведения теста. В обоих случаях было получено, что данных для уверенного ответа на вопрос о результативности теста недостаточно. Необходимо продлить эксперимент еще хотя бы на **10 дней**.\n",
    "\n",
    "Были изучены графики кумулятивной выручки, кумулятивного среднего чека и относительного изменения кумулятивного среднего чека, как для \"сырых\" данных, так и для \"очищенных\". \"Очистка\" данных выполнялась путем исключения **5%** самых дорогих заказов. До очистки лидировала тестовая группа **В**, а после очистки мы получили, что разницы между группами по среднему чеку не видно. По кумулятивной выручке есть небольшое преимущество у группы **В** из-за лучшей конверсии.\n",
    "\n",
    "По графикам конверсии группа **В** опережает группу **А** примерно на **15%**.\n",
    "\n",
    "В среднем числе заказов групп **А** и **В** получены статистически значимые различия.\n",
    "\n",
    "По среднему чеку не получилось отвергнуть нулевую гипотезу, т.е. нет оснований считать средние чеки групп для сырых и очищенных данных разными.\n",
    "\n",
    "По итогу всего вышесказанного, мы получили значимую прибавку в конверсии для группы **В**, но по среднему чеку разницы не увидели. Т.е. в целом, получен положительный результат, но пока метрики не стабилизировались, мы не можем точно оценить размер выигрыша. Чтобы исключить фактор сезонности, важно следить за стабилизацией относительных изменений метрик.\n",
    "\n",
    "**Решение**: продлить эксперимент еще минимум на **10** дней, чтобы получить стабильный уровень относительных изменений кумулятивной конверсии и кумулятивного среднего чека."
   ]
  },
  {
   "cell_type": "markdown",
   "metadata": {},
   "source": [
    "**Решение**: можно остановить эксперимент и признать его успешным, т.к. группа **В** показала значимую прибавку конверсии."
   ]
  },
  {
   "cell_type": "markdown",
   "metadata": {},
   "source": [
    "<a id=\"4\"></a>\n",
    "### Выводы"
   ]
  },
  {
   "cell_type": "markdown",
   "metadata": {},
   "source": [
    "* при использовании фреймворка **ICE** наилучший ранг получила гипотеза о скидке ко дню рождения, второй стала гипотеза о добавлении двух новых каналов для привлечения трафика, третьей - о добавлении формы подписки на все основные страницы;\n",
    "* при использовании фреймворка **RICE** наилучший ранг получила гипотеза о добавлении формыподписки на все основные страницы, второй стала гипотеза о добавлении блоков рекомендаций товаров на сайт интернет магазина, третьей - о добавлении двух новых каналов для привлечения трафика;\n",
    "* при использовании фреймворка **RICE** вместо **ICE** гипотезы, имеющие больший охват аудитории улучшили свой приоритет, а меньший охват - ухудшили;\n",
    "* в результате А/В-теста получена значимая прибавка в конверсии для группы **В**;\n",
    "* в результате А/В-теста не удалось увидеть значимой разницы в среднем чеке;\n",
    "* принято решение об остановке эксперимента и признании его успешным, гипотеза сработала в нужном направлении."
   ]
  }
 ],
 "metadata": {
  "ExecuteTimeLog": [
   {
    "duration": 391,
    "start_time": "2024-09-20T20:50:03.865Z"
   },
   {
    "duration": 64,
    "start_time": "2024-09-20T20:51:10.693Z"
   },
   {
    "duration": 15,
    "start_time": "2024-09-20T20:51:17.519Z"
   },
   {
    "duration": 3,
    "start_time": "2024-09-20T20:54:39.227Z"
   },
   {
    "duration": 3,
    "start_time": "2024-09-20T20:54:40.552Z"
   },
   {
    "duration": 25,
    "start_time": "2024-09-20T20:54:42.322Z"
   },
   {
    "duration": 651,
    "start_time": "2024-09-20T20:54:44.043Z"
   },
   {
    "duration": 16,
    "start_time": "2024-09-20T20:54:46.335Z"
   },
   {
    "duration": 2,
    "start_time": "2024-09-20T20:55:42.441Z"
   },
   {
    "duration": 2,
    "start_time": "2024-09-20T20:55:43.491Z"
   },
   {
    "duration": 25,
    "start_time": "2024-09-20T20:55:44.566Z"
   },
   {
    "duration": 13,
    "start_time": "2024-09-20T20:55:45.956Z"
   },
   {
    "duration": 356,
    "start_time": "2024-09-21T12:53:22.235Z"
   },
   {
    "duration": 2,
    "start_time": "2024-09-21T12:53:23.969Z"
   },
   {
    "duration": 73,
    "start_time": "2024-09-21T12:53:25.284Z"
   },
   {
    "duration": 13,
    "start_time": "2024-09-21T12:53:26.854Z"
   },
   {
    "duration": 5,
    "start_time": "2024-09-21T12:59:06.116Z"
   },
   {
    "duration": 8,
    "start_time": "2024-09-21T13:00:56.160Z"
   },
   {
    "duration": 9,
    "start_time": "2024-09-21T13:01:42.888Z"
   },
   {
    "duration": 4,
    "start_time": "2024-09-21T13:07:32.936Z"
   },
   {
    "duration": 16,
    "start_time": "2024-09-21T13:09:01.257Z"
   },
   {
    "duration": 12,
    "start_time": "2024-09-21T13:10:25.427Z"
   },
   {
    "duration": 10,
    "start_time": "2024-09-21T13:10:38.452Z"
   },
   {
    "duration": 10,
    "start_time": "2024-09-21T14:07:14.728Z"
   },
   {
    "duration": 69,
    "start_time": "2024-09-21T14:09:57.020Z"
   },
   {
    "duration": 4,
    "start_time": "2024-09-21T14:10:16.341Z"
   },
   {
    "duration": 9,
    "start_time": "2024-09-21T14:13:10.740Z"
   },
   {
    "duration": 3,
    "start_time": "2024-09-21T14:15:38.500Z"
   },
   {
    "duration": 8,
    "start_time": "2024-09-21T14:19:46.017Z"
   },
   {
    "duration": 4,
    "start_time": "2024-09-21T14:20:21.260Z"
   },
   {
    "duration": 8,
    "start_time": "2024-09-21T14:20:34.860Z"
   },
   {
    "duration": 9,
    "start_time": "2024-09-21T14:21:14.952Z"
   },
   {
    "duration": 9,
    "start_time": "2024-09-21T14:22:21.294Z"
   },
   {
    "duration": 357,
    "start_time": "2024-09-21T14:22:55.371Z"
   },
   {
    "duration": 3,
    "start_time": "2024-09-21T14:22:55.737Z"
   },
   {
    "duration": 34,
    "start_time": "2024-09-21T14:22:55.742Z"
   },
   {
    "duration": 12,
    "start_time": "2024-09-21T14:22:55.777Z"
   },
   {
    "duration": 16,
    "start_time": "2024-09-21T14:22:55.790Z"
   },
   {
    "duration": 10,
    "start_time": "2024-09-21T14:23:00.291Z"
   },
   {
    "duration": 10,
    "start_time": "2024-09-21T14:24:13.486Z"
   },
   {
    "duration": 12,
    "start_time": "2024-09-21T14:25:05.408Z"
   },
   {
    "duration": 10,
    "start_time": "2024-09-21T14:25:08.492Z"
   },
   {
    "duration": 2,
    "start_time": "2024-09-21T14:29:56.272Z"
   },
   {
    "duration": 7,
    "start_time": "2024-09-21T14:29:56.275Z"
   },
   {
    "duration": 34,
    "start_time": "2024-09-21T14:29:56.283Z"
   },
   {
    "duration": 7,
    "start_time": "2024-09-21T14:29:56.318Z"
   },
   {
    "duration": 8,
    "start_time": "2024-09-21T14:29:56.327Z"
   },
   {
    "duration": 3,
    "start_time": "2024-09-21T14:30:01.376Z"
   },
   {
    "duration": 8,
    "start_time": "2024-09-21T14:30:22.037Z"
   },
   {
    "duration": 2,
    "start_time": "2024-09-21T14:30:39.481Z"
   },
   {
    "duration": 183,
    "start_time": "2024-09-21T14:30:39.485Z"
   },
   {
    "duration": 65,
    "start_time": "2024-09-21T14:30:39.669Z"
   },
   {
    "duration": 6,
    "start_time": "2024-09-21T14:30:39.736Z"
   },
   {
    "duration": 3,
    "start_time": "2024-09-21T14:30:39.743Z"
   },
   {
    "duration": 12,
    "start_time": "2024-09-21T14:30:45.482Z"
   },
   {
    "duration": 3,
    "start_time": "2024-09-21T14:33:08.060Z"
   },
   {
    "duration": 15,
    "start_time": "2024-09-21T14:33:11.180Z"
   },
   {
    "duration": 72,
    "start_time": "2024-09-21T14:53:47.202Z"
   },
   {
    "duration": 5,
    "start_time": "2024-09-21T14:54:51.045Z"
   },
   {
    "duration": 3,
    "start_time": "2024-09-21T14:55:23.840Z"
   },
   {
    "duration": 13,
    "start_time": "2024-09-21T14:55:27.011Z"
   },
   {
    "duration": 7,
    "start_time": "2024-09-21T14:58:58.091Z"
   },
   {
    "duration": 4,
    "start_time": "2024-09-21T14:59:03.311Z"
   },
   {
    "duration": 3,
    "start_time": "2024-09-21T14:59:04.976Z"
   },
   {
    "duration": 10,
    "start_time": "2024-09-21T14:59:05.756Z"
   },
   {
    "duration": 363,
    "start_time": "2024-09-21T14:59:40.908Z"
   },
   {
    "duration": 2,
    "start_time": "2024-09-21T14:59:41.273Z"
   },
   {
    "duration": 35,
    "start_time": "2024-09-21T14:59:41.276Z"
   },
   {
    "duration": 11,
    "start_time": "2024-09-21T14:59:41.312Z"
   },
   {
    "duration": 4,
    "start_time": "2024-09-21T14:59:41.325Z"
   },
   {
    "duration": 9,
    "start_time": "2024-09-21T14:59:41.330Z"
   },
   {
    "duration": 4,
    "start_time": "2024-09-21T14:59:41.340Z"
   },
   {
    "duration": 4,
    "start_time": "2024-09-21T14:59:41.345Z"
   },
   {
    "duration": 4,
    "start_time": "2024-09-21T14:59:41.350Z"
   },
   {
    "duration": 10,
    "start_time": "2024-09-21T14:59:45.492Z"
   },
   {
    "duration": 3,
    "start_time": "2024-09-21T14:59:55.178Z"
   },
   {
    "duration": 3,
    "start_time": "2024-09-21T14:59:56.040Z"
   },
   {
    "duration": 15,
    "start_time": "2024-09-21T14:59:57.413Z"
   },
   {
    "duration": 3,
    "start_time": "2024-09-21T15:00:49.371Z"
   },
   {
    "duration": 9,
    "start_time": "2024-09-21T15:00:50.551Z"
   },
   {
    "duration": 11,
    "start_time": "2024-09-21T15:01:42.238Z"
   },
   {
    "duration": 9,
    "start_time": "2024-09-21T15:03:02.107Z"
   },
   {
    "duration": 435,
    "start_time": "2024-09-21T15:11:24.931Z"
   },
   {
    "duration": 2,
    "start_time": "2024-09-21T15:11:29.677Z"
   },
   {
    "duration": 123,
    "start_time": "2024-09-21T15:11:29.681Z"
   },
   {
    "duration": 142,
    "start_time": "2024-09-21T15:11:29.805Z"
   },
   {
    "duration": 8,
    "start_time": "2024-09-21T15:11:29.948Z"
   },
   {
    "duration": 37,
    "start_time": "2024-09-21T15:11:29.958Z"
   },
   {
    "duration": 111,
    "start_time": "2024-09-21T15:11:29.997Z"
   },
   {
    "duration": 20,
    "start_time": "2024-09-21T15:11:30.109Z"
   },
   {
    "duration": 45,
    "start_time": "2024-09-21T15:11:30.130Z"
   },
   {
    "duration": 35,
    "start_time": "2024-09-21T15:11:30.177Z"
   },
   {
    "duration": 37,
    "start_time": "2024-09-21T15:11:30.213Z"
   },
   {
    "duration": 43,
    "start_time": "2024-09-21T15:11:30.251Z"
   },
   {
    "duration": 11,
    "start_time": "2024-09-21T15:11:32.386Z"
   },
   {
    "duration": 3,
    "start_time": "2024-09-21T15:12:36.799Z"
   },
   {
    "duration": 4,
    "start_time": "2024-09-21T15:12:37.678Z"
   },
   {
    "duration": 4,
    "start_time": "2024-09-21T15:12:38.473Z"
   },
   {
    "duration": 3,
    "start_time": "2024-09-21T15:12:39.493Z"
   },
   {
    "duration": 10,
    "start_time": "2024-09-21T15:12:41.004Z"
   },
   {
    "duration": 3,
    "start_time": "2024-09-21T15:14:13.742Z"
   },
   {
    "duration": 25,
    "start_time": "2024-09-21T15:14:13.746Z"
   },
   {
    "duration": 30,
    "start_time": "2024-09-21T15:14:13.772Z"
   },
   {
    "duration": 10,
    "start_time": "2024-09-21T15:14:13.803Z"
   },
   {
    "duration": 119,
    "start_time": "2024-09-21T15:14:13.815Z"
   },
   {
    "duration": 15,
    "start_time": "2024-09-21T15:14:13.935Z"
   },
   {
    "duration": 11,
    "start_time": "2024-09-21T15:14:13.952Z"
   },
   {
    "duration": 4,
    "start_time": "2024-09-21T15:14:17.213Z"
   },
   {
    "duration": 3,
    "start_time": "2024-09-21T15:14:18.643Z"
   },
   {
    "duration": 3,
    "start_time": "2024-09-21T15:14:19.863Z"
   },
   {
    "duration": 3,
    "start_time": "2024-09-21T15:14:20.678Z"
   },
   {
    "duration": 10,
    "start_time": "2024-09-21T15:14:21.868Z"
   },
   {
    "duration": 2,
    "start_time": "2024-09-21T15:17:31.848Z"
   },
   {
    "duration": 4,
    "start_time": "2024-09-21T15:17:32.957Z"
   },
   {
    "duration": 3,
    "start_time": "2024-09-21T15:17:34.102Z"
   },
   {
    "duration": 3,
    "start_time": "2024-09-21T15:17:36.077Z"
   },
   {
    "duration": 15,
    "start_time": "2024-09-21T15:17:41.438Z"
   },
   {
    "duration": 9,
    "start_time": "2024-09-21T15:18:07.574Z"
   },
   {
    "duration": 3,
    "start_time": "2024-09-21T15:19:09.836Z"
   },
   {
    "duration": 4,
    "start_time": "2024-09-21T15:19:10.747Z"
   },
   {
    "duration": 4,
    "start_time": "2024-09-21T15:19:11.436Z"
   },
   {
    "duration": 3,
    "start_time": "2024-09-21T15:19:11.982Z"
   },
   {
    "duration": 8,
    "start_time": "2024-09-21T15:19:12.788Z"
   },
   {
    "duration": 11,
    "start_time": "2024-09-21T15:19:45.123Z"
   },
   {
    "duration": 2,
    "start_time": "2024-09-21T15:20:51.122Z"
   },
   {
    "duration": 13,
    "start_time": "2024-09-21T15:20:52.301Z"
   },
   {
    "duration": 7,
    "start_time": "2024-09-21T15:21:15.723Z"
   },
   {
    "duration": 2,
    "start_time": "2024-09-21T15:25:08.229Z"
   },
   {
    "duration": 5,
    "start_time": "2024-09-21T15:25:08.888Z"
   },
   {
    "duration": 3,
    "start_time": "2024-09-21T15:25:09.489Z"
   },
   {
    "duration": 11,
    "start_time": "2024-09-21T15:25:10.117Z"
   },
   {
    "duration": 5,
    "start_time": "2024-09-21T15:26:06.056Z"
   },
   {
    "duration": 3,
    "start_time": "2024-09-21T15:26:09.935Z"
   },
   {
    "duration": 17,
    "start_time": "2024-09-21T15:26:11.301Z"
   },
   {
    "duration": 3,
    "start_time": "2024-09-21T15:26:26.621Z"
   },
   {
    "duration": 4,
    "start_time": "2024-09-21T15:26:27.226Z"
   },
   {
    "duration": 3,
    "start_time": "2024-09-21T15:26:27.849Z"
   },
   {
    "duration": 4,
    "start_time": "2024-09-21T15:26:28.818Z"
   },
   {
    "duration": 3,
    "start_time": "2024-09-21T15:26:32.643Z"
   },
   {
    "duration": 8,
    "start_time": "2024-09-21T15:26:33.553Z"
   },
   {
    "duration": 4,
    "start_time": "2024-09-21T15:26:42.843Z"
   },
   {
    "duration": 3,
    "start_time": "2024-09-21T15:26:43.663Z"
   },
   {
    "duration": 14,
    "start_time": "2024-09-21T15:26:44.502Z"
   },
   {
    "duration": 381,
    "start_time": "2024-09-21T15:27:00.689Z"
   },
   {
    "duration": 3,
    "start_time": "2024-09-21T15:27:01.071Z"
   },
   {
    "duration": 45,
    "start_time": "2024-09-21T15:27:01.075Z"
   },
   {
    "duration": 12,
    "start_time": "2024-09-21T15:27:01.121Z"
   },
   {
    "duration": 15,
    "start_time": "2024-09-21T15:27:01.135Z"
   },
   {
    "duration": 8,
    "start_time": "2024-09-21T15:27:01.151Z"
   },
   {
    "duration": 36,
    "start_time": "2024-09-21T15:27:01.160Z"
   },
   {
    "duration": 20,
    "start_time": "2024-09-21T15:27:01.197Z"
   },
   {
    "duration": 21,
    "start_time": "2024-09-21T15:27:01.218Z"
   },
   {
    "duration": 16,
    "start_time": "2024-09-21T15:27:01.240Z"
   },
   {
    "duration": 26,
    "start_time": "2024-09-21T15:27:01.257Z"
   },
   {
    "duration": 5,
    "start_time": "2024-09-21T15:27:01.285Z"
   },
   {
    "duration": 246,
    "start_time": "2024-09-21T15:27:04.617Z"
   },
   {
    "duration": 4,
    "start_time": "2024-09-21T15:27:50.486Z"
   },
   {
    "duration": 3,
    "start_time": "2024-09-21T15:27:51.741Z"
   },
   {
    "duration": 11,
    "start_time": "2024-09-21T15:27:52.721Z"
   },
   {
    "duration": 4,
    "start_time": "2024-09-21T15:30:11.718Z"
   },
   {
    "duration": 3,
    "start_time": "2024-09-21T15:30:12.988Z"
   },
   {
    "duration": 11,
    "start_time": "2024-09-21T15:30:14.143Z"
   },
   {
    "duration": 5,
    "start_time": "2024-09-21T15:30:34.143Z"
   },
   {
    "duration": 3,
    "start_time": "2024-09-21T15:30:34.893Z"
   },
   {
    "duration": 9,
    "start_time": "2024-09-21T15:30:35.548Z"
   },
   {
    "duration": 4,
    "start_time": "2024-09-21T15:30:56.155Z"
   },
   {
    "duration": 2,
    "start_time": "2024-09-21T15:30:56.790Z"
   },
   {
    "duration": 8,
    "start_time": "2024-09-21T15:30:57.645Z"
   },
   {
    "duration": 3,
    "start_time": "2024-09-21T15:31:04.992Z"
   },
   {
    "duration": 18,
    "start_time": "2024-09-21T15:31:04.996Z"
   },
   {
    "duration": 48,
    "start_time": "2024-09-21T15:31:05.016Z"
   },
   {
    "duration": 43,
    "start_time": "2024-09-21T15:31:05.065Z"
   },
   {
    "duration": 37,
    "start_time": "2024-09-21T15:31:05.110Z"
   },
   {
    "duration": 28,
    "start_time": "2024-09-21T15:31:05.148Z"
   },
   {
    "duration": 26,
    "start_time": "2024-09-21T15:31:05.177Z"
   },
   {
    "duration": 15,
    "start_time": "2024-09-21T15:31:05.204Z"
   },
   {
    "duration": 48,
    "start_time": "2024-09-21T15:31:05.220Z"
   },
   {
    "duration": 24,
    "start_time": "2024-09-21T15:31:05.269Z"
   },
   {
    "duration": 32,
    "start_time": "2024-09-21T15:31:05.294Z"
   },
   {
    "duration": 11,
    "start_time": "2024-09-21T15:31:05.327Z"
   },
   {
    "duration": 8,
    "start_time": "2024-09-21T15:31:08.641Z"
   },
   {
    "duration": 2,
    "start_time": "2024-09-21T17:22:18.272Z"
   },
   {
    "duration": 17,
    "start_time": "2024-09-21T17:22:18.276Z"
   },
   {
    "duration": 33,
    "start_time": "2024-09-21T17:22:18.294Z"
   },
   {
    "duration": 7,
    "start_time": "2024-09-21T17:22:18.328Z"
   },
   {
    "duration": 59,
    "start_time": "2024-09-21T17:22:18.336Z"
   },
   {
    "duration": 26,
    "start_time": "2024-09-21T17:22:18.396Z"
   },
   {
    "duration": 3,
    "start_time": "2024-09-21T17:22:18.424Z"
   },
   {
    "duration": 8,
    "start_time": "2024-09-21T17:22:18.429Z"
   },
   {
    "duration": 3,
    "start_time": "2024-09-21T17:22:21.126Z"
   },
   {
    "duration": 4,
    "start_time": "2024-09-21T17:22:22.111Z"
   },
   {
    "duration": 4,
    "start_time": "2024-09-21T17:22:22.991Z"
   },
   {
    "duration": 9,
    "start_time": "2024-09-21T17:22:24.097Z"
   },
   {
    "duration": 4,
    "start_time": "2024-09-21T17:31:41.833Z"
   },
   {
    "duration": 3,
    "start_time": "2024-09-21T17:31:42.677Z"
   },
   {
    "duration": 3,
    "start_time": "2024-09-21T17:31:43.428Z"
   },
   {
    "duration": 3,
    "start_time": "2024-09-21T17:31:44.068Z"
   },
   {
    "duration": 3,
    "start_time": "2024-09-21T17:31:44.722Z"
   },
   {
    "duration": 8,
    "start_time": "2024-09-21T17:31:46.073Z"
   },
   {
    "duration": 3,
    "start_time": "2024-09-21T17:32:30.990Z"
   },
   {
    "duration": 4,
    "start_time": "2024-09-21T17:32:31.705Z"
   },
   {
    "duration": 3,
    "start_time": "2024-09-21T17:32:32.345Z"
   },
   {
    "duration": 3,
    "start_time": "2024-09-21T17:32:32.845Z"
   },
   {
    "duration": 3,
    "start_time": "2024-09-21T17:32:33.335Z"
   },
   {
    "duration": 3,
    "start_time": "2024-09-21T17:32:34.540Z"
   },
   {
    "duration": 10,
    "start_time": "2024-09-21T17:32:35.285Z"
   },
   {
    "duration": 8,
    "start_time": "2024-09-21T17:33:21.328Z"
   },
   {
    "duration": 9,
    "start_time": "2024-09-21T17:33:48.383Z"
   },
   {
    "duration": 3,
    "start_time": "2024-09-21T17:34:05.674Z"
   },
   {
    "duration": 3,
    "start_time": "2024-09-21T17:34:06.925Z"
   },
   {
    "duration": 2,
    "start_time": "2024-09-21T17:34:07.629Z"
   },
   {
    "duration": 9,
    "start_time": "2024-09-21T17:34:08.654Z"
   },
   {
    "duration": 12,
    "start_time": "2024-09-21T17:34:52.046Z"
   },
   {
    "duration": 8,
    "start_time": "2024-09-21T17:35:03.948Z"
   },
   {
    "duration": 8,
    "start_time": "2024-09-21T17:35:14.442Z"
   },
   {
    "duration": 436,
    "start_time": "2024-09-21T17:35:37.294Z"
   },
   {
    "duration": 3,
    "start_time": "2024-09-21T17:35:37.731Z"
   },
   {
    "duration": 28,
    "start_time": "2024-09-21T17:35:37.735Z"
   },
   {
    "duration": 11,
    "start_time": "2024-09-21T17:35:37.765Z"
   },
   {
    "duration": 12,
    "start_time": "2024-09-21T17:35:37.778Z"
   },
   {
    "duration": 118,
    "start_time": "2024-09-21T17:35:37.791Z"
   },
   {
    "duration": 25,
    "start_time": "2024-09-21T17:35:37.910Z"
   },
   {
    "duration": 8,
    "start_time": "2024-09-21T17:35:37.936Z"
   },
   {
    "duration": 75,
    "start_time": "2024-09-21T17:35:37.945Z"
   },
   {
    "duration": 18,
    "start_time": "2024-09-21T17:35:38.021Z"
   },
   {
    "duration": 14,
    "start_time": "2024-09-21T17:35:38.040Z"
   },
   {
    "duration": 96,
    "start_time": "2024-09-21T17:35:38.055Z"
   },
   {
    "duration": 246,
    "start_time": "2024-09-21T17:35:38.152Z"
   },
   {
    "duration": 3,
    "start_time": "2024-09-21T17:40:56.859Z"
   },
   {
    "duration": 4,
    "start_time": "2024-09-21T17:40:57.629Z"
   },
   {
    "duration": 4,
    "start_time": "2024-09-21T17:40:58.288Z"
   },
   {
    "duration": 3,
    "start_time": "2024-09-21T17:40:58.955Z"
   },
   {
    "duration": 2,
    "start_time": "2024-09-21T17:40:59.629Z"
   },
   {
    "duration": 9,
    "start_time": "2024-09-21T17:41:00.534Z"
   },
   {
    "duration": 8,
    "start_time": "2024-09-21T17:43:13.550Z"
   },
   {
    "duration": 2,
    "start_time": "2024-09-21T17:53:28.147Z"
   },
   {
    "duration": 90,
    "start_time": "2024-09-21T17:53:28.151Z"
   },
   {
    "duration": 53,
    "start_time": "2024-09-21T17:53:28.243Z"
   },
   {
    "duration": 7,
    "start_time": "2024-09-21T17:53:28.297Z"
   },
   {
    "duration": 17,
    "start_time": "2024-09-21T17:53:28.306Z"
   },
   {
    "duration": 13,
    "start_time": "2024-09-21T17:53:28.324Z"
   },
   {
    "duration": 22,
    "start_time": "2024-09-21T17:53:28.338Z"
   },
   {
    "duration": 30,
    "start_time": "2024-09-21T17:53:28.361Z"
   },
   {
    "duration": 48,
    "start_time": "2024-09-21T17:53:28.393Z"
   },
   {
    "duration": 4,
    "start_time": "2024-09-21T17:53:28.442Z"
   },
   {
    "duration": 7,
    "start_time": "2024-09-21T17:53:28.447Z"
   },
   {
    "duration": 23,
    "start_time": "2024-09-21T17:53:28.455Z"
   },
   {
    "duration": 11,
    "start_time": "2024-09-21T17:53:31.218Z"
   },
   {
    "duration": 11,
    "start_time": "2024-09-21T17:54:53.177Z"
   },
   {
    "duration": 107,
    "start_time": "2024-09-21T17:56:34.827Z"
   },
   {
    "duration": 9,
    "start_time": "2024-09-21T17:56:43.104Z"
   },
   {
    "duration": 7,
    "start_time": "2024-09-21T17:57:03.293Z"
   },
   {
    "duration": 9,
    "start_time": "2024-09-21T17:57:27.224Z"
   },
   {
    "duration": 81,
    "start_time": "2024-09-21T17:57:54.280Z"
   },
   {
    "duration": 6,
    "start_time": "2024-09-21T17:58:01.796Z"
   },
   {
    "duration": 8,
    "start_time": "2024-09-21T17:58:23.587Z"
   },
   {
    "duration": 6,
    "start_time": "2024-09-21T18:00:18.743Z"
   },
   {
    "duration": 4,
    "start_time": "2024-09-21T18:00:45.963Z"
   },
   {
    "duration": 9,
    "start_time": "2024-09-21T18:00:58.059Z"
   },
   {
    "duration": 3,
    "start_time": "2024-09-21T18:01:25.645Z"
   },
   {
    "duration": 8,
    "start_time": "2024-09-21T18:01:35.991Z"
   },
   {
    "duration": 14,
    "start_time": "2024-09-21T18:45:28.466Z"
   },
   {
    "duration": 8,
    "start_time": "2024-09-21T18:46:18.724Z"
   },
   {
    "duration": 370,
    "start_time": "2024-09-21T18:46:56.886Z"
   },
   {
    "duration": 284,
    "start_time": "2024-09-21T18:47:56.864Z"
   },
   {
    "duration": 261,
    "start_time": "2024-09-21T18:48:21.289Z"
   },
   {
    "duration": 230,
    "start_time": "2024-09-21T18:48:25.050Z"
   },
   {
    "duration": 350,
    "start_time": "2024-09-21T18:48:32.895Z"
   },
   {
    "duration": 392,
    "start_time": "2024-09-21T18:48:49.511Z"
   },
   {
    "duration": 9,
    "start_time": "2024-09-21T18:50:48.451Z"
   },
   {
    "duration": 5,
    "start_time": "2024-09-21T18:54:43.073Z"
   },
   {
    "duration": 8,
    "start_time": "2024-09-21T18:54:59.708Z"
   },
   {
    "duration": 8,
    "start_time": "2024-09-21T18:55:07.597Z"
   },
   {
    "duration": 50,
    "start_time": "2024-09-22T09:38:34.263Z"
   },
   {
    "duration": 441,
    "start_time": "2024-09-22T09:38:51.178Z"
   },
   {
    "duration": 2,
    "start_time": "2024-09-22T09:38:51.621Z"
   },
   {
    "duration": 98,
    "start_time": "2024-09-22T09:38:51.625Z"
   },
   {
    "duration": 15,
    "start_time": "2024-09-22T09:38:51.725Z"
   },
   {
    "duration": 9,
    "start_time": "2024-09-22T09:38:51.742Z"
   },
   {
    "duration": 22,
    "start_time": "2024-09-22T09:38:51.753Z"
   },
   {
    "duration": 32,
    "start_time": "2024-09-22T09:38:51.776Z"
   },
   {
    "duration": 31,
    "start_time": "2024-09-22T09:38:51.809Z"
   },
   {
    "duration": 33,
    "start_time": "2024-09-22T09:38:51.842Z"
   },
   {
    "duration": 83,
    "start_time": "2024-09-22T09:38:51.877Z"
   },
   {
    "duration": 10,
    "start_time": "2024-09-22T09:38:51.961Z"
   },
   {
    "duration": 10,
    "start_time": "2024-09-22T09:38:51.973Z"
   },
   {
    "duration": 462,
    "start_time": "2024-09-22T09:38:51.985Z"
   },
   {
    "duration": 91,
    "start_time": "2024-09-22T09:38:52.451Z"
   },
   {
    "duration": 9,
    "start_time": "2024-09-22T09:38:52.543Z"
   },
   {
    "duration": 13,
    "start_time": "2024-09-22T09:38:52.554Z"
   },
   {
    "duration": 68,
    "start_time": "2024-09-22T09:38:52.568Z"
   },
   {
    "duration": 8,
    "start_time": "2024-09-22T09:38:52.638Z"
   },
   {
    "duration": 11,
    "start_time": "2024-09-22T09:38:52.647Z"
   },
   {
    "duration": 6,
    "start_time": "2024-09-22T09:38:52.660Z"
   },
   {
    "duration": 12,
    "start_time": "2024-09-22T09:38:52.668Z"
   },
   {
    "duration": 6,
    "start_time": "2024-09-22T09:38:52.682Z"
   },
   {
    "duration": 16,
    "start_time": "2024-09-22T09:38:52.690Z"
   },
   {
    "duration": 23,
    "start_time": "2024-09-22T09:38:52.707Z"
   },
   {
    "duration": 9,
    "start_time": "2024-09-22T09:38:52.732Z"
   },
   {
    "duration": 6,
    "start_time": "2024-09-22T09:38:52.742Z"
   },
   {
    "duration": 641,
    "start_time": "2024-09-22T09:38:52.750Z"
   },
   {
    "duration": 12,
    "start_time": "2024-09-22T09:38:53.397Z"
   },
   {
    "duration": 467,
    "start_time": "2024-09-22T09:38:53.411Z"
   },
   {
    "duration": 6,
    "start_time": "2024-09-22T09:38:53.880Z"
   },
   {
    "duration": 10,
    "start_time": "2024-09-22T09:38:59.360Z"
   },
   {
    "duration": 4,
    "start_time": "2024-09-22T09:47:27.055Z"
   },
   {
    "duration": 4,
    "start_time": "2024-09-22T09:47:41.725Z"
   },
   {
    "duration": 47,
    "start_time": "2024-09-22T09:48:34.127Z"
   },
   {
    "duration": 14,
    "start_time": "2024-09-22T09:49:24.754Z"
   },
   {
    "duration": 2,
    "start_time": "2024-09-22T09:49:56.275Z"
   },
   {
    "duration": 13,
    "start_time": "2024-09-22T09:50:01.011Z"
   },
   {
    "duration": 167,
    "start_time": "2024-09-22T09:52:22.327Z"
   },
   {
    "duration": 11,
    "start_time": "2024-09-22T09:52:29.422Z"
   },
   {
    "duration": 61,
    "start_time": "2024-09-22T10:33:25.328Z"
   },
   {
    "duration": 138,
    "start_time": "2024-09-22T10:34:18.454Z"
   },
   {
    "duration": 10,
    "start_time": "2024-09-22T10:34:24.243Z"
   },
   {
    "duration": 9,
    "start_time": "2024-09-22T10:43:06.093Z"
   },
   {
    "duration": 6,
    "start_time": "2024-09-22T10:43:18.874Z"
   },
   {
    "duration": 4,
    "start_time": "2024-09-22T10:45:33.679Z"
   },
   {
    "duration": 14,
    "start_time": "2024-09-22T10:45:37.499Z"
   },
   {
    "duration": 2,
    "start_time": "2024-09-22T10:46:19.327Z"
   },
   {
    "duration": 212,
    "start_time": "2024-09-22T10:47:28.395Z"
   },
   {
    "duration": 75,
    "start_time": "2024-09-22T10:48:40.628Z"
   },
   {
    "duration": 171,
    "start_time": "2024-09-22T10:48:45.238Z"
   },
   {
    "duration": 299,
    "start_time": "2024-09-22T10:50:01.736Z"
   },
   {
    "duration": 10,
    "start_time": "2024-09-22T10:50:38.652Z"
   },
   {
    "duration": 204,
    "start_time": "2024-09-22T10:51:23.451Z"
   },
   {
    "duration": 296,
    "start_time": "2024-09-22T10:51:55.852Z"
   },
   {
    "duration": 350,
    "start_time": "2024-09-22T12:09:34.838Z"
   },
   {
    "duration": 186,
    "start_time": "2024-09-22T12:14:34.155Z"
   },
   {
    "duration": 185,
    "start_time": "2024-09-22T12:14:47.437Z"
   },
   {
    "duration": 253,
    "start_time": "2024-09-22T12:14:58.847Z"
   },
   {
    "duration": 181,
    "start_time": "2024-09-22T12:16:20.611Z"
   },
   {
    "duration": 196,
    "start_time": "2024-09-22T12:16:30.426Z"
   },
   {
    "duration": 203,
    "start_time": "2024-09-22T12:16:55.567Z"
   },
   {
    "duration": 328,
    "start_time": "2024-09-22T12:17:56.956Z"
   },
   {
    "duration": 329,
    "start_time": "2024-09-22T12:18:30.222Z"
   },
   {
    "duration": 874,
    "start_time": "2024-09-23T12:40:12.210Z"
   },
   {
    "duration": 3,
    "start_time": "2024-09-23T12:40:13.086Z"
   },
   {
    "duration": 87,
    "start_time": "2024-09-23T12:40:13.091Z"
   },
   {
    "duration": 11,
    "start_time": "2024-09-23T12:40:13.179Z"
   },
   {
    "duration": 36,
    "start_time": "2024-09-23T12:40:13.192Z"
   },
   {
    "duration": 22,
    "start_time": "2024-09-23T12:40:13.230Z"
   },
   {
    "duration": 9,
    "start_time": "2024-09-23T12:40:13.253Z"
   },
   {
    "duration": 9,
    "start_time": "2024-09-23T12:40:13.263Z"
   },
   {
    "duration": 10,
    "start_time": "2024-09-23T12:40:13.274Z"
   },
   {
    "duration": 18,
    "start_time": "2024-09-23T12:40:13.285Z"
   },
   {
    "duration": 7,
    "start_time": "2024-09-23T12:40:13.305Z"
   },
   {
    "duration": 14,
    "start_time": "2024-09-23T12:40:13.314Z"
   },
   {
    "duration": 47,
    "start_time": "2024-09-23T12:40:18.404Z"
   },
   {
    "duration": 4,
    "start_time": "2024-09-23T13:14:08.383Z"
   },
   {
    "duration": 11,
    "start_time": "2024-09-23T13:14:16.801Z"
   },
   {
    "duration": 3,
    "start_time": "2024-09-23T13:14:33.050Z"
   },
   {
    "duration": 7,
    "start_time": "2024-09-23T13:14:33.055Z"
   },
   {
    "duration": 35,
    "start_time": "2024-09-23T13:14:33.063Z"
   },
   {
    "duration": 8,
    "start_time": "2024-09-23T13:14:33.099Z"
   },
   {
    "duration": 9,
    "start_time": "2024-09-23T13:14:33.109Z"
   },
   {
    "duration": 9,
    "start_time": "2024-09-23T13:14:35.701Z"
   },
   {
    "duration": 5,
    "start_time": "2024-09-23T13:37:10.299Z"
   },
   {
    "duration": 4,
    "start_time": "2024-09-23T13:37:17.632Z"
   },
   {
    "duration": 4,
    "start_time": "2024-09-23T13:37:20.957Z"
   },
   {
    "duration": 4,
    "start_time": "2024-09-23T13:37:23.699Z"
   },
   {
    "duration": 3,
    "start_time": "2024-09-23T13:40:06.211Z"
   },
   {
    "duration": 2,
    "start_time": "2024-09-23T13:40:06.966Z"
   },
   {
    "duration": 13,
    "start_time": "2024-09-23T13:40:09.237Z"
   },
   {
    "duration": 109,
    "start_time": "2024-09-23T14:53:15.195Z"
   },
   {
    "duration": 9,
    "start_time": "2024-09-23T14:53:15.914Z"
   },
   {
    "duration": 12,
    "start_time": "2024-09-23T14:53:18.919Z"
   },
   {
    "duration": 6,
    "start_time": "2024-09-23T14:53:20.018Z"
   },
   {
    "duration": 75,
    "start_time": "2024-09-23T14:55:15.119Z"
   },
   {
    "duration": 7,
    "start_time": "2024-09-23T14:55:25.345Z"
   },
   {
    "duration": 8,
    "start_time": "2024-09-23T14:55:30.990Z"
   },
   {
    "duration": 6,
    "start_time": "2024-09-23T14:55:45.060Z"
   },
   {
    "duration": 8,
    "start_time": "2024-09-23T14:57:31.370Z"
   },
   {
    "duration": 5,
    "start_time": "2024-09-23T14:57:45.451Z"
   },
   {
    "duration": 8,
    "start_time": "2024-09-23T14:59:37.531Z"
   },
   {
    "duration": 13,
    "start_time": "2024-09-23T14:59:51.517Z"
   },
   {
    "duration": 8,
    "start_time": "2024-09-23T14:59:56.151Z"
   },
   {
    "duration": 7,
    "start_time": "2024-09-23T15:00:06.747Z"
   },
   {
    "duration": 12,
    "start_time": "2024-09-23T15:01:06.385Z"
   },
   {
    "duration": 12,
    "start_time": "2024-09-23T15:05:14.922Z"
   },
   {
    "duration": 5,
    "start_time": "2024-09-23T15:09:12.477Z"
   },
   {
    "duration": 6,
    "start_time": "2024-09-23T15:11:16.469Z"
   },
   {
    "duration": 6,
    "start_time": "2024-09-23T15:14:19.903Z"
   },
   {
    "duration": 8,
    "start_time": "2024-09-23T15:15:25.260Z"
   },
   {
    "duration": 7,
    "start_time": "2024-09-23T15:15:59.000Z"
   },
   {
    "duration": 6,
    "start_time": "2024-09-23T15:16:29.698Z"
   },
   {
    "duration": 5,
    "start_time": "2024-09-23T15:17:24.530Z"
   },
   {
    "duration": 12,
    "start_time": "2024-09-23T15:18:01.031Z"
   },
   {
    "duration": 84,
    "start_time": "2024-09-23T15:24:30.789Z"
   },
   {
    "duration": 2,
    "start_time": "2024-09-23T15:24:35.361Z"
   },
   {
    "duration": 4,
    "start_time": "2024-09-23T15:25:17.217Z"
   },
   {
    "duration": 6,
    "start_time": "2024-09-23T15:25:24.472Z"
   },
   {
    "duration": 7,
    "start_time": "2024-09-23T15:33:25.645Z"
   },
   {
    "duration": 5,
    "start_time": "2024-09-23T15:33:35.313Z"
   },
   {
    "duration": 6,
    "start_time": "2024-09-23T15:34:52.878Z"
   },
   {
    "duration": 4,
    "start_time": "2024-09-23T15:34:54.058Z"
   },
   {
    "duration": 3,
    "start_time": "2024-09-23T15:35:56.841Z"
   },
   {
    "duration": 5,
    "start_time": "2024-09-23T15:36:04.582Z"
   },
   {
    "duration": 13,
    "start_time": "2024-09-23T15:42:39.335Z"
   },
   {
    "duration": 15,
    "start_time": "2024-09-23T15:43:06.726Z"
   },
   {
    "duration": 12,
    "start_time": "2024-09-23T18:30:51.481Z"
   },
   {
    "duration": 9,
    "start_time": "2024-09-23T18:31:04.800Z"
   },
   {
    "duration": 10,
    "start_time": "2024-09-23T18:31:10.924Z"
   },
   {
    "duration": 7,
    "start_time": "2024-09-23T18:33:44.527Z"
   },
   {
    "duration": 200,
    "start_time": "2024-09-23T18:34:27.487Z"
   },
   {
    "duration": 16,
    "start_time": "2024-09-23T19:16:12.099Z"
   },
   {
    "duration": 10,
    "start_time": "2024-09-23T19:16:26.319Z"
   },
   {
    "duration": 12,
    "start_time": "2024-09-23T19:16:44.239Z"
   },
   {
    "duration": 9,
    "start_time": "2024-09-23T19:16:54.095Z"
   },
   {
    "duration": 6,
    "start_time": "2024-09-23T19:18:38.065Z"
   },
   {
    "duration": 4,
    "start_time": "2024-09-23T19:28:06.516Z"
   },
   {
    "duration": 9,
    "start_time": "2024-09-23T19:28:12.046Z"
   },
   {
    "duration": 14,
    "start_time": "2024-09-23T19:32:40.533Z"
   },
   {
    "duration": 5,
    "start_time": "2024-09-23T19:33:05.178Z"
   },
   {
    "duration": 4,
    "start_time": "2024-09-23T19:33:43.977Z"
   },
   {
    "duration": 5,
    "start_time": "2024-09-23T19:33:52.536Z"
   },
   {
    "duration": 6,
    "start_time": "2024-09-23T19:34:09.928Z"
   },
   {
    "duration": 4,
    "start_time": "2024-09-23T19:34:22.477Z"
   },
   {
    "duration": 13,
    "start_time": "2024-09-23T19:34:41.860Z"
   },
   {
    "duration": 11,
    "start_time": "2024-09-23T19:46:03.955Z"
   },
   {
    "duration": 9,
    "start_time": "2024-09-23T19:46:19.776Z"
   },
   {
    "duration": 3,
    "start_time": "2024-09-23T19:48:13.414Z"
   },
   {
    "duration": 14,
    "start_time": "2024-09-23T19:48:22.837Z"
   },
   {
    "duration": 7,
    "start_time": "2024-09-23T19:50:11.183Z"
   },
   {
    "duration": 8,
    "start_time": "2024-09-23T19:50:30.814Z"
   },
   {
    "duration": 8,
    "start_time": "2024-09-23T19:50:46.358Z"
   },
   {
    "duration": 9,
    "start_time": "2024-09-23T19:50:56.653Z"
   },
   {
    "duration": 842,
    "start_time": "2024-09-24T10:27:34.848Z"
   },
   {
    "duration": 2,
    "start_time": "2024-09-24T10:27:35.693Z"
   },
   {
    "duration": 129,
    "start_time": "2024-09-24T10:27:35.697Z"
   },
   {
    "duration": 12,
    "start_time": "2024-09-24T10:27:35.827Z"
   },
   {
    "duration": 6,
    "start_time": "2024-09-24T10:27:35.841Z"
   },
   {
    "duration": 11,
    "start_time": "2024-09-24T10:27:35.848Z"
   },
   {
    "duration": 12,
    "start_time": "2024-09-24T10:27:35.860Z"
   },
   {
    "duration": 6,
    "start_time": "2024-09-24T10:27:35.873Z"
   },
   {
    "duration": 8,
    "start_time": "2024-09-24T10:27:35.880Z"
   },
   {
    "duration": 4,
    "start_time": "2024-09-24T10:27:35.890Z"
   },
   {
    "duration": 20,
    "start_time": "2024-09-24T10:27:35.895Z"
   },
   {
    "duration": 5,
    "start_time": "2024-09-24T10:27:35.925Z"
   },
   {
    "duration": 58,
    "start_time": "2024-09-24T10:27:35.932Z"
   },
   {
    "duration": 103,
    "start_time": "2024-09-24T10:27:35.992Z"
   },
   {
    "duration": 8,
    "start_time": "2024-09-24T10:27:36.097Z"
   },
   {
    "duration": 33,
    "start_time": "2024-09-24T10:27:36.107Z"
   },
   {
    "duration": 6,
    "start_time": "2024-09-24T10:27:36.141Z"
   },
   {
    "duration": 7,
    "start_time": "2024-09-24T10:27:36.148Z"
   },
   {
    "duration": 4,
    "start_time": "2024-09-24T10:27:38.657Z"
   },
   {
    "duration": 13,
    "start_time": "2024-09-24T10:27:45.118Z"
   },
   {
    "duration": 14,
    "start_time": "2024-09-24T10:28:30.336Z"
   },
   {
    "duration": 13,
    "start_time": "2024-09-24T10:30:04.809Z"
   },
   {
    "duration": 13,
    "start_time": "2024-09-24T10:34:02.911Z"
   },
   {
    "duration": 12,
    "start_time": "2024-09-24T10:34:40.097Z"
   },
   {
    "duration": 921,
    "start_time": "2024-09-25T10:01:27.536Z"
   },
   {
    "duration": 4,
    "start_time": "2024-09-25T10:01:28.460Z"
   },
   {
    "duration": 104,
    "start_time": "2024-09-25T10:01:28.466Z"
   },
   {
    "duration": 13,
    "start_time": "2024-09-25T10:01:28.572Z"
   },
   {
    "duration": 6,
    "start_time": "2024-09-25T10:01:28.587Z"
   },
   {
    "duration": 23,
    "start_time": "2024-09-25T10:01:28.594Z"
   },
   {
    "duration": 8,
    "start_time": "2024-09-25T10:01:28.619Z"
   },
   {
    "duration": 8,
    "start_time": "2024-09-25T10:01:28.629Z"
   },
   {
    "duration": 5,
    "start_time": "2024-09-25T10:01:28.639Z"
   },
   {
    "duration": 14,
    "start_time": "2024-09-25T10:01:28.645Z"
   },
   {
    "duration": 6,
    "start_time": "2024-09-25T10:01:28.661Z"
   },
   {
    "duration": 21,
    "start_time": "2024-09-25T10:01:28.669Z"
   },
   {
    "duration": 69,
    "start_time": "2024-09-25T10:01:28.692Z"
   },
   {
    "duration": 94,
    "start_time": "2024-09-25T10:01:28.765Z"
   },
   {
    "duration": 9,
    "start_time": "2024-09-25T10:01:28.861Z"
   },
   {
    "duration": 15,
    "start_time": "2024-09-25T10:01:28.872Z"
   },
   {
    "duration": 10,
    "start_time": "2024-09-25T10:01:28.889Z"
   },
   {
    "duration": 15,
    "start_time": "2024-09-25T10:01:28.901Z"
   },
   {
    "duration": 5,
    "start_time": "2024-09-25T10:01:33.954Z"
   },
   {
    "duration": 6,
    "start_time": "2024-09-25T10:04:13.418Z"
   },
   {
    "duration": 5,
    "start_time": "2024-09-25T10:06:27.662Z"
   },
   {
    "duration": 17,
    "start_time": "2024-09-25T10:08:00.847Z"
   },
   {
    "duration": 4,
    "start_time": "2024-09-25T10:17:59.215Z"
   },
   {
    "duration": 83,
    "start_time": "2024-09-25T10:35:40.693Z"
   },
   {
    "duration": 8,
    "start_time": "2024-09-25T10:35:42.368Z"
   },
   {
    "duration": 11,
    "start_time": "2024-09-25T10:35:45.082Z"
   },
   {
    "duration": 9,
    "start_time": "2024-09-25T10:36:28.886Z"
   },
   {
    "duration": 7,
    "start_time": "2024-09-25T10:41:53.486Z"
   },
   {
    "duration": 20,
    "start_time": "2024-09-25T14:52:09.943Z"
   },
   {
    "duration": 9,
    "start_time": "2024-09-25T14:53:16.796Z"
   },
   {
    "duration": 8,
    "start_time": "2024-09-25T15:03:29.756Z"
   },
   {
    "duration": 3,
    "start_time": "2024-09-25T15:27:17.393Z"
   },
   {
    "duration": 80,
    "start_time": "2024-09-25T15:27:30.139Z"
   },
   {
    "duration": 3,
    "start_time": "2024-09-25T15:27:36.870Z"
   },
   {
    "duration": 4,
    "start_time": "2024-09-25T15:27:41.499Z"
   },
   {
    "duration": 6,
    "start_time": "2024-09-25T15:28:46.117Z"
   },
   {
    "duration": 3,
    "start_time": "2024-09-25T15:28:47.627Z"
   },
   {
    "duration": 5,
    "start_time": "2024-09-25T15:28:49.399Z"
   },
   {
    "duration": 4,
    "start_time": "2024-09-25T15:29:54.280Z"
   },
   {
    "duration": 7,
    "start_time": "2024-09-25T15:31:50.376Z"
   },
   {
    "duration": 3,
    "start_time": "2024-09-25T15:31:51.525Z"
   },
   {
    "duration": 3,
    "start_time": "2024-09-25T15:31:52.060Z"
   },
   {
    "duration": 4,
    "start_time": "2024-09-25T15:32:04.086Z"
   },
   {
    "duration": 4,
    "start_time": "2024-09-25T15:32:39.022Z"
   },
   {
    "duration": 14,
    "start_time": "2024-09-25T15:36:23.932Z"
   },
   {
    "duration": 5,
    "start_time": "2024-09-25T15:36:41.184Z"
   },
   {
    "duration": 5,
    "start_time": "2024-09-25T15:36:53.548Z"
   },
   {
    "duration": 4,
    "start_time": "2024-09-25T15:37:14.869Z"
   },
   {
    "duration": 4,
    "start_time": "2024-09-25T15:37:46.422Z"
   },
   {
    "duration": 4,
    "start_time": "2024-09-25T15:37:55.317Z"
   },
   {
    "duration": 4,
    "start_time": "2024-09-25T15:38:05.386Z"
   },
   {
    "duration": 5,
    "start_time": "2024-09-25T15:40:37.744Z"
   },
   {
    "duration": 5,
    "start_time": "2024-09-25T15:40:47.248Z"
   },
   {
    "duration": 546,
    "start_time": "2024-09-25T15:42:10.928Z"
   },
   {
    "duration": 45,
    "start_time": "2024-09-25T15:42:40.080Z"
   },
   {
    "duration": 7,
    "start_time": "2024-09-25T15:44:29.765Z"
   },
   {
    "duration": 3,
    "start_time": "2024-09-25T15:44:47.082Z"
   },
   {
    "duration": 3,
    "start_time": "2024-09-25T15:45:01.847Z"
   },
   {
    "duration": 7,
    "start_time": "2024-09-25T15:45:13.231Z"
   },
   {
    "duration": 2,
    "start_time": "2024-09-25T15:46:36.880Z"
   },
   {
    "duration": 3,
    "start_time": "2024-09-25T15:46:37.744Z"
   },
   {
    "duration": 6,
    "start_time": "2024-09-25T15:46:38.719Z"
   },
   {
    "duration": 5,
    "start_time": "2024-09-25T15:48:30.816Z"
   },
   {
    "duration": 5,
    "start_time": "2024-09-25T15:48:31.708Z"
   },
   {
    "duration": 7,
    "start_time": "2024-09-25T15:48:32.860Z"
   },
   {
    "duration": 175,
    "start_time": "2024-09-25T19:36:16.533Z"
   },
   {
    "duration": 173,
    "start_time": "2024-09-25T19:36:32.017Z"
   },
   {
    "duration": 181,
    "start_time": "2024-09-25T19:37:00.859Z"
   },
   {
    "duration": 199,
    "start_time": "2024-09-25T19:37:10.949Z"
   },
   {
    "duration": 1287,
    "start_time": "2024-09-26T05:03:19.876Z"
   },
   {
    "duration": 3,
    "start_time": "2024-09-26T05:03:21.165Z"
   },
   {
    "duration": 79,
    "start_time": "2024-09-26T05:03:21.169Z"
   },
   {
    "duration": 13,
    "start_time": "2024-09-26T05:03:21.249Z"
   },
   {
    "duration": 10,
    "start_time": "2024-09-26T05:03:21.264Z"
   },
   {
    "duration": 9,
    "start_time": "2024-09-26T05:03:21.276Z"
   },
   {
    "duration": 12,
    "start_time": "2024-09-26T05:03:21.287Z"
   },
   {
    "duration": 5,
    "start_time": "2024-09-26T05:03:21.300Z"
   },
   {
    "duration": 4,
    "start_time": "2024-09-26T05:03:21.306Z"
   },
   {
    "duration": 4,
    "start_time": "2024-09-26T05:03:21.311Z"
   },
   {
    "duration": 4,
    "start_time": "2024-09-26T05:03:21.317Z"
   },
   {
    "duration": 4,
    "start_time": "2024-09-26T05:03:21.322Z"
   },
   {
    "duration": 70,
    "start_time": "2024-09-26T05:03:21.327Z"
   },
   {
    "duration": 76,
    "start_time": "2024-09-26T05:03:21.400Z"
   },
   {
    "duration": 8,
    "start_time": "2024-09-26T05:03:21.478Z"
   },
   {
    "duration": 11,
    "start_time": "2024-09-26T05:03:21.488Z"
   },
   {
    "duration": 5,
    "start_time": "2024-09-26T05:03:21.500Z"
   },
   {
    "duration": 6,
    "start_time": "2024-09-26T05:03:21.507Z"
   },
   {
    "duration": 6,
    "start_time": "2024-09-26T05:03:21.514Z"
   },
   {
    "duration": 10,
    "start_time": "2024-09-26T05:03:21.521Z"
   },
   {
    "duration": 4,
    "start_time": "2024-09-26T05:03:21.532Z"
   },
   {
    "duration": 4,
    "start_time": "2024-09-26T05:03:21.537Z"
   },
   {
    "duration": 34,
    "start_time": "2024-09-26T05:03:21.542Z"
   },
   {
    "duration": 4,
    "start_time": "2024-09-26T05:03:21.578Z"
   },
   {
    "duration": 11,
    "start_time": "2024-09-26T05:03:21.584Z"
   },
   {
    "duration": 4,
    "start_time": "2024-09-26T05:03:21.596Z"
   },
   {
    "duration": 4,
    "start_time": "2024-09-26T05:03:21.601Z"
   },
   {
    "duration": 4,
    "start_time": "2024-09-26T05:03:21.606Z"
   },
   {
    "duration": 213,
    "start_time": "2024-09-26T05:03:21.611Z"
   },
   {
    "duration": 8,
    "start_time": "2024-09-26T05:03:21.825Z"
   },
   {
    "duration": 4,
    "start_time": "2024-09-26T05:03:21.834Z"
   },
   {
    "duration": 14,
    "start_time": "2024-09-26T05:03:21.840Z"
   },
   {
    "duration": 4,
    "start_time": "2024-09-26T05:03:21.876Z"
   },
   {
    "duration": 14,
    "start_time": "2024-09-26T05:03:21.882Z"
   },
   {
    "duration": 6,
    "start_time": "2024-09-26T05:03:21.897Z"
   },
   {
    "duration": 14,
    "start_time": "2024-09-26T05:03:21.904Z"
   },
   {
    "duration": 13,
    "start_time": "2024-09-26T05:03:21.919Z"
   },
   {
    "duration": 125,
    "start_time": "2024-09-26T05:03:21.933Z"
   },
   {
    "duration": 0,
    "start_time": "2024-09-26T05:03:22.060Z"
   },
   {
    "duration": 0,
    "start_time": "2024-09-26T05:03:22.061Z"
   },
   {
    "duration": 66,
    "start_time": "2024-09-26T05:03:52.226Z"
   },
   {
    "duration": 7,
    "start_time": "2024-09-26T05:03:54.844Z"
   },
   {
    "duration": 10,
    "start_time": "2024-09-26T05:03:58.703Z"
   },
   {
    "duration": 6,
    "start_time": "2024-09-26T05:04:12.478Z"
   },
   {
    "duration": 9,
    "start_time": "2024-09-26T05:04:32.399Z"
   },
   {
    "duration": 9,
    "start_time": "2024-09-26T05:04:39.529Z"
   },
   {
    "duration": 7,
    "start_time": "2024-09-26T05:13:51.885Z"
   },
   {
    "duration": 5,
    "start_time": "2024-09-26T05:14:45.663Z"
   },
   {
    "duration": 5,
    "start_time": "2024-09-26T05:14:56.707Z"
   },
   {
    "duration": 7,
    "start_time": "2024-09-26T05:17:53.530Z"
   },
   {
    "duration": 4,
    "start_time": "2024-09-26T05:18:29.903Z"
   },
   {
    "duration": 10,
    "start_time": "2024-09-26T06:03:36.015Z"
   },
   {
    "duration": 5,
    "start_time": "2024-09-26T06:03:41.288Z"
   },
   {
    "duration": 4,
    "start_time": "2024-09-26T06:03:42.061Z"
   },
   {
    "duration": 14,
    "start_time": "2024-09-26T07:02:35.296Z"
   },
   {
    "duration": 25,
    "start_time": "2024-09-26T07:03:06.476Z"
   },
   {
    "duration": 14,
    "start_time": "2024-09-26T07:03:12.384Z"
   },
   {
    "duration": 13,
    "start_time": "2024-09-26T07:03:26.395Z"
   },
   {
    "duration": 9,
    "start_time": "2024-09-26T07:03:44.036Z"
   },
   {
    "duration": 17,
    "start_time": "2024-09-26T07:03:55.880Z"
   },
   {
    "duration": 9,
    "start_time": "2024-09-26T07:04:03.803Z"
   },
   {
    "duration": 13,
    "start_time": "2024-09-26T07:05:18.700Z"
   },
   {
    "duration": 23,
    "start_time": "2024-09-26T07:05:28.961Z"
   },
   {
    "duration": 14,
    "start_time": "2024-09-26T07:05:54.646Z"
   },
   {
    "duration": 15,
    "start_time": "2024-09-26T07:06:20.015Z"
   },
   {
    "duration": 4,
    "start_time": "2024-09-26T07:09:18.156Z"
   },
   {
    "duration": 8,
    "start_time": "2024-09-26T07:09:28.598Z"
   },
   {
    "duration": 4,
    "start_time": "2024-09-26T07:09:30.446Z"
   },
   {
    "duration": 15,
    "start_time": "2024-09-26T07:09:31.658Z"
   },
   {
    "duration": 61,
    "start_time": "2024-09-26T07:11:37.780Z"
   },
   {
    "duration": 13,
    "start_time": "2024-09-26T07:11:43.598Z"
   },
   {
    "duration": 16,
    "start_time": "2024-09-26T07:12:05.865Z"
   },
   {
    "duration": 3,
    "start_time": "2024-09-26T08:11:09.352Z"
   },
   {
    "duration": 6,
    "start_time": "2024-09-26T08:11:09.357Z"
   },
   {
    "duration": 84,
    "start_time": "2024-09-26T08:11:09.365Z"
   },
   {
    "duration": 5,
    "start_time": "2024-09-26T08:11:13.120Z"
   },
   {
    "duration": 15,
    "start_time": "2024-09-26T08:11:46.861Z"
   },
   {
    "duration": 17,
    "start_time": "2024-09-26T08:13:22.765Z"
   },
   {
    "duration": 5,
    "start_time": "2024-09-26T08:15:01.836Z"
   },
   {
    "duration": 15,
    "start_time": "2024-09-26T08:15:02.849Z"
   },
   {
    "duration": 4,
    "start_time": "2024-09-26T08:15:15.815Z"
   },
   {
    "duration": 16,
    "start_time": "2024-09-26T08:15:18.366Z"
   },
   {
    "duration": 16,
    "start_time": "2024-09-26T08:15:33.485Z"
   },
   {
    "duration": 6,
    "start_time": "2024-09-26T08:17:04.082Z"
   },
   {
    "duration": 15,
    "start_time": "2024-09-26T08:17:05.156Z"
   },
   {
    "duration": 17,
    "start_time": "2024-09-26T08:17:14.796Z"
   },
   {
    "duration": 16,
    "start_time": "2024-09-26T08:17:43.723Z"
   },
   {
    "duration": 7,
    "start_time": "2024-09-26T08:21:04.602Z"
   },
   {
    "duration": 19,
    "start_time": "2024-09-26T08:21:06.002Z"
   },
   {
    "duration": 22,
    "start_time": "2024-09-26T08:21:17.713Z"
   },
   {
    "duration": 16,
    "start_time": "2024-09-26T08:21:27.337Z"
   },
   {
    "duration": 4,
    "start_time": "2024-09-26T08:21:56.440Z"
   },
   {
    "duration": 17,
    "start_time": "2024-09-26T08:22:00.129Z"
   },
   {
    "duration": 22,
    "start_time": "2024-09-26T08:25:25.184Z"
   },
   {
    "duration": 9,
    "start_time": "2024-09-26T09:50:12.622Z"
   },
   {
    "duration": 10,
    "start_time": "2024-09-26T09:51:08.248Z"
   },
   {
    "duration": 9,
    "start_time": "2024-09-26T09:51:58.316Z"
   },
   {
    "duration": 10,
    "start_time": "2024-09-26T09:52:36.081Z"
   },
   {
    "duration": 20,
    "start_time": "2024-09-26T09:52:37.532Z"
   },
   {
    "duration": 20,
    "start_time": "2024-09-26T09:52:52.038Z"
   },
   {
    "duration": 20,
    "start_time": "2024-09-26T09:53:06.619Z"
   },
   {
    "duration": 12,
    "start_time": "2024-09-26T09:53:13.584Z"
   },
   {
    "duration": 12,
    "start_time": "2024-09-26T09:53:16.739Z"
   },
   {
    "duration": 5,
    "start_time": "2024-09-26T09:53:51.030Z"
   },
   {
    "duration": 12,
    "start_time": "2024-09-26T09:53:57.589Z"
   },
   {
    "duration": 5,
    "start_time": "2024-09-26T09:55:06.764Z"
   },
   {
    "duration": 12,
    "start_time": "2024-09-26T09:55:07.474Z"
   },
   {
    "duration": 12,
    "start_time": "2024-09-26T09:55:08.085Z"
   },
   {
    "duration": 4,
    "start_time": "2024-09-26T09:55:08.754Z"
   },
   {
    "duration": 5,
    "start_time": "2024-09-26T09:55:09.484Z"
   },
   {
    "duration": 10,
    "start_time": "2024-09-26T09:55:10.489Z"
   },
   {
    "duration": 20,
    "start_time": "2024-09-26T09:55:11.880Z"
   },
   {
    "duration": 9,
    "start_time": "2024-09-26T10:23:23.980Z"
   },
   {
    "duration": 8,
    "start_time": "2024-09-26T10:25:02.673Z"
   },
   {
    "duration": 11,
    "start_time": "2024-09-26T10:34:45.416Z"
   },
   {
    "duration": 7,
    "start_time": "2024-09-26T10:55:51.342Z"
   },
   {
    "duration": 6,
    "start_time": "2024-09-26T10:58:54.276Z"
   },
   {
    "duration": 7,
    "start_time": "2024-09-26T10:59:24.807Z"
   },
   {
    "duration": 13,
    "start_time": "2024-09-26T11:03:17.342Z"
   },
   {
    "duration": 5,
    "start_time": "2024-09-26T11:03:23.896Z"
   },
   {
    "duration": 15,
    "start_time": "2024-09-26T11:03:34.213Z"
   },
   {
    "duration": 5,
    "start_time": "2024-09-26T11:04:24.120Z"
   },
   {
    "duration": 15,
    "start_time": "2024-09-26T11:04:27.068Z"
   },
   {
    "duration": 4,
    "start_time": "2024-09-26T11:05:15.538Z"
   },
   {
    "duration": 12,
    "start_time": "2024-09-26T11:05:16.657Z"
   },
   {
    "duration": 4,
    "start_time": "2024-09-26T16:10:10.795Z"
   },
   {
    "duration": 12,
    "start_time": "2024-09-26T16:11:38.829Z"
   },
   {
    "duration": 7,
    "start_time": "2024-09-26T16:14:16.836Z"
   },
   {
    "duration": 7,
    "start_time": "2024-09-26T16:15:13.053Z"
   },
   {
    "duration": 8,
    "start_time": "2024-09-26T16:15:21.484Z"
   },
   {
    "duration": 6,
    "start_time": "2024-09-26T16:15:30.434Z"
   },
   {
    "duration": 11,
    "start_time": "2024-09-26T16:15:59.585Z"
   },
   {
    "duration": 6,
    "start_time": "2024-09-26T16:16:07.830Z"
   },
   {
    "duration": 7,
    "start_time": "2024-09-26T16:31:16.857Z"
   },
   {
    "duration": 12,
    "start_time": "2024-09-26T16:32:20.760Z"
   },
   {
    "duration": 6,
    "start_time": "2024-09-26T16:37:55.566Z"
   },
   {
    "duration": 7,
    "start_time": "2024-09-26T16:38:10.591Z"
   },
   {
    "duration": 13,
    "start_time": "2024-09-26T16:45:11.496Z"
   },
   {
    "duration": 5,
    "start_time": "2024-09-26T16:48:00.446Z"
   },
   {
    "duration": 13,
    "start_time": "2024-09-26T16:48:12.594Z"
   },
   {
    "duration": 7,
    "start_time": "2024-09-26T17:22:48.436Z"
   },
   {
    "duration": 6,
    "start_time": "2024-09-26T17:23:32.610Z"
   },
   {
    "duration": 5,
    "start_time": "2024-09-26T17:23:55.320Z"
   },
   {
    "duration": 6,
    "start_time": "2024-09-26T17:32:36.531Z"
   },
   {
    "duration": 8,
    "start_time": "2024-09-26T18:21:55.922Z"
   },
   {
    "duration": 7,
    "start_time": "2024-09-26T18:22:22.986Z"
   },
   {
    "duration": 4,
    "start_time": "2024-09-26T18:22:36.732Z"
   },
   {
    "duration": 6,
    "start_time": "2024-09-26T18:39:12.263Z"
   },
   {
    "duration": 4,
    "start_time": "2024-09-26T18:39:30.483Z"
   },
   {
    "duration": 5,
    "start_time": "2024-09-26T18:45:57.948Z"
   },
   {
    "duration": 1309,
    "start_time": "2024-09-27T06:36:28.547Z"
   },
   {
    "duration": 2,
    "start_time": "2024-09-27T06:36:29.859Z"
   },
   {
    "duration": 244,
    "start_time": "2024-09-27T06:36:29.862Z"
   },
   {
    "duration": 6,
    "start_time": "2024-09-27T06:36:30.107Z"
   },
   {
    "duration": 43,
    "start_time": "2024-09-27T06:36:30.115Z"
   },
   {
    "duration": 25,
    "start_time": "2024-09-27T06:36:30.160Z"
   },
   {
    "duration": 49,
    "start_time": "2024-09-27T06:36:30.187Z"
   },
   {
    "duration": 25,
    "start_time": "2024-09-27T06:36:30.238Z"
   },
   {
    "duration": 71,
    "start_time": "2024-09-27T06:36:30.265Z"
   },
   {
    "duration": 6,
    "start_time": "2024-09-27T06:36:30.337Z"
   },
   {
    "duration": 36,
    "start_time": "2024-09-27T06:36:30.344Z"
   },
   {
    "duration": 26,
    "start_time": "2024-09-27T06:36:30.382Z"
   },
   {
    "duration": 9,
    "start_time": "2024-09-27T06:36:30.409Z"
   },
   {
    "duration": 10,
    "start_time": "2024-09-27T06:36:30.421Z"
   },
   {
    "duration": 28,
    "start_time": "2024-09-27T06:36:30.433Z"
   },
   {
    "duration": 13,
    "start_time": "2024-09-27T06:36:30.462Z"
   },
   {
    "duration": 4,
    "start_time": "2024-09-27T06:36:30.477Z"
   },
   {
    "duration": 59,
    "start_time": "2024-09-27T06:36:30.482Z"
   },
   {
    "duration": 7,
    "start_time": "2024-09-27T06:36:30.542Z"
   },
   {
    "duration": 21,
    "start_time": "2024-09-27T06:36:30.550Z"
   },
   {
    "duration": 10,
    "start_time": "2024-09-27T06:36:30.573Z"
   },
   {
    "duration": 12,
    "start_time": "2024-09-27T06:36:30.584Z"
   },
   {
    "duration": 32,
    "start_time": "2024-09-27T06:36:30.597Z"
   },
   {
    "duration": 34,
    "start_time": "2024-09-27T06:36:30.630Z"
   },
   {
    "duration": 30,
    "start_time": "2024-09-27T06:36:30.666Z"
   },
   {
    "duration": 19,
    "start_time": "2024-09-27T06:36:30.698Z"
   },
   {
    "duration": 50,
    "start_time": "2024-09-27T06:36:30.719Z"
   },
   {
    "duration": 5,
    "start_time": "2024-09-27T06:36:30.772Z"
   },
   {
    "duration": 21,
    "start_time": "2024-09-27T06:36:30.779Z"
   },
   {
    "duration": 18,
    "start_time": "2024-09-27T06:36:30.802Z"
   },
   {
    "duration": 7,
    "start_time": "2024-09-27T06:36:30.822Z"
   },
   {
    "duration": 8,
    "start_time": "2024-09-27T06:36:30.830Z"
   },
   {
    "duration": 17,
    "start_time": "2024-09-27T06:36:30.839Z"
   },
   {
    "duration": 12,
    "start_time": "2024-09-27T06:36:30.857Z"
   },
   {
    "duration": 6,
    "start_time": "2024-09-27T06:36:30.871Z"
   },
   {
    "duration": 6,
    "start_time": "2024-09-27T06:36:30.879Z"
   },
   {
    "duration": 10,
    "start_time": "2024-09-27T06:36:30.887Z"
   },
   {
    "duration": 4,
    "start_time": "2024-09-27T06:36:37.694Z"
   },
   {
    "duration": 4,
    "start_time": "2024-09-27T06:37:36.388Z"
   },
   {
    "duration": 5,
    "start_time": "2024-09-27T07:01:59.574Z"
   },
   {
    "duration": 7,
    "start_time": "2024-09-27T07:02:25.386Z"
   },
   {
    "duration": 114,
    "start_time": "2024-09-27T08:13:34.445Z"
   },
   {
    "duration": 328,
    "start_time": "2024-09-27T08:19:53.459Z"
   },
   {
    "duration": 12,
    "start_time": "2024-09-27T08:23:18.506Z"
   },
   {
    "duration": 16,
    "start_time": "2024-09-27T08:23:43.823Z"
   },
   {
    "duration": 2115,
    "start_time": "2024-09-27T08:39:45.347Z"
   },
   {
    "duration": 12,
    "start_time": "2024-09-27T08:39:55.865Z"
   },
   {
    "duration": 16,
    "start_time": "2024-09-27T08:41:15.596Z"
   },
   {
    "duration": 12,
    "start_time": "2024-09-27T08:42:18.027Z"
   },
   {
    "duration": 3,
    "start_time": "2024-09-27T08:42:32.355Z"
   },
   {
    "duration": 12,
    "start_time": "2024-09-27T08:42:32.360Z"
   },
   {
    "duration": 79,
    "start_time": "2024-09-27T08:42:32.373Z"
   },
   {
    "duration": 5,
    "start_time": "2024-09-27T08:42:32.453Z"
   },
   {
    "duration": 36,
    "start_time": "2024-09-27T08:42:32.460Z"
   },
   {
    "duration": 15,
    "start_time": "2024-09-27T08:42:32.498Z"
   },
   {
    "duration": 20,
    "start_time": "2024-09-27T08:42:32.514Z"
   },
   {
    "duration": 22,
    "start_time": "2024-09-27T08:42:32.536Z"
   },
   {
    "duration": 30,
    "start_time": "2024-09-27T08:42:32.560Z"
   },
   {
    "duration": 32,
    "start_time": "2024-09-27T08:42:32.592Z"
   },
   {
    "duration": 26,
    "start_time": "2024-09-27T08:42:32.626Z"
   },
   {
    "duration": 19,
    "start_time": "2024-09-27T08:42:32.653Z"
   },
   {
    "duration": 8,
    "start_time": "2024-09-27T08:42:32.673Z"
   },
   {
    "duration": 6,
    "start_time": "2024-09-27T08:42:32.682Z"
   },
   {
    "duration": 20,
    "start_time": "2024-09-27T08:42:32.689Z"
   },
   {
    "duration": 14,
    "start_time": "2024-09-27T08:42:32.711Z"
   },
   {
    "duration": 72,
    "start_time": "2024-09-27T08:42:32.726Z"
   },
   {
    "duration": 55,
    "start_time": "2024-09-27T08:42:32.800Z"
   },
   {
    "duration": 10,
    "start_time": "2024-09-27T08:42:32.856Z"
   },
   {
    "duration": 38,
    "start_time": "2024-09-27T08:42:32.868Z"
   },
   {
    "duration": 17,
    "start_time": "2024-09-27T08:42:32.908Z"
   },
   {
    "duration": 13,
    "start_time": "2024-09-27T08:42:32.927Z"
   },
   {
    "duration": 24,
    "start_time": "2024-09-27T08:42:32.942Z"
   },
   {
    "duration": 8,
    "start_time": "2024-09-27T08:42:32.969Z"
   },
   {
    "duration": 5,
    "start_time": "2024-09-27T08:42:32.979Z"
   },
   {
    "duration": 7,
    "start_time": "2024-09-27T08:42:32.985Z"
   },
   {
    "duration": 23,
    "start_time": "2024-09-27T08:42:32.994Z"
   },
   {
    "duration": 9,
    "start_time": "2024-09-27T08:42:33.018Z"
   },
   {
    "duration": 35,
    "start_time": "2024-09-27T08:42:33.030Z"
   },
   {
    "duration": 9,
    "start_time": "2024-09-27T08:42:33.067Z"
   },
   {
    "duration": 9,
    "start_time": "2024-09-27T08:42:33.078Z"
   },
   {
    "duration": 26,
    "start_time": "2024-09-27T08:42:33.089Z"
   },
   {
    "duration": 15,
    "start_time": "2024-09-27T08:42:33.116Z"
   },
   {
    "duration": 6,
    "start_time": "2024-09-27T08:42:33.132Z"
   },
   {
    "duration": 1981,
    "start_time": "2024-09-27T08:42:33.139Z"
   },
   {
    "duration": 11,
    "start_time": "2024-09-27T08:42:35.121Z"
   },
   {
    "duration": 17,
    "start_time": "2024-09-27T08:42:35.133Z"
   },
   {
    "duration": 12,
    "start_time": "2024-09-27T08:42:37.438Z"
   },
   {
    "duration": 13,
    "start_time": "2024-09-27T08:43:34.606Z"
   },
   {
    "duration": 12,
    "start_time": "2024-09-27T08:44:35.959Z"
   },
   {
    "duration": 5,
    "start_time": "2024-09-27T08:45:30.651Z"
   },
   {
    "duration": 11,
    "start_time": "2024-09-27T08:45:44.976Z"
   },
   {
    "duration": 4,
    "start_time": "2024-09-27T08:46:44.708Z"
   },
   {
    "duration": 13,
    "start_time": "2024-09-27T08:46:54.849Z"
   },
   {
    "duration": 11,
    "start_time": "2024-09-27T08:55:13.475Z"
   },
   {
    "duration": 13,
    "start_time": "2024-09-27T08:55:21.683Z"
   },
   {
    "duration": 19,
    "start_time": "2024-09-27T08:56:39.467Z"
   },
   {
    "duration": 278,
    "start_time": "2024-09-27T08:57:52.205Z"
   },
   {
    "duration": 489,
    "start_time": "2024-09-27T09:03:00.959Z"
   },
   {
    "duration": 393,
    "start_time": "2024-09-27T09:04:42.589Z"
   },
   {
    "duration": 23,
    "start_time": "2024-09-27T09:36:51.898Z"
   },
   {
    "duration": 388,
    "start_time": "2024-09-27T09:38:57.357Z"
   },
   {
    "duration": 353,
    "start_time": "2024-09-27T09:59:19.130Z"
   },
   {
    "duration": 360,
    "start_time": "2024-09-27T10:00:16.348Z"
   },
   {
    "duration": 23,
    "start_time": "2024-09-27T10:47:12.528Z"
   },
   {
    "duration": 24,
    "start_time": "2024-09-27T10:47:19.756Z"
   },
   {
    "duration": 419,
    "start_time": "2024-09-27T10:48:23.309Z"
   },
   {
    "duration": 26,
    "start_time": "2024-09-27T10:54:53.757Z"
   },
   {
    "duration": 364,
    "start_time": "2024-09-27T10:55:15.739Z"
   },
   {
    "duration": 24,
    "start_time": "2024-09-27T10:59:57.110Z"
   },
   {
    "duration": 434,
    "start_time": "2024-09-27T11:00:38.177Z"
   },
   {
    "duration": 7,
    "start_time": "2024-09-27T11:22:09.841Z"
   },
   {
    "duration": 289,
    "start_time": "2024-09-27T12:58:08.690Z"
   },
   {
    "duration": 271,
    "start_time": "2024-09-27T12:59:25.101Z"
   },
   {
    "duration": 335,
    "start_time": "2024-09-27T12:59:33.628Z"
   },
   {
    "duration": 444,
    "start_time": "2024-09-27T13:01:21.343Z"
   },
   {
    "duration": 346,
    "start_time": "2024-09-27T13:03:27.334Z"
   },
   {
    "duration": 339,
    "start_time": "2024-09-27T13:03:35.443Z"
   },
   {
    "duration": 280,
    "start_time": "2024-09-27T13:04:34.201Z"
   },
   {
    "duration": 334,
    "start_time": "2024-09-27T13:04:44.426Z"
   },
   {
    "duration": 324,
    "start_time": "2024-09-27T13:04:59.707Z"
   },
   {
    "duration": 326,
    "start_time": "2024-09-27T13:05:16.458Z"
   },
   {
    "duration": 4,
    "start_time": "2024-09-27T13:17:40.767Z"
   },
   {
    "duration": 4,
    "start_time": "2024-09-27T13:20:45.596Z"
   },
   {
    "duration": 5,
    "start_time": "2024-09-27T13:21:09.857Z"
   },
   {
    "duration": 6,
    "start_time": "2024-09-27T13:21:24.203Z"
   },
   {
    "duration": 9,
    "start_time": "2024-09-27T13:24:14.675Z"
   },
   {
    "duration": 3,
    "start_time": "2024-09-27T13:24:16.511Z"
   },
   {
    "duration": 4,
    "start_time": "2024-09-27T13:24:18.815Z"
   },
   {
    "duration": 5,
    "start_time": "2024-09-27T13:26:46.888Z"
   },
   {
    "duration": 4,
    "start_time": "2024-09-27T13:26:51.242Z"
   },
   {
    "duration": 10,
    "start_time": "2024-09-27T13:37:54.843Z"
   },
   {
    "duration": 6,
    "start_time": "2024-09-27T13:38:21.259Z"
   },
   {
    "duration": 8,
    "start_time": "2024-09-27T13:38:35.215Z"
   },
   {
    "duration": 8,
    "start_time": "2024-09-27T13:40:01.744Z"
   },
   {
    "duration": 5,
    "start_time": "2024-09-27T13:40:10.658Z"
   },
   {
    "duration": 12,
    "start_time": "2024-09-27T13:44:06.145Z"
   },
   {
    "duration": 4,
    "start_time": "2024-09-27T13:44:30.830Z"
   },
   {
    "duration": 5,
    "start_time": "2024-09-27T13:44:36.236Z"
   },
   {
    "duration": 1081,
    "start_time": "2024-09-27T13:46:05.396Z"
   },
   {
    "duration": 11,
    "start_time": "2024-09-27T13:46:30.732Z"
   },
   {
    "duration": 12,
    "start_time": "2024-09-27T13:46:53.377Z"
   },
   {
    "duration": 133,
    "start_time": "2024-09-27T20:12:25.086Z"
   },
   {
    "duration": 221,
    "start_time": "2024-09-27T20:12:51.366Z"
   },
   {
    "duration": 137,
    "start_time": "2024-09-27T20:13:35.963Z"
   },
   {
    "duration": 137,
    "start_time": "2024-09-27T20:14:16.942Z"
   },
   {
    "duration": 12,
    "start_time": "2024-09-27T20:19:02.537Z"
   },
   {
    "duration": 1166,
    "start_time": "2024-09-28T08:46:16.276Z"
   },
   {
    "duration": 2,
    "start_time": "2024-09-28T08:46:17.444Z"
   },
   {
    "duration": 238,
    "start_time": "2024-09-28T08:46:17.447Z"
   },
   {
    "duration": 4,
    "start_time": "2024-09-28T08:46:17.687Z"
   },
   {
    "duration": 16,
    "start_time": "2024-09-28T08:46:17.692Z"
   },
   {
    "duration": 14,
    "start_time": "2024-09-28T08:46:17.709Z"
   },
   {
    "duration": 11,
    "start_time": "2024-09-28T08:46:17.724Z"
   },
   {
    "duration": 7,
    "start_time": "2024-09-28T08:46:17.736Z"
   },
   {
    "duration": 10,
    "start_time": "2024-09-28T08:46:17.744Z"
   },
   {
    "duration": 5,
    "start_time": "2024-09-28T08:46:17.757Z"
   },
   {
    "duration": 9,
    "start_time": "2024-09-28T08:46:17.763Z"
   },
   {
    "duration": 6,
    "start_time": "2024-09-28T08:46:17.773Z"
   },
   {
    "duration": 27,
    "start_time": "2024-09-28T08:46:17.780Z"
   },
   {
    "duration": 5,
    "start_time": "2024-09-28T08:46:17.808Z"
   },
   {
    "duration": 7,
    "start_time": "2024-09-28T08:46:17.815Z"
   },
   {
    "duration": 4,
    "start_time": "2024-09-28T08:46:17.823Z"
   },
   {
    "duration": 6,
    "start_time": "2024-09-28T08:46:17.828Z"
   },
   {
    "duration": 42,
    "start_time": "2024-09-28T08:46:17.835Z"
   },
   {
    "duration": 5,
    "start_time": "2024-09-28T08:46:17.878Z"
   },
   {
    "duration": 26,
    "start_time": "2024-09-28T08:46:17.884Z"
   },
   {
    "duration": 3,
    "start_time": "2024-09-28T08:46:17.912Z"
   },
   {
    "duration": 7,
    "start_time": "2024-09-28T08:46:17.916Z"
   },
   {
    "duration": 7,
    "start_time": "2024-09-28T08:46:17.924Z"
   },
   {
    "duration": 32,
    "start_time": "2024-09-28T08:46:17.933Z"
   },
   {
    "duration": 17,
    "start_time": "2024-09-28T08:46:17.967Z"
   },
   {
    "duration": 5,
    "start_time": "2024-09-28T08:46:17.986Z"
   },
   {
    "duration": 20,
    "start_time": "2024-09-28T08:46:17.992Z"
   },
   {
    "duration": 3,
    "start_time": "2024-09-28T08:46:18.016Z"
   },
   {
    "duration": 14,
    "start_time": "2024-09-28T08:46:18.020Z"
   },
   {
    "duration": 6,
    "start_time": "2024-09-28T08:46:18.035Z"
   },
   {
    "duration": 13,
    "start_time": "2024-09-28T08:46:18.042Z"
   },
   {
    "duration": 6,
    "start_time": "2024-09-28T08:46:18.057Z"
   },
   {
    "duration": 4,
    "start_time": "2024-09-28T08:46:18.065Z"
   },
   {
    "duration": 16,
    "start_time": "2024-09-28T08:46:18.071Z"
   },
   {
    "duration": 485,
    "start_time": "2024-09-28T08:46:18.088Z"
   },
   {
    "duration": 15,
    "start_time": "2024-09-28T08:46:18.574Z"
   },
   {
    "duration": 308,
    "start_time": "2024-09-28T08:46:18.591Z"
   },
   {
    "duration": 9,
    "start_time": "2024-09-28T08:46:18.900Z"
   },
   {
    "duration": 289,
    "start_time": "2024-09-28T08:46:18.910Z"
   },
   {
    "duration": 7,
    "start_time": "2024-09-28T08:46:19.206Z"
   },
   {
    "duration": 22,
    "start_time": "2024-09-28T08:46:19.214Z"
   },
   {
    "duration": 14,
    "start_time": "2024-09-28T08:46:19.238Z"
   },
   {
    "duration": 14,
    "start_time": "2024-09-28T08:46:19.253Z"
   },
   {
    "duration": 15,
    "start_time": "2024-09-28T08:46:19.268Z"
   },
   {
    "duration": 177,
    "start_time": "2024-09-28T08:46:19.284Z"
   },
   {
    "duration": 1300,
    "start_time": "2024-09-28T08:46:40.010Z"
   },
   {
    "duration": 4,
    "start_time": "2024-09-28T08:46:57.800Z"
   },
   {
    "duration": 51,
    "start_time": "2024-09-28T08:51:50.390Z"
   },
   {
    "duration": 5,
    "start_time": "2024-09-28T08:52:09.760Z"
   },
   {
    "duration": 8,
    "start_time": "2024-09-28T08:52:17.550Z"
   },
   {
    "duration": 6,
    "start_time": "2024-09-28T08:53:24.053Z"
   },
   {
    "duration": 98,
    "start_time": "2024-09-28T08:53:41.124Z"
   },
   {
    "duration": 96,
    "start_time": "2024-09-28T08:53:49.734Z"
   },
   {
    "duration": 96,
    "start_time": "2024-09-28T08:54:27.382Z"
   },
   {
    "duration": 4,
    "start_time": "2024-09-28T08:55:12.978Z"
   },
   {
    "duration": 146,
    "start_time": "2024-09-28T08:56:53.498Z"
   },
   {
    "duration": 93,
    "start_time": "2024-09-28T08:57:31.425Z"
   },
   {
    "duration": 7,
    "start_time": "2024-09-28T10:03:25.959Z"
   },
   {
    "duration": 6,
    "start_time": "2024-09-28T10:05:36.915Z"
   },
   {
    "duration": 5,
    "start_time": "2024-09-28T10:07:20.089Z"
   },
   {
    "duration": 53,
    "start_time": "2024-09-28T15:33:40.096Z"
   },
   {
    "duration": 103,
    "start_time": "2024-09-28T15:33:50.240Z"
   },
   {
    "duration": 19,
    "start_time": "2024-09-28T15:35:26.825Z"
   },
   {
    "duration": 8,
    "start_time": "2024-09-28T15:37:44.896Z"
   },
   {
    "duration": 7,
    "start_time": "2024-09-28T15:39:13.650Z"
   },
   {
    "duration": 7,
    "start_time": "2024-09-28T15:39:29.150Z"
   },
   {
    "duration": 16,
    "start_time": "2024-09-28T15:39:41.340Z"
   },
   {
    "duration": 9,
    "start_time": "2024-09-28T15:42:38.259Z"
   },
   {
    "duration": 17,
    "start_time": "2024-09-28T15:42:52.790Z"
   },
   {
    "duration": 11,
    "start_time": "2024-09-28T15:43:18.913Z"
   },
   {
    "duration": 1367,
    "start_time": "2024-09-29T11:36:54.765Z"
   },
   {
    "duration": 2,
    "start_time": "2024-09-29T11:36:56.134Z"
   },
   {
    "duration": 12,
    "start_time": "2024-09-29T11:36:56.138Z"
   },
   {
    "duration": 241,
    "start_time": "2024-09-29T11:36:56.152Z"
   },
   {
    "duration": 5,
    "start_time": "2024-09-29T11:36:56.395Z"
   },
   {
    "duration": 20,
    "start_time": "2024-09-29T11:36:58.841Z"
   },
   {
    "duration": 3,
    "start_time": "2024-09-29T11:37:50.618Z"
   },
   {
    "duration": 6,
    "start_time": "2024-09-29T11:37:50.623Z"
   },
   {
    "duration": 8,
    "start_time": "2024-09-29T11:37:50.630Z"
   },
   {
    "duration": 81,
    "start_time": "2024-09-29T11:37:50.640Z"
   },
   {
    "duration": 5,
    "start_time": "2024-09-29T11:37:50.722Z"
   },
   {
    "duration": 16,
    "start_time": "2024-09-29T11:37:53.489Z"
   },
   {
    "duration": 3,
    "start_time": "2024-09-29T11:38:01.950Z"
   },
   {
    "duration": 77,
    "start_time": "2024-09-29T11:38:05.895Z"
   },
   {
    "duration": 5,
    "start_time": "2024-09-29T11:38:06.505Z"
   },
   {
    "duration": 17,
    "start_time": "2024-09-29T11:38:07.284Z"
   },
   {
    "duration": 1214,
    "start_time": "2024-09-29T11:38:28.393Z"
   },
   {
    "duration": 2,
    "start_time": "2024-09-29T11:38:29.609Z"
   },
   {
    "duration": 9,
    "start_time": "2024-09-29T11:38:29.613Z"
   },
   {
    "duration": 85,
    "start_time": "2024-09-29T11:38:29.624Z"
   },
   {
    "duration": 5,
    "start_time": "2024-09-29T11:38:29.711Z"
   },
   {
    "duration": 23,
    "start_time": "2024-09-29T11:38:35.645Z"
   },
   {
    "duration": 4,
    "start_time": "2024-09-29T11:51:08.340Z"
   },
   {
    "duration": 15,
    "start_time": "2024-09-29T14:26:38.332Z"
   },
   {
    "duration": 3,
    "start_time": "2024-09-29T14:28:12.631Z"
   },
   {
    "duration": 2,
    "start_time": "2024-09-29T14:28:13.072Z"
   },
   {
    "duration": 79,
    "start_time": "2024-09-29T14:28:14.002Z"
   },
   {
    "duration": 5,
    "start_time": "2024-09-29T14:28:15.592Z"
   },
   {
    "duration": 17,
    "start_time": "2024-09-29T14:28:17.091Z"
   },
   {
    "duration": 7,
    "start_time": "2024-09-29T14:28:34.603Z"
   },
   {
    "duration": 155,
    "start_time": "2024-09-29T14:28:35.642Z"
   },
   {
    "duration": 6,
    "start_time": "2024-09-29T14:29:53.646Z"
   },
   {
    "duration": 17,
    "start_time": "2024-09-29T14:29:54.296Z"
   },
   {
    "duration": 71,
    "start_time": "2024-09-29T14:41:29.070Z"
   },
   {
    "duration": 10,
    "start_time": "2024-09-29T14:41:44.949Z"
   },
   {
    "duration": 5,
    "start_time": "2024-09-29T14:42:49.566Z"
   },
   {
    "duration": 17,
    "start_time": "2024-09-29T14:42:50.640Z"
   },
   {
    "duration": 5,
    "start_time": "2024-09-29T14:43:14.819Z"
   },
   {
    "duration": 16,
    "start_time": "2024-09-29T14:43:15.622Z"
   },
   {
    "duration": 5,
    "start_time": "2024-09-29T14:43:33.584Z"
   },
   {
    "duration": 17,
    "start_time": "2024-09-29T14:43:34.309Z"
   },
   {
    "duration": 3,
    "start_time": "2024-09-29T14:45:10.498Z"
   },
   {
    "duration": 79,
    "start_time": "2024-09-29T14:45:16.370Z"
   },
   {
    "duration": 11,
    "start_time": "2024-09-29T14:45:16.956Z"
   },
   {
    "duration": 19,
    "start_time": "2024-09-29T14:45:17.988Z"
   },
   {
    "duration": 7,
    "start_time": "2024-09-29T14:48:44.648Z"
   },
   {
    "duration": 4,
    "start_time": "2024-09-29T14:49:00.179Z"
   },
   {
    "duration": 78,
    "start_time": "2024-09-29T14:49:02.312Z"
   },
   {
    "duration": 5,
    "start_time": "2024-09-29T14:49:03.068Z"
   },
   {
    "duration": 18,
    "start_time": "2024-09-29T14:49:04.573Z"
   },
   {
    "duration": 7,
    "start_time": "2024-09-29T14:49:27.421Z"
   },
   {
    "duration": 23,
    "start_time": "2024-09-29T14:49:28.881Z"
   },
   {
    "duration": 4,
    "start_time": "2024-09-29T14:49:50.755Z"
   },
   {
    "duration": 82,
    "start_time": "2024-09-29T14:49:53.761Z"
   },
   {
    "duration": 7,
    "start_time": "2024-09-29T14:49:54.356Z"
   },
   {
    "duration": 25,
    "start_time": "2024-09-29T14:49:55.216Z"
   },
   {
    "duration": 2,
    "start_time": "2024-09-29T14:50:01.917Z"
   },
   {
    "duration": 3,
    "start_time": "2024-09-29T14:50:41.549Z"
   },
   {
    "duration": 78,
    "start_time": "2024-09-29T14:50:43.579Z"
   },
   {
    "duration": 8,
    "start_time": "2024-09-29T14:50:44.468Z"
   },
   {
    "duration": 17,
    "start_time": "2024-09-29T14:50:45.403Z"
   },
   {
    "duration": 3,
    "start_time": "2024-09-29T14:52:58.461Z"
   },
   {
    "duration": 80,
    "start_time": "2024-09-29T14:53:00.164Z"
   },
   {
    "duration": 7,
    "start_time": "2024-09-29T14:53:00.806Z"
   },
   {
    "duration": 23,
    "start_time": "2024-09-29T14:53:01.585Z"
   },
   {
    "duration": 3,
    "start_time": "2024-09-29T14:53:12.819Z"
   },
   {
    "duration": 78,
    "start_time": "2024-09-29T14:53:14.144Z"
   },
   {
    "duration": 8,
    "start_time": "2024-09-29T14:53:15.081Z"
   },
   {
    "duration": 17,
    "start_time": "2024-09-29T14:53:16.557Z"
   },
   {
    "duration": 1159,
    "start_time": "2024-09-29T14:53:32.275Z"
   },
   {
    "duration": 2,
    "start_time": "2024-09-29T14:53:33.436Z"
   },
   {
    "duration": 88,
    "start_time": "2024-09-29T14:53:33.445Z"
   },
   {
    "duration": 5,
    "start_time": "2024-09-29T14:53:33.535Z"
   },
   {
    "duration": 25,
    "start_time": "2024-09-29T14:53:35.648Z"
   },
   {
    "duration": 52,
    "start_time": "2024-09-29T14:53:46.566Z"
   },
   {
    "duration": 3,
    "start_time": "2024-09-29T14:54:18.424Z"
   },
   {
    "duration": 4,
    "start_time": "2024-09-29T14:54:35.175Z"
   },
   {
    "duration": 72,
    "start_time": "2024-09-29T14:54:36.224Z"
   },
   {
    "duration": 4,
    "start_time": "2024-09-29T14:57:09.016Z"
   },
   {
    "duration": 80,
    "start_time": "2024-09-29T14:57:10.171Z"
   },
   {
    "duration": 11,
    "start_time": "2024-09-29T14:57:11.153Z"
   },
   {
    "duration": 22,
    "start_time": "2024-09-29T14:57:12.122Z"
   },
   {
    "duration": 4,
    "start_time": "2024-09-29T14:57:28.667Z"
   },
   {
    "duration": 81,
    "start_time": "2024-09-29T14:57:29.652Z"
   },
   {
    "duration": 6,
    "start_time": "2024-09-29T14:57:30.143Z"
   },
   {
    "duration": 26,
    "start_time": "2024-09-29T14:57:30.952Z"
   },
   {
    "duration": 3,
    "start_time": "2024-09-29T14:57:42.408Z"
   },
   {
    "duration": 81,
    "start_time": "2024-09-29T14:57:43.487Z"
   },
   {
    "duration": 4,
    "start_time": "2024-09-29T14:57:44.053Z"
   },
   {
    "duration": 19,
    "start_time": "2024-09-29T14:57:44.783Z"
   },
   {
    "duration": 108,
    "start_time": "2024-09-29T15:00:59.367Z"
   },
   {
    "duration": 4,
    "start_time": "2024-09-29T15:02:41.632Z"
   },
   {
    "duration": 77,
    "start_time": "2024-09-29T15:02:42.701Z"
   },
   {
    "duration": 5,
    "start_time": "2024-09-29T15:02:43.202Z"
   },
   {
    "duration": 15,
    "start_time": "2024-09-29T15:02:44.260Z"
   },
   {
    "duration": 56,
    "start_time": "2024-09-29T15:03:40.935Z"
   },
   {
    "duration": 73,
    "start_time": "2024-09-29T15:03:54.985Z"
   },
   {
    "duration": 57,
    "start_time": "2024-09-29T15:05:21.055Z"
   },
   {
    "duration": 59,
    "start_time": "2024-09-29T15:07:19.619Z"
   },
   {
    "duration": 7,
    "start_time": "2024-09-29T16:01:42.496Z"
   },
   {
    "duration": 20,
    "start_time": "2024-09-29T16:01:42.978Z"
   },
   {
    "duration": 26,
    "start_time": "2024-09-29T16:02:24.147Z"
   },
   {
    "duration": 5,
    "start_time": "2024-09-29T16:02:47.966Z"
   },
   {
    "duration": 24,
    "start_time": "2024-09-29T16:02:48.706Z"
   },
   {
    "duration": 4,
    "start_time": "2024-09-29T16:03:40.537Z"
   },
   {
    "duration": 21,
    "start_time": "2024-09-29T16:03:40.543Z"
   },
   {
    "duration": 83,
    "start_time": "2024-09-29T16:03:40.566Z"
   },
   {
    "duration": 9,
    "start_time": "2024-09-29T16:03:40.653Z"
   },
   {
    "duration": 20,
    "start_time": "2024-09-29T16:03:40.665Z"
   },
   {
    "duration": 17,
    "start_time": "2024-09-29T16:03:40.686Z"
   },
   {
    "duration": 45,
    "start_time": "2024-09-29T16:03:40.705Z"
   },
   {
    "duration": 8,
    "start_time": "2024-09-29T16:03:40.758Z"
   },
   {
    "duration": 15,
    "start_time": "2024-09-29T16:03:40.768Z"
   },
   {
    "duration": 7,
    "start_time": "2024-09-29T16:03:40.785Z"
   },
   {
    "duration": 18,
    "start_time": "2024-09-29T16:03:40.793Z"
   },
   {
    "duration": 6,
    "start_time": "2024-09-29T16:03:40.813Z"
   },
   {
    "duration": 5,
    "start_time": "2024-09-29T16:03:40.822Z"
   },
   {
    "duration": 5,
    "start_time": "2024-09-29T16:03:40.849Z"
   },
   {
    "duration": 10,
    "start_time": "2024-09-29T16:03:40.858Z"
   },
   {
    "duration": 5,
    "start_time": "2024-09-29T16:03:40.871Z"
   },
   {
    "duration": 15,
    "start_time": "2024-09-29T16:03:40.878Z"
   },
   {
    "duration": 21,
    "start_time": "2024-09-29T16:03:40.895Z"
   },
   {
    "duration": 8,
    "start_time": "2024-09-29T16:03:40.918Z"
   },
   {
    "duration": 21,
    "start_time": "2024-09-29T16:03:40.949Z"
   },
   {
    "duration": 22,
    "start_time": "2024-09-29T16:03:40.972Z"
   },
   {
    "duration": 10,
    "start_time": "2024-09-29T16:03:40.996Z"
   },
   {
    "duration": 5,
    "start_time": "2024-09-29T16:03:41.008Z"
   },
   {
    "duration": 15,
    "start_time": "2024-09-29T16:03:41.015Z"
   },
   {
    "duration": 13,
    "start_time": "2024-09-29T16:03:41.031Z"
   },
   {
    "duration": 13,
    "start_time": "2024-09-29T16:03:41.052Z"
   },
   {
    "duration": 12,
    "start_time": "2024-09-29T16:03:41.067Z"
   },
   {
    "duration": 3,
    "start_time": "2024-09-29T16:03:41.081Z"
   },
   {
    "duration": 26,
    "start_time": "2024-09-29T16:03:41.085Z"
   },
   {
    "duration": 18,
    "start_time": "2024-09-29T16:03:41.113Z"
   },
   {
    "duration": 28,
    "start_time": "2024-09-29T16:03:41.132Z"
   },
   {
    "duration": 21,
    "start_time": "2024-09-29T16:03:41.164Z"
   },
   {
    "duration": 13,
    "start_time": "2024-09-29T16:03:41.187Z"
   },
   {
    "duration": 37,
    "start_time": "2024-09-29T16:03:41.202Z"
   },
   {
    "duration": 523,
    "start_time": "2024-09-29T16:03:41.240Z"
   },
   {
    "duration": 21,
    "start_time": "2024-09-29T16:03:41.765Z"
   },
   {
    "duration": 411,
    "start_time": "2024-09-29T16:03:41.789Z"
   },
   {
    "duration": 7,
    "start_time": "2024-09-29T16:03:42.202Z"
   },
   {
    "duration": 400,
    "start_time": "2024-09-29T16:03:42.210Z"
   },
   {
    "duration": 10,
    "start_time": "2024-09-29T16:03:42.612Z"
   },
   {
    "duration": 10,
    "start_time": "2024-09-29T16:03:42.626Z"
   },
   {
    "duration": 15,
    "start_time": "2024-09-29T16:03:42.645Z"
   },
   {
    "duration": 15,
    "start_time": "2024-09-29T16:03:42.665Z"
   },
   {
    "duration": 13,
    "start_time": "2024-09-29T16:03:42.682Z"
   },
   {
    "duration": 246,
    "start_time": "2024-09-29T16:03:49.989Z"
   },
   {
    "duration": 3,
    "start_time": "2024-09-29T16:04:14.711Z"
   },
   {
    "duration": 4,
    "start_time": "2024-09-29T16:04:22.117Z"
   },
   {
    "duration": 21,
    "start_time": "2024-09-29T16:04:22.123Z"
   },
   {
    "duration": 90,
    "start_time": "2024-09-29T16:04:22.148Z"
   },
   {
    "duration": 5,
    "start_time": "2024-09-29T16:04:22.241Z"
   },
   {
    "duration": 29,
    "start_time": "2024-09-29T16:04:22.248Z"
   },
   {
    "duration": 4,
    "start_time": "2024-09-29T16:04:49.054Z"
   },
   {
    "duration": 15,
    "start_time": "2024-09-29T16:04:49.061Z"
   },
   {
    "duration": 88,
    "start_time": "2024-09-29T16:04:49.079Z"
   },
   {
    "duration": 4,
    "start_time": "2024-09-29T16:04:49.169Z"
   },
   {
    "duration": 18,
    "start_time": "2024-09-29T16:04:49.176Z"
   },
   {
    "duration": 19,
    "start_time": "2024-09-29T16:04:49.195Z"
   },
   {
    "duration": 32,
    "start_time": "2024-09-29T16:04:49.215Z"
   },
   {
    "duration": 26,
    "start_time": "2024-09-29T16:04:49.248Z"
   },
   {
    "duration": 17,
    "start_time": "2024-09-29T16:04:49.276Z"
   },
   {
    "duration": 27,
    "start_time": "2024-09-29T16:04:49.295Z"
   },
   {
    "duration": 39,
    "start_time": "2024-09-29T16:04:49.324Z"
   },
   {
    "duration": 4,
    "start_time": "2024-09-29T16:04:49.364Z"
   },
   {
    "duration": 4,
    "start_time": "2024-09-29T16:04:49.371Z"
   },
   {
    "duration": 7,
    "start_time": "2024-09-29T16:04:49.377Z"
   },
   {
    "duration": 4,
    "start_time": "2024-09-29T16:04:49.386Z"
   },
   {
    "duration": 6,
    "start_time": "2024-09-29T16:04:49.392Z"
   },
   {
    "duration": 11,
    "start_time": "2024-09-29T16:04:49.399Z"
   },
   {
    "duration": 17,
    "start_time": "2024-09-29T16:04:49.412Z"
   },
   {
    "duration": 19,
    "start_time": "2024-09-29T16:04:49.431Z"
   },
   {
    "duration": 9,
    "start_time": "2024-09-29T16:04:49.454Z"
   },
   {
    "duration": 5,
    "start_time": "2024-09-29T16:04:49.465Z"
   },
   {
    "duration": 7,
    "start_time": "2024-09-29T16:04:49.472Z"
   },
   {
    "duration": 5,
    "start_time": "2024-09-29T16:04:49.481Z"
   },
   {
    "duration": 13,
    "start_time": "2024-09-29T16:04:49.487Z"
   },
   {
    "duration": 4,
    "start_time": "2024-09-29T16:04:49.502Z"
   },
   {
    "duration": 8,
    "start_time": "2024-09-29T16:04:49.508Z"
   },
   {
    "duration": 43,
    "start_time": "2024-09-29T16:04:49.517Z"
   },
   {
    "duration": 4,
    "start_time": "2024-09-29T16:04:49.562Z"
   },
   {
    "duration": 16,
    "start_time": "2024-09-29T16:04:49.568Z"
   },
   {
    "duration": 7,
    "start_time": "2024-09-29T16:04:49.586Z"
   },
   {
    "duration": 8,
    "start_time": "2024-09-29T16:04:49.595Z"
   },
   {
    "duration": 4,
    "start_time": "2024-09-29T16:04:49.604Z"
   },
   {
    "duration": 6,
    "start_time": "2024-09-29T16:04:49.610Z"
   },
   {
    "duration": 25,
    "start_time": "2024-09-29T16:04:49.650Z"
   },
   {
    "duration": 402,
    "start_time": "2024-09-29T16:04:49.677Z"
   },
   {
    "duration": 21,
    "start_time": "2024-09-29T16:04:50.081Z"
   },
   {
    "duration": 395,
    "start_time": "2024-09-29T16:04:50.106Z"
   },
   {
    "duration": 7,
    "start_time": "2024-09-29T16:04:50.503Z"
   },
   {
    "duration": 378,
    "start_time": "2024-09-29T16:04:50.511Z"
   },
   {
    "duration": 9,
    "start_time": "2024-09-29T16:04:50.891Z"
   },
   {
    "duration": 18,
    "start_time": "2024-09-29T16:04:50.902Z"
   },
   {
    "duration": 51,
    "start_time": "2024-09-29T16:04:50.922Z"
   },
   {
    "duration": 25,
    "start_time": "2024-09-29T16:04:50.976Z"
   },
   {
    "duration": 22,
    "start_time": "2024-09-29T16:04:51.003Z"
   },
   {
    "duration": 337,
    "start_time": "2024-09-29T16:04:53.687Z"
   },
   {
    "duration": 1160,
    "start_time": "2024-09-29T16:05:39.971Z"
   },
   {
    "duration": 3,
    "start_time": "2024-09-29T16:05:41.134Z"
   },
   {
    "duration": 91,
    "start_time": "2024-09-29T16:05:41.139Z"
   },
   {
    "duration": 6,
    "start_time": "2024-09-29T16:05:41.233Z"
   },
   {
    "duration": 31,
    "start_time": "2024-09-29T16:05:41.241Z"
   },
   {
    "duration": 20,
    "start_time": "2024-09-29T16:05:41.274Z"
   },
   {
    "duration": 27,
    "start_time": "2024-09-29T16:05:41.296Z"
   },
   {
    "duration": 27,
    "start_time": "2024-09-29T16:05:41.325Z"
   },
   {
    "duration": 22,
    "start_time": "2024-09-29T16:05:41.354Z"
   },
   {
    "duration": 6,
    "start_time": "2024-09-29T16:05:41.380Z"
   },
   {
    "duration": 11,
    "start_time": "2024-09-29T16:05:41.388Z"
   },
   {
    "duration": 10,
    "start_time": "2024-09-29T16:05:41.401Z"
   },
   {
    "duration": 5,
    "start_time": "2024-09-29T16:05:41.413Z"
   },
   {
    "duration": 40,
    "start_time": "2024-09-29T16:05:41.420Z"
   },
   {
    "duration": 5,
    "start_time": "2024-09-29T16:05:41.465Z"
   },
   {
    "duration": 12,
    "start_time": "2024-09-29T16:05:41.472Z"
   },
   {
    "duration": 3,
    "start_time": "2024-09-29T16:05:41.486Z"
   },
   {
    "duration": 64,
    "start_time": "2024-09-29T16:05:41.491Z"
   },
   {
    "duration": 9,
    "start_time": "2024-09-29T16:05:41.560Z"
   },
   {
    "duration": 11,
    "start_time": "2024-09-29T16:05:41.571Z"
   },
   {
    "duration": 6,
    "start_time": "2024-09-29T16:05:41.584Z"
   },
   {
    "duration": 6,
    "start_time": "2024-09-29T16:05:41.591Z"
   },
   {
    "duration": 11,
    "start_time": "2024-09-29T16:05:41.599Z"
   },
   {
    "duration": 19,
    "start_time": "2024-09-29T16:05:41.612Z"
   },
   {
    "duration": 15,
    "start_time": "2024-09-29T16:05:41.646Z"
   },
   {
    "duration": 7,
    "start_time": "2024-09-29T16:05:41.667Z"
   },
   {
    "duration": 10,
    "start_time": "2024-09-29T16:05:41.676Z"
   },
   {
    "duration": 4,
    "start_time": "2024-09-29T16:05:41.690Z"
   },
   {
    "duration": 14,
    "start_time": "2024-09-29T16:05:41.696Z"
   },
   {
    "duration": 39,
    "start_time": "2024-09-29T16:05:41.712Z"
   },
   {
    "duration": 15,
    "start_time": "2024-09-29T16:05:41.753Z"
   },
   {
    "duration": 4,
    "start_time": "2024-09-29T16:05:41.771Z"
   },
   {
    "duration": 7,
    "start_time": "2024-09-29T16:05:41.777Z"
   },
   {
    "duration": 19,
    "start_time": "2024-09-29T16:05:41.786Z"
   },
   {
    "duration": 522,
    "start_time": "2024-09-29T16:05:41.807Z"
   },
   {
    "duration": 22,
    "start_time": "2024-09-29T16:05:42.330Z"
   },
   {
    "duration": 429,
    "start_time": "2024-09-29T16:05:42.353Z"
   },
   {
    "duration": 8,
    "start_time": "2024-09-29T16:05:42.783Z"
   },
   {
    "duration": 410,
    "start_time": "2024-09-29T16:05:42.793Z"
   },
   {
    "duration": 9,
    "start_time": "2024-09-29T16:05:43.205Z"
   },
   {
    "duration": 47,
    "start_time": "2024-09-29T16:05:43.216Z"
   },
   {
    "duration": 7,
    "start_time": "2024-09-29T16:05:43.265Z"
   },
   {
    "duration": 12,
    "start_time": "2024-09-29T16:05:43.274Z"
   },
   {
    "duration": 12,
    "start_time": "2024-09-29T16:05:43.287Z"
   },
   {
    "duration": 289,
    "start_time": "2024-09-29T16:05:45.099Z"
   },
   {
    "duration": 1191,
    "start_time": "2024-09-29T16:06:43.596Z"
   },
   {
    "duration": 3,
    "start_time": "2024-09-29T16:06:44.789Z"
   },
   {
    "duration": 89,
    "start_time": "2024-09-29T16:06:44.793Z"
   },
   {
    "duration": 5,
    "start_time": "2024-09-29T16:06:44.884Z"
   },
   {
    "duration": 28,
    "start_time": "2024-09-29T16:06:44.891Z"
   },
   {
    "duration": 17,
    "start_time": "2024-09-29T16:06:44.920Z"
   },
   {
    "duration": 26,
    "start_time": "2024-09-29T16:06:44.939Z"
   },
   {
    "duration": 7,
    "start_time": "2024-09-29T16:06:44.967Z"
   },
   {
    "duration": 15,
    "start_time": "2024-09-29T16:06:44.976Z"
   },
   {
    "duration": 5,
    "start_time": "2024-09-29T16:06:44.993Z"
   },
   {
    "duration": 19,
    "start_time": "2024-09-29T16:06:45.000Z"
   },
   {
    "duration": 45,
    "start_time": "2024-09-29T16:06:45.021Z"
   },
   {
    "duration": 24,
    "start_time": "2024-09-29T16:06:45.068Z"
   },
   {
    "duration": 7,
    "start_time": "2024-09-29T16:06:45.096Z"
   },
   {
    "duration": 18,
    "start_time": "2024-09-29T16:06:45.105Z"
   },
   {
    "duration": 8,
    "start_time": "2024-09-29T16:06:45.125Z"
   },
   {
    "duration": 27,
    "start_time": "2024-09-29T16:06:45.135Z"
   },
   {
    "duration": 54,
    "start_time": "2024-09-29T16:06:45.164Z"
   },
   {
    "duration": 7,
    "start_time": "2024-09-29T16:06:45.221Z"
   },
   {
    "duration": 33,
    "start_time": "2024-09-29T16:06:45.230Z"
   },
   {
    "duration": 5,
    "start_time": "2024-09-29T16:06:45.265Z"
   },
   {
    "duration": 13,
    "start_time": "2024-09-29T16:06:45.272Z"
   },
   {
    "duration": 11,
    "start_time": "2024-09-29T16:06:45.287Z"
   },
   {
    "duration": 22,
    "start_time": "2024-09-29T16:06:45.300Z"
   },
   {
    "duration": 5,
    "start_time": "2024-09-29T16:06:45.324Z"
   },
   {
    "duration": 33,
    "start_time": "2024-09-29T16:06:45.331Z"
   },
   {
    "duration": 12,
    "start_time": "2024-09-29T16:06:45.366Z"
   },
   {
    "duration": 3,
    "start_time": "2024-09-29T16:06:45.380Z"
   },
   {
    "duration": 13,
    "start_time": "2024-09-29T16:06:45.385Z"
   },
   {
    "duration": 15,
    "start_time": "2024-09-29T16:06:45.400Z"
   },
   {
    "duration": 8,
    "start_time": "2024-09-29T16:06:45.417Z"
   },
   {
    "duration": 9,
    "start_time": "2024-09-29T16:06:45.445Z"
   },
   {
    "duration": 11,
    "start_time": "2024-09-29T16:06:45.456Z"
   },
   {
    "duration": 19,
    "start_time": "2024-09-29T16:06:45.469Z"
   },
   {
    "duration": 561,
    "start_time": "2024-09-29T16:06:45.490Z"
   },
   {
    "duration": 24,
    "start_time": "2024-09-29T16:06:46.056Z"
   },
   {
    "duration": 391,
    "start_time": "2024-09-29T16:06:46.081Z"
   },
   {
    "duration": 6,
    "start_time": "2024-09-29T16:06:46.474Z"
   },
   {
    "duration": 326,
    "start_time": "2024-09-29T16:06:46.481Z"
   },
   {
    "duration": 9,
    "start_time": "2024-09-29T16:06:46.809Z"
   },
   {
    "duration": 12,
    "start_time": "2024-09-29T16:06:46.821Z"
   },
   {
    "duration": 47,
    "start_time": "2024-09-29T16:06:46.835Z"
   },
   {
    "duration": 14,
    "start_time": "2024-09-29T16:06:46.884Z"
   },
   {
    "duration": 13,
    "start_time": "2024-09-29T16:06:46.899Z"
   },
   {
    "duration": 247,
    "start_time": "2024-09-29T16:06:48.812Z"
   },
   {
    "duration": 26,
    "start_time": "2024-09-29T16:39:02.270Z"
   },
   {
    "duration": 458,
    "start_time": "2024-09-29T16:39:11.643Z"
   },
   {
    "duration": 28,
    "start_time": "2024-09-29T16:39:27.023Z"
   },
   {
    "duration": 429,
    "start_time": "2024-09-29T16:39:31.394Z"
   },
   {
    "duration": 9,
    "start_time": "2024-09-29T16:40:18.510Z"
   },
   {
    "duration": 1444,
    "start_time": "2024-09-30T12:31:53.985Z"
   },
   {
    "duration": 3,
    "start_time": "2024-09-30T12:31:55.431Z"
   },
   {
    "duration": 236,
    "start_time": "2024-09-30T12:31:55.436Z"
   },
   {
    "duration": 6,
    "start_time": "2024-09-30T12:31:55.673Z"
   },
   {
    "duration": 47,
    "start_time": "2024-09-30T12:31:55.681Z"
   },
   {
    "duration": 36,
    "start_time": "2024-09-30T12:31:55.730Z"
   },
   {
    "duration": 40,
    "start_time": "2024-09-30T12:31:55.767Z"
   },
   {
    "duration": 13,
    "start_time": "2024-09-30T12:31:55.809Z"
   },
   {
    "duration": 12,
    "start_time": "2024-09-30T12:31:55.824Z"
   },
   {
    "duration": 11,
    "start_time": "2024-09-30T12:31:55.838Z"
   },
   {
    "duration": 11,
    "start_time": "2024-09-30T12:31:55.851Z"
   },
   {
    "duration": 19,
    "start_time": "2024-09-30T12:31:55.865Z"
   },
   {
    "duration": 10,
    "start_time": "2024-09-30T12:31:55.886Z"
   },
   {
    "duration": 4,
    "start_time": "2024-09-30T12:31:55.900Z"
   },
   {
    "duration": 15,
    "start_time": "2024-09-30T12:31:55.906Z"
   },
   {
    "duration": 11,
    "start_time": "2024-09-30T12:31:55.922Z"
   },
   {
    "duration": 11,
    "start_time": "2024-09-30T12:31:55.935Z"
   },
   {
    "duration": 56,
    "start_time": "2024-09-30T12:31:55.947Z"
   },
   {
    "duration": 17,
    "start_time": "2024-09-30T12:31:56.005Z"
   },
   {
    "duration": 9,
    "start_time": "2024-09-30T12:31:56.024Z"
   },
   {
    "duration": 15,
    "start_time": "2024-09-30T12:31:56.034Z"
   },
   {
    "duration": 4,
    "start_time": "2024-09-30T12:31:56.051Z"
   },
   {
    "duration": 10,
    "start_time": "2024-09-30T12:31:56.057Z"
   },
   {
    "duration": 69,
    "start_time": "2024-09-30T12:31:56.069Z"
   },
   {
    "duration": 4,
    "start_time": "2024-09-30T12:31:56.140Z"
   },
   {
    "duration": 7,
    "start_time": "2024-09-30T12:31:56.145Z"
   },
   {
    "duration": 10,
    "start_time": "2024-09-30T12:31:56.153Z"
   },
   {
    "duration": 15,
    "start_time": "2024-09-30T12:31:56.164Z"
   },
   {
    "duration": 19,
    "start_time": "2024-09-30T12:31:56.181Z"
   },
   {
    "duration": 18,
    "start_time": "2024-09-30T12:31:56.202Z"
   },
   {
    "duration": 11,
    "start_time": "2024-09-30T12:31:56.221Z"
   },
   {
    "duration": 4,
    "start_time": "2024-09-30T12:31:56.233Z"
   },
   {
    "duration": 6,
    "start_time": "2024-09-30T12:31:56.238Z"
   },
   {
    "duration": 18,
    "start_time": "2024-09-30T12:31:56.246Z"
   },
   {
    "duration": 585,
    "start_time": "2024-09-30T12:31:56.266Z"
   },
   {
    "duration": 20,
    "start_time": "2024-09-30T12:31:56.853Z"
   },
   {
    "duration": 370,
    "start_time": "2024-09-30T12:31:56.875Z"
   },
   {
    "duration": 6,
    "start_time": "2024-09-30T12:31:57.247Z"
   },
   {
    "duration": 324,
    "start_time": "2024-09-30T12:31:57.255Z"
   },
   {
    "duration": 9,
    "start_time": "2024-09-30T12:31:57.581Z"
   },
   {
    "duration": 92,
    "start_time": "2024-09-30T12:31:57.594Z"
   },
   {
    "duration": 8,
    "start_time": "2024-09-30T12:31:57.688Z"
   },
   {
    "duration": 12,
    "start_time": "2024-09-30T12:31:57.698Z"
   },
   {
    "duration": 11,
    "start_time": "2024-09-30T12:31:57.712Z"
   },
   {
    "duration": 322,
    "start_time": "2024-09-30T12:31:57.725Z"
   },
   {
    "duration": 140,
    "start_time": "2024-09-30T12:31:58.048Z"
   },
   {
    "duration": 102,
    "start_time": "2024-09-30T12:32:06.181Z"
   },
   {
    "duration": 288,
    "start_time": "2024-09-30T12:37:31.079Z"
   },
   {
    "duration": 182,
    "start_time": "2024-09-30T12:37:59.280Z"
   },
   {
    "duration": 362,
    "start_time": "2024-09-30T12:40:45.637Z"
   },
   {
    "duration": 370,
    "start_time": "2024-09-30T12:41:12.411Z"
   },
   {
    "duration": 489,
    "start_time": "2024-09-30T12:41:21.543Z"
   },
   {
    "duration": 385,
    "start_time": "2024-09-30T12:45:17.378Z"
   },
   {
    "duration": 392,
    "start_time": "2024-09-30T12:45:32.649Z"
   },
   {
    "duration": 423,
    "start_time": "2024-09-30T12:45:43.889Z"
   },
   {
    "duration": 474,
    "start_time": "2024-09-30T12:45:50.839Z"
   },
   {
    "duration": 371,
    "start_time": "2024-09-30T12:47:08.203Z"
   },
   {
    "duration": 379,
    "start_time": "2024-09-30T12:48:36.123Z"
   },
   {
    "duration": 403,
    "start_time": "2024-09-30T12:48:57.158Z"
   },
   {
    "duration": 400,
    "start_time": "2024-09-30T12:49:05.763Z"
   },
   {
    "duration": 192,
    "start_time": "2024-09-30T13:02:16.194Z"
   },
   {
    "duration": 436,
    "start_time": "2024-09-30T13:04:21.656Z"
   },
   {
    "duration": 523,
    "start_time": "2024-09-30T13:04:32.525Z"
   },
   {
    "duration": 403,
    "start_time": "2024-09-30T13:04:50.027Z"
   },
   {
    "duration": 349,
    "start_time": "2024-09-30T13:04:58.102Z"
   },
   {
    "duration": 279,
    "start_time": "2024-09-30T13:19:35.322Z"
   },
   {
    "duration": 341,
    "start_time": "2024-09-30T13:21:41.688Z"
   },
   {
    "duration": 342,
    "start_time": "2024-09-30T13:21:53.554Z"
   },
   {
    "duration": 314,
    "start_time": "2024-09-30T13:22:19.269Z"
   },
   {
    "duration": 361,
    "start_time": "2024-09-30T13:22:24.535Z"
   },
   {
    "duration": 374,
    "start_time": "2024-09-30T13:22:36.530Z"
   },
   {
    "duration": 408,
    "start_time": "2024-09-30T13:22:55.556Z"
   },
   {
    "duration": 368,
    "start_time": "2024-09-30T13:26:31.881Z"
   },
   {
    "duration": 452,
    "start_time": "2024-09-30T13:26:43.826Z"
   },
   {
    "duration": 355,
    "start_time": "2024-09-30T13:26:53.013Z"
   },
   {
    "duration": 385,
    "start_time": "2024-09-30T13:26:58.247Z"
   },
   {
    "duration": 203,
    "start_time": "2024-09-30T13:35:48.743Z"
   },
   {
    "duration": 418,
    "start_time": "2024-09-30T13:37:39.136Z"
   },
   {
    "duration": 382,
    "start_time": "2024-09-30T13:37:53.994Z"
   },
   {
    "duration": 352,
    "start_time": "2024-09-30T13:38:17.409Z"
   },
   {
    "duration": 386,
    "start_time": "2024-09-30T13:39:00.409Z"
   },
   {
    "duration": 405,
    "start_time": "2024-09-30T13:39:11.401Z"
   },
   {
    "duration": 395,
    "start_time": "2024-09-30T13:39:36.452Z"
   },
   {
    "duration": 380,
    "start_time": "2024-09-30T13:40:34.028Z"
   },
   {
    "duration": 576,
    "start_time": "2024-09-30T13:40:43.734Z"
   },
   {
    "duration": 417,
    "start_time": "2024-09-30T13:41:01.860Z"
   },
   {
    "duration": 427,
    "start_time": "2024-09-30T13:41:30.137Z"
   },
   {
    "duration": 404,
    "start_time": "2024-09-30T13:42:55.565Z"
   },
   {
    "duration": 482,
    "start_time": "2024-09-30T13:56:53.579Z"
   },
   {
    "duration": 483,
    "start_time": "2024-09-30T13:58:23.988Z"
   },
   {
    "duration": 398,
    "start_time": "2024-09-30T13:58:35.354Z"
   },
   {
    "duration": 420,
    "start_time": "2024-09-30T13:59:27.410Z"
   },
   {
    "duration": 374,
    "start_time": "2024-09-30T14:00:38.975Z"
   },
   {
    "duration": 376,
    "start_time": "2024-09-30T14:01:47.972Z"
   },
   {
    "duration": 356,
    "start_time": "2024-09-30T14:02:15.879Z"
   },
   {
    "duration": 513,
    "start_time": "2024-09-30T14:03:19.661Z"
   },
   {
    "duration": 433,
    "start_time": "2024-09-30T14:03:28.392Z"
   },
   {
    "duration": 381,
    "start_time": "2024-09-30T14:03:35.846Z"
   },
   {
    "duration": 495,
    "start_time": "2024-09-30T14:03:45.027Z"
   },
   {
    "duration": 9,
    "start_time": "2024-09-30T14:18:48.070Z"
   },
   {
    "duration": 130,
    "start_time": "2024-09-30T14:18:50.398Z"
   },
   {
    "duration": 139,
    "start_time": "2024-09-30T14:18:58.174Z"
   },
   {
    "duration": 9,
    "start_time": "2024-09-30T14:19:13.519Z"
   },
   {
    "duration": 151,
    "start_time": "2024-09-30T14:19:15.745Z"
   },
   {
    "duration": 148,
    "start_time": "2024-09-30T14:19:18.389Z"
   },
   {
    "duration": 5,
    "start_time": "2024-09-30T14:19:21.754Z"
   },
   {
    "duration": 28,
    "start_time": "2024-09-30T14:19:30.164Z"
   },
   {
    "duration": 14,
    "start_time": "2024-09-30T14:19:35.505Z"
   },
   {
    "duration": 14,
    "start_time": "2024-09-30T14:19:39.175Z"
   },
   {
    "duration": 12,
    "start_time": "2024-09-30T14:19:42.890Z"
   },
   {
    "duration": 36,
    "start_time": "2024-09-30T14:19:43.856Z"
   },
   {
    "duration": 21,
    "start_time": "2024-09-30T14:19:46.731Z"
   },
   {
    "duration": 4,
    "start_time": "2024-09-30T14:38:50.491Z"
   },
   {
    "duration": 43,
    "start_time": "2024-09-30T14:38:50.498Z"
   },
   {
    "duration": 126,
    "start_time": "2024-09-30T14:38:50.543Z"
   },
   {
    "duration": 5,
    "start_time": "2024-09-30T14:38:50.671Z"
   },
   {
    "duration": 54,
    "start_time": "2024-09-30T14:38:50.678Z"
   },
   {
    "duration": 32,
    "start_time": "2024-09-30T14:38:50.734Z"
   },
   {
    "duration": 16,
    "start_time": "2024-09-30T14:38:50.768Z"
   },
   {
    "duration": 44,
    "start_time": "2024-09-30T14:38:50.786Z"
   },
   {
    "duration": 34,
    "start_time": "2024-09-30T14:38:50.832Z"
   },
   {
    "duration": 17,
    "start_time": "2024-09-30T14:38:50.868Z"
   },
   {
    "duration": 11,
    "start_time": "2024-09-30T14:38:50.887Z"
   },
   {
    "duration": 9,
    "start_time": "2024-09-30T14:38:50.900Z"
   },
   {
    "duration": 10,
    "start_time": "2024-09-30T14:38:50.912Z"
   },
   {
    "duration": 17,
    "start_time": "2024-09-30T14:38:50.923Z"
   },
   {
    "duration": 6,
    "start_time": "2024-09-30T14:38:50.942Z"
   },
   {
    "duration": 14,
    "start_time": "2024-09-30T14:38:50.950Z"
   },
   {
    "duration": 7,
    "start_time": "2024-09-30T14:38:50.965Z"
   },
   {
    "duration": 18,
    "start_time": "2024-09-30T14:38:50.974Z"
   },
   {
    "duration": 7,
    "start_time": "2024-09-30T14:38:50.994Z"
   },
   {
    "duration": 34,
    "start_time": "2024-09-30T14:38:51.002Z"
   },
   {
    "duration": 81,
    "start_time": "2024-09-30T14:38:51.037Z"
   },
   {
    "duration": 6,
    "start_time": "2024-09-30T14:38:51.120Z"
   },
   {
    "duration": 20,
    "start_time": "2024-09-30T14:38:51.128Z"
   },
   {
    "duration": 17,
    "start_time": "2024-09-30T14:38:51.150Z"
   },
   {
    "duration": 5,
    "start_time": "2024-09-30T14:38:51.170Z"
   },
   {
    "duration": 25,
    "start_time": "2024-09-30T14:38:51.177Z"
   },
   {
    "duration": 13,
    "start_time": "2024-09-30T14:38:51.204Z"
   },
   {
    "duration": 5,
    "start_time": "2024-09-30T14:38:51.219Z"
   },
   {
    "duration": 16,
    "start_time": "2024-09-30T14:38:51.227Z"
   },
   {
    "duration": 13,
    "start_time": "2024-09-30T14:38:51.245Z"
   },
   {
    "duration": 9,
    "start_time": "2024-09-30T14:38:51.259Z"
   },
   {
    "duration": 8,
    "start_time": "2024-09-30T14:38:51.270Z"
   },
   {
    "duration": 27,
    "start_time": "2024-09-30T14:38:51.280Z"
   },
   {
    "duration": 27,
    "start_time": "2024-09-30T14:38:51.309Z"
   },
   {
    "duration": 434,
    "start_time": "2024-09-30T14:38:51.337Z"
   },
   {
    "duration": 22,
    "start_time": "2024-09-30T14:38:51.772Z"
   },
   {
    "duration": 451,
    "start_time": "2024-09-30T14:38:51.800Z"
   },
   {
    "duration": 6,
    "start_time": "2024-09-30T14:38:52.253Z"
   },
   {
    "duration": 375,
    "start_time": "2024-09-30T14:38:52.261Z"
   },
   {
    "duration": 10,
    "start_time": "2024-09-30T14:38:52.638Z"
   },
   {
    "duration": 9,
    "start_time": "2024-09-30T14:38:52.650Z"
   },
   {
    "duration": 35,
    "start_time": "2024-09-30T14:38:52.661Z"
   },
   {
    "duration": 18,
    "start_time": "2024-09-30T14:38:52.698Z"
   },
   {
    "duration": 18,
    "start_time": "2024-09-30T14:38:52.718Z"
   },
   {
    "duration": 334,
    "start_time": "2024-09-30T14:38:52.738Z"
   },
   {
    "duration": 127,
    "start_time": "2024-09-30T14:38:53.074Z"
   },
   {
    "duration": 293,
    "start_time": "2024-09-30T14:38:53.203Z"
   },
   {
    "duration": 404,
    "start_time": "2024-09-30T14:38:53.498Z"
   },
   {
    "duration": 361,
    "start_time": "2024-09-30T14:38:53.904Z"
   },
   {
    "duration": 389,
    "start_time": "2024-09-30T14:38:54.267Z"
   },
   {
    "duration": 404,
    "start_time": "2024-09-30T14:38:54.658Z"
   },
   {
    "duration": 491,
    "start_time": "2024-09-30T14:38:55.064Z"
   },
   {
    "duration": 7,
    "start_time": "2024-09-30T14:38:55.557Z"
   },
   {
    "duration": 151,
    "start_time": "2024-09-30T14:38:55.566Z"
   },
   {
    "duration": 154,
    "start_time": "2024-09-30T14:38:55.720Z"
   },
   {
    "duration": 5,
    "start_time": "2024-09-30T14:38:55.876Z"
   },
   {
    "duration": 164,
    "start_time": "2024-09-30T14:38:55.883Z"
   },
   {
    "duration": 135,
    "start_time": "2024-09-30T14:38:56.049Z"
   },
   {
    "duration": 5,
    "start_time": "2024-09-30T14:38:56.186Z"
   },
   {
    "duration": 42,
    "start_time": "2024-09-30T14:38:56.193Z"
   },
   {
    "duration": 12,
    "start_time": "2024-09-30T14:38:56.237Z"
   },
   {
    "duration": 11,
    "start_time": "2024-09-30T14:54:21.951Z"
   },
   {
    "duration": 5,
    "start_time": "2024-09-30T14:54:31.301Z"
   },
   {
    "duration": 16,
    "start_time": "2024-09-30T15:04:25.088Z"
   },
   {
    "duration": 5,
    "start_time": "2024-09-30T15:04:41.523Z"
   },
   {
    "duration": 5,
    "start_time": "2024-09-30T15:08:06.123Z"
   },
   {
    "duration": 12,
    "start_time": "2024-09-30T15:08:21.688Z"
   },
   {
    "duration": 11,
    "start_time": "2024-09-30T15:08:30.036Z"
   },
   {
    "duration": 185,
    "start_time": "2024-09-30T15:14:09.520Z"
   },
   {
    "duration": 392,
    "start_time": "2024-09-30T15:16:08.516Z"
   },
   {
    "duration": 7,
    "start_time": "2024-09-30T16:00:31.264Z"
   },
   {
    "duration": 277,
    "start_time": "2024-09-30T16:00:47.263Z"
   },
   {
    "duration": 3,
    "start_time": "2024-09-30T16:01:38.932Z"
   },
   {
    "duration": 11,
    "start_time": "2024-09-30T16:01:38.937Z"
   },
   {
    "duration": 87,
    "start_time": "2024-09-30T16:01:38.949Z"
   },
   {
    "duration": 5,
    "start_time": "2024-09-30T16:01:39.038Z"
   },
   {
    "duration": 79,
    "start_time": "2024-09-30T16:01:39.045Z"
   },
   {
    "duration": 25,
    "start_time": "2024-09-30T16:01:39.125Z"
   },
   {
    "duration": 26,
    "start_time": "2024-09-30T16:01:39.151Z"
   },
   {
    "duration": 6,
    "start_time": "2024-09-30T16:01:39.179Z"
   },
   {
    "duration": 11,
    "start_time": "2024-09-30T16:01:39.189Z"
   },
   {
    "duration": 19,
    "start_time": "2024-09-30T16:01:39.202Z"
   },
   {
    "duration": 45,
    "start_time": "2024-09-30T16:01:39.223Z"
   },
   {
    "duration": 32,
    "start_time": "2024-09-30T16:01:39.270Z"
   },
   {
    "duration": 6,
    "start_time": "2024-09-30T16:01:39.304Z"
   },
   {
    "duration": 7,
    "start_time": "2024-09-30T16:01:39.312Z"
   },
   {
    "duration": 9,
    "start_time": "2024-09-30T16:01:39.321Z"
   },
   {
    "duration": 32,
    "start_time": "2024-09-30T16:01:39.332Z"
   },
   {
    "duration": 15,
    "start_time": "2024-09-30T16:01:39.366Z"
   },
   {
    "duration": 17,
    "start_time": "2024-09-30T16:01:39.383Z"
   },
   {
    "duration": 19,
    "start_time": "2024-09-30T16:01:39.401Z"
   },
   {
    "duration": 43,
    "start_time": "2024-09-30T16:01:39.422Z"
   },
   {
    "duration": 26,
    "start_time": "2024-09-30T16:01:39.467Z"
   },
   {
    "duration": 14,
    "start_time": "2024-09-30T16:01:39.495Z"
   },
   {
    "duration": 8,
    "start_time": "2024-09-30T16:01:39.511Z"
   },
   {
    "duration": 8,
    "start_time": "2024-09-30T16:01:39.523Z"
   },
   {
    "duration": 22,
    "start_time": "2024-09-30T16:01:39.532Z"
   },
   {
    "duration": 9,
    "start_time": "2024-09-30T16:01:39.555Z"
   },
   {
    "duration": 12,
    "start_time": "2024-09-30T16:01:39.565Z"
   },
   {
    "duration": 6,
    "start_time": "2024-09-30T16:01:39.578Z"
   },
   {
    "duration": 13,
    "start_time": "2024-09-30T16:01:39.586Z"
   },
   {
    "duration": 7,
    "start_time": "2024-09-30T16:01:39.601Z"
   },
   {
    "duration": 13,
    "start_time": "2024-09-30T16:01:39.610Z"
   },
   {
    "duration": 18,
    "start_time": "2024-09-30T16:01:39.624Z"
   },
   {
    "duration": 6,
    "start_time": "2024-09-30T16:01:39.644Z"
   },
   {
    "duration": 35,
    "start_time": "2024-09-30T16:01:39.651Z"
   },
   {
    "duration": 378,
    "start_time": "2024-09-30T16:01:39.688Z"
   },
   {
    "duration": 22,
    "start_time": "2024-09-30T16:01:40.068Z"
   },
   {
    "duration": 385,
    "start_time": "2024-09-30T16:01:40.092Z"
   },
   {
    "duration": 7,
    "start_time": "2024-09-30T16:01:40.479Z"
   },
   {
    "duration": 365,
    "start_time": "2024-09-30T16:01:40.488Z"
   },
   {
    "duration": 9,
    "start_time": "2024-09-30T16:01:40.855Z"
   },
   {
    "duration": 6,
    "start_time": "2024-09-30T16:01:40.866Z"
   },
   {
    "duration": 23,
    "start_time": "2024-09-30T16:01:40.874Z"
   },
   {
    "duration": 34,
    "start_time": "2024-09-30T16:01:40.898Z"
   },
   {
    "duration": 16,
    "start_time": "2024-09-30T16:01:40.934Z"
   },
   {
    "duration": 231,
    "start_time": "2024-09-30T16:01:40.951Z"
   },
   {
    "duration": 158,
    "start_time": "2024-09-30T16:01:41.184Z"
   },
   {
    "duration": 301,
    "start_time": "2024-09-30T16:01:41.344Z"
   },
   {
    "duration": 420,
    "start_time": "2024-09-30T16:01:41.647Z"
   },
   {
    "duration": 380,
    "start_time": "2024-09-30T16:01:42.069Z"
   },
   {
    "duration": 393,
    "start_time": "2024-09-30T16:01:42.451Z"
   },
   {
    "duration": 400,
    "start_time": "2024-09-30T16:01:42.846Z"
   },
   {
    "duration": 475,
    "start_time": "2024-09-30T16:01:43.248Z"
   },
   {
    "duration": 7,
    "start_time": "2024-09-30T16:01:43.725Z"
   },
   {
    "duration": 183,
    "start_time": "2024-09-30T16:01:43.733Z"
   },
   {
    "duration": 147,
    "start_time": "2024-09-30T16:01:43.918Z"
   },
   {
    "duration": 5,
    "start_time": "2024-09-30T16:01:44.067Z"
   },
   {
    "duration": 227,
    "start_time": "2024-09-30T16:01:44.074Z"
   },
   {
    "duration": 129,
    "start_time": "2024-09-30T16:01:44.303Z"
   },
   {
    "duration": 6,
    "start_time": "2024-09-30T16:01:44.434Z"
   },
   {
    "duration": 81,
    "start_time": "2024-09-30T16:01:44.442Z"
   },
   {
    "duration": 11,
    "start_time": "2024-09-30T16:01:44.525Z"
   },
   {
    "duration": 1300,
    "start_time": "2024-09-30T16:01:44.537Z"
   },
   {
    "duration": 0,
    "start_time": "2024-09-30T16:01:45.838Z"
   },
   {
    "duration": 0,
    "start_time": "2024-09-30T16:01:45.840Z"
   },
   {
    "duration": 0,
    "start_time": "2024-09-30T16:01:45.841Z"
   },
   {
    "duration": 0,
    "start_time": "2024-09-30T16:01:45.842Z"
   },
   {
    "duration": 0,
    "start_time": "2024-09-30T16:01:45.843Z"
   },
   {
    "duration": 5,
    "start_time": "2024-09-30T16:01:53.109Z"
   },
   {
    "duration": 160,
    "start_time": "2024-09-30T16:01:55.480Z"
   },
   {
    "duration": 4,
    "start_time": "2024-09-30T16:02:58.099Z"
   },
   {
    "duration": 5,
    "start_time": "2024-09-30T16:02:58.105Z"
   },
   {
    "duration": 77,
    "start_time": "2024-09-30T16:02:58.111Z"
   },
   {
    "duration": 5,
    "start_time": "2024-09-30T16:02:58.190Z"
   },
   {
    "duration": 22,
    "start_time": "2024-09-30T16:02:58.196Z"
   },
   {
    "duration": 17,
    "start_time": "2024-09-30T16:02:58.220Z"
   },
   {
    "duration": 16,
    "start_time": "2024-09-30T16:02:58.239Z"
   },
   {
    "duration": 11,
    "start_time": "2024-09-30T16:02:58.257Z"
   },
   {
    "duration": 30,
    "start_time": "2024-09-30T16:02:58.271Z"
   },
   {
    "duration": 18,
    "start_time": "2024-09-30T16:02:58.303Z"
   },
   {
    "duration": 11,
    "start_time": "2024-09-30T16:02:58.323Z"
   },
   {
    "duration": 8,
    "start_time": "2024-09-30T16:02:58.336Z"
   },
   {
    "duration": 15,
    "start_time": "2024-09-30T16:02:58.346Z"
   },
   {
    "duration": 6,
    "start_time": "2024-09-30T16:02:58.363Z"
   },
   {
    "duration": 8,
    "start_time": "2024-09-30T16:02:58.371Z"
   },
   {
    "duration": 17,
    "start_time": "2024-09-30T16:02:58.381Z"
   },
   {
    "duration": 98,
    "start_time": "2024-09-30T16:02:58.400Z"
   },
   {
    "duration": 20,
    "start_time": "2024-09-30T16:02:58.500Z"
   },
   {
    "duration": 24,
    "start_time": "2024-09-30T16:02:58.522Z"
   },
   {
    "duration": 16,
    "start_time": "2024-09-30T16:02:58.548Z"
   },
   {
    "duration": 11,
    "start_time": "2024-09-30T16:02:58.565Z"
   },
   {
    "duration": 7,
    "start_time": "2024-09-30T16:02:58.578Z"
   },
   {
    "duration": 6,
    "start_time": "2024-09-30T16:02:58.586Z"
   },
   {
    "duration": 18,
    "start_time": "2024-09-30T16:02:58.595Z"
   },
   {
    "duration": 8,
    "start_time": "2024-09-30T16:02:58.614Z"
   },
   {
    "duration": 24,
    "start_time": "2024-09-30T16:02:58.624Z"
   },
   {
    "duration": 12,
    "start_time": "2024-09-30T16:02:58.649Z"
   },
   {
    "duration": 20,
    "start_time": "2024-09-30T16:02:58.662Z"
   },
   {
    "duration": 11,
    "start_time": "2024-09-30T16:02:58.684Z"
   },
   {
    "duration": 6,
    "start_time": "2024-09-30T16:02:58.697Z"
   },
   {
    "duration": 9,
    "start_time": "2024-09-30T16:02:58.705Z"
   },
   {
    "duration": 6,
    "start_time": "2024-09-30T16:02:58.715Z"
   },
   {
    "duration": 4,
    "start_time": "2024-09-30T16:02:58.723Z"
   },
   {
    "duration": 28,
    "start_time": "2024-09-30T16:02:58.728Z"
   },
   {
    "duration": 422,
    "start_time": "2024-09-30T16:02:58.758Z"
   },
   {
    "duration": 20,
    "start_time": "2024-09-30T16:02:59.182Z"
   },
   {
    "duration": 400,
    "start_time": "2024-09-30T16:02:59.204Z"
   },
   {
    "duration": 6,
    "start_time": "2024-09-30T16:02:59.606Z"
   },
   {
    "duration": 338,
    "start_time": "2024-09-30T16:02:59.620Z"
   },
   {
    "duration": 8,
    "start_time": "2024-09-30T16:02:59.959Z"
   },
   {
    "duration": 5,
    "start_time": "2024-09-30T16:02:59.969Z"
   },
   {
    "duration": 21,
    "start_time": "2024-09-30T16:02:59.976Z"
   },
   {
    "duration": 26,
    "start_time": "2024-09-30T16:02:59.999Z"
   },
   {
    "duration": 36,
    "start_time": "2024-09-30T16:03:00.027Z"
   },
   {
    "duration": 301,
    "start_time": "2024-09-30T16:03:00.065Z"
   },
   {
    "duration": 153,
    "start_time": "2024-09-30T16:03:00.368Z"
   },
   {
    "duration": 292,
    "start_time": "2024-09-30T16:03:00.523Z"
   },
   {
    "duration": 392,
    "start_time": "2024-09-30T16:03:00.817Z"
   },
   {
    "duration": 369,
    "start_time": "2024-09-30T16:03:01.211Z"
   },
   {
    "duration": 386,
    "start_time": "2024-09-30T16:03:01.582Z"
   },
   {
    "duration": 394,
    "start_time": "2024-09-30T16:03:01.970Z"
   },
   {
    "duration": 565,
    "start_time": "2024-09-30T16:03:02.365Z"
   },
   {
    "duration": 6,
    "start_time": "2024-09-30T16:03:02.932Z"
   },
   {
    "duration": 169,
    "start_time": "2024-09-30T16:03:02.940Z"
   },
   {
    "duration": 129,
    "start_time": "2024-09-30T16:03:03.111Z"
   },
   {
    "duration": 5,
    "start_time": "2024-09-30T16:03:03.242Z"
   },
   {
    "duration": 159,
    "start_time": "2024-09-30T16:03:03.248Z"
   },
   {
    "duration": 127,
    "start_time": "2024-09-30T16:03:03.409Z"
   },
   {
    "duration": 5,
    "start_time": "2024-09-30T16:03:03.537Z"
   },
   {
    "duration": 53,
    "start_time": "2024-09-30T16:03:03.544Z"
   },
   {
    "duration": 20,
    "start_time": "2024-09-30T16:03:03.599Z"
   },
   {
    "duration": 1238,
    "start_time": "2024-09-30T16:03:03.621Z"
   },
   {
    "duration": 0,
    "start_time": "2024-09-30T16:03:04.860Z"
   },
   {
    "duration": 0,
    "start_time": "2024-09-30T16:03:04.861Z"
   },
   {
    "duration": 0,
    "start_time": "2024-09-30T16:03:04.862Z"
   },
   {
    "duration": 0,
    "start_time": "2024-09-30T16:03:04.863Z"
   },
   {
    "duration": 0,
    "start_time": "2024-09-30T16:03:04.864Z"
   },
   {
    "duration": 5,
    "start_time": "2024-09-30T16:03:07.553Z"
   },
   {
    "duration": 169,
    "start_time": "2024-09-30T16:03:09.293Z"
   },
   {
    "duration": 371,
    "start_time": "2024-09-30T16:03:30.114Z"
   },
   {
    "duration": 7,
    "start_time": "2024-09-30T16:07:42.255Z"
   },
   {
    "duration": 111,
    "start_time": "2024-09-30T16:07:43.905Z"
   },
   {
    "duration": 7,
    "start_time": "2024-09-30T16:07:57.601Z"
   },
   {
    "duration": 128,
    "start_time": "2024-09-30T16:07:58.566Z"
   },
   {
    "duration": 373,
    "start_time": "2024-09-30T16:12:30.189Z"
   },
   {
    "duration": 398,
    "start_time": "2024-09-30T16:13:11.931Z"
   },
   {
    "duration": 381,
    "start_time": "2024-09-30T16:18:34.151Z"
   },
   {
    "duration": 1267,
    "start_time": "2024-10-01T09:53:39.574Z"
   },
   {
    "duration": 2,
    "start_time": "2024-10-01T09:53:40.843Z"
   },
   {
    "duration": 235,
    "start_time": "2024-10-01T09:53:40.846Z"
   },
   {
    "duration": 5,
    "start_time": "2024-10-01T09:53:41.083Z"
   },
   {
    "duration": 35,
    "start_time": "2024-10-01T09:53:41.090Z"
   },
   {
    "duration": 14,
    "start_time": "2024-10-01T09:53:41.126Z"
   },
   {
    "duration": 13,
    "start_time": "2024-10-01T09:53:41.141Z"
   },
   {
    "duration": 5,
    "start_time": "2024-10-01T09:53:41.155Z"
   },
   {
    "duration": 24,
    "start_time": "2024-10-01T09:53:41.161Z"
   },
   {
    "duration": 12,
    "start_time": "2024-10-01T09:53:41.188Z"
   },
   {
    "duration": 11,
    "start_time": "2024-10-01T09:53:41.201Z"
   },
   {
    "duration": 5,
    "start_time": "2024-10-01T09:53:41.214Z"
   },
   {
    "duration": 66,
    "start_time": "2024-10-01T09:53:41.221Z"
   },
   {
    "duration": 14,
    "start_time": "2024-10-01T09:53:41.289Z"
   },
   {
    "duration": 24,
    "start_time": "2024-10-01T09:53:41.305Z"
   },
   {
    "duration": 9,
    "start_time": "2024-10-01T09:53:41.330Z"
   },
   {
    "duration": 6,
    "start_time": "2024-10-01T09:53:41.341Z"
   },
   {
    "duration": 54,
    "start_time": "2024-10-01T09:53:41.349Z"
   },
   {
    "duration": 7,
    "start_time": "2024-10-01T09:53:41.405Z"
   },
   {
    "duration": 15,
    "start_time": "2024-10-01T09:53:41.413Z"
   },
   {
    "duration": 15,
    "start_time": "2024-10-01T09:53:41.429Z"
   },
   {
    "duration": 6,
    "start_time": "2024-10-01T09:53:41.445Z"
   },
   {
    "duration": 7,
    "start_time": "2024-10-01T09:53:41.452Z"
   },
   {
    "duration": 75,
    "start_time": "2024-10-01T09:53:41.461Z"
   },
   {
    "duration": 12,
    "start_time": "2024-10-01T09:53:41.537Z"
   },
   {
    "duration": 10,
    "start_time": "2024-10-01T09:53:41.550Z"
   },
   {
    "duration": 8,
    "start_time": "2024-10-01T09:53:41.561Z"
   },
   {
    "duration": 19,
    "start_time": "2024-10-01T09:53:41.573Z"
   },
   {
    "duration": 26,
    "start_time": "2024-10-01T09:53:41.593Z"
   },
   {
    "duration": 19,
    "start_time": "2024-10-01T09:53:41.621Z"
   },
   {
    "duration": 13,
    "start_time": "2024-10-01T09:53:41.642Z"
   },
   {
    "duration": 11,
    "start_time": "2024-10-01T09:53:41.656Z"
   },
   {
    "duration": 13,
    "start_time": "2024-10-01T09:53:41.669Z"
   },
   {
    "duration": 33,
    "start_time": "2024-10-01T09:53:41.683Z"
   },
   {
    "duration": 460,
    "start_time": "2024-10-01T09:53:41.717Z"
   },
   {
    "duration": 16,
    "start_time": "2024-10-01T09:53:42.179Z"
   },
   {
    "duration": 304,
    "start_time": "2024-10-01T09:53:42.197Z"
   },
   {
    "duration": 8,
    "start_time": "2024-10-01T09:53:42.502Z"
   },
   {
    "duration": 383,
    "start_time": "2024-10-01T09:53:42.511Z"
   },
   {
    "duration": 15,
    "start_time": "2024-10-01T09:53:42.896Z"
   },
   {
    "duration": 71,
    "start_time": "2024-10-01T09:53:42.912Z"
   },
   {
    "duration": 15,
    "start_time": "2024-10-01T09:53:42.985Z"
   },
   {
    "duration": 20,
    "start_time": "2024-10-01T09:53:43.001Z"
   },
   {
    "duration": 10,
    "start_time": "2024-10-01T09:53:43.023Z"
   },
   {
    "duration": 196,
    "start_time": "2024-10-01T09:53:43.035Z"
   },
   {
    "duration": 146,
    "start_time": "2024-10-01T09:53:43.233Z"
   },
   {
    "duration": 290,
    "start_time": "2024-10-01T09:53:43.380Z"
   },
   {
    "duration": 354,
    "start_time": "2024-10-01T09:53:43.671Z"
   },
   {
    "duration": 328,
    "start_time": "2024-10-01T09:53:44.026Z"
   },
   {
    "duration": 348,
    "start_time": "2024-10-01T09:53:44.356Z"
   },
   {
    "duration": 423,
    "start_time": "2024-10-01T09:53:44.707Z"
   },
   {
    "duration": 457,
    "start_time": "2024-10-01T09:53:45.132Z"
   },
   {
    "duration": 5,
    "start_time": "2024-10-01T09:53:45.591Z"
   },
   {
    "duration": 108,
    "start_time": "2024-10-01T09:53:45.607Z"
   },
   {
    "duration": 112,
    "start_time": "2024-10-01T09:53:45.716Z"
   },
   {
    "duration": 4,
    "start_time": "2024-10-01T09:53:45.830Z"
   },
   {
    "duration": 111,
    "start_time": "2024-10-01T09:53:45.835Z"
   },
   {
    "duration": 103,
    "start_time": "2024-10-01T09:53:45.947Z"
   },
   {
    "duration": 4,
    "start_time": "2024-10-01T09:53:46.051Z"
   },
   {
    "duration": 22,
    "start_time": "2024-10-01T09:53:46.056Z"
   },
   {
    "duration": 9,
    "start_time": "2024-10-01T09:53:46.079Z"
   },
   {
    "duration": 1104,
    "start_time": "2024-10-01T09:53:46.107Z"
   },
   {
    "duration": 0,
    "start_time": "2024-10-01T09:53:47.213Z"
   },
   {
    "duration": 0,
    "start_time": "2024-10-01T09:53:47.215Z"
   },
   {
    "duration": 0,
    "start_time": "2024-10-01T09:53:47.216Z"
   },
   {
    "duration": 0,
    "start_time": "2024-10-01T09:53:47.217Z"
   },
   {
    "duration": 0,
    "start_time": "2024-10-01T09:53:47.219Z"
   },
   {
    "duration": 0,
    "start_time": "2024-10-01T09:53:47.220Z"
   },
   {
    "duration": 0,
    "start_time": "2024-10-01T09:53:47.221Z"
   },
   {
    "duration": 8,
    "start_time": "2024-10-01T09:54:42.825Z"
   },
   {
    "duration": 6,
    "start_time": "2024-10-01T09:57:49.483Z"
   },
   {
    "duration": 7,
    "start_time": "2024-10-01T09:57:59.707Z"
   },
   {
    "duration": 15,
    "start_time": "2024-10-01T09:58:02.978Z"
   },
   {
    "duration": 13,
    "start_time": "2024-10-01T09:58:09.416Z"
   },
   {
    "duration": 7,
    "start_time": "2024-10-01T09:58:41.906Z"
   },
   {
    "duration": 153,
    "start_time": "2024-10-01T09:58:42.630Z"
   },
   {
    "duration": 344,
    "start_time": "2024-10-01T09:58:50.446Z"
   },
   {
    "duration": 302,
    "start_time": "2024-10-01T09:58:55.295Z"
   },
   {
    "duration": 356,
    "start_time": "2024-10-01T09:59:20.051Z"
   },
   {
    "duration": 346,
    "start_time": "2024-10-01T09:59:27.032Z"
   },
   {
    "duration": 1204,
    "start_time": "2024-10-01T15:48:23.124Z"
   },
   {
    "duration": 2,
    "start_time": "2024-10-01T15:48:24.331Z"
   },
   {
    "duration": 262,
    "start_time": "2024-10-01T15:48:24.334Z"
   },
   {
    "duration": 4,
    "start_time": "2024-10-01T15:48:24.597Z"
   },
   {
    "duration": 33,
    "start_time": "2024-10-01T15:48:24.603Z"
   },
   {
    "duration": 18,
    "start_time": "2024-10-01T15:48:24.638Z"
   },
   {
    "duration": 17,
    "start_time": "2024-10-01T15:48:24.657Z"
   },
   {
    "duration": 16,
    "start_time": "2024-10-01T15:48:24.675Z"
   },
   {
    "duration": 26,
    "start_time": "2024-10-01T15:48:24.692Z"
   },
   {
    "duration": 27,
    "start_time": "2024-10-01T15:48:24.720Z"
   },
   {
    "duration": 28,
    "start_time": "2024-10-01T15:48:24.748Z"
   },
   {
    "duration": 27,
    "start_time": "2024-10-01T15:48:24.777Z"
   },
   {
    "duration": 27,
    "start_time": "2024-10-01T15:48:24.805Z"
   },
   {
    "duration": 8,
    "start_time": "2024-10-01T15:48:24.834Z"
   },
   {
    "duration": 8,
    "start_time": "2024-10-01T15:48:24.844Z"
   },
   {
    "duration": 7,
    "start_time": "2024-10-01T15:48:24.853Z"
   },
   {
    "duration": 8,
    "start_time": "2024-10-01T15:48:24.861Z"
   },
   {
    "duration": 47,
    "start_time": "2024-10-01T15:48:24.870Z"
   },
   {
    "duration": 6,
    "start_time": "2024-10-01T15:48:36.152Z"
   },
   {
    "duration": 6,
    "start_time": "2024-10-01T15:48:59.893Z"
   },
   {
    "duration": 3,
    "start_time": "2024-10-01T15:49:05.724Z"
   },
   {
    "duration": 3,
    "start_time": "2024-10-01T15:49:10.590Z"
   },
   {
    "duration": 4,
    "start_time": "2024-10-01T15:49:22.469Z"
   },
   {
    "duration": 8,
    "start_time": "2024-10-01T15:49:23.810Z"
   },
   {
    "duration": 4,
    "start_time": "2024-10-01T15:49:37.554Z"
   },
   {
    "duration": 6,
    "start_time": "2024-10-01T15:49:43.360Z"
   },
   {
    "duration": 9,
    "start_time": "2024-10-01T15:49:47.325Z"
   },
   {
    "duration": 3,
    "start_time": "2024-10-01T15:49:49.335Z"
   },
   {
    "duration": 10,
    "start_time": "2024-10-01T15:50:04.366Z"
   },
   {
    "duration": 6,
    "start_time": "2024-10-01T15:50:23.708Z"
   },
   {
    "duration": 6,
    "start_time": "2024-10-01T15:50:25.452Z"
   },
   {
    "duration": 4,
    "start_time": "2024-10-01T15:50:29.846Z"
   },
   {
    "duration": 4,
    "start_time": "2024-10-01T15:50:32.676Z"
   },
   {
    "duration": 15,
    "start_time": "2024-10-01T15:51:40.260Z"
   },
   {
    "duration": 452,
    "start_time": "2024-10-01T15:51:41.605Z"
   },
   {
    "duration": 16,
    "start_time": "2024-10-01T15:51:47.581Z"
   },
   {
    "duration": 323,
    "start_time": "2024-10-01T15:51:51.286Z"
   },
   {
    "duration": 6,
    "start_time": "2024-10-01T15:53:14.345Z"
   },
   {
    "duration": 315,
    "start_time": "2024-10-01T15:53:58.611Z"
   },
   {
    "duration": 7,
    "start_time": "2024-10-01T15:54:21.552Z"
   },
   {
    "duration": 3,
    "start_time": "2024-10-01T15:54:23.713Z"
   },
   {
    "duration": 4,
    "start_time": "2024-10-01T15:54:24.638Z"
   },
   {
    "duration": 10,
    "start_time": "2024-10-01T16:06:21.655Z"
   },
   {
    "duration": 9,
    "start_time": "2024-10-01T16:09:48.670Z"
   },
   {
    "duration": 9,
    "start_time": "2024-10-01T16:12:24.693Z"
   },
   {
    "duration": 192,
    "start_time": "2024-10-01T16:13:37.775Z"
   },
   {
    "duration": 116,
    "start_time": "2024-10-01T16:13:41.791Z"
   },
   {
    "duration": 240,
    "start_time": "2024-10-01T16:14:52.824Z"
   },
   {
    "duration": 327,
    "start_time": "2024-10-01T16:14:58.394Z"
   },
   {
    "duration": 310,
    "start_time": "2024-10-01T16:15:27.610Z"
   },
   {
    "duration": 320,
    "start_time": "2024-10-01T16:18:34.393Z"
   },
   {
    "duration": 333,
    "start_time": "2024-10-01T16:19:30.182Z"
   },
   {
    "duration": 452,
    "start_time": "2024-10-01T16:20:40.040Z"
   },
   {
    "duration": 6,
    "start_time": "2024-10-01T16:21:08.070Z"
   },
   {
    "duration": 99,
    "start_time": "2024-10-01T16:21:13.090Z"
   },
   {
    "duration": 103,
    "start_time": "2024-10-01T16:21:20.341Z"
   },
   {
    "duration": 6,
    "start_time": "2024-10-01T16:25:59.027Z"
   },
   {
    "duration": 5,
    "start_time": "2024-10-01T16:26:20.802Z"
   },
   {
    "duration": 5,
    "start_time": "2024-10-01T16:32:02.550Z"
   },
   {
    "duration": 93,
    "start_time": "2024-10-01T16:35:13.729Z"
   },
   {
    "duration": 89,
    "start_time": "2024-10-01T16:35:41.425Z"
   },
   {
    "duration": 284,
    "start_time": "2024-10-01T16:39:57.239Z"
   },
   {
    "duration": 252,
    "start_time": "2024-10-01T16:40:31.774Z"
   },
   {
    "duration": 263,
    "start_time": "2024-10-01T16:40:44.651Z"
   },
   {
    "duration": 241,
    "start_time": "2024-10-01T16:41:09.226Z"
   },
   {
    "duration": 241,
    "start_time": "2024-10-01T16:41:17.991Z"
   },
   {
    "duration": 257,
    "start_time": "2024-10-01T16:41:29.067Z"
   },
   {
    "duration": 216,
    "start_time": "2024-10-01T16:41:40.218Z"
   },
   {
    "duration": 253,
    "start_time": "2024-10-01T16:41:56.799Z"
   },
   {
    "duration": 230,
    "start_time": "2024-10-01T16:45:17.519Z"
   },
   {
    "duration": 224,
    "start_time": "2024-10-01T16:47:17.328Z"
   },
   {
    "duration": 245,
    "start_time": "2024-10-01T16:47:28.198Z"
   },
   {
    "duration": 4,
    "start_time": "2024-10-01T16:55:31.684Z"
   },
   {
    "duration": 18,
    "start_time": "2024-10-01T18:39:44.153Z"
   },
   {
    "duration": 17,
    "start_time": "2024-10-01T18:43:44.442Z"
   },
   {
    "duration": 18,
    "start_time": "2024-10-01T18:49:33.781Z"
   },
   {
    "duration": 1036,
    "start_time": "2024-10-01T18:50:47.675Z"
   },
   {
    "duration": 2,
    "start_time": "2024-10-01T18:50:48.713Z"
   },
   {
    "duration": 86,
    "start_time": "2024-10-01T18:50:48.716Z"
   },
   {
    "duration": 4,
    "start_time": "2024-10-01T18:50:48.804Z"
   },
   {
    "duration": 25,
    "start_time": "2024-10-01T18:50:48.809Z"
   },
   {
    "duration": 17,
    "start_time": "2024-10-01T18:50:48.836Z"
   },
   {
    "duration": 127,
    "start_time": "2024-10-01T18:50:48.854Z"
   },
   {
    "duration": 5,
    "start_time": "2024-10-01T18:50:48.983Z"
   },
   {
    "duration": 17,
    "start_time": "2024-10-01T18:50:48.989Z"
   },
   {
    "duration": 13,
    "start_time": "2024-10-01T18:50:49.008Z"
   },
   {
    "duration": 10,
    "start_time": "2024-10-01T18:50:49.022Z"
   },
   {
    "duration": 40,
    "start_time": "2024-10-01T18:50:49.033Z"
   },
   {
    "duration": 22,
    "start_time": "2024-10-01T18:50:49.074Z"
   },
   {
    "duration": 14,
    "start_time": "2024-10-01T18:50:49.098Z"
   },
   {
    "duration": 13,
    "start_time": "2024-10-01T18:50:49.114Z"
   },
   {
    "duration": 7,
    "start_time": "2024-10-01T18:50:49.128Z"
   },
   {
    "duration": 6,
    "start_time": "2024-10-01T18:50:49.136Z"
   },
   {
    "duration": 48,
    "start_time": "2024-10-01T18:50:49.143Z"
   },
   {
    "duration": 5,
    "start_time": "2024-10-01T18:50:49.192Z"
   },
   {
    "duration": 28,
    "start_time": "2024-10-01T18:50:49.198Z"
   },
   {
    "duration": 20,
    "start_time": "2024-10-01T18:50:49.227Z"
   },
   {
    "duration": 8,
    "start_time": "2024-10-01T18:50:49.249Z"
   },
   {
    "duration": 5,
    "start_time": "2024-10-01T18:50:49.259Z"
   },
   {
    "duration": 9,
    "start_time": "2024-10-01T18:50:49.265Z"
   },
   {
    "duration": 39,
    "start_time": "2024-10-01T18:50:49.275Z"
   },
   {
    "duration": 18,
    "start_time": "2024-10-01T18:50:49.315Z"
   },
   {
    "duration": 16,
    "start_time": "2024-10-01T18:50:49.334Z"
   },
   {
    "duration": 6,
    "start_time": "2024-10-01T18:50:49.353Z"
   },
   {
    "duration": 10,
    "start_time": "2024-10-01T18:50:49.360Z"
   },
   {
    "duration": 7,
    "start_time": "2024-10-01T18:50:49.372Z"
   },
   {
    "duration": 8,
    "start_time": "2024-10-01T18:50:49.380Z"
   },
   {
    "duration": 10,
    "start_time": "2024-10-01T18:50:49.389Z"
   },
   {
    "duration": 6,
    "start_time": "2024-10-01T18:50:49.400Z"
   },
   {
    "duration": 86,
    "start_time": "2024-10-01T18:50:49.407Z"
   },
   {
    "duration": 414,
    "start_time": "2024-10-01T18:50:49.495Z"
   },
   {
    "duration": 15,
    "start_time": "2024-10-01T18:50:49.910Z"
   },
   {
    "duration": 313,
    "start_time": "2024-10-01T18:50:49.927Z"
   },
   {
    "duration": 6,
    "start_time": "2024-10-01T18:50:50.241Z"
   },
   {
    "duration": 341,
    "start_time": "2024-10-01T18:50:50.248Z"
   },
   {
    "duration": 19,
    "start_time": "2024-10-01T18:50:50.591Z"
   },
   {
    "duration": 72,
    "start_time": "2024-10-01T18:50:50.612Z"
   },
   {
    "duration": 38,
    "start_time": "2024-10-01T18:50:50.685Z"
   },
   {
    "duration": 177,
    "start_time": "2024-10-01T18:50:50.725Z"
   },
   {
    "duration": 103,
    "start_time": "2024-10-01T18:50:50.904Z"
   },
   {
    "duration": 244,
    "start_time": "2024-10-01T18:50:51.008Z"
   },
   {
    "duration": 354,
    "start_time": "2024-10-01T18:50:51.253Z"
   },
   {
    "duration": 290,
    "start_time": "2024-10-01T18:50:51.608Z"
   },
   {
    "duration": 314,
    "start_time": "2024-10-01T18:50:51.900Z"
   },
   {
    "duration": 406,
    "start_time": "2024-10-01T18:50:52.216Z"
   },
   {
    "duration": 366,
    "start_time": "2024-10-01T18:50:52.624Z"
   },
   {
    "duration": 16,
    "start_time": "2024-10-01T18:50:52.992Z"
   },
   {
    "duration": 233,
    "start_time": "2024-10-01T18:50:53.009Z"
   },
   {
    "duration": 5,
    "start_time": "2024-10-01T18:50:53.243Z"
   },
   {
    "duration": 298,
    "start_time": "2024-10-01T18:50:53.250Z"
   },
   {
    "duration": 4,
    "start_time": "2024-10-01T18:50:53.550Z"
   },
   {
    "duration": 19,
    "start_time": "2024-10-01T18:50:56.829Z"
   },
   {
    "duration": 18,
    "start_time": "2024-10-01T18:51:30.482Z"
   },
   {
    "duration": 19,
    "start_time": "2024-10-01T18:52:02.949Z"
   },
   {
    "duration": 18,
    "start_time": "2024-10-01T19:08:21.522Z"
   },
   {
    "duration": 18,
    "start_time": "2024-10-01T19:09:40.247Z"
   },
   {
    "duration": 8,
    "start_time": "2024-10-01T19:10:22.184Z"
   },
   {
    "duration": 10,
    "start_time": "2024-10-01T19:12:10.398Z"
   },
   {
    "duration": 89,
    "start_time": "2024-10-01T19:26:28.882Z"
   },
   {
    "duration": 5,
    "start_time": "2024-10-01T19:26:36.327Z"
   },
   {
    "duration": 8,
    "start_time": "2024-10-01T19:27:17.934Z"
   },
   {
    "duration": 5,
    "start_time": "2024-10-01T19:27:34.830Z"
   },
   {
    "duration": 15,
    "start_time": "2024-10-01T19:27:36.441Z"
   },
   {
    "duration": 11,
    "start_time": "2024-10-01T19:37:04.076Z"
   },
   {
    "duration": 10,
    "start_time": "2024-10-01T19:39:39.073Z"
   },
   {
    "duration": 5,
    "start_time": "2024-10-01T19:43:32.384Z"
   },
   {
    "duration": 135,
    "start_time": "2024-10-01T19:43:34.404Z"
   },
   {
    "duration": 313,
    "start_time": "2024-10-01T19:43:38.189Z"
   },
   {
    "duration": 4,
    "start_time": "2024-10-01T19:44:56.584Z"
   },
   {
    "duration": 132,
    "start_time": "2024-10-01T19:44:58.314Z"
   },
   {
    "duration": 286,
    "start_time": "2024-10-01T19:45:00.013Z"
   },
   {
    "duration": 7,
    "start_time": "2024-10-01T19:50:08.541Z"
   },
   {
    "duration": 5,
    "start_time": "2024-10-01T19:53:03.239Z"
   },
   {
    "duration": 133,
    "start_time": "2024-10-01T19:53:03.960Z"
   },
   {
    "duration": 307,
    "start_time": "2024-10-01T19:53:04.920Z"
   },
   {
    "duration": 2,
    "start_time": "2024-10-01T20:01:52.969Z"
   },
   {
    "duration": 5,
    "start_time": "2024-10-01T20:05:05.586Z"
   },
   {
    "duration": 145,
    "start_time": "2024-10-01T20:05:06.414Z"
   },
   {
    "duration": 326,
    "start_time": "2024-10-01T20:05:53.675Z"
   },
   {
    "duration": 335,
    "start_time": "2024-10-01T20:07:37.244Z"
   },
   {
    "duration": 305,
    "start_time": "2024-10-01T20:07:50.535Z"
   },
   {
    "duration": 5,
    "start_time": "2024-10-01T20:15:06.346Z"
   },
   {
    "duration": 129,
    "start_time": "2024-10-01T20:16:50.812Z"
   },
   {
    "duration": 336,
    "start_time": "2024-10-01T20:16:52.334Z"
   },
   {
    "duration": 372,
    "start_time": "2024-10-01T20:26:49.922Z"
   },
   {
    "duration": 329,
    "start_time": "2024-10-01T20:27:46.859Z"
   },
   {
    "duration": 302,
    "start_time": "2024-10-01T20:29:25.285Z"
   },
   {
    "duration": 330,
    "start_time": "2024-10-01T20:30:10.446Z"
   },
   {
    "duration": 370,
    "start_time": "2024-10-01T20:30:25.137Z"
   },
   {
    "duration": 290,
    "start_time": "2024-10-01T20:31:11.519Z"
   },
   {
    "duration": 254,
    "start_time": "2024-10-01T20:31:39.125Z"
   },
   {
    "duration": 349,
    "start_time": "2024-10-01T20:31:54.776Z"
   },
   {
    "duration": 292,
    "start_time": "2024-10-01T20:35:00.590Z"
   },
   {
    "duration": 306,
    "start_time": "2024-10-01T20:37:37.770Z"
   },
   {
    "duration": 5,
    "start_time": "2024-10-01T20:44:09.100Z"
   },
   {
    "duration": 10,
    "start_time": "2024-10-01T20:44:25.205Z"
   },
   {
    "duration": 5,
    "start_time": "2024-10-01T20:45:07.334Z"
   },
   {
    "duration": 6,
    "start_time": "2024-10-01T20:49:14.009Z"
   },
   {
    "duration": 3,
    "start_time": "2024-10-01T20:49:36.339Z"
   },
   {
    "duration": 3,
    "start_time": "2024-10-01T20:49:46.008Z"
   },
   {
    "duration": 7,
    "start_time": "2024-10-01T20:54:26.363Z"
   },
   {
    "duration": 4,
    "start_time": "2024-10-01T20:54:31.013Z"
   },
   {
    "duration": 5,
    "start_time": "2024-10-01T20:54:31.759Z"
   },
   {
    "duration": 4,
    "start_time": "2024-10-01T20:55:52.117Z"
   },
   {
    "duration": 5,
    "start_time": "2024-10-01T20:55:53.101Z"
   },
   {
    "duration": 1418,
    "start_time": "2024-10-02T09:36:08.296Z"
   },
   {
    "duration": 4,
    "start_time": "2024-10-02T09:36:09.716Z"
   },
   {
    "duration": 240,
    "start_time": "2024-10-02T09:36:09.724Z"
   },
   {
    "duration": 5,
    "start_time": "2024-10-02T09:36:09.966Z"
   },
   {
    "duration": 30,
    "start_time": "2024-10-02T09:36:09.972Z"
   },
   {
    "duration": 28,
    "start_time": "2024-10-02T09:36:10.003Z"
   },
   {
    "duration": 16,
    "start_time": "2024-10-02T09:36:10.035Z"
   },
   {
    "duration": 13,
    "start_time": "2024-10-02T09:36:10.053Z"
   },
   {
    "duration": 22,
    "start_time": "2024-10-02T09:36:10.068Z"
   },
   {
    "duration": 10,
    "start_time": "2024-10-02T09:36:10.092Z"
   },
   {
    "duration": 18,
    "start_time": "2024-10-02T09:36:10.112Z"
   },
   {
    "duration": 8,
    "start_time": "2024-10-02T09:36:10.131Z"
   },
   {
    "duration": 22,
    "start_time": "2024-10-02T09:36:10.141Z"
   },
   {
    "duration": 23,
    "start_time": "2024-10-02T09:36:10.164Z"
   },
   {
    "duration": 8,
    "start_time": "2024-10-02T09:36:10.189Z"
   },
   {
    "duration": 17,
    "start_time": "2024-10-02T09:36:10.198Z"
   },
   {
    "duration": 16,
    "start_time": "2024-10-02T09:36:10.216Z"
   },
   {
    "duration": 59,
    "start_time": "2024-10-02T09:36:10.234Z"
   },
   {
    "duration": 6,
    "start_time": "2024-10-02T09:36:10.295Z"
   },
   {
    "duration": 10,
    "start_time": "2024-10-02T09:36:10.302Z"
   },
   {
    "duration": 32,
    "start_time": "2024-10-02T09:36:10.313Z"
   },
   {
    "duration": 14,
    "start_time": "2024-10-02T09:36:10.347Z"
   },
   {
    "duration": 13,
    "start_time": "2024-10-02T09:36:10.363Z"
   },
   {
    "duration": 17,
    "start_time": "2024-10-02T09:36:10.378Z"
   },
   {
    "duration": 5,
    "start_time": "2024-10-02T09:36:10.397Z"
   },
   {
    "duration": 14,
    "start_time": "2024-10-02T09:36:10.403Z"
   },
   {
    "duration": 30,
    "start_time": "2024-10-02T09:36:10.418Z"
   },
   {
    "duration": 5,
    "start_time": "2024-10-02T09:36:10.452Z"
   },
   {
    "duration": 23,
    "start_time": "2024-10-02T09:36:10.458Z"
   },
   {
    "duration": 8,
    "start_time": "2024-10-02T09:36:10.482Z"
   },
   {
    "duration": 18,
    "start_time": "2024-10-02T09:36:10.492Z"
   },
   {
    "duration": 6,
    "start_time": "2024-10-02T09:36:10.512Z"
   },
   {
    "duration": 19,
    "start_time": "2024-10-02T09:36:10.521Z"
   },
   {
    "duration": 18,
    "start_time": "2024-10-02T09:36:10.542Z"
   },
   {
    "duration": 570,
    "start_time": "2024-10-02T09:36:10.562Z"
   },
   {
    "duration": 23,
    "start_time": "2024-10-02T09:36:11.134Z"
   },
   {
    "duration": 425,
    "start_time": "2024-10-02T09:36:11.159Z"
   },
   {
    "duration": 7,
    "start_time": "2024-10-02T09:36:11.586Z"
   },
   {
    "duration": 362,
    "start_time": "2024-10-02T09:36:11.595Z"
   },
   {
    "duration": 9,
    "start_time": "2024-10-02T09:36:11.959Z"
   },
   {
    "duration": 13,
    "start_time": "2024-10-02T09:36:11.970Z"
   },
   {
    "duration": 13,
    "start_time": "2024-10-02T09:36:11.985Z"
   },
   {
    "duration": 249,
    "start_time": "2024-10-02T09:36:12.000Z"
   },
   {
    "duration": 136,
    "start_time": "2024-10-02T09:36:12.251Z"
   },
   {
    "duration": 303,
    "start_time": "2024-10-02T09:36:12.389Z"
   },
   {
    "duration": 457,
    "start_time": "2024-10-02T09:36:12.693Z"
   },
   {
    "duration": 410,
    "start_time": "2024-10-02T09:36:13.152Z"
   },
   {
    "duration": 408,
    "start_time": "2024-10-02T09:36:13.564Z"
   },
   {
    "duration": 503,
    "start_time": "2024-10-02T09:36:13.975Z"
   },
   {
    "duration": 574,
    "start_time": "2024-10-02T09:36:14.480Z"
   },
   {
    "duration": 6,
    "start_time": "2024-10-02T09:36:15.056Z"
   },
   {
    "duration": 332,
    "start_time": "2024-10-02T09:36:15.064Z"
   },
   {
    "duration": 6,
    "start_time": "2024-10-02T09:36:15.399Z"
   },
   {
    "duration": 284,
    "start_time": "2024-10-02T09:36:15.427Z"
   },
   {
    "duration": 23,
    "start_time": "2024-10-02T09:36:15.712Z"
   },
   {
    "duration": 26,
    "start_time": "2024-10-02T09:36:15.737Z"
   },
   {
    "duration": 10,
    "start_time": "2024-10-02T09:36:15.765Z"
   },
   {
    "duration": 9,
    "start_time": "2024-10-02T09:36:15.777Z"
   },
   {
    "duration": 47,
    "start_time": "2024-10-02T09:36:15.787Z"
   },
   {
    "duration": 48,
    "start_time": "2024-10-02T09:36:15.837Z"
   },
   {
    "duration": 251,
    "start_time": "2024-10-02T09:36:15.887Z"
   },
   {
    "duration": 418,
    "start_time": "2024-10-02T09:36:16.140Z"
   },
   {
    "duration": 6,
    "start_time": "2024-10-02T09:36:16.560Z"
   },
   {
    "duration": 216,
    "start_time": "2024-10-02T09:36:16.568Z"
   },
   {
    "duration": 380,
    "start_time": "2024-10-02T09:36:16.786Z"
   },
   {
    "duration": 407,
    "start_time": "2024-10-02T09:36:17.167Z"
   },
   {
    "duration": 390,
    "start_time": "2024-10-02T09:36:17.576Z"
   },
   {
    "duration": 1155,
    "start_time": "2024-10-02T10:02:43.786Z"
   },
   {
    "duration": 3,
    "start_time": "2024-10-02T10:02:44.945Z"
   },
   {
    "duration": 79,
    "start_time": "2024-10-02T10:02:44.949Z"
   },
   {
    "duration": 4,
    "start_time": "2024-10-02T10:02:45.030Z"
   },
   {
    "duration": 59,
    "start_time": "2024-10-02T10:02:45.036Z"
   },
   {
    "duration": 85,
    "start_time": "2024-10-02T10:02:45.097Z"
   },
   {
    "duration": 24,
    "start_time": "2024-10-02T10:02:45.184Z"
   },
   {
    "duration": 6,
    "start_time": "2024-10-02T10:02:45.210Z"
   },
   {
    "duration": 27,
    "start_time": "2024-10-02T10:02:45.217Z"
   },
   {
    "duration": 16,
    "start_time": "2024-10-02T10:02:45.248Z"
   },
   {
    "duration": 12,
    "start_time": "2024-10-02T10:02:45.266Z"
   },
   {
    "duration": 13,
    "start_time": "2024-10-02T10:02:45.280Z"
   },
   {
    "duration": 25,
    "start_time": "2024-10-02T10:02:45.295Z"
   },
   {
    "duration": 16,
    "start_time": "2024-10-02T10:02:45.321Z"
   },
   {
    "duration": 51,
    "start_time": "2024-10-02T10:02:45.339Z"
   },
   {
    "duration": 27,
    "start_time": "2024-10-02T10:02:45.392Z"
   },
   {
    "duration": 43,
    "start_time": "2024-10-02T10:02:45.421Z"
   },
   {
    "duration": 75,
    "start_time": "2024-10-02T10:02:45.466Z"
   },
   {
    "duration": 6,
    "start_time": "2024-10-02T10:02:45.543Z"
   },
   {
    "duration": 17,
    "start_time": "2024-10-02T10:02:45.551Z"
   },
   {
    "duration": 36,
    "start_time": "2024-10-02T10:02:45.570Z"
   },
   {
    "duration": 9,
    "start_time": "2024-10-02T10:02:45.607Z"
   },
   {
    "duration": 14,
    "start_time": "2024-10-02T10:02:45.618Z"
   },
   {
    "duration": 25,
    "start_time": "2024-10-02T10:02:45.634Z"
   },
   {
    "duration": 6,
    "start_time": "2024-10-02T10:02:45.661Z"
   },
   {
    "duration": 15,
    "start_time": "2024-10-02T10:02:45.668Z"
   },
   {
    "duration": 13,
    "start_time": "2024-10-02T10:02:45.685Z"
   },
   {
    "duration": 4,
    "start_time": "2024-10-02T10:02:45.701Z"
   },
   {
    "duration": 11,
    "start_time": "2024-10-02T10:02:45.706Z"
   },
   {
    "duration": 28,
    "start_time": "2024-10-02T10:02:45.718Z"
   },
   {
    "duration": 12,
    "start_time": "2024-10-02T10:02:45.748Z"
   },
   {
    "duration": 5,
    "start_time": "2024-10-02T10:02:45.762Z"
   },
   {
    "duration": 8,
    "start_time": "2024-10-02T10:02:45.769Z"
   },
   {
    "duration": 22,
    "start_time": "2024-10-02T10:02:45.778Z"
   },
   {
    "duration": 503,
    "start_time": "2024-10-02T10:02:45.802Z"
   },
   {
    "duration": 20,
    "start_time": "2024-10-02T10:02:46.307Z"
   },
   {
    "duration": 359,
    "start_time": "2024-10-02T10:02:46.329Z"
   },
   {
    "duration": 7,
    "start_time": "2024-10-02T10:02:46.690Z"
   },
   {
    "duration": 364,
    "start_time": "2024-10-02T10:02:46.699Z"
   },
   {
    "duration": 10,
    "start_time": "2024-10-02T10:02:47.065Z"
   },
   {
    "duration": 6,
    "start_time": "2024-10-02T10:02:47.076Z"
   },
   {
    "duration": 7,
    "start_time": "2024-10-02T10:02:47.084Z"
   },
   {
    "duration": 245,
    "start_time": "2024-10-02T10:02:47.093Z"
   },
   {
    "duration": 149,
    "start_time": "2024-10-02T10:02:47.346Z"
   },
   {
    "duration": 307,
    "start_time": "2024-10-02T10:02:47.497Z"
   },
   {
    "duration": 396,
    "start_time": "2024-10-02T10:02:47.805Z"
   },
   {
    "duration": 397,
    "start_time": "2024-10-02T10:02:48.203Z"
   },
   {
    "duration": 404,
    "start_time": "2024-10-02T10:02:48.602Z"
   },
   {
    "duration": 484,
    "start_time": "2024-10-02T10:02:49.008Z"
   },
   {
    "duration": 464,
    "start_time": "2024-10-02T10:02:49.494Z"
   },
   {
    "duration": 6,
    "start_time": "2024-10-02T10:02:49.960Z"
   },
   {
    "duration": 248,
    "start_time": "2024-10-02T10:02:49.968Z"
   },
   {
    "duration": 5,
    "start_time": "2024-10-02T10:02:50.217Z"
   },
   {
    "duration": 295,
    "start_time": "2024-10-02T10:02:50.225Z"
   },
   {
    "duration": 6,
    "start_time": "2024-10-02T10:02:50.521Z"
   },
   {
    "duration": 42,
    "start_time": "2024-10-02T10:02:50.529Z"
   },
   {
    "duration": 12,
    "start_time": "2024-10-02T10:02:50.573Z"
   },
   {
    "duration": 7,
    "start_time": "2024-10-02T10:02:50.586Z"
   },
   {
    "duration": 18,
    "start_time": "2024-10-02T10:02:50.595Z"
   },
   {
    "duration": 7,
    "start_time": "2024-10-02T10:02:50.646Z"
   },
   {
    "duration": 198,
    "start_time": "2024-10-02T10:02:50.655Z"
   },
   {
    "duration": 403,
    "start_time": "2024-10-02T10:02:50.855Z"
   },
   {
    "duration": 5,
    "start_time": "2024-10-02T10:02:51.260Z"
   },
   {
    "duration": 179,
    "start_time": "2024-10-02T10:02:51.267Z"
   },
   {
    "duration": 393,
    "start_time": "2024-10-02T10:02:51.447Z"
   },
   {
    "duration": 392,
    "start_time": "2024-10-02T10:02:51.842Z"
   },
   {
    "duration": 385,
    "start_time": "2024-10-02T10:02:52.236Z"
   },
   {
    "duration": 8,
    "start_time": "2024-10-02T10:07:56.249Z"
   },
   {
    "duration": 9,
    "start_time": "2024-10-02T10:08:01.454Z"
   },
   {
    "duration": 11,
    "start_time": "2024-10-02T10:20:21.458Z"
   },
   {
    "duration": 6,
    "start_time": "2024-10-02T10:27:21.421Z"
   },
   {
    "duration": 107,
    "start_time": "2024-10-02T10:27:28.706Z"
   },
   {
    "duration": 4,
    "start_time": "2024-10-02T10:27:34.436Z"
   },
   {
    "duration": 5,
    "start_time": "2024-10-02T10:28:44.455Z"
   },
   {
    "duration": 7,
    "start_time": "2024-10-02T10:36:24.629Z"
   },
   {
    "duration": 1228,
    "start_time": "2024-10-02T15:07:36.626Z"
   },
   {
    "duration": 3,
    "start_time": "2024-10-02T15:07:37.856Z"
   },
   {
    "duration": 281,
    "start_time": "2024-10-02T15:07:37.860Z"
   },
   {
    "duration": 5,
    "start_time": "2024-10-02T15:07:38.143Z"
   },
   {
    "duration": 20,
    "start_time": "2024-10-02T15:07:38.150Z"
   },
   {
    "duration": 17,
    "start_time": "2024-10-02T15:07:38.171Z"
   },
   {
    "duration": 21,
    "start_time": "2024-10-02T15:07:38.190Z"
   },
   {
    "duration": 6,
    "start_time": "2024-10-02T15:07:38.212Z"
   },
   {
    "duration": 14,
    "start_time": "2024-10-02T15:07:38.220Z"
   },
   {
    "duration": 5,
    "start_time": "2024-10-02T15:07:38.236Z"
   },
   {
    "duration": 10,
    "start_time": "2024-10-02T15:07:38.243Z"
   },
   {
    "duration": 4,
    "start_time": "2024-10-02T15:07:38.255Z"
   },
   {
    "duration": 11,
    "start_time": "2024-10-02T15:07:38.260Z"
   },
   {
    "duration": 4,
    "start_time": "2024-10-02T15:07:38.289Z"
   },
   {
    "duration": 19,
    "start_time": "2024-10-02T15:07:38.295Z"
   },
   {
    "duration": 8,
    "start_time": "2024-10-02T15:07:38.315Z"
   },
   {
    "duration": 4,
    "start_time": "2024-10-02T15:07:38.324Z"
   },
   {
    "duration": 48,
    "start_time": "2024-10-02T15:07:38.330Z"
   },
   {
    "duration": 10,
    "start_time": "2024-10-02T15:07:38.380Z"
   },
   {
    "duration": 7,
    "start_time": "2024-10-02T15:07:38.392Z"
   },
   {
    "duration": 5,
    "start_time": "2024-10-02T15:07:38.400Z"
   },
   {
    "duration": 13,
    "start_time": "2024-10-02T15:07:38.406Z"
   },
   {
    "duration": 6,
    "start_time": "2024-10-02T15:07:38.420Z"
   },
   {
    "duration": 8,
    "start_time": "2024-10-02T15:07:38.428Z"
   },
   {
    "duration": 5,
    "start_time": "2024-10-02T15:07:38.438Z"
   },
   {
    "duration": 8,
    "start_time": "2024-10-02T15:07:38.445Z"
   },
   {
    "duration": 35,
    "start_time": "2024-10-02T15:07:38.455Z"
   },
   {
    "duration": 4,
    "start_time": "2024-10-02T15:07:38.494Z"
   },
   {
    "duration": 19,
    "start_time": "2024-10-02T15:07:38.500Z"
   },
   {
    "duration": 8,
    "start_time": "2024-10-02T15:07:38.521Z"
   },
   {
    "duration": 6,
    "start_time": "2024-10-02T15:07:43.816Z"
   },
   {
    "duration": 3,
    "start_time": "2024-10-02T15:07:49.431Z"
   },
   {
    "duration": 5,
    "start_time": "2024-10-02T15:09:47.706Z"
   },
   {
    "duration": 19,
    "start_time": "2024-10-02T15:10:29.895Z"
   },
   {
    "duration": 500,
    "start_time": "2024-10-02T15:10:49.366Z"
   },
   {
    "duration": 21,
    "start_time": "2024-10-02T15:11:09.891Z"
   },
   {
    "duration": 364,
    "start_time": "2024-10-02T15:11:21.146Z"
   },
   {
    "duration": 336,
    "start_time": "2024-10-02T15:12:26.206Z"
   },
   {
    "duration": 6,
    "start_time": "2024-10-02T15:14:03.879Z"
   },
   {
    "duration": 316,
    "start_time": "2024-10-02T15:16:31.350Z"
   },
   {
    "duration": 7,
    "start_time": "2024-10-02T15:18:16.505Z"
   },
   {
    "duration": 4,
    "start_time": "2024-10-02T15:18:17.635Z"
   },
   {
    "duration": 5,
    "start_time": "2024-10-02T15:18:19.985Z"
   },
   {
    "duration": 221,
    "start_time": "2024-10-02T15:19:29.949Z"
   },
   {
    "duration": 144,
    "start_time": "2024-10-02T15:19:59.125Z"
   },
   {
    "duration": 272,
    "start_time": "2024-10-02T15:20:17.822Z"
   },
   {
    "duration": 261,
    "start_time": "2024-10-02T15:20:26.356Z"
   },
   {
    "duration": 387,
    "start_time": "2024-10-02T15:20:43.622Z"
   },
   {
    "duration": 357,
    "start_time": "2024-10-02T15:21:01.922Z"
   },
   {
    "duration": 360,
    "start_time": "2024-10-02T15:22:20.537Z"
   },
   {
    "duration": 433,
    "start_time": "2024-10-02T15:22:35.471Z"
   },
   {
    "duration": 403,
    "start_time": "2024-10-02T15:23:11.088Z"
   },
   {
    "duration": 6,
    "start_time": "2024-10-02T15:23:30.449Z"
   },
   {
    "duration": 233,
    "start_time": "2024-10-02T15:23:34.205Z"
   },
   {
    "duration": 5,
    "start_time": "2024-10-02T15:26:00.291Z"
   },
   {
    "duration": 272,
    "start_time": "2024-10-02T15:27:00.367Z"
   },
   {
    "duration": 5,
    "start_time": "2024-10-02T15:27:07.543Z"
   },
   {
    "duration": 28,
    "start_time": "2024-10-02T15:27:59.882Z"
   },
   {
    "duration": 13,
    "start_time": "2024-10-02T15:28:23.387Z"
   },
   {
    "duration": 10,
    "start_time": "2024-10-02T16:33:00.921Z"
   },
   {
    "duration": 33,
    "start_time": "2024-10-02T16:43:02.497Z"
   },
   {
    "duration": 123,
    "start_time": "2024-10-02T16:58:20.818Z"
   },
   {
    "duration": 31,
    "start_time": "2024-10-02T16:58:48.766Z"
   },
   {
    "duration": 10,
    "start_time": "2024-10-02T17:09:31.256Z"
   },
   {
    "duration": 6,
    "start_time": "2024-10-02T17:09:39.994Z"
   },
   {
    "duration": 11,
    "start_time": "2024-10-02T17:09:42.554Z"
   },
   {
    "duration": 6,
    "start_time": "2024-10-02T17:13:44.920Z"
   },
   {
    "duration": 157,
    "start_time": "2024-10-02T17:13:47.606Z"
   },
   {
    "duration": 355,
    "start_time": "2024-10-02T17:13:52.252Z"
   },
   {
    "duration": 5,
    "start_time": "2024-10-02T17:13:59.220Z"
   },
   {
    "duration": 151,
    "start_time": "2024-10-02T17:13:59.916Z"
   },
   {
    "duration": 356,
    "start_time": "2024-10-02T17:14:04.445Z"
   },
   {
    "duration": 354,
    "start_time": "2024-10-02T17:15:49.250Z"
   },
   {
    "duration": 297,
    "start_time": "2024-10-02T17:16:47.500Z"
   },
   {
    "duration": 1074,
    "start_time": "2024-10-02T18:17:16.023Z"
   },
   {
    "duration": 3,
    "start_time": "2024-10-02T18:17:17.098Z"
   },
   {
    "duration": 102,
    "start_time": "2024-10-02T18:17:17.102Z"
   },
   {
    "duration": 5,
    "start_time": "2024-10-02T18:17:17.206Z"
   },
   {
    "duration": 71,
    "start_time": "2024-10-02T18:17:17.213Z"
   },
   {
    "duration": 15,
    "start_time": "2024-10-02T18:17:17.286Z"
   },
   {
    "duration": 15,
    "start_time": "2024-10-02T18:17:17.302Z"
   },
   {
    "duration": 6,
    "start_time": "2024-10-02T18:17:17.318Z"
   },
   {
    "duration": 10,
    "start_time": "2024-10-02T18:17:17.325Z"
   },
   {
    "duration": 5,
    "start_time": "2024-10-02T18:17:17.339Z"
   },
   {
    "duration": 19,
    "start_time": "2024-10-02T18:17:17.346Z"
   },
   {
    "duration": 27,
    "start_time": "2024-10-02T18:17:17.366Z"
   },
   {
    "duration": 66,
    "start_time": "2024-10-02T18:17:17.395Z"
   },
   {
    "duration": 5,
    "start_time": "2024-10-02T18:17:17.462Z"
   },
   {
    "duration": 5,
    "start_time": "2024-10-02T18:17:17.468Z"
   },
   {
    "duration": 6,
    "start_time": "2024-10-02T18:17:17.475Z"
   },
   {
    "duration": 6,
    "start_time": "2024-10-02T18:17:17.482Z"
   },
   {
    "duration": 48,
    "start_time": "2024-10-02T18:17:17.489Z"
   },
   {
    "duration": 6,
    "start_time": "2024-10-02T18:17:17.538Z"
   },
   {
    "duration": 7,
    "start_time": "2024-10-02T18:17:17.545Z"
   },
   {
    "duration": 19,
    "start_time": "2024-10-02T18:17:17.553Z"
   },
   {
    "duration": 8,
    "start_time": "2024-10-02T18:17:17.573Z"
   },
   {
    "duration": 10,
    "start_time": "2024-10-02T18:17:17.582Z"
   },
   {
    "duration": 12,
    "start_time": "2024-10-02T18:17:17.594Z"
   },
   {
    "duration": 4,
    "start_time": "2024-10-02T18:17:17.608Z"
   },
   {
    "duration": 10,
    "start_time": "2024-10-02T18:17:17.613Z"
   },
   {
    "duration": 30,
    "start_time": "2024-10-02T18:17:17.624Z"
   },
   {
    "duration": 3,
    "start_time": "2024-10-02T18:17:17.658Z"
   },
   {
    "duration": 12,
    "start_time": "2024-10-02T18:17:17.663Z"
   },
   {
    "duration": 15,
    "start_time": "2024-10-02T18:17:17.677Z"
   },
   {
    "duration": 8,
    "start_time": "2024-10-02T18:17:17.694Z"
   },
   {
    "duration": 19,
    "start_time": "2024-10-02T18:17:17.704Z"
   },
   {
    "duration": 16,
    "start_time": "2024-10-02T18:17:17.725Z"
   },
   {
    "duration": 18,
    "start_time": "2024-10-02T18:17:17.742Z"
   },
   {
    "duration": 460,
    "start_time": "2024-10-02T18:17:17.762Z"
   },
   {
    "duration": 18,
    "start_time": "2024-10-02T18:17:18.224Z"
   },
   {
    "duration": 348,
    "start_time": "2024-10-02T18:17:18.243Z"
   },
   {
    "duration": 6,
    "start_time": "2024-10-02T18:17:18.592Z"
   },
   {
    "duration": 310,
    "start_time": "2024-10-02T18:17:18.600Z"
   },
   {
    "duration": 8,
    "start_time": "2024-10-02T18:17:18.912Z"
   },
   {
    "duration": 5,
    "start_time": "2024-10-02T18:17:18.922Z"
   },
   {
    "duration": 5,
    "start_time": "2024-10-02T18:17:18.929Z"
   },
   {
    "duration": 250,
    "start_time": "2024-10-02T18:17:18.935Z"
   },
   {
    "duration": 150,
    "start_time": "2024-10-02T18:17:19.187Z"
   },
   {
    "duration": 277,
    "start_time": "2024-10-02T18:17:19.339Z"
   },
   {
    "duration": 394,
    "start_time": "2024-10-02T18:17:19.617Z"
   },
   {
    "duration": 395,
    "start_time": "2024-10-02T18:17:20.012Z"
   },
   {
    "duration": 376,
    "start_time": "2024-10-02T18:17:20.409Z"
   },
   {
    "duration": 419,
    "start_time": "2024-10-02T18:17:20.790Z"
   },
   {
    "duration": 458,
    "start_time": "2024-10-02T18:17:21.210Z"
   },
   {
    "duration": 7,
    "start_time": "2024-10-02T18:17:21.669Z"
   },
   {
    "duration": 257,
    "start_time": "2024-10-02T18:17:21.677Z"
   },
   {
    "duration": 5,
    "start_time": "2024-10-02T18:17:21.935Z"
   },
   {
    "duration": 302,
    "start_time": "2024-10-02T18:17:21.941Z"
   },
   {
    "duration": 5,
    "start_time": "2024-10-02T18:17:22.245Z"
   },
   {
    "duration": 47,
    "start_time": "2024-10-02T18:17:22.252Z"
   },
   {
    "duration": 10,
    "start_time": "2024-10-02T18:17:22.301Z"
   },
   {
    "duration": 9,
    "start_time": "2024-10-02T18:17:22.312Z"
   },
   {
    "duration": 35,
    "start_time": "2024-10-02T18:17:22.323Z"
   },
   {
    "duration": 30,
    "start_time": "2024-10-02T18:17:22.360Z"
   },
   {
    "duration": 12,
    "start_time": "2024-10-02T18:17:22.392Z"
   },
   {
    "duration": 11,
    "start_time": "2024-10-02T18:17:22.406Z"
   },
   {
    "duration": 37,
    "start_time": "2024-10-02T18:17:22.419Z"
   },
   {
    "duration": 178,
    "start_time": "2024-10-02T18:17:22.458Z"
   },
   {
    "duration": 365,
    "start_time": "2024-10-02T18:17:22.638Z"
   },
   {
    "duration": 5,
    "start_time": "2024-10-02T18:17:23.005Z"
   },
   {
    "duration": 158,
    "start_time": "2024-10-02T18:17:23.012Z"
   },
   {
    "duration": 343,
    "start_time": "2024-10-02T18:17:23.172Z"
   },
   {
    "duration": 375,
    "start_time": "2024-10-02T18:17:23.517Z"
   },
   {
    "duration": 312,
    "start_time": "2024-10-02T18:17:23.894Z"
   },
   {
    "duration": 1147,
    "start_time": "2024-10-03T07:03:30.254Z"
   },
   {
    "duration": 3,
    "start_time": "2024-10-03T07:03:31.403Z"
   },
   {
    "duration": 232,
    "start_time": "2024-10-03T07:03:31.408Z"
   },
   {
    "duration": 6,
    "start_time": "2024-10-03T07:03:31.643Z"
   },
   {
    "duration": 54,
    "start_time": "2024-10-03T07:03:31.651Z"
   },
   {
    "duration": 19,
    "start_time": "2024-10-03T07:03:31.707Z"
   },
   {
    "duration": 16,
    "start_time": "2024-10-03T07:03:31.728Z"
   },
   {
    "duration": 9,
    "start_time": "2024-10-03T07:03:31.746Z"
   },
   {
    "duration": 15,
    "start_time": "2024-10-03T07:03:31.757Z"
   },
   {
    "duration": 35,
    "start_time": "2024-10-03T07:03:31.775Z"
   },
   {
    "duration": 10,
    "start_time": "2024-10-03T07:03:31.812Z"
   },
   {
    "duration": 26,
    "start_time": "2024-10-03T07:03:31.824Z"
   },
   {
    "duration": 15,
    "start_time": "2024-10-03T07:03:31.852Z"
   },
   {
    "duration": 31,
    "start_time": "2024-10-03T07:03:31.869Z"
   },
   {
    "duration": 28,
    "start_time": "2024-10-03T07:03:31.902Z"
   },
   {
    "duration": 29,
    "start_time": "2024-10-03T07:03:31.932Z"
   },
   {
    "duration": 17,
    "start_time": "2024-10-03T07:03:31.963Z"
   },
   {
    "duration": 94,
    "start_time": "2024-10-03T07:03:31.982Z"
   },
   {
    "duration": 8,
    "start_time": "2024-10-03T07:03:32.078Z"
   },
   {
    "duration": 14,
    "start_time": "2024-10-03T07:03:32.088Z"
   },
   {
    "duration": 31,
    "start_time": "2024-10-03T07:03:32.105Z"
   },
   {
    "duration": 12,
    "start_time": "2024-10-03T07:03:32.138Z"
   },
   {
    "duration": 5,
    "start_time": "2024-10-03T07:03:32.152Z"
   },
   {
    "duration": 10,
    "start_time": "2024-10-03T07:03:32.158Z"
   },
   {
    "duration": 28,
    "start_time": "2024-10-03T07:03:32.170Z"
   },
   {
    "duration": 25,
    "start_time": "2024-10-03T07:03:32.200Z"
   },
   {
    "duration": 25,
    "start_time": "2024-10-03T07:03:32.227Z"
   },
   {
    "duration": 4,
    "start_time": "2024-10-03T07:03:32.258Z"
   },
   {
    "duration": 45,
    "start_time": "2024-10-03T07:03:32.264Z"
   },
   {
    "duration": 9,
    "start_time": "2024-10-03T07:03:32.311Z"
   },
   {
    "duration": 12,
    "start_time": "2024-10-03T07:03:32.322Z"
   },
   {
    "duration": 6,
    "start_time": "2024-10-03T07:03:32.336Z"
   },
   {
    "duration": 16,
    "start_time": "2024-10-03T07:03:32.344Z"
   },
   {
    "duration": 28,
    "start_time": "2024-10-03T07:03:32.361Z"
   },
   {
    "duration": 502,
    "start_time": "2024-10-03T07:03:32.391Z"
   },
   {
    "duration": 24,
    "start_time": "2024-10-03T07:03:32.895Z"
   },
   {
    "duration": 440,
    "start_time": "2024-10-03T07:03:32.921Z"
   },
   {
    "duration": 7,
    "start_time": "2024-10-03T07:03:33.363Z"
   },
   {
    "duration": 351,
    "start_time": "2024-10-03T07:03:33.372Z"
   },
   {
    "duration": 8,
    "start_time": "2024-10-03T07:03:33.725Z"
   },
   {
    "duration": 61,
    "start_time": "2024-10-03T07:03:33.735Z"
   },
   {
    "duration": 22,
    "start_time": "2024-10-03T07:03:33.797Z"
   },
   {
    "duration": 279,
    "start_time": "2024-10-03T07:03:33.820Z"
   },
   {
    "duration": 135,
    "start_time": "2024-10-03T07:03:34.104Z"
   },
   {
    "duration": 295,
    "start_time": "2024-10-03T07:03:34.241Z"
   },
   {
    "duration": 419,
    "start_time": "2024-10-03T07:03:34.538Z"
   },
   {
    "duration": 375,
    "start_time": "2024-10-03T07:03:34.958Z"
   },
   {
    "duration": 452,
    "start_time": "2024-10-03T07:03:35.335Z"
   },
   {
    "duration": 474,
    "start_time": "2024-10-03T07:03:35.788Z"
   },
   {
    "duration": 450,
    "start_time": "2024-10-03T07:03:36.263Z"
   },
   {
    "duration": 6,
    "start_time": "2024-10-03T07:03:36.715Z"
   },
   {
    "duration": 286,
    "start_time": "2024-10-03T07:03:36.723Z"
   },
   {
    "duration": 6,
    "start_time": "2024-10-03T07:03:37.012Z"
   },
   {
    "duration": 328,
    "start_time": "2024-10-03T07:03:37.020Z"
   },
   {
    "duration": 5,
    "start_time": "2024-10-03T07:03:37.351Z"
   },
   {
    "duration": 56,
    "start_time": "2024-10-03T07:03:37.358Z"
   },
   {
    "duration": 10,
    "start_time": "2024-10-03T07:03:37.416Z"
   },
   {
    "duration": 29,
    "start_time": "2024-10-03T07:03:37.428Z"
   },
   {
    "duration": 69,
    "start_time": "2024-10-03T07:03:37.459Z"
   },
   {
    "duration": 7,
    "start_time": "2024-10-03T07:03:37.530Z"
   },
   {
    "duration": 27,
    "start_time": "2024-10-03T07:03:37.539Z"
   },
   {
    "duration": 22,
    "start_time": "2024-10-03T07:03:37.568Z"
   },
   {
    "duration": 29,
    "start_time": "2024-10-03T07:03:37.592Z"
   },
   {
    "duration": 216,
    "start_time": "2024-10-03T07:03:37.623Z"
   },
   {
    "duration": 400,
    "start_time": "2024-10-03T07:03:37.841Z"
   },
   {
    "duration": 5,
    "start_time": "2024-10-03T07:03:38.243Z"
   },
   {
    "duration": 167,
    "start_time": "2024-10-03T07:03:38.250Z"
   },
   {
    "duration": 365,
    "start_time": "2024-10-03T07:03:38.419Z"
   },
   {
    "duration": 390,
    "start_time": "2024-10-03T07:03:38.786Z"
   },
   {
    "duration": 336,
    "start_time": "2024-10-03T07:03:39.178Z"
   },
   {
    "duration": 1157,
    "start_time": "2024-10-03T07:04:18.211Z"
   },
   {
    "duration": 2,
    "start_time": "2024-10-03T07:04:19.370Z"
   },
   {
    "duration": 114,
    "start_time": "2024-10-03T07:04:19.405Z"
   },
   {
    "duration": 5,
    "start_time": "2024-10-03T07:04:19.520Z"
   },
   {
    "duration": 38,
    "start_time": "2024-10-03T07:04:19.527Z"
   },
   {
    "duration": 17,
    "start_time": "2024-10-03T07:04:19.606Z"
   },
   {
    "duration": 16,
    "start_time": "2024-10-03T07:04:19.625Z"
   },
   {
    "duration": 8,
    "start_time": "2024-10-03T07:04:19.642Z"
   },
   {
    "duration": 17,
    "start_time": "2024-10-03T07:04:19.704Z"
   },
   {
    "duration": 5,
    "start_time": "2024-10-03T07:04:19.723Z"
   },
   {
    "duration": 10,
    "start_time": "2024-10-03T07:04:19.729Z"
   },
   {
    "duration": 10,
    "start_time": "2024-10-03T07:04:19.740Z"
   },
   {
    "duration": 5,
    "start_time": "2024-10-03T07:04:19.752Z"
   },
   {
    "duration": 5,
    "start_time": "2024-10-03T07:04:19.807Z"
   },
   {
    "duration": 5,
    "start_time": "2024-10-03T07:04:19.814Z"
   },
   {
    "duration": 15,
    "start_time": "2024-10-03T07:04:19.821Z"
   },
   {
    "duration": 5,
    "start_time": "2024-10-03T07:04:19.839Z"
   },
   {
    "duration": 97,
    "start_time": "2024-10-03T07:04:19.846Z"
   },
   {
    "duration": 6,
    "start_time": "2024-10-03T07:04:19.944Z"
   },
   {
    "duration": 8,
    "start_time": "2024-10-03T07:04:20.005Z"
   },
   {
    "duration": 18,
    "start_time": "2024-10-03T07:04:20.014Z"
   },
   {
    "duration": 74,
    "start_time": "2024-10-03T07:04:20.034Z"
   },
   {
    "duration": 5,
    "start_time": "2024-10-03T07:04:20.109Z"
   },
   {
    "duration": 13,
    "start_time": "2024-10-03T07:04:20.116Z"
   },
   {
    "duration": 5,
    "start_time": "2024-10-03T07:04:20.131Z"
   },
   {
    "duration": 7,
    "start_time": "2024-10-03T07:04:20.138Z"
   },
   {
    "duration": 67,
    "start_time": "2024-10-03T07:04:20.147Z"
   },
   {
    "duration": 4,
    "start_time": "2024-10-03T07:04:20.215Z"
   },
   {
    "duration": 19,
    "start_time": "2024-10-03T07:04:20.221Z"
   },
   {
    "duration": 7,
    "start_time": "2024-10-03T07:04:20.242Z"
   },
   {
    "duration": 57,
    "start_time": "2024-10-03T07:04:20.251Z"
   },
   {
    "duration": 4,
    "start_time": "2024-10-03T07:04:20.310Z"
   },
   {
    "duration": 32,
    "start_time": "2024-10-03T07:04:20.315Z"
   },
   {
    "duration": 70,
    "start_time": "2024-10-03T07:04:20.349Z"
   },
   {
    "duration": 641,
    "start_time": "2024-10-03T07:04:20.420Z"
   },
   {
    "duration": 20,
    "start_time": "2024-10-03T07:04:21.063Z"
   },
   {
    "duration": 358,
    "start_time": "2024-10-03T07:04:21.084Z"
   },
   {
    "duration": 6,
    "start_time": "2024-10-03T07:04:21.444Z"
   },
   {
    "duration": 324,
    "start_time": "2024-10-03T07:04:21.452Z"
   },
   {
    "duration": 11,
    "start_time": "2024-10-03T07:04:21.777Z"
   },
   {
    "duration": 56,
    "start_time": "2024-10-03T07:04:21.808Z"
   },
   {
    "duration": 19,
    "start_time": "2024-10-03T07:04:21.865Z"
   },
   {
    "duration": 247,
    "start_time": "2024-10-03T07:04:21.886Z"
   },
   {
    "duration": 138,
    "start_time": "2024-10-03T07:04:22.135Z"
   },
   {
    "duration": 289,
    "start_time": "2024-10-03T07:04:22.274Z"
   },
   {
    "duration": 406,
    "start_time": "2024-10-03T07:04:22.565Z"
   },
   {
    "duration": 371,
    "start_time": "2024-10-03T07:04:22.972Z"
   },
   {
    "duration": 387,
    "start_time": "2024-10-03T07:04:23.345Z"
   },
   {
    "duration": 398,
    "start_time": "2024-10-03T07:04:23.734Z"
   },
   {
    "duration": 519,
    "start_time": "2024-10-03T07:04:24.134Z"
   },
   {
    "duration": 6,
    "start_time": "2024-10-03T07:04:24.654Z"
   },
   {
    "duration": 287,
    "start_time": "2024-10-03T07:04:24.662Z"
   },
   {
    "duration": 5,
    "start_time": "2024-10-03T07:04:24.951Z"
   },
   {
    "duration": 335,
    "start_time": "2024-10-03T07:04:24.958Z"
   },
   {
    "duration": 14,
    "start_time": "2024-10-03T07:04:25.294Z"
   },
   {
    "duration": 60,
    "start_time": "2024-10-03T07:04:25.310Z"
   },
   {
    "duration": 9,
    "start_time": "2024-10-03T07:04:25.372Z"
   },
   {
    "duration": 10,
    "start_time": "2024-10-03T07:04:25.382Z"
   },
   {
    "duration": 39,
    "start_time": "2024-10-03T07:04:25.393Z"
   },
   {
    "duration": 6,
    "start_time": "2024-10-03T07:04:25.433Z"
   },
   {
    "duration": 12,
    "start_time": "2024-10-03T07:04:25.441Z"
   },
   {
    "duration": 21,
    "start_time": "2024-10-03T07:04:25.454Z"
   },
   {
    "duration": 4,
    "start_time": "2024-10-03T07:04:25.477Z"
   },
   {
    "duration": 183,
    "start_time": "2024-10-03T07:04:25.483Z"
   },
   {
    "duration": 415,
    "start_time": "2024-10-03T07:04:25.667Z"
   },
   {
    "duration": 7,
    "start_time": "2024-10-03T07:04:26.085Z"
   },
   {
    "duration": 201,
    "start_time": "2024-10-03T07:04:26.096Z"
   },
   {
    "duration": 341,
    "start_time": "2024-10-03T07:04:26.299Z"
   },
   {
    "duration": 387,
    "start_time": "2024-10-03T07:04:26.642Z"
   },
   {
    "duration": 358,
    "start_time": "2024-10-03T07:04:27.031Z"
   },
   {
    "duration": 1370,
    "start_time": "2024-12-09T16:19:42.905Z"
   },
   {
    "duration": 3,
    "start_time": "2024-12-09T16:19:44.277Z"
   },
   {
    "duration": 231,
    "start_time": "2024-12-09T16:19:44.282Z"
   },
   {
    "duration": 5,
    "start_time": "2024-12-09T16:19:44.515Z"
   },
   {
    "duration": 21,
    "start_time": "2024-12-09T16:19:44.522Z"
   },
   {
    "duration": 17,
    "start_time": "2024-12-09T16:19:44.544Z"
   },
   {
    "duration": 18,
    "start_time": "2024-12-09T16:19:44.562Z"
   },
   {
    "duration": 6,
    "start_time": "2024-12-09T16:19:44.582Z"
   },
   {
    "duration": 11,
    "start_time": "2024-12-09T16:19:44.589Z"
   },
   {
    "duration": 5,
    "start_time": "2024-12-09T16:19:44.631Z"
   },
   {
    "duration": 11,
    "start_time": "2024-12-09T16:19:44.637Z"
   },
   {
    "duration": 4,
    "start_time": "2024-12-09T16:19:44.650Z"
   },
   {
    "duration": 8,
    "start_time": "2024-12-09T16:19:44.655Z"
   },
   {
    "duration": 4,
    "start_time": "2024-12-09T16:19:44.664Z"
   },
   {
    "duration": 4,
    "start_time": "2024-12-09T16:19:44.669Z"
   },
   {
    "duration": 3,
    "start_time": "2024-12-09T16:19:44.675Z"
   },
   {
    "duration": 13,
    "start_time": "2024-12-09T16:19:44.679Z"
   },
   {
    "duration": 75,
    "start_time": "2024-12-09T16:19:44.694Z"
   },
   {
    "duration": 5,
    "start_time": "2024-12-09T16:19:44.771Z"
   },
   {
    "duration": 12,
    "start_time": "2024-12-09T16:19:44.777Z"
   },
   {
    "duration": 8,
    "start_time": "2024-12-09T16:19:44.790Z"
   },
   {
    "duration": 4,
    "start_time": "2024-12-09T16:19:44.799Z"
   },
   {
    "duration": 26,
    "start_time": "2024-12-09T16:19:44.804Z"
   },
   {
    "duration": 8,
    "start_time": "2024-12-09T16:19:44.832Z"
   },
   {
    "duration": 5,
    "start_time": "2024-12-09T16:19:44.842Z"
   },
   {
    "duration": 7,
    "start_time": "2024-12-09T16:19:44.848Z"
   },
   {
    "duration": 11,
    "start_time": "2024-12-09T16:19:44.856Z"
   },
   {
    "duration": 3,
    "start_time": "2024-12-09T16:19:44.872Z"
   },
   {
    "duration": 11,
    "start_time": "2024-12-09T16:19:44.877Z"
   },
   {
    "duration": 49,
    "start_time": "2024-12-09T16:19:44.890Z"
   },
   {
    "duration": 6,
    "start_time": "2024-12-09T16:19:44.941Z"
   },
   {
    "duration": 13,
    "start_time": "2024-12-09T16:19:44.948Z"
   },
   {
    "duration": 13,
    "start_time": "2024-12-09T16:19:44.962Z"
   },
   {
    "duration": 29,
    "start_time": "2024-12-09T16:19:44.976Z"
   },
   {
    "duration": 500,
    "start_time": "2024-12-09T16:19:45.007Z"
   },
   {
    "duration": 18,
    "start_time": "2024-12-09T16:19:45.508Z"
   },
   {
    "duration": 322,
    "start_time": "2024-12-09T16:19:45.528Z"
   },
   {
    "duration": 6,
    "start_time": "2024-12-09T16:19:45.852Z"
   },
   {
    "duration": 312,
    "start_time": "2024-12-09T16:19:45.860Z"
   },
   {
    "duration": 7,
    "start_time": "2024-12-09T16:19:46.174Z"
   },
   {
    "duration": 9,
    "start_time": "2024-12-09T16:19:46.183Z"
   },
   {
    "duration": 7,
    "start_time": "2024-12-09T16:19:46.193Z"
   },
   {
    "duration": 236,
    "start_time": "2024-12-09T16:19:46.201Z"
   },
   {
    "duration": 130,
    "start_time": "2024-12-09T16:19:46.438Z"
   },
   {
    "duration": 285,
    "start_time": "2024-12-09T16:19:46.570Z"
   },
   {
    "duration": 404,
    "start_time": "2024-12-09T16:19:46.856Z"
   },
   {
    "duration": 372,
    "start_time": "2024-12-09T16:19:47.262Z"
   },
   {
    "duration": 326,
    "start_time": "2024-12-09T16:19:47.636Z"
   },
   {
    "duration": 454,
    "start_time": "2024-12-09T16:19:47.963Z"
   },
   {
    "duration": 416,
    "start_time": "2024-12-09T16:19:48.418Z"
   },
   {
    "duration": 6,
    "start_time": "2024-12-09T16:19:48.836Z"
   },
   {
    "duration": 328,
    "start_time": "2024-12-09T16:19:48.843Z"
   },
   {
    "duration": 5,
    "start_time": "2024-12-09T16:19:49.173Z"
   },
   {
    "duration": 308,
    "start_time": "2024-12-09T16:19:49.179Z"
   },
   {
    "duration": 5,
    "start_time": "2024-12-09T16:19:49.488Z"
   },
   {
    "duration": 43,
    "start_time": "2024-12-09T16:19:49.494Z"
   },
   {
    "duration": 9,
    "start_time": "2024-12-09T16:19:49.539Z"
   },
   {
    "duration": 9,
    "start_time": "2024-12-09T16:19:49.549Z"
   },
   {
    "duration": 29,
    "start_time": "2024-12-09T16:19:49.560Z"
   },
   {
    "duration": 6,
    "start_time": "2024-12-09T16:19:49.591Z"
   },
   {
    "duration": 40,
    "start_time": "2024-12-09T16:19:49.598Z"
   },
   {
    "duration": 11,
    "start_time": "2024-12-09T16:19:49.639Z"
   },
   {
    "duration": 5,
    "start_time": "2024-12-09T16:19:49.651Z"
   },
   {
    "duration": 181,
    "start_time": "2024-12-09T16:19:49.658Z"
   },
   {
    "duration": 361,
    "start_time": "2024-12-09T16:19:49.841Z"
   },
   {
    "duration": 5,
    "start_time": "2024-12-09T16:19:50.204Z"
   },
   {
    "duration": 172,
    "start_time": "2024-12-09T16:19:50.210Z"
   },
   {
    "duration": 366,
    "start_time": "2024-12-09T16:19:50.384Z"
   },
   {
    "duration": 372,
    "start_time": "2024-12-09T16:19:50.751Z"
   },
   {
    "duration": 315,
    "start_time": "2024-12-09T16:19:51.125Z"
   }
  ],
  "kernelspec": {
   "display_name": "Python 3 (ipykernel)",
   "language": "python",
   "name": "python3"
  },
  "language_info": {
   "codemirror_mode": {
    "name": "ipython",
    "version": 3
   },
   "file_extension": ".py",
   "mimetype": "text/x-python",
   "name": "python",
   "nbconvert_exporter": "python",
   "pygments_lexer": "ipython3",
   "version": "3.11.5"
  },
  "toc": {
   "base_numbering": 1,
   "nav_menu": {},
   "number_sections": true,
   "sideBar": true,
   "skip_h1_title": true,
   "title_cell": "Table of Contents",
   "title_sidebar": "Contents",
   "toc_cell": false,
   "toc_position": {
    "height": "calc(100% - 180px)",
    "left": "10px",
    "top": "150px",
    "width": "359.600006px"
   },
   "toc_section_display": true,
   "toc_window_display": false
  },
  "varInspector": {
   "cols": {
    "lenName": 16,
    "lenType": 16,
    "lenVar": 40
   },
   "kernels_config": {
    "python": {
     "delete_cmd_postfix": "",
     "delete_cmd_prefix": "del ",
     "library": "var_list.py",
     "varRefreshCmd": "print(var_dic_list())"
    },
    "r": {
     "delete_cmd_postfix": ") ",
     "delete_cmd_prefix": "rm(",
     "library": "var_list.r",
     "varRefreshCmd": "cat(var_dic_list()) "
    }
   },
   "types_to_exclude": [
    "module",
    "function",
    "builtin_function_or_method",
    "instance",
    "_Feature"
   ],
   "window_display": false
  }
 },
 "nbformat": 4,
 "nbformat_minor": 2
}
