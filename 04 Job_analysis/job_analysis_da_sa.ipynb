{
 "cells": [
  {
   "cell_type": "markdown",
   "id": "5b1ffebc",
   "metadata": {},
   "source": [
    "<h1 align=\"center\"> Анализ данных вакансий сайта hh.ru на примере аналитиков данных и системных аналитиков</h1>\n",
    "    \n",
    "__Цель:__\n",
    "    \n",
    "Выявить различия в предлагаемых вакансиях для аналитиков данных и системных аналитиков.\n",
    "    \n",
    "__Порядок выполнения исследования:__\n",
    "* Парсинг данных с использованием API hh.ru;\n",
    "* Изучение данных в столбцах, их правка и чистка;\n",
    "* Добавление необходимых столбцов в таблицу;\n",
    "* Исследовательский анализ данных;\n",
    "* Определение долей грейдов;\n",
    "* Определение типичного места работы в зависимости от грейда;\n",
    "* Доли хард и софт скиллов и определение наиболее важных из них по грейдам;\n",
    "* Формулирование итогового вывода проведенного исследования."
   ]
  },
  {
   "cell_type": "code",
   "execution_count": 1,
   "id": "6c7e5fb6",
   "metadata": {},
   "outputs": [],
   "source": [
    "# Импортируем необходимые библиотеки\n",
    "import requests\n",
    "import pandas as pd\n",
    "import numpy as np\n",
    "\n",
    "import json\n",
    "\n",
    "from datetime import datetime, timedelta\n",
    "import time\n",
    "import os\n",
    "from IPython.display import display, HTML, clear_output\n",
    "import ipywidgets as widgets\n",
    "from typing import Union\n",
    "\n",
    "import matplotlib.pyplot as plt\n",
    "import matplotlib.dates as mdates\n",
    "import seaborn as sns\n",
    "import plotly.express as px\n",
    "import plotly.graph_objects as go\n",
    "\n",
    "from tqdm.notebook import tqdm\n",
    "\n",
    "import re\n",
    "\n",
    "from collections import Counter"
   ]
  },
  {
   "cell_type": "code",
   "execution_count": 2,
   "id": "3a0bfd1f",
   "metadata": {},
   "outputs": [],
   "source": [
    "import ast"
   ]
  },
  {
   "cell_type": "code",
   "execution_count": 3,
   "id": "404852e8",
   "metadata": {},
   "outputs": [],
   "source": [
    "# Установим максимальное количество отображаемых строк\n",
    "# pd.set_option('display.max_rows', 400)  # Установите нужное значение"
   ]
  },
  {
   "cell_type": "markdown",
   "id": "c09ab690",
   "metadata": {},
   "source": [
    "## 1. Получение данных из API hh.ru"
   ]
  },
  {
   "cell_type": "markdown",
   "id": "55b9a097",
   "metadata": {},
   "source": [
    "После первичного ознакомления с предоставленными на проект исходными данными, было принято решение самостоятельно сформировать набор данных для выполнения проекта. Причины следующие:\n",
    "* непонимание логики выборочного парсинга исходных данных (например, для аналитиков данных взяты отдельные даты за 5 месяцев);\n",
    "* несовпадение периодов времени для рассматриваемых вакансий аналитиков и системных аналитиков;\n",
    "* желание получить больший объем данных (например, в исходном датасете только у 3-х синьоров аналитиков данных указана ЗП);\n"
   ]
  },
  {
   "cell_type": "markdown",
   "id": "10eb6675",
   "metadata": {},
   "source": [
    "В параметрах запроса использовался отбор по словам \"Аналитик\" или \"Analyst\" в поле названия вакансии, чтобы зацепить максимальное количество вариантов, которые могут относиться к аналитикам данных и системным аналитикам. В дальнейшем эти данные будут отфильтрованы.\n",
    "\n",
    "Нам интересны российские вакансии, поэтому параметр area  ограничен значением 113 (id России).\n",
    "\n",
    "Поскольку API сайта hh.ru позволяет получить только 2000 вакансий в одном запросе, мы, во-первых, ограничиваем временной промежуток за который собираем данные и, во-вторых, дробим запрос по отдельным уровням опыта работы.\n",
    "\n",
    "Бесплатно можно загрузить данные только по открытым вакансиям за последние 30 дней. Закрытые вакансии уходят в архив и  мы теряем к ним доступ. Это на наш взгляд может несколько искажать объективное положение дел. Например, вакансии с самыми выгодными предложениями по зарплате закрываются очень быстро и выпадают из рассмотрения. А \"плохие\" предложения продолжают висеть. То есть средняя ЗП по свежим открытым вакансиям будет выше, чем у старых вакансий. Мы проверим эту гипотезу далее в исследовании. Исправить эту ситуацию можно ежедневным пополнением датасета вакансий. В рамках данного исследования такой возможности нет, поэтому мы использовали \"мгновенный\" слепок сайта hh.ru по состоянию на 18 августа 2024 года.\n",
    "\n",
    "Рассмотрены вакансии опубликованные с 19 июля 2024 года по 18 августа 2024 года. Данные были собраны в 7 заходов, после чего были объединены в один датафрейм."
   ]
  },
  {
   "cell_type": "code",
   "execution_count": 4,
   "id": "f2c26e6a",
   "metadata": {},
   "outputs": [],
   "source": [
    "# BASE_URL = \"https://api.hh.ru/\"\n",
    "\n",
    "# TEXT = f'NAME:(Аналитик OR Analyst)'\n",
    "\n",
    "# dt_now = datetime.now().date()\n",
    "# dt_from = dt_now - timedelta(days=2)\n",
    "# DATE_TO = dt_now.isoformat() #API требует дату в формате ISO 8601 YYYY-MM-DD или YYYY-MM-DDThh:mm:ss±hhmm\n",
    "# DATE_FROM = dt_from.isoformat()\n",
    "# AREA = 113\n",
    "\n",
    "# VAC_URL = (\n",
    "#     BASE_URL \n",
    "#     + f'vacancies?text={TEXT}&date_from={DATE_FROM}&date_to={DATE_TO}'\n",
    "#     + f'&area={AREA}&per_page=100&responses_count_enabled=True'\n",
    "# )"
   ]
  },
  {
   "cell_type": "code",
   "execution_count": 5,
   "id": "170e1c73",
   "metadata": {},
   "outputs": [],
   "source": [
    "# Создаем датафрейм в который будем сохранять наши данные\n",
    "# vac_1 = pd.DataFrame()"
   ]
  },
  {
   "cell_type": "code",
   "execution_count": 6,
   "id": "806c900a",
   "metadata": {},
   "outputs": [],
   "source": [
    "# Выделим отдельные уровни опыта работы\n",
    "# experiences = ['noExperience',\n",
    "#                'between1And3',\n",
    "#                'between3And6', \n",
    "#                'moreThan6']"
   ]
  },
  {
   "cell_type": "markdown",
   "id": "bfb83483",
   "metadata": {},
   "source": [
    "Извлечем данные с вэб-сайта, используя различные уровни опыта работы"
   ]
  },
  {
   "cell_type": "code",
   "execution_count": 7,
   "id": "16d2e9ac",
   "metadata": {},
   "outputs": [],
   "source": [
    "# for exp in experiences:\n",
    "#     page = 0\n",
    "#     url = VAC_URL + f'&experience={exp}'\n",
    "#     try:\n",
    "#         r = requests.get(url + f'&page={page}')\n",
    "#         data = json.loads(r.text)\n",
    "#         print(exp, ' – ', data['pages'])\n",
    "#         items = data['items']\n",
    "#         for page in tqdm(range(1, data['pages'])):\n",
    "#             r = requests.get(url + f'&page={page}')\n",
    "#             data = json.loads(r.text)\n",
    "#             items += data['items']\n",
    "#         df = pd.DataFrame(items)\n",
    "#         df['experience'] = exp\n",
    "#         vac_1 = pd.concat([vac_1, df])\n",
    "#     except Exception as e:\n",
    "#         print(exp, ' – ', e)\n",
    "#         time.sleep(5)"
   ]
  },
  {
   "cell_type": "code",
   "execution_count": 8,
   "id": "1b8b70a0",
   "metadata": {},
   "outputs": [],
   "source": [
    "# vac_1.to_csv(\"vac_1.csv\")"
   ]
  },
  {
   "cell_type": "code",
   "execution_count": 9,
   "id": "68bb9ce0",
   "metadata": {},
   "outputs": [],
   "source": [
    "# vac_2.to_csv(\"vac_2.csv\")"
   ]
  },
  {
   "cell_type": "code",
   "execution_count": 10,
   "id": "e37b0f23",
   "metadata": {},
   "outputs": [],
   "source": [
    "# vac_3.to_csv(\"vac_3.csv\")"
   ]
  },
  {
   "cell_type": "code",
   "execution_count": 11,
   "id": "9aa6667c",
   "metadata": {},
   "outputs": [],
   "source": [
    "# vac_4.to_csv(\"vac_4.csv\")"
   ]
  },
  {
   "cell_type": "code",
   "execution_count": 12,
   "id": "7f769ae6",
   "metadata": {},
   "outputs": [],
   "source": [
    "# vac_5.to_csv(\"vac_5.csv\")"
   ]
  },
  {
   "cell_type": "code",
   "execution_count": 13,
   "id": "81245c55",
   "metadata": {},
   "outputs": [],
   "source": [
    "# vac_6.to_csv(\"vac_6.csv\")"
   ]
  },
  {
   "cell_type": "code",
   "execution_count": 14,
   "id": "7d968c58",
   "metadata": {},
   "outputs": [],
   "source": [
    "# vac_7.to_csv(\"vac_7.csv\")"
   ]
  },
  {
   "cell_type": "code",
   "execution_count": 15,
   "id": "3c1ed928",
   "metadata": {},
   "outputs": [],
   "source": [
    "vac_1 = pd.read_csv('vac_1.csv', usecols=lambda column: column != 'Unnamed: 0')\n",
    "vac_2 = pd.read_csv('vac_2.csv', usecols=lambda column: column != 'Unnamed: 0')\n",
    "vac_3 = pd.read_csv('vac_3.csv', usecols=lambda column: column != 'Unnamed: 0')\n",
    "vac_4 = pd.read_csv('vac_4.csv', usecols=lambda column: column != 'Unnamed: 0')\n",
    "vac_5 = pd.read_csv('vac_5.csv', usecols=lambda column: column != 'Unnamed: 0')\n",
    "vac_6 = pd.read_csv('vac_6.csv', usecols=lambda column: column != 'Unnamed: 0')\n",
    "vac_7 = pd.read_csv('vac_7.csv', usecols=lambda column: column != 'Unnamed: 0')"
   ]
  },
  {
   "cell_type": "code",
   "execution_count": 16,
   "id": "c57358bb",
   "metadata": {},
   "outputs": [
    {
     "data": {
      "text/plain": [
       "array([False])"
      ]
     },
     "execution_count": 16,
     "metadata": {},
     "output_type": "execute_result"
    }
   ],
   "source": [
    "# Объединяем DataFrame\n",
    "combined_df = pd.concat([vac_1, vac_2, vac_3, vac_4, vac_5, vac_6, vac_7], ignore_index=True)\n",
    "\n",
    "# Проверяем наличие дубликатов\n",
    "combined_df.duplicated().unique()"
   ]
  },
  {
   "cell_type": "code",
   "execution_count": 17,
   "id": "a2ca9e2e",
   "metadata": {},
   "outputs": [
    {
     "name": "stdout",
     "output_type": "stream",
     "text": [
      "<class 'pandas.core.frame.DataFrame'>\n",
      "RangeIndex: 15936 entries, 0 to 15935\n",
      "Data columns (total 38 columns):\n",
      " #   Column                     Non-Null Count  Dtype  \n",
      "---  ------                     --------------  -----  \n",
      " 0   id                         15936 non-null  int64  \n",
      " 1   premium                    15936 non-null  bool   \n",
      " 2   name                       15936 non-null  object \n",
      " 3   department                 3011 non-null   object \n",
      " 4   has_test                   15936 non-null  bool   \n",
      " 5   response_letter_required   15936 non-null  bool   \n",
      " 6   area                       15936 non-null  object \n",
      " 7   salary                     5024 non-null   object \n",
      " 8   type                       15936 non-null  object \n",
      " 9   address                    8942 non-null   object \n",
      " 10  response_url               0 non-null      float64\n",
      " 11  sort_point_distance        0 non-null      float64\n",
      " 12  published_at               15936 non-null  object \n",
      " 13  created_at                 15936 non-null  object \n",
      " 14  archived                   15936 non-null  bool   \n",
      " 15  apply_alternate_url        15936 non-null  object \n",
      " 16  show_logo_in_search        7930 non-null   object \n",
      " 17  insider_interview          530 non-null    object \n",
      " 18  url                        15936 non-null  object \n",
      " 19  alternate_url              15936 non-null  object \n",
      " 20  relations                  15936 non-null  object \n",
      " 21  employer                   15936 non-null  object \n",
      " 22  snippet                    15936 non-null  object \n",
      " 23  contacts                   0 non-null      float64\n",
      " 24  schedule                   15936 non-null  object \n",
      " 25  working_days               15936 non-null  object \n",
      " 26  working_time_intervals     15936 non-null  object \n",
      " 27  working_time_modes         15936 non-null  object \n",
      " 28  accept_temporary           15936 non-null  bool   \n",
      " 29  professional_roles         15936 non-null  object \n",
      " 30  accept_incomplete_resumes  15936 non-null  bool   \n",
      " 31  experience                 15936 non-null  object \n",
      " 32  employment                 15936 non-null  object \n",
      " 33  adv_response_url           0 non-null      float64\n",
      " 34  is_adv_vacancy             15936 non-null  bool   \n",
      " 35  adv_context                0 non-null      float64\n",
      " 36  branding                   8002 non-null   object \n",
      " 37  brand_snippet              16 non-null     object \n",
      "dtypes: bool(7), float64(5), int64(1), object(25)\n",
      "memory usage: 3.9+ MB\n"
     ]
    }
   ],
   "source": [
    "combined_df.info()"
   ]
  },
  {
   "cell_type": "markdown",
   "id": "d6ded458",
   "metadata": {},
   "source": [
    "Очистим датафрейм от ненужных столбцов"
   ]
  },
  {
   "cell_type": "code",
   "execution_count": 18,
   "id": "22263b88",
   "metadata": {},
   "outputs": [],
   "source": [
    "combined_df = combined_df.drop(combined_df.columns[[1, 4, 5, 8, 9, 10, 11, 14, 15\n",
    "                                                    , 16, 17, 19, 20, 23, 25, 28\n",
    "                                                    , 30, 33, 34, 35, 36, 37]], axis=1)"
   ]
  },
  {
   "cell_type": "code",
   "execution_count": 19,
   "id": "876f8e95",
   "metadata": {
    "scrolled": false
   },
   "outputs": [
    {
     "name": "stdout",
     "output_type": "stream",
     "text": [
      "<class 'pandas.core.frame.DataFrame'>\n",
      "RangeIndex: 15936 entries, 0 to 15935\n",
      "Data columns (total 16 columns):\n",
      " #   Column                  Non-Null Count  Dtype \n",
      "---  ------                  --------------  ----- \n",
      " 0   id                      15936 non-null  int64 \n",
      " 1   name                    15936 non-null  object\n",
      " 2   department              3011 non-null   object\n",
      " 3   area                    15936 non-null  object\n",
      " 4   salary                  5024 non-null   object\n",
      " 5   published_at            15936 non-null  object\n",
      " 6   created_at              15936 non-null  object\n",
      " 7   url                     15936 non-null  object\n",
      " 8   employer                15936 non-null  object\n",
      " 9   snippet                 15936 non-null  object\n",
      " 10  schedule                15936 non-null  object\n",
      " 11  working_time_intervals  15936 non-null  object\n",
      " 12  working_time_modes      15936 non-null  object\n",
      " 13  professional_roles      15936 non-null  object\n",
      " 14  experience              15936 non-null  object\n",
      " 15  employment              15936 non-null  object\n",
      "dtypes: int64(1), object(15)\n",
      "memory usage: 1.9+ MB\n"
     ]
    }
   ],
   "source": [
    "combined_df.info()"
   ]
  },
  {
   "cell_type": "code",
   "execution_count": 20,
   "id": "5a1e433d",
   "metadata": {},
   "outputs": [],
   "source": [
    "# Преобразование строковых представлений списков или словарей обратно в объекты Python\n",
    "list_columns = ['working_time_intervals', 'working_time_modes', 'professional_roles']\n",
    "dict_columns = ['department', 'area', 'salary', 'employment', 'employer', 'snippet', 'schedule']\n",
    "\n",
    "for column in list_columns:\n",
    "    combined_df[column] = combined_df[column].apply(lambda x: ast.literal_eval(x) if pd.notnull(x) else x)\n",
    "\n",
    "for column in dict_columns:\n",
    "    combined_df[column] = combined_df[column].apply(lambda x: ast.literal_eval(x) if pd.notnull(x) else x)"
   ]
  },
  {
   "cell_type": "code",
   "execution_count": 21,
   "id": "f42f7089",
   "metadata": {
    "scrolled": false
   },
   "outputs": [
    {
     "data": {
      "text/html": [
       "<div>\n",
       "<style scoped>\n",
       "    .dataframe tbody tr th:only-of-type {\n",
       "        vertical-align: middle;\n",
       "    }\n",
       "\n",
       "    .dataframe tbody tr th {\n",
       "        vertical-align: top;\n",
       "    }\n",
       "\n",
       "    .dataframe thead th {\n",
       "        text-align: right;\n",
       "    }\n",
       "</style>\n",
       "<table border=\"1\" class=\"dataframe\">\n",
       "  <thead>\n",
       "    <tr style=\"text-align: right;\">\n",
       "      <th></th>\n",
       "      <th>id</th>\n",
       "      <th>name</th>\n",
       "      <th>department</th>\n",
       "      <th>area</th>\n",
       "      <th>salary</th>\n",
       "      <th>published_at</th>\n",
       "      <th>created_at</th>\n",
       "      <th>url</th>\n",
       "      <th>employer</th>\n",
       "      <th>snippet</th>\n",
       "      <th>schedule</th>\n",
       "      <th>working_time_intervals</th>\n",
       "      <th>working_time_modes</th>\n",
       "      <th>professional_roles</th>\n",
       "      <th>experience</th>\n",
       "      <th>employment</th>\n",
       "    </tr>\n",
       "  </thead>\n",
       "  <tbody>\n",
       "    <tr>\n",
       "      <th>0</th>\n",
       "      <td>105905376</td>\n",
       "      <td>Аналитик данных</td>\n",
       "      <td>NaN</td>\n",
       "      <td>{'id': '3', 'name': 'Екатеринбург', 'url': 'ht...</td>\n",
       "      <td>NaN</td>\n",
       "      <td>2024-08-16T11:10:50+0300</td>\n",
       "      <td>2024-08-16T11:10:50+0300</td>\n",
       "      <td>https://api.hh.ru/vacancies/105905376?host=hh.ru</td>\n",
       "      <td>{'id': '71518', 'name': 'Artsofte', 'url': 'ht...</td>\n",
       "      <td>{'requirement': 'Знание Python, SQL и Excel, B...</td>\n",
       "      <td>{'id': 'fullDay', 'name': 'Полный день'}</td>\n",
       "      <td>[]</td>\n",
       "      <td>[]</td>\n",
       "      <td>[{'id': '156', 'name': 'BI-аналитик, аналитик ...</td>\n",
       "      <td>noExperience</td>\n",
       "      <td>{'id': 'full', 'name': 'Полная занятость'}</td>\n",
       "    </tr>\n",
       "    <tr>\n",
       "      <th>1</th>\n",
       "      <td>105945851</td>\n",
       "      <td>Junior IT специалист / системный аналитик / пр...</td>\n",
       "      <td>NaN</td>\n",
       "      <td>{'id': '1', 'name': 'Москва', 'url': 'https://...</td>\n",
       "      <td>{'from': 100000, 'to': 170000, 'currency': 'RU...</td>\n",
       "      <td>2024-08-17T20:55:17+0300</td>\n",
       "      <td>2024-08-17T20:55:17+0300</td>\n",
       "      <td>https://api.hh.ru/vacancies/105945851?host=hh.ru</td>\n",
       "      <td>{'id': '11144658', 'name': 'Громова Лукия Макс...</td>\n",
       "      <td>{'requirement': 'Если у тебя нет профильного о...</td>\n",
       "      <td>{'id': 'remote', 'name': 'Удаленная работа'}</td>\n",
       "      <td>[]</td>\n",
       "      <td>[]</td>\n",
       "      <td>[{'id': '148', 'name': 'Системный аналитик'}]</td>\n",
       "      <td>noExperience</td>\n",
       "      <td>{'id': 'full', 'name': 'Полная занятость'}</td>\n",
       "    </tr>\n",
       "    <tr>\n",
       "      <th>2</th>\n",
       "      <td>105909066</td>\n",
       "      <td>Стажировка/трудоустр: Инженер Аналитик, Програ...</td>\n",
       "      <td>NaN</td>\n",
       "      <td>{'id': '35', 'name': 'Иркутск', 'url': 'https:...</td>\n",
       "      <td>NaN</td>\n",
       "      <td>2024-08-16T11:46:24+0300</td>\n",
       "      <td>2024-08-16T11:46:24+0300</td>\n",
       "      <td>https://api.hh.ru/vacancies/105909066?host=hh.ru</td>\n",
       "      <td>{'id': '11093381', 'name': 'Инновационная Проц...</td>\n",
       "      <td>{'requirement': 'Желание развиваться в ИТ по р...</td>\n",
       "      <td>{'id': 'fullDay', 'name': 'Полный день'}</td>\n",
       "      <td>[]</td>\n",
       "      <td>[]</td>\n",
       "      <td>[{'id': '164', 'name': 'Продуктовый аналитик'}]</td>\n",
       "      <td>noExperience</td>\n",
       "      <td>{'id': 'full', 'name': 'Полная занятость'}</td>\n",
       "    </tr>\n",
       "    <tr>\n",
       "      <th>3</th>\n",
       "      <td>103934893</td>\n",
       "      <td>Стажер системный аналитик</td>\n",
       "      <td>NaN</td>\n",
       "      <td>{'id': '76', 'name': 'Ростов-на-Дону', 'url': ...</td>\n",
       "      <td>{'from': 20000, 'to': 40000, 'currency': 'RUR'...</td>\n",
       "      <td>2024-08-16T18:01:12+0300</td>\n",
       "      <td>2024-08-16T18:01:12+0300</td>\n",
       "      <td>https://api.hh.ru/vacancies/103934893?host=hh.ru</td>\n",
       "      <td>{'id': '10646936', 'name': 'Анарисуто', 'url':...</td>\n",
       "      <td>{'requirement': 'Освоить навыки оптимизации и ...</td>\n",
       "      <td>{'id': 'fullDay', 'name': 'Полный день'}</td>\n",
       "      <td>[]</td>\n",
       "      <td>[]</td>\n",
       "      <td>[{'id': '148', 'name': 'Системный аналитик'}]</td>\n",
       "      <td>noExperience</td>\n",
       "      <td>{'id': 'full', 'name': 'Полная занятость'}</td>\n",
       "    </tr>\n",
       "    <tr>\n",
       "      <th>4</th>\n",
       "      <td>104461044</td>\n",
       "      <td>Младший аналитик данных</td>\n",
       "      <td>NaN</td>\n",
       "      <td>{'id': '1437', 'name': 'Назрань', 'url': 'http...</td>\n",
       "      <td>{'from': 10000, 'to': 45000, 'currency': 'RUR'...</td>\n",
       "      <td>2024-08-16T15:15:42+0300</td>\n",
       "      <td>2024-08-16T15:15:42+0300</td>\n",
       "      <td>https://api.hh.ru/vacancies/104461044?host=hh.ru</td>\n",
       "      <td>{'id': '6126174', 'name': 'Центр АЗы', 'url': ...</td>\n",
       "      <td>{'requirement': '1. Обучаться базовым навыкам ...</td>\n",
       "      <td>{'id': 'remote', 'name': 'Удаленная работа'}</td>\n",
       "      <td>[{'id': 'from_four_to_six_hours_in_a_day', 'na...</td>\n",
       "      <td>[{'id': 'start_after_sixteen', 'name': 'Можно ...</td>\n",
       "      <td>[{'id': '40', 'name': 'Другое'}]</td>\n",
       "      <td>noExperience</td>\n",
       "      <td>{'id': 'part', 'name': 'Частичная занятость'}</td>\n",
       "    </tr>\n",
       "  </tbody>\n",
       "</table>\n",
       "</div>"
      ],
      "text/plain": [
       "          id                                               name department  \\\n",
       "0  105905376                                    Аналитик данных        NaN   \n",
       "1  105945851  Junior IT специалист / системный аналитик / пр...        NaN   \n",
       "2  105909066  Стажировка/трудоустр: Инженер Аналитик, Програ...        NaN   \n",
       "3  103934893                          Стажер системный аналитик        NaN   \n",
       "4  104461044                            Младший аналитик данных        NaN   \n",
       "\n",
       "                                                area  \\\n",
       "0  {'id': '3', 'name': 'Екатеринбург', 'url': 'ht...   \n",
       "1  {'id': '1', 'name': 'Москва', 'url': 'https://...   \n",
       "2  {'id': '35', 'name': 'Иркутск', 'url': 'https:...   \n",
       "3  {'id': '76', 'name': 'Ростов-на-Дону', 'url': ...   \n",
       "4  {'id': '1437', 'name': 'Назрань', 'url': 'http...   \n",
       "\n",
       "                                              salary  \\\n",
       "0                                                NaN   \n",
       "1  {'from': 100000, 'to': 170000, 'currency': 'RU...   \n",
       "2                                                NaN   \n",
       "3  {'from': 20000, 'to': 40000, 'currency': 'RUR'...   \n",
       "4  {'from': 10000, 'to': 45000, 'currency': 'RUR'...   \n",
       "\n",
       "               published_at                created_at  \\\n",
       "0  2024-08-16T11:10:50+0300  2024-08-16T11:10:50+0300   \n",
       "1  2024-08-17T20:55:17+0300  2024-08-17T20:55:17+0300   \n",
       "2  2024-08-16T11:46:24+0300  2024-08-16T11:46:24+0300   \n",
       "3  2024-08-16T18:01:12+0300  2024-08-16T18:01:12+0300   \n",
       "4  2024-08-16T15:15:42+0300  2024-08-16T15:15:42+0300   \n",
       "\n",
       "                                                url  \\\n",
       "0  https://api.hh.ru/vacancies/105905376?host=hh.ru   \n",
       "1  https://api.hh.ru/vacancies/105945851?host=hh.ru   \n",
       "2  https://api.hh.ru/vacancies/105909066?host=hh.ru   \n",
       "3  https://api.hh.ru/vacancies/103934893?host=hh.ru   \n",
       "4  https://api.hh.ru/vacancies/104461044?host=hh.ru   \n",
       "\n",
       "                                            employer  \\\n",
       "0  {'id': '71518', 'name': 'Artsofte', 'url': 'ht...   \n",
       "1  {'id': '11144658', 'name': 'Громова Лукия Макс...   \n",
       "2  {'id': '11093381', 'name': 'Инновационная Проц...   \n",
       "3  {'id': '10646936', 'name': 'Анарисуто', 'url':...   \n",
       "4  {'id': '6126174', 'name': 'Центр АЗы', 'url': ...   \n",
       "\n",
       "                                             snippet  \\\n",
       "0  {'requirement': 'Знание Python, SQL и Excel, B...   \n",
       "1  {'requirement': 'Если у тебя нет профильного о...   \n",
       "2  {'requirement': 'Желание развиваться в ИТ по р...   \n",
       "3  {'requirement': 'Освоить навыки оптимизации и ...   \n",
       "4  {'requirement': '1. Обучаться базовым навыкам ...   \n",
       "\n",
       "                                       schedule  \\\n",
       "0      {'id': 'fullDay', 'name': 'Полный день'}   \n",
       "1  {'id': 'remote', 'name': 'Удаленная работа'}   \n",
       "2      {'id': 'fullDay', 'name': 'Полный день'}   \n",
       "3      {'id': 'fullDay', 'name': 'Полный день'}   \n",
       "4  {'id': 'remote', 'name': 'Удаленная работа'}   \n",
       "\n",
       "                              working_time_intervals  \\\n",
       "0                                                 []   \n",
       "1                                                 []   \n",
       "2                                                 []   \n",
       "3                                                 []   \n",
       "4  [{'id': 'from_four_to_six_hours_in_a_day', 'na...   \n",
       "\n",
       "                                  working_time_modes  \\\n",
       "0                                                 []   \n",
       "1                                                 []   \n",
       "2                                                 []   \n",
       "3                                                 []   \n",
       "4  [{'id': 'start_after_sixteen', 'name': 'Можно ...   \n",
       "\n",
       "                                  professional_roles    experience  \\\n",
       "0  [{'id': '156', 'name': 'BI-аналитик, аналитик ...  noExperience   \n",
       "1      [{'id': '148', 'name': 'Системный аналитик'}]  noExperience   \n",
       "2    [{'id': '164', 'name': 'Продуктовый аналитик'}]  noExperience   \n",
       "3      [{'id': '148', 'name': 'Системный аналитик'}]  noExperience   \n",
       "4                   [{'id': '40', 'name': 'Другое'}]  noExperience   \n",
       "\n",
       "                                      employment  \n",
       "0     {'id': 'full', 'name': 'Полная занятость'}  \n",
       "1     {'id': 'full', 'name': 'Полная занятость'}  \n",
       "2     {'id': 'full', 'name': 'Полная занятость'}  \n",
       "3     {'id': 'full', 'name': 'Полная занятость'}  \n",
       "4  {'id': 'part', 'name': 'Частичная занятость'}  "
      ]
     },
     "execution_count": 21,
     "metadata": {},
     "output_type": "execute_result"
    }
   ],
   "source": [
    "combined_df.head()"
   ]
  },
  {
   "cell_type": "markdown",
   "id": "956c4e0f",
   "metadata": {},
   "source": [
    "Три столбца содержат пустые списки или списки с одним значением. Развернем их, чтобы сделать датафрейм более удобным для анализа"
   ]
  },
  {
   "cell_type": "code",
   "execution_count": 22,
   "id": "0b94593f",
   "metadata": {},
   "outputs": [],
   "source": [
    "combined_df['working_time_intervals'] = combined_df['working_time_intervals'].explode()\n",
    "combined_df['working_time_modes'] = combined_df['working_time_modes'].explode()\n",
    "combined_df['professional_roles'] = combined_df['professional_roles'].explode()"
   ]
  },
  {
   "cell_type": "markdown",
   "id": "53d5f8dc",
   "metadata": {},
   "source": [
    "Напишем функцию, которая поможет нем извлечь данные по заданному ключу из словарей."
   ]
  },
  {
   "cell_type": "code",
   "execution_count": 23,
   "id": "7df18703",
   "metadata": {},
   "outputs": [],
   "source": [
    "def return_id(x, key='id', nan_value=np.nan):\n",
    "    try:\n",
    "        return x[key]\n",
    "    except Exception as e:\n",
    "        return nan_value"
   ]
  },
  {
   "cell_type": "code",
   "execution_count": 24,
   "id": "597446e4",
   "metadata": {},
   "outputs": [],
   "source": [
    "combined_df['employer'] = combined_df['employer'].apply(return_id, key='name')\n",
    "combined_df['department'] = combined_df['department'].apply(return_id, key='name')\n",
    "combined_df['salary_from'] = combined_df['salary'].apply(return_id, key='from')\n",
    "combined_df['salary_to'] = combined_df['salary'].apply(return_id, key='to')\n",
    "combined_df['salary_gross'] = combined_df['salary'].apply(return_id, key='gross')\n",
    "combined_df['salary_currency'] = combined_df['salary'].apply(return_id, key='currency')\n",
    "combined_df['area'] = combined_df['area'].apply(return_id, key='name')\n",
    "combined_df['requirement'] = combined_df['snippet'].apply(return_id, key='requirement')\n",
    "combined_df['responsibility'] = combined_df['snippet'].apply(return_id, key='responsibility')\n",
    "combined_df['schedule'] = combined_df['schedule'].apply(return_id, key='name')\n",
    "combined_df['working_time_intervals'] = combined_df['working_time_intervals'].apply(return_id, key='name')\n",
    "combined_df['working_time_modes'] = combined_df['working_time_modes'].apply(return_id, key='name')\n",
    "combined_df['professional_roles'] = combined_df['professional_roles'].apply(return_id, key='name')\n",
    "combined_df['employment'] = combined_df['employment'].apply(return_id, key='name')"
   ]
  },
  {
   "cell_type": "code",
   "execution_count": 25,
   "id": "38c26938",
   "metadata": {
    "scrolled": false
   },
   "outputs": [
    {
     "name": "stdout",
     "output_type": "stream",
     "text": [
      "<class 'pandas.core.frame.DataFrame'>\n",
      "RangeIndex: 15936 entries, 0 to 15935\n",
      "Data columns (total 22 columns):\n",
      " #   Column                  Non-Null Count  Dtype  \n",
      "---  ------                  --------------  -----  \n",
      " 0   id                      15936 non-null  int64  \n",
      " 1   name                    15936 non-null  object \n",
      " 2   department              3011 non-null   object \n",
      " 3   area                    15936 non-null  object \n",
      " 4   salary                  5024 non-null   object \n",
      " 5   published_at            15936 non-null  object \n",
      " 6   created_at              15936 non-null  object \n",
      " 7   url                     15936 non-null  object \n",
      " 8   employer                15936 non-null  object \n",
      " 9   snippet                 15936 non-null  object \n",
      " 10  schedule                15936 non-null  object \n",
      " 11  working_time_intervals  111 non-null    object \n",
      " 12  working_time_modes      50 non-null     object \n",
      " 13  professional_roles      15936 non-null  object \n",
      " 14  experience              15936 non-null  object \n",
      " 15  employment              15936 non-null  object \n",
      " 16  salary_from             4270 non-null   float64\n",
      " 17  salary_to               2686 non-null   float64\n",
      " 18  salary_gross            5023 non-null   object \n",
      " 19  salary_currency         5024 non-null   object \n",
      " 20  requirement             15846 non-null  object \n",
      " 21  responsibility          15865 non-null  object \n",
      "dtypes: float64(2), int64(1), object(19)\n",
      "memory usage: 2.7+ MB\n"
     ]
    }
   ],
   "source": [
    "combined_df.info()"
   ]
  },
  {
   "cell_type": "markdown",
   "id": "ced40e71",
   "metadata": {},
   "source": [
    "Можно также удалить столбцы salary и snippet, поскольку мы достали из них данные по ЗП и фрагменты текста вакансии."
   ]
  },
  {
   "cell_type": "code",
   "execution_count": 26,
   "id": "33602bd6",
   "metadata": {},
   "outputs": [],
   "source": [
    "combined_df = combined_df.drop(combined_df.columns[[4, 9]], axis=1)"
   ]
  },
  {
   "cell_type": "markdown",
   "id": "be5c30d9",
   "metadata": {},
   "source": [
    "Посмотрим, есть ли у нас полные дубликаты"
   ]
  },
  {
   "cell_type": "code",
   "execution_count": 27,
   "id": "51388016",
   "metadata": {},
   "outputs": [
    {
     "data": {
      "text/plain": [
       "0"
      ]
     },
     "execution_count": 27,
     "metadata": {},
     "output_type": "execute_result"
    }
   ],
   "source": [
    "combined_df.duplicated().sum()"
   ]
  },
  {
   "cell_type": "code",
   "execution_count": 28,
   "id": "d4cb41e1",
   "metadata": {},
   "outputs": [],
   "source": [
    "# Сохраним датафрейм\n",
    "# combined_df.to_csv(\"hh_df.csv\")\n",
    "hh_df = combined_df"
   ]
  },
  {
   "cell_type": "markdown",
   "id": "56ca6f7e",
   "metadata": {},
   "source": [
    "По адресу из столбца url можно получить важную для нас информацию с текстом описания вакансии и ключевыми навыками. Извлечение этих данных довольно затратный по времени процесс, поэтому имеет смысл максимально сократить число строк в нашем датафрейме."
   ]
  },
  {
   "cell_type": "markdown",
   "id": "d4b89ae0",
   "metadata": {},
   "source": [
    "Мы можем исключить \"неправильных\" аналитиков.\n",
    "\n",
    "Во-первых есть довольно полезный столбец 'professional_roles', в котором отмечены профессиональные роли из справочника hh.ru. Это к счастью с довольно ограниченный набор категорий, что позволяет нам сузить широкий первоначально запрос на всех аналитиков. Ниже перечислены пять ролей для аналитиков данных и 3 роли для системных аналитиков, которые было решено оставить после выборочного изучения текстов вакансий."
   ]
  },
  {
   "cell_type": "code",
   "execution_count": 29,
   "id": "f4c96816",
   "metadata": {},
   "outputs": [
    {
     "data": {
      "text/plain": [
       "array(['BI-аналитик, аналитик данных', 'Системный аналитик',\n",
       "       'Продуктовый аналитик', 'Другое', 'Аналитик',\n",
       "       'Научный специалист, исследователь',\n",
       "       'Финансовый аналитик, инвестиционный аналитик',\n",
       "       'Специалист по подбору персонала',\n",
       "       'Оператор ПК, оператор базы данных', 'Бизнес-аналитик',\n",
       "       'Экономист', 'Маркетолог-аналитик',\n",
       "       'Копирайтер, редактор, корректор', 'Дата-сайентист',\n",
       "       'Менеджер/консультант по стратегии', 'Юрист',\n",
       "       'Программист, разработчик', 'Технический писатель', 'Андеррайтер',\n",
       "       'Фармацевт-провизор',\n",
       "       'Менеджер по продажам, менеджер по работе с клиентами',\n",
       "       'Координатор отдела продаж', 'Руководитель проектов',\n",
       "       'Менеджер по маркетингу, интернет-маркетолог',\n",
       "       'SMM-менеджер, контент-менеджер',\n",
       "       'Оператор call-центра, специалист контактного центра',\n",
       "       'Специалист технической поддержки',\n",
       "       'Менеджер по компенсациям и льготам', 'Кредитный специалист',\n",
       "       'Инженер по эксплуатации', 'Бухгалтер', 'Менеджер по закупкам',\n",
       "       'Менеджер по логистике, менеджер по ВЭД', 'Мерчандайзер',\n",
       "       'Сетевой инженер', 'Офис-менеджер', 'Менеджер по персоналу',\n",
       "       'Методолог', 'Руководитель отдела маркетинга и рекламы',\n",
       "       'Агент по недвижимости', 'Руководитель отдела аналитики',\n",
       "       'Финансовый менеджер', 'Специалист по информационной безопасности',\n",
       "       'Бизнес-тренер', 'Комплаенс-менеджер',\n",
       "       'Специалист службы безопасности',\n",
       "       'Менеджер по работе с партнерами', 'Тестировщик',\n",
       "       'Менеджер по туризму', 'Финансовый контролер', 'Архитектор',\n",
       "       'Менеджер продукта', 'Товаровед', 'Страховой агент', 'Диспетчер',\n",
       "       'Аудитор', 'Специалист по тендерам',\n",
       "       'Инженер ПТО, инженер-сметчик',\n",
       "       'Инженер-конструктор, инженер-проектировщик',\n",
       "       'Руководитель отдела продаж',\n",
       "       'Директор магазина, директор сети магазинов', 'Начальник склада',\n",
       "       'Секретарь, помощник руководителя, ассистент',\n",
       "       'Инженер-энергетик, инженер-электрик', 'Методист',\n",
       "       'Инженер по охране труда и технике безопасности, инженер-эколог',\n",
       "       'Технолог', 'Специалист по кадрам', 'Системный администратор',\n",
       "       'Специалист по взысканию задолженности',\n",
       "       'Директор по маркетингу и PR (CMO)', 'Системный инженер',\n",
       "       'Директор по информационным технологиям (CIO)',\n",
       "       'Операционный директор (COO)', 'Финансовый директор (CFO)',\n",
       "       'Руководитель группы разработки', 'PR-менеджер', 'Казначей',\n",
       "       'Руководитель отдела логистики',\n",
       "       'Продавец-консультант, продавец-кассир', 'Ассистент врача',\n",
       "       'Начальник производства', 'Администратор',\n",
       "       'Делопроизводитель, архивариус', 'Дизайнер, художник',\n",
       "       'Инженер по качеству', 'Оценщик', 'Юрисконсульт',\n",
       "       'Руководитель строительного проекта',\n",
       "       'Учитель, преподаватель, педагог', 'Руководитель отдела персонала',\n",
       "       'Сервисный инженер, инженер-механик', 'Лаборант', 'Брокер',\n",
       "       'Супервайзер', 'Геодезист', 'Переводчик', 'Кладовщик',\n",
       "       'Арт-директор, креативный директор', 'Торговый представитель',\n",
       "       'Менеджер/руководитель АХО', 'Агроном'], dtype=object)"
      ]
     },
     "execution_count": 29,
     "metadata": {},
     "output_type": "execute_result"
    }
   ],
   "source": [
    "hh_df['professional_roles'].unique()"
   ]
  },
  {
   "cell_type": "code",
   "execution_count": 30,
   "id": "12ee6f57",
   "metadata": {},
   "outputs": [],
   "source": [
    "# Список профессиональных ролей, по которым нужно отфильтровать DataFrame\n",
    "roles_to_keep = ['BI-аналитик, аналитик данных', 'Аналитик', 'Дата-сайентист',\n",
    "                 'Маркетолог-аналитик', 'Продуктовый аналитик',\n",
    "                 'Системный аналитик', 'Специалист технической поддержки', 'Технический писатель']\n",
    "\n",
    "# Фильтрация DataFrame по указанным ролям\n",
    "df_da_ds = hh_df[hh_df['professional_roles'].isin(roles_to_keep)]"
   ]
  },
  {
   "cell_type": "code",
   "execution_count": 31,
   "id": "761de02b",
   "metadata": {
    "scrolled": false
   },
   "outputs": [
    {
     "name": "stdout",
     "output_type": "stream",
     "text": [
      "<class 'pandas.core.frame.DataFrame'>\n",
      "Int64Index: 9731 entries, 0 to 15935\n",
      "Data columns (total 20 columns):\n",
      " #   Column                  Non-Null Count  Dtype  \n",
      "---  ------                  --------------  -----  \n",
      " 0   id                      9731 non-null   int64  \n",
      " 1   name                    9731 non-null   object \n",
      " 2   department              1787 non-null   object \n",
      " 3   area                    9731 non-null   object \n",
      " 4   published_at            9731 non-null   object \n",
      " 5   created_at              9731 non-null   object \n",
      " 6   url                     9731 non-null   object \n",
      " 7   employer                9731 non-null   object \n",
      " 8   schedule                9731 non-null   object \n",
      " 9   working_time_intervals  57 non-null     object \n",
      " 10  working_time_modes      29 non-null     object \n",
      " 11  professional_roles      9731 non-null   object \n",
      " 12  experience              9731 non-null   object \n",
      " 13  employment              9731 non-null   object \n",
      " 14  salary_from             2313 non-null   float64\n",
      " 15  salary_to               1549 non-null   float64\n",
      " 16  salary_gross            2778 non-null   object \n",
      " 17  salary_currency         2779 non-null   object \n",
      " 18  requirement             9675 non-null   object \n",
      " 19  responsibility          9679 non-null   object \n",
      "dtypes: float64(2), int64(1), object(17)\n",
      "memory usage: 1.6+ MB\n"
     ]
    }
   ],
   "source": [
    "df_da_ds.info()"
   ]
  },
  {
   "cell_type": "markdown",
   "id": "212c0211",
   "metadata": {},
   "source": [
    "Далее, у нас есть два столбца с датами published_at и created_at. На первый взгляд они повторяют друг друга. Сравним их:"
   ]
  },
  {
   "cell_type": "code",
   "execution_count": 32,
   "id": "23396ebf",
   "metadata": {},
   "outputs": [],
   "source": [
    "# Поищем строки, где даты не совпадают\n",
    "result = df_da_ds.loc[df_da_ds['published_at'] != df_da_ds['created_at']]"
   ]
  },
  {
   "cell_type": "code",
   "execution_count": 33,
   "id": "afbfb3a0",
   "metadata": {},
   "outputs": [
    {
     "data": {
      "text/plain": [
       "0"
      ]
     },
     "execution_count": 33,
     "metadata": {},
     "output_type": "execute_result"
    }
   ],
   "source": [
    "len(result)"
   ]
  },
  {
   "cell_type": "markdown",
   "id": "cca2c403",
   "metadata": {},
   "source": [
    "Отлично. Таких дат нет, поэтому один из столбцов можно удалить.\n",
    "\n",
    "Также, есть 9 и 10 столбцы, которые заполнены менее чем на один процент и смысла их сохранять тоже нет. Удаляем.\n",
    "\n",
    "И, наконец, столбы 18 и 19 - это небольшие фрагменты из описания вакансии, которые не дают дополнительной информации по сравнению с той, что мы получим из полного описания вакансии. Тоже удалим"
   ]
  },
  {
   "cell_type": "code",
   "execution_count": 34,
   "id": "02781db9",
   "metadata": {
    "scrolled": true
   },
   "outputs": [],
   "source": [
    "df_da_ds = df_da_ds.drop(df_da_ds.columns[[5, 9, 10, 18, 19]], axis=1)"
   ]
  },
  {
   "cell_type": "markdown",
   "id": "988d5431",
   "metadata": {},
   "source": [
    "Во-вторых, при выборочном просмотре названий вакансий, было решено исключить вакансии, в названии которых упоминаются  сочетания символов, относящихся к специализированным направлениям аналитической работы, вроде \"1С\" и т.п."
   ]
  },
  {
   "cell_type": "markdown",
   "id": "607989cd",
   "metadata": {},
   "source": [
    "Фильтрация без учета регистра:"
   ]
  },
  {
   "cell_type": "code",
   "execution_count": 35,
   "id": "b828ad57",
   "metadata": {},
   "outputs": [],
   "source": [
    "# Список ключевых слов для исключения\n",
    "exclude_keywords = ['1с', '1c', 'erp', 'зуп', 'битрикс', 'б24', 'bitrix', 'цфт', 'цб']\n",
    " \n",
    "\n",
    "# Создаём регулярное выражение, объединяя ключевые слова через оператор \"или\" (|).\n",
    "exclude_pattern = '|'.join(exclude_keywords)\n",
    "\n",
    "# Фильтрация DataFrame, исключая строки с ключевыми словами\n",
    "filtered_df = df_da_ds[~df_da_ds['name'].str.contains(exclude_pattern, case=False, na=False)]"
   ]
  },
  {
   "cell_type": "markdown",
   "id": "490dd5e0",
   "metadata": {},
   "source": [
    "С учетом верхнего регистра:"
   ]
  },
  {
   "cell_type": "code",
   "execution_count": 36,
   "id": "09bdd42e",
   "metadata": {},
   "outputs": [],
   "source": [
    "# Список ключевых слов для исключения\n",
    "exclude_keywords = ['ИБ']\n",
    " \n",
    "\n",
    "# Создаём регулярное выражение, объединяя ключевые слова через оператор \"или\" (|).\n",
    "exclude_pattern = '|'.join(exclude_keywords)\n",
    "\n",
    "# Фильтрация DataFrame, исключая строки с ключевыми словами\n",
    "filtered_df_2 = filtered_df[~filtered_df['name'].str.contains(exclude_pattern, na=False)]"
   ]
  },
  {
   "cell_type": "code",
   "execution_count": 37,
   "id": "a1fe095a",
   "metadata": {},
   "outputs": [
    {
     "name": "stdout",
     "output_type": "stream",
     "text": [
      "<class 'pandas.core.frame.DataFrame'>\n",
      "Int64Index: 8168 entries, 0 to 15930\n",
      "Data columns (total 15 columns):\n",
      " #   Column              Non-Null Count  Dtype  \n",
      "---  ------              --------------  -----  \n",
      " 0   id                  8168 non-null   int64  \n",
      " 1   name                8168 non-null   object \n",
      " 2   department          1673 non-null   object \n",
      " 3   area                8168 non-null   object \n",
      " 4   published_at        8168 non-null   object \n",
      " 5   url                 8168 non-null   object \n",
      " 6   employer            8168 non-null   object \n",
      " 7   schedule            8168 non-null   object \n",
      " 8   professional_roles  8168 non-null   object \n",
      " 9   experience          8168 non-null   object \n",
      " 10  employment          8168 non-null   object \n",
      " 11  salary_from         1860 non-null   float64\n",
      " 12  salary_to           1221 non-null   float64\n",
      " 13  salary_gross        2231 non-null   object \n",
      " 14  salary_currency     2231 non-null   object \n",
      "dtypes: float64(2), int64(1), object(12)\n",
      "memory usage: 1021.0+ KB\n"
     ]
    }
   ],
   "source": [
    "filtered_df_2.info()"
   ]
  },
  {
   "cell_type": "markdown",
   "id": "eb0af3a7",
   "metadata": {},
   "source": [
    "Так мы избавились еще от полутора тысяч строк."
   ]
  },
  {
   "cell_type": "markdown",
   "id": "851306f3",
   "metadata": {},
   "source": [
    "Мы укоротили датасет почти в два раза и можем, наконец, извлекать текст описаний и ключевые навыки"
   ]
  },
  {
   "cell_type": "markdown",
   "id": "0bb35cb6",
   "metadata": {},
   "source": [
    "Следующий код позволяет извлечь полный текст вакансии через столбец url. На выходе получается кортеж, первый элемент которого всегда None, а второй - извлеченный текст из HTML. Это немного неудобно, но происходит из-за добавленной задержки перед выполнением HTTP-запроса. Без нее процесс довольно быстро завершается ошибкой. На локальном компьютере процесс извлечения текста для 8168 вакансий занял 1 час 43 минуты."
   ]
  },
  {
   "cell_type": "code",
   "execution_count": 38,
   "id": "368fdf63",
   "metadata": {
    "scrolled": false
   },
   "outputs": [],
   "source": [
    "# from bs4 import BeautifulSoup\n",
    "# tqdm.pandas()\n",
    "# filtered_df_2['description'] = filtered_df_2['url'].progress_apply(lambda x: (time.sleep(0.2)\n",
    "#                                            , BeautifulSoup(json.loads(requests.get(x).text)[\"description\"]).get_text()))"
   ]
  },
  {
   "cell_type": "code",
   "execution_count": 39,
   "id": "4d392729",
   "metadata": {},
   "outputs": [],
   "source": [
    "# filtered_df_2.to_csv(\"df_da_ds_2.csv\")"
   ]
  },
  {
   "cell_type": "markdown",
   "id": "05e3cb38",
   "metadata": {},
   "source": [
    "С помощью следующей функции мы извлекаем список ключевых навыков из вакансии, которые работодатель указал при оформлении вакансии. Время извлечения составило 1 час 41 минуту."
   ]
  },
  {
   "cell_type": "code",
   "execution_count": 40,
   "id": "f3282d6e",
   "metadata": {},
   "outputs": [],
   "source": [
    "# tqdm.pandas()\n",
    "\n",
    "# def fetch_skills(url):\n",
    "#     try:\n",
    "        # Пауза перед запросом\n",
    "#         time.sleep(0.2)\n",
    "        # Выполнение запроса\n",
    "#         response = requests.get(url)\n",
    "#         response.raise_for_status()  # Проверка на наличие ошибок HTTP\n",
    "#         data = response.json()  # Преобразование ответа в JSON\n",
    "#         key_skills = ', '.join(skill['name'] for skill in data.get(\"key_skills\", []))\n",
    "#         return key_skills\n",
    "#    except (requests.exceptions.RequestException, json.JSONDecodeError) as e:\n",
    "        # Обработка ошибок, возвращаем пустую строку или какое-то другое значение\n",
    "#       return ''\n",
    "\n",
    "# filtered_df_2['key_skills'] = filtered_df_2['url'].progress_apply(fetch_skills)"
   ]
  },
  {
   "cell_type": "markdown",
   "id": "50fb6048",
   "metadata": {},
   "source": [
    "Здесь мы достаем из кортежа элемент с текстом описания:"
   ]
  },
  {
   "cell_type": "code",
   "execution_count": 41,
   "id": "e6ae7450",
   "metadata": {},
   "outputs": [],
   "source": [
    "# filtered_df_2['description'] = filtered_df_2['description'].apply(lambda x: x[1])"
   ]
  },
  {
   "cell_type": "code",
   "execution_count": 42,
   "id": "400117bf",
   "metadata": {},
   "outputs": [],
   "source": [
    "# filtered_df_2.to_csv(\"df_da_sa_start.csv\")"
   ]
  },
  {
   "cell_type": "markdown",
   "id": "77bc011c",
   "metadata": {},
   "source": [
    "## 2. Предобработка данных"
   ]
  },
  {
   "cell_type": "code",
   "execution_count": 43,
   "id": "e30b9443",
   "metadata": {},
   "outputs": [],
   "source": [
    "df = pd.read_csv('df_da_sa_start.csv')"
   ]
  },
  {
   "cell_type": "code",
   "execution_count": 44,
   "id": "4d8da99b",
   "metadata": {},
   "outputs": [
    {
     "data": {
      "text/html": [
       "<div>\n",
       "<style scoped>\n",
       "    .dataframe tbody tr th:only-of-type {\n",
       "        vertical-align: middle;\n",
       "    }\n",
       "\n",
       "    .dataframe tbody tr th {\n",
       "        vertical-align: top;\n",
       "    }\n",
       "\n",
       "    .dataframe thead th {\n",
       "        text-align: right;\n",
       "    }\n",
       "</style>\n",
       "<table border=\"1\" class=\"dataframe\">\n",
       "  <thead>\n",
       "    <tr style=\"text-align: right;\">\n",
       "      <th></th>\n",
       "      <th>Unnamed: 0</th>\n",
       "      <th>id</th>\n",
       "      <th>name</th>\n",
       "      <th>department</th>\n",
       "      <th>area</th>\n",
       "      <th>published_at</th>\n",
       "      <th>url</th>\n",
       "      <th>employer</th>\n",
       "      <th>schedule</th>\n",
       "      <th>professional_roles</th>\n",
       "      <th>experience</th>\n",
       "      <th>employment</th>\n",
       "      <th>salary_from</th>\n",
       "      <th>salary_to</th>\n",
       "      <th>salary_gross</th>\n",
       "      <th>salary_currency</th>\n",
       "      <th>description</th>\n",
       "      <th>key_skills</th>\n",
       "    </tr>\n",
       "  </thead>\n",
       "  <tbody>\n",
       "    <tr>\n",
       "      <th>0</th>\n",
       "      <td>3</td>\n",
       "      <td>100042705</td>\n",
       "      <td>Аналитик данных (исследователь)</td>\n",
       "      <td>NaN</td>\n",
       "      <td>Владивосток</td>\n",
       "      <td>2024-08-12T03:40:26+0300</td>\n",
       "      <td>https://api.hh.ru/vacancies/100042705?host=hh.ru</td>\n",
       "      <td>DNS Головной офис</td>\n",
       "      <td>Полный день</td>\n",
       "      <td>BI-аналитик, аналитик данных</td>\n",
       "      <td>between1And3</td>\n",
       "      <td>Полная занятость</td>\n",
       "      <td>138000.0</td>\n",
       "      <td>NaN</td>\n",
       "      <td>True</td>\n",
       "      <td>RUR</td>\n",
       "      <td>Наше направление занимается повышением эффекти...</td>\n",
       "      <td>SQL, Power BI, Python, СУБД, BPMN, Clickhouse</td>\n",
       "    </tr>\n",
       "    <tr>\n",
       "      <th>1</th>\n",
       "      <td>6</td>\n",
       "      <td>100060439</td>\n",
       "      <td>Маркетолог-аналитик</td>\n",
       "      <td>NaN</td>\n",
       "      <td>Москва</td>\n",
       "      <td>2024-07-23T11:53:54+0300</td>\n",
       "      <td>https://api.hh.ru/vacancies/100060439?host=hh.ru</td>\n",
       "      <td>Агентство страховых технологий</td>\n",
       "      <td>Полный день</td>\n",
       "      <td>Аналитик</td>\n",
       "      <td>between3And6</td>\n",
       "      <td>Полная занятость</td>\n",
       "      <td>NaN</td>\n",
       "      <td>NaN</td>\n",
       "      <td>NaN</td>\n",
       "      <td>NaN</td>\n",
       "      <td>АСТ – ведущая российская консалтинговая компан...</td>\n",
       "      <td>Маркетинговый анализ, Развитие продаж, Анализ ...</td>\n",
       "    </tr>\n",
       "    <tr>\n",
       "      <th>2</th>\n",
       "      <td>8</td>\n",
       "      <td>100063852</td>\n",
       "      <td>Системный аналитик</td>\n",
       "      <td>NaN</td>\n",
       "      <td>Березовский (Кемеровская область)</td>\n",
       "      <td>2024-07-23T12:20:08+0300</td>\n",
       "      <td>https://api.hh.ru/vacancies/100063852?host=hh.ru</td>\n",
       "      <td>СП Барзасское товарищество</td>\n",
       "      <td>Полный день</td>\n",
       "      <td>Системный аналитик</td>\n",
       "      <td>between3And6</td>\n",
       "      <td>Полная занятость</td>\n",
       "      <td>80500.0</td>\n",
       "      <td>NaN</td>\n",
       "      <td>False</td>\n",
       "      <td>RUR</td>\n",
       "      <td>Обязанности:  Поддержка специализированного пр...</td>\n",
       "      <td>NaN</td>\n",
       "    </tr>\n",
       "    <tr>\n",
       "      <th>3</th>\n",
       "      <td>9</td>\n",
       "      <td>100063853</td>\n",
       "      <td>Системный аналитик</td>\n",
       "      <td>NaN</td>\n",
       "      <td>Кемерово</td>\n",
       "      <td>2024-07-23T12:20:09+0300</td>\n",
       "      <td>https://api.hh.ru/vacancies/100063853?host=hh.ru</td>\n",
       "      <td>СП Барзасское товарищество</td>\n",
       "      <td>Полный день</td>\n",
       "      <td>Системный аналитик</td>\n",
       "      <td>between3And6</td>\n",
       "      <td>Полная занятость</td>\n",
       "      <td>80500.0</td>\n",
       "      <td>NaN</td>\n",
       "      <td>False</td>\n",
       "      <td>RUR</td>\n",
       "      <td>Обязанности:  Поддержка специализированного пр...</td>\n",
       "      <td>NaN</td>\n",
       "    </tr>\n",
       "    <tr>\n",
       "      <th>4</th>\n",
       "      <td>11</td>\n",
       "      <td>100065569</td>\n",
       "      <td>Главный специалист-эксперт (Аналитик)</td>\n",
       "      <td>NaN</td>\n",
       "      <td>Санкт-Петербург</td>\n",
       "      <td>2024-08-12T16:21:05+0300</td>\n",
       "      <td>https://api.hh.ru/vacancies/100065569?host=hh.ru</td>\n",
       "      <td>Газпром нефть</td>\n",
       "      <td>Полный день</td>\n",
       "      <td>Аналитик</td>\n",
       "      <td>between3And6</td>\n",
       "      <td>Полная занятость</td>\n",
       "      <td>NaN</td>\n",
       "      <td>NaN</td>\n",
       "      <td>NaN</td>\n",
       "      <td>NaN</td>\n",
       "      <td>Обязанности:   Формирование регулярной отчетно...</td>\n",
       "      <td>MS Excel, MS SQL, Python</td>\n",
       "    </tr>\n",
       "  </tbody>\n",
       "</table>\n",
       "</div>"
      ],
      "text/plain": [
       "   Unnamed: 0         id                                   name department  \\\n",
       "0           3  100042705        Аналитик данных (исследователь)        NaN   \n",
       "1           6  100060439                    Маркетолог-аналитик        NaN   \n",
       "2           8  100063852                     Системный аналитик        NaN   \n",
       "3           9  100063853                     Системный аналитик        NaN   \n",
       "4          11  100065569  Главный специалист-эксперт (Аналитик)        NaN   \n",
       "\n",
       "                                area              published_at  \\\n",
       "0                        Владивосток  2024-08-12T03:40:26+0300   \n",
       "1                             Москва  2024-07-23T11:53:54+0300   \n",
       "2  Березовский (Кемеровская область)  2024-07-23T12:20:08+0300   \n",
       "3                           Кемерово  2024-07-23T12:20:09+0300   \n",
       "4                    Санкт-Петербург  2024-08-12T16:21:05+0300   \n",
       "\n",
       "                                                url  \\\n",
       "0  https://api.hh.ru/vacancies/100042705?host=hh.ru   \n",
       "1  https://api.hh.ru/vacancies/100060439?host=hh.ru   \n",
       "2  https://api.hh.ru/vacancies/100063852?host=hh.ru   \n",
       "3  https://api.hh.ru/vacancies/100063853?host=hh.ru   \n",
       "4  https://api.hh.ru/vacancies/100065569?host=hh.ru   \n",
       "\n",
       "                         employer     schedule            professional_roles  \\\n",
       "0               DNS Головной офис  Полный день  BI-аналитик, аналитик данных   \n",
       "1  Агентство страховых технологий  Полный день                      Аналитик   \n",
       "2      СП Барзасское товарищество  Полный день            Системный аналитик   \n",
       "3      СП Барзасское товарищество  Полный день            Системный аналитик   \n",
       "4                   Газпром нефть  Полный день                      Аналитик   \n",
       "\n",
       "     experience        employment  salary_from  salary_to salary_gross  \\\n",
       "0  between1And3  Полная занятость     138000.0        NaN         True   \n",
       "1  between3And6  Полная занятость          NaN        NaN          NaN   \n",
       "2  between3And6  Полная занятость      80500.0        NaN        False   \n",
       "3  between3And6  Полная занятость      80500.0        NaN        False   \n",
       "4  between3And6  Полная занятость          NaN        NaN          NaN   \n",
       "\n",
       "  salary_currency                                        description  \\\n",
       "0             RUR  Наше направление занимается повышением эффекти...   \n",
       "1             NaN  АСТ – ведущая российская консалтинговая компан...   \n",
       "2             RUR  Обязанности:  Поддержка специализированного пр...   \n",
       "3             RUR  Обязанности:  Поддержка специализированного пр...   \n",
       "4             NaN  Обязанности:   Формирование регулярной отчетно...   \n",
       "\n",
       "                                          key_skills  \n",
       "0      SQL, Power BI, Python, СУБД, BPMN, Clickhouse  \n",
       "1  Маркетинговый анализ, Развитие продаж, Анализ ...  \n",
       "2                                                NaN  \n",
       "3                                                NaN  \n",
       "4                           MS Excel, MS SQL, Python  "
      ]
     },
     "execution_count": 44,
     "metadata": {},
     "output_type": "execute_result"
    }
   ],
   "source": [
    "df.head()"
   ]
  },
  {
   "cell_type": "markdown",
   "id": "2873cf9f",
   "metadata": {},
   "source": [
    "Получим список наиболее популярных навыков из столбца key_skills и отсортируем их в порядке убывания числа упоминаний:"
   ]
  },
  {
   "cell_type": "code",
   "execution_count": 45,
   "id": "f50bec2e",
   "metadata": {},
   "outputs": [
    {
     "data": {
      "text/plain": [
       "SQL                                    2420\n",
       "Аналитическое мышление                 1214\n",
       "BPMN                                   1196\n",
       "Системный анализ                       1107\n",
       "UML                                    1066\n",
       "Анализ данных                           901\n",
       "Python                                  751\n",
       "MS Excel                                701\n",
       "REST                                    663\n",
       "Аналитика                               650\n",
       "Работа с большим объемом информации     638\n",
       "Бизнес-анализ                           598\n",
       "Разработка технических заданий          494\n",
       "Работа с базами данных                  417\n",
       "SOAP                                    416\n",
       "Аналитические исследования              401\n",
       "MS SQL                                  385\n",
       "Power BI                                383\n",
       "XML                                     339\n",
       "API                                     339\n",
       "Постановка задач разработчикам          336\n",
       "Базы данных                             332\n",
       "Сбор и анализ информации                327\n",
       "Atlassian Jira                          279\n",
       "MS PowerPoint                           278\n",
       "PostgreSQL                              266\n",
       "Atlassian Confluence                    256\n",
       "JSON                                    241\n",
       "REST API                                198\n",
       "Анализ рынка                            192\n",
       "JSON API                                187\n",
       "Анализ бизнес показателей               182\n",
       "Моделирование бизнес процессов          177\n",
       "Маркетинговый анализ                    174\n",
       "Английский язык                         168\n",
       "Прогнозирование                         157\n",
       "Подготовка презентаций                  155\n",
       "Оптимизация бизнес-процессов            148\n",
       "DWH                                     147\n",
       "Аналитика продаж                        145\n",
       "Математическая статистика               144\n",
       "Аналитический склад ума                 139\n",
       "Маркетинговые исследования              134\n",
       "Техническая документация                127\n",
       "Системная интеграция                    126\n",
       "Scrum                                   125\n",
       "Статистический анализ                   125\n",
       "Excel                                   123\n",
       "Agile                                   121\n",
       "Tableau                                 121\n",
       "ETL                                     117\n",
       "Анализ конкурентной среды               116\n",
       "ORACLE                                  116\n",
       "MS Visio                                114\n",
       "Работа в команде                        113\n",
       "Системное мышление                      110\n",
       "Деловая коммуникация                    105\n",
       "Postman                                 104\n",
       "Анализ требований                       103\n",
       "Apache Kafka                             99\n",
       "Name: key_skills, dtype: int64"
      ]
     },
     "execution_count": 45,
     "metadata": {},
     "output_type": "execute_result"
    }
   ],
   "source": [
    "# Разделяем строки на отдельные навыки и создаем список всех навыков\n",
    "all_skills = df['key_skills'].str.split(', ').explode()\n",
    "\n",
    "# Подсчитываем количество вхождений каждого навыка\n",
    "skill_counts = all_skills.value_counts()\n",
    "\n",
    "# Выводим результат\n",
    "skill_counts.head(60)"
   ]
  },
  {
   "cell_type": "markdown",
   "id": "aec4a189",
   "metadata": {},
   "source": [
    "Мы видим несколько вариантов названий SQL, Excel и других навыков. Чтобы точнее посчитать долю каждого навыка в числе прочих, нужно привести их к общим названиям. И если с Excel вопросов по объединению не возникает, то например с SQL есть варианты - MS SQL, PostgreSQL и т.п. В данном исследовании было решено объединить все навыки у которых встречается сочетание букв sql под единым названием.Такая же участь постигла базы данных, с СУБД и другими многочисленными вариантами."
   ]
  },
  {
   "cell_type": "code",
   "execution_count": 46,
   "id": "d974bc48",
   "metadata": {},
   "outputs": [],
   "source": [
    "# Функция для стандартизации и удаления дубликатов навыков\n",
    "def standardize_and_deduplicate_skills(skill_list, replacements):\n",
    "    \n",
    "    if not skill_list or all(not skill.strip() for skill in skill_list):\n",
    "        return []  # Возвращаем пустой список, если строка пустая или состоит из пробелов\n",
    "    \n",
    "    standardized_skills = []\n",
    "    seen_skills = set()  # Используется для отслеживания уже добавленных навыков\n",
    "    for skill in skill_list:\n",
    "        # Убираем лишние пробелы\n",
    "        skill = skill.strip()\n",
    "        # Приводим навык к нижнему регистру для сравнения\n",
    "        skill_lower = skill.lower()\n",
    "        # Проверяем наличие шаблонов и заменяем на нужный вид\n",
    "        for pattern, replacement in replacements.items():\n",
    "            if pattern in skill_lower:\n",
    "                skill = replacement\n",
    "                break\n",
    "        # Добавляем навык, только если его еще нет в списке\n",
    "        if skill not in seen_skills:\n",
    "            standardized_skills.append(skill)\n",
    "            seen_skills.add(skill)\n",
    "    return standardized_skills\n",
    "\n",
    "# Словарь шаблонов и их замен\n",
    "replacements = {\n",
    "    'excel': 'Excel',\n",
    "    'sql': 'SQL',\n",
    "    'power bi': 'Power BI',\n",
    "    'powerbi': 'Power BI',\n",
    "    'bpmn': 'BPMN',\n",
    "    'uml': 'UML',\n",
    "    'python': 'Python',\n",
    "    'rest': 'REST',\n",
    "    'soap': 'SOAP',\n",
    "    'xml': 'XML',\n",
    "    'jira': 'Jira',\n",
    "    'powerpoint': 'PowerPoint',\n",
    "    'power point': 'PowerPoint',\n",
    "    'confluence': 'Confluence',\n",
    "    'json': 'JSON',\n",
    "    'dwh': 'DWH',\n",
    "    'scrum': 'Scrum',\n",
    "    'tableau': 'Tableau',\n",
    "    'oracle': 'Oracle',\n",
    "    'agile': 'Agile',\n",
    "    'etl': 'ETL',\n",
    "    'visio': 'Visio',\n",
    "    'kafka': 'Kafka',\n",
    "    'postman': 'Postman',\n",
    "    'clickhouse': 'Clickhouse',\n",
    "    'power query': 'Power Query',\n",
    "    'powerquery': 'Power Query',\n",
    "    'a/b': 'A/B-тест',\n",
    "    'а/в': 'A/B-тест',\n",
    "    'xsd': 'XSD',\n",
    "    'swagger': 'Swagger',\n",
    "    'user story': 'User Story',\n",
    "    'git': 'Git',\n",
    "    'data analysis': 'Анализ данных',\n",
    "    'анализ данных': 'Анализ данных',\n",
    "    'system analysis': 'Системный анализ',\n",
    "    'системный анализ': 'Системный анализ',\n",
    "    'business analysis': 'Бизнес-анализ',\n",
    "    'бизнес анализ': 'Бизнес-анализ',\n",
    "    'бизнес-анализ': 'Бизнес-анализ',\n",
    "    'английск': 'Английский',\n",
    "    'english': 'Английский',\n",
    "    'use case': 'Use Case',\n",
    "    'базы данных': 'Базы данных',\n",
    "    'работа с базами данных': 'Базы данных',\n",
    "    'реляционные': 'Базы данных',\n",
    "    'реляционные и нереляционные бд': 'Базы данных',\n",
    "    'знание бд': 'Базы данных',\n",
    "    'субд': 'Базы данных',\n",
    "    'data base': 'Базы данных',\n",
    "    'database': 'Базы данных',\n",
    "    'разработка технических заданий': 'Разработка ТЗ',\n",
    "    'тз для разработчиков по': 'Разработка ТЗ',\n",
    "    'подготовка тз': 'Разработка ТЗ',\n",
    "    'составление тз': 'Разработка ТЗ',\n",
    "    'написание тз': 'Разработка ТЗ'\n",
    "}\n",
    "\n",
    "# Применение функции ко всему DataFrame с проверкой типа данных\n",
    "def apply_standardization(skill_str):\n",
    "    if isinstance(skill_str, str):  # Проверяем, что значение - строка\n",
    "        return ', '.join(standardize_and_deduplicate_skills(skill_str.split(','), replacements))\n",
    "    return ''  # Если это не строка, возвращаем пустую строку\n",
    "\n",
    "df['standardized_skills'] = df['key_skills'].apply(apply_standardization)"
   ]
  },
  {
   "cell_type": "markdown",
   "id": "42986cf8",
   "metadata": {},
   "source": [
    "Для API функцию по стандартизации навыков применили отдельно, т.к. сочетание api может встречаться совместно с rest и soap. Эти навыки мы стандартизовали при первом применении функции. Оставшиеся свободные api обработали при втором применении функции:"
   ]
  },
  {
   "cell_type": "code",
   "execution_count": 47,
   "id": "7797dfad",
   "metadata": {},
   "outputs": [],
   "source": [
    "# Словарь шаблонов и их замен\n",
    "replacements = {\n",
    "    'api': 'API'\n",
    "}\n",
    "\n",
    "# Применение функции ко всему DataFrame с проверкой типа данных\n",
    "def apply_standardization(skill_str):\n",
    "    if isinstance(skill_str, str):  # Проверяем, что значение - строка\n",
    "        return ', '.join(standardize_and_deduplicate_skills(skill_str.split(','), replacements))\n",
    "    return ''  # Если это не строка, возвращаем пустую строку\n",
    "\n",
    "df['standardized_skills'] = df['standardized_skills'].apply(apply_standardization)"
   ]
  },
  {
   "cell_type": "markdown",
   "id": "7bce2133",
   "metadata": {},
   "source": [
    "Посчитаем число упоминаний навыков с новым столбцом standardized_skills"
   ]
  },
  {
   "cell_type": "code",
   "execution_count": 48,
   "id": "69cf16dd",
   "metadata": {},
   "outputs": [
    {
     "data": {
      "text/plain": [
       "                                       3044\n",
       "SQL                                    2712\n",
       "Аналитическое мышление                 1214\n",
       "BPMN                                   1205\n",
       "Системный анализ                       1120\n",
       "UML                                    1080\n",
       "Анализ данных                           986\n",
       "Excel                                   853\n",
       "REST                                    851\n",
       "Python                                  758\n",
       "Базы данных                             723\n",
       "Аналитика                               650\n",
       "Работа с большим объемом информации     638\n",
       "Бизнес-анализ                           606\n",
       "Разработка ТЗ                           515\n",
       "SOAP                                    427\n",
       "JSON                                    417\n",
       "Power BI                                408\n",
       "Аналитические исследования              401\n",
       "XML                                     361\n",
       "API                                     359\n",
       "Jira                                    351\n",
       "Постановка задач разработчикам          336\n",
       "Сбор и анализ информации                327\n",
       "Confluence                              310\n",
       "PowerPoint                              287\n",
       "Kafka                                   211\n",
       "Анализ рынка                            192\n",
       "Анализ бизнес показателей               182\n",
       "Agile                                   180\n",
       "Английский                              180\n",
       "Моделирование бизнес процессов          177\n",
       "Маркетинговый анализ                    174\n",
       "Прогнозирование                         157\n",
       "Подготовка презентаций                  155\n",
       "Оптимизация бизнес-процессов            148\n",
       "DWH                                     147\n",
       "Аналитика продаж                        145\n",
       "Математическая статистика               144\n",
       "Oracle                                  140\n",
       "Аналитический склад ума                 139\n",
       "Маркетинговые исследования              134\n",
       "Visio                                   132\n",
       "Scrum                                   127\n",
       "Техническая документация                127\n",
       "Системная интеграция                    126\n",
       "Статистический анализ                   125\n",
       "Tableau                                 121\n",
       "ETL                                     119\n",
       "Анализ конкурентной среды               116\n",
       "Работа в команде                        113\n",
       "Системное мышление                      110\n",
       "Use Case                                108\n",
       "Деловая коммуникация                    105\n",
       "Postman                                 104\n",
       "A/B-тест                                103\n",
       "Анализ требований                       103\n",
       "Сводные таблицы                          97\n",
       "Power Query                              96\n",
       "Git                                      93\n",
       "Name: standardized_skills, dtype: int64"
      ]
     },
     "execution_count": 48,
     "metadata": {},
     "output_type": "execute_result"
    }
   ],
   "source": [
    "# Разделяем строки на отдельные навыки и создаем список всех навыков\n",
    "all_skills = df['standardized_skills'].str.split(', ').explode()\n",
    "\n",
    "# Подсчитываем количество вхождений каждого навыка\n",
    "skill_counts = all_skills.value_counts()\n",
    "\n",
    "# Выводим результат\n",
    "skill_counts.head(60)"
   ]
  },
  {
   "cell_type": "markdown",
   "id": "5da6d357",
   "metadata": {},
   "source": [
    "На первом месте отсутствие навыков))) Исправим это"
   ]
  },
  {
   "cell_type": "code",
   "execution_count": 49,
   "id": "208a9327",
   "metadata": {
    "scrolled": true
   },
   "outputs": [],
   "source": [
    "df['standardized_skills'].replace('', np.NaN, inplace=True)"
   ]
  },
  {
   "cell_type": "markdown",
   "id": "f14bed06",
   "metadata": {},
   "source": [
    "В столбце с опытом заменим значения на названия соответствующих грейдов:"
   ]
  },
  {
   "cell_type": "code",
   "execution_count": 50,
   "id": "99bdc0ba",
   "metadata": {},
   "outputs": [],
   "source": [
    "# Словарь для замены значений\n",
    "replacement_dict = {\n",
    "    'between1And3': 'Junior+',\n",
    "    'between3And6': 'Middle',\n",
    "    'noExperience': 'Junior',\n",
    "    'moreThan6': 'Senior'\n",
    "}\n",
    "\n",
    "# Замена значений в столбце experience\n",
    "df['experience'] = df['experience'].replace(replacement_dict)"
   ]
  },
  {
   "cell_type": "markdown",
   "id": "864a2aa8",
   "metadata": {},
   "source": [
    "Создадим новый столбец vacancy, в котором поделим весь список по профессиональной роли на две специальности - Системный аналитик и Аналитик данных:"
   ]
  },
  {
   "cell_type": "code",
   "execution_count": 51,
   "id": "80f93cce",
   "metadata": {},
   "outputs": [],
   "source": [
    "# Создание нового столбца на основе условия\n",
    "df['vacancy'] = np.where(df['professional_roles'].isin(['Системный аналитик', \n",
    "                                                        'Специалист технической поддержки', \n",
    "                                                        'Технический писатель']), 'Системный аналитик', 'Аналитик данных')"
   ]
  },
  {
   "cell_type": "markdown",
   "id": "d823e4bd",
   "metadata": {},
   "source": [
    "Проверим значения в столбце зарплаты. Отсортируем в порядке возрастания"
   ]
  },
  {
   "cell_type": "code",
   "execution_count": 52,
   "id": "41c76899",
   "metadata": {},
   "outputs": [
    {
     "data": {
      "text/html": [
       "<div>\n",
       "<style scoped>\n",
       "    .dataframe tbody tr th:only-of-type {\n",
       "        vertical-align: middle;\n",
       "    }\n",
       "\n",
       "    .dataframe tbody tr th {\n",
       "        vertical-align: top;\n",
       "    }\n",
       "\n",
       "    .dataframe thead th {\n",
       "        text-align: right;\n",
       "    }\n",
       "</style>\n",
       "<table border=\"1\" class=\"dataframe\">\n",
       "  <thead>\n",
       "    <tr style=\"text-align: right;\">\n",
       "      <th></th>\n",
       "      <th>Unnamed: 0</th>\n",
       "      <th>id</th>\n",
       "      <th>name</th>\n",
       "      <th>department</th>\n",
       "      <th>area</th>\n",
       "      <th>published_at</th>\n",
       "      <th>url</th>\n",
       "      <th>employer</th>\n",
       "      <th>schedule</th>\n",
       "      <th>professional_roles</th>\n",
       "      <th>experience</th>\n",
       "      <th>employment</th>\n",
       "      <th>salary_from</th>\n",
       "      <th>salary_to</th>\n",
       "      <th>salary_gross</th>\n",
       "      <th>salary_currency</th>\n",
       "      <th>description</th>\n",
       "      <th>key_skills</th>\n",
       "      <th>standardized_skills</th>\n",
       "      <th>vacancy</th>\n",
       "    </tr>\n",
       "  </thead>\n",
       "  <tbody>\n",
       "    <tr>\n",
       "      <th>2880</th>\n",
       "      <td>5572</td>\n",
       "      <td>104638099</td>\n",
       "      <td>Системный Аналитик Middle/Senior</td>\n",
       "      <td>NaN</td>\n",
       "      <td>Москва</td>\n",
       "      <td>2024-08-18T12:37:56+0300</td>\n",
       "      <td>https://api.hh.ru/vacancies/104638099?host=hh.ru</td>\n",
       "      <td>Datanomica</td>\n",
       "      <td>Удаленная работа</td>\n",
       "      <td>Системный аналитик</td>\n",
       "      <td>Senior</td>\n",
       "      <td>Полная занятость</td>\n",
       "      <td>280.0</td>\n",
       "      <td>340000.0</td>\n",
       "      <td>False</td>\n",
       "      <td>RUR</td>\n",
       "      <td>Привет! Мы — ООО «Датаномика», решаем проблемы...</td>\n",
       "      <td>JSON API, XML, JSON, Agile, Java, SQL, Kafka</td>\n",
       "      <td>JSON, XML, Agile, Java, SQL, Kafka</td>\n",
       "      <td>Системный аналитик</td>\n",
       "    </tr>\n",
       "    <tr>\n",
       "      <th>4651</th>\n",
       "      <td>8890</td>\n",
       "      <td>105251108</td>\n",
       "      <td>Аналитик</td>\n",
       "      <td>NaN</td>\n",
       "      <td>Москва</td>\n",
       "      <td>2024-08-05T14:32:35+0300</td>\n",
       "      <td>https://api.hh.ru/vacancies/105251108?host=hh.ru</td>\n",
       "      <td>BrainShells</td>\n",
       "      <td>Удаленная работа</td>\n",
       "      <td>Аналитик</td>\n",
       "      <td>Middle</td>\n",
       "      <td>Полная занятость</td>\n",
       "      <td>1000.0</td>\n",
       "      <td>NaN</td>\n",
       "      <td>False</td>\n",
       "      <td>USD</td>\n",
       "      <td>Мы - динамично развивающий стартап, решающими ...</td>\n",
       "      <td>Аналитическое мышление, Продуктовые метрики, А...</td>\n",
       "      <td>Аналитическое мышление, Продуктовые метрики, А...</td>\n",
       "      <td>Аналитик данных</td>\n",
       "    </tr>\n",
       "    <tr>\n",
       "      <th>2611</th>\n",
       "      <td>5051</td>\n",
       "      <td>104532443</td>\n",
       "      <td>Data Analyst</td>\n",
       "      <td>NaN</td>\n",
       "      <td>Москва</td>\n",
       "      <td>2024-07-24T10:05:53+0300</td>\n",
       "      <td>https://api.hh.ru/vacancies/104532443?host=hh.ru</td>\n",
       "      <td>BrainShells</td>\n",
       "      <td>Удаленная работа</td>\n",
       "      <td>BI-аналитик, аналитик данных</td>\n",
       "      <td>Junior+</td>\n",
       "      <td>Полная занятость</td>\n",
       "      <td>1000.0</td>\n",
       "      <td>NaN</td>\n",
       "      <td>False</td>\n",
       "      <td>USD</td>\n",
       "      <td>Мы - динамично развивающий стартап, решающими ...</td>\n",
       "      <td>Анализ данных, Python, Аналитическое мышление,...</td>\n",
       "      <td>Анализ данных, Python, Аналитическое мышление,...</td>\n",
       "      <td>Аналитик данных</td>\n",
       "    </tr>\n",
       "    <tr>\n",
       "      <th>2471</th>\n",
       "      <td>4784</td>\n",
       "      <td>104451336</td>\n",
       "      <td>Продуктовый аналитик</td>\n",
       "      <td>NaN</td>\n",
       "      <td>Москва</td>\n",
       "      <td>2024-07-23T14:01:03+0300</td>\n",
       "      <td>https://api.hh.ru/vacancies/104451336?host=hh.ru</td>\n",
       "      <td>Трантин Антон Васильевич</td>\n",
       "      <td>Удаленная работа</td>\n",
       "      <td>BI-аналитик, аналитик данных</td>\n",
       "      <td>Middle</td>\n",
       "      <td>Полная занятость</td>\n",
       "      <td>1000.0</td>\n",
       "      <td>3000.0</td>\n",
       "      <td>False</td>\n",
       "      <td>USD</td>\n",
       "      <td>О продукте Мы - одна из ведущих крипто финтех ...</td>\n",
       "      <td>PostHog, MySQL, A/B тесты</td>\n",
       "      <td>PostHog, SQL, A/B-тест</td>\n",
       "      <td>Аналитик данных</td>\n",
       "    </tr>\n",
       "    <tr>\n",
       "      <th>3170</th>\n",
       "      <td>6152</td>\n",
       "      <td>104741519</td>\n",
       "      <td>Продуктовый аналитик mobile</td>\n",
       "      <td>NaN</td>\n",
       "      <td>Москва</td>\n",
       "      <td>2024-07-26T21:32:23+0300</td>\n",
       "      <td>https://api.hh.ru/vacancies/104741519?host=hh.ru</td>\n",
       "      <td>Ит</td>\n",
       "      <td>Удаленная работа</td>\n",
       "      <td>Аналитик</td>\n",
       "      <td>Junior+</td>\n",
       "      <td>Частичная занятость</td>\n",
       "      <td>1000.0</td>\n",
       "      <td>4000.0</td>\n",
       "      <td>False</td>\n",
       "      <td>USD</td>\n",
       "      <td>Мы занимаемся разработкой наших мобильных прод...</td>\n",
       "      <td>A/B тесты, Управление командой, Google Analyti...</td>\n",
       "      <td>A/B-тест, Управление командой, Google Analytic...</td>\n",
       "      <td>Аналитик данных</td>\n",
       "    </tr>\n",
       "  </tbody>\n",
       "</table>\n",
       "</div>"
      ],
      "text/plain": [
       "      Unnamed: 0         id                              name department  \\\n",
       "2880        5572  104638099  Системный Аналитик Middle/Senior        NaN   \n",
       "4651        8890  105251108                          Аналитик        NaN   \n",
       "2611        5051  104532443                      Data Analyst        NaN   \n",
       "2471        4784  104451336              Продуктовый аналитик        NaN   \n",
       "3170        6152  104741519       Продуктовый аналитик mobile        NaN   \n",
       "\n",
       "        area              published_at  \\\n",
       "2880  Москва  2024-08-18T12:37:56+0300   \n",
       "4651  Москва  2024-08-05T14:32:35+0300   \n",
       "2611  Москва  2024-07-24T10:05:53+0300   \n",
       "2471  Москва  2024-07-23T14:01:03+0300   \n",
       "3170  Москва  2024-07-26T21:32:23+0300   \n",
       "\n",
       "                                                   url  \\\n",
       "2880  https://api.hh.ru/vacancies/104638099?host=hh.ru   \n",
       "4651  https://api.hh.ru/vacancies/105251108?host=hh.ru   \n",
       "2611  https://api.hh.ru/vacancies/104532443?host=hh.ru   \n",
       "2471  https://api.hh.ru/vacancies/104451336?host=hh.ru   \n",
       "3170  https://api.hh.ru/vacancies/104741519?host=hh.ru   \n",
       "\n",
       "                      employer          schedule  \\\n",
       "2880                Datanomica  Удаленная работа   \n",
       "4651               BrainShells  Удаленная работа   \n",
       "2611               BrainShells  Удаленная работа   \n",
       "2471  Трантин Антон Васильевич  Удаленная работа   \n",
       "3170                        Ит  Удаленная работа   \n",
       "\n",
       "                professional_roles experience           employment  \\\n",
       "2880            Системный аналитик     Senior     Полная занятость   \n",
       "4651                      Аналитик     Middle     Полная занятость   \n",
       "2611  BI-аналитик, аналитик данных    Junior+     Полная занятость   \n",
       "2471  BI-аналитик, аналитик данных     Middle     Полная занятость   \n",
       "3170                      Аналитик    Junior+  Частичная занятость   \n",
       "\n",
       "      salary_from  salary_to salary_gross salary_currency  \\\n",
       "2880        280.0   340000.0        False             RUR   \n",
       "4651       1000.0        NaN        False             USD   \n",
       "2611       1000.0        NaN        False             USD   \n",
       "2471       1000.0     3000.0        False             USD   \n",
       "3170       1000.0     4000.0        False             USD   \n",
       "\n",
       "                                            description  \\\n",
       "2880  Привет! Мы — ООО «Датаномика», решаем проблемы...   \n",
       "4651  Мы - динамично развивающий стартап, решающими ...   \n",
       "2611  Мы - динамично развивающий стартап, решающими ...   \n",
       "2471  О продукте Мы - одна из ведущих крипто финтех ...   \n",
       "3170  Мы занимаемся разработкой наших мобильных прод...   \n",
       "\n",
       "                                             key_skills  \\\n",
       "2880       JSON API, XML, JSON, Agile, Java, SQL, Kafka   \n",
       "4651  Аналитическое мышление, Продуктовые метрики, А...   \n",
       "2611  Анализ данных, Python, Аналитическое мышление,...   \n",
       "2471                          PostHog, MySQL, A/B тесты   \n",
       "3170  A/B тесты, Управление командой, Google Analyti...   \n",
       "\n",
       "                                    standardized_skills             vacancy  \n",
       "2880                 JSON, XML, Agile, Java, SQL, Kafka  Системный аналитик  \n",
       "4651  Аналитическое мышление, Продуктовые метрики, А...     Аналитик данных  \n",
       "2611  Анализ данных, Python, Аналитическое мышление,...     Аналитик данных  \n",
       "2471                             PostHog, SQL, A/B-тест     Аналитик данных  \n",
       "3170  A/B-тест, Управление командой, Google Analytic...     Аналитик данных  "
      ]
     },
     "execution_count": 52,
     "metadata": {},
     "output_type": "execute_result"
    }
   ],
   "source": [
    "df.sort_values(by='salary_from').head()"
   ]
  },
  {
   "cell_type": "markdown",
   "id": "d81cfc08",
   "metadata": {},
   "source": [
    "В первой строке ошибочные данные по salary_from, но мы видим рядом верхнюю границу и понимаем, как нужно их можно исправить"
   ]
  },
  {
   "cell_type": "markdown",
   "id": "f77cb44a",
   "metadata": {},
   "source": [
    "Исправим неправильную нижнюю границу ЗП"
   ]
  },
  {
   "cell_type": "code",
   "execution_count": 53,
   "id": "313ba837",
   "metadata": {
    "scrolled": false
   },
   "outputs": [],
   "source": [
    "df.at[2880, 'salary_from'] = 280000"
   ]
  },
  {
   "cell_type": "markdown",
   "id": "3da19b38",
   "metadata": {},
   "source": [
    "Остальные данные по ЗП вопросов не вызывают"
   ]
  },
  {
   "cell_type": "markdown",
   "id": "138673b5",
   "metadata": {},
   "source": [
    "Создадим новый столбец  со средней зарплатой по вакансии"
   ]
  },
  {
   "cell_type": "code",
   "execution_count": 54,
   "id": "2af77883",
   "metadata": {},
   "outputs": [],
   "source": [
    "# Вычисление среднего значения или выбор одного из значений, если другое NaN\n",
    "df['average_salary'] = df[['salary_from', 'salary_to']].mean(axis=1)"
   ]
  },
  {
   "cell_type": "markdown",
   "id": "4232ab91",
   "metadata": {},
   "source": [
    "Далее конвертируем  доллары и евро в рубли по примерным курсам 90 и 100 соответственно:"
   ]
  },
  {
   "cell_type": "code",
   "execution_count": 55,
   "id": "8fb12f27",
   "metadata": {},
   "outputs": [],
   "source": [
    "# Конвертируем итоговый столбец average_salary в рубли\n",
    "def convert_average_to_rub(row):\n",
    "    if row['salary_currency'] == 'USD':\n",
    "        conversion_rate = 90\n",
    "    elif row['salary_currency'] == 'EUR':\n",
    "        conversion_rate = 100\n",
    "    else:\n",
    "        conversion_rate = 1  # Если валюта в рублях, оставляем как есть\n",
    "    \n",
    "    return row['average_salary'] * conversion_rate\n",
    "\n",
    "# Применяем функцию конвертации к average_salary\n",
    "df['average_salary'] = df.apply(convert_average_to_rub, axis=1)"
   ]
  },
  {
   "cell_type": "markdown",
   "id": "d1418bdd",
   "metadata": {},
   "source": [
    "В случае, если указана ЗП gross, вычтем 13%:"
   ]
  },
  {
   "cell_type": "code",
   "execution_count": 56,
   "id": "403153f8",
   "metadata": {},
   "outputs": [],
   "source": [
    "# Вычитаем 13% налога, если salary_gross = True\n",
    "def apply_tax(row):\n",
    "    if row['salary_gross']:\n",
    "        return row['average_salary'] * 0.87  # Вычитаем 13% налога\n",
    "    else:\n",
    "        return row['average_salary']\n",
    "\n",
    "df['average_salary'] = df.apply(apply_tax, axis=1)"
   ]
  },
  {
   "cell_type": "markdown",
   "id": "a1ab6d9f",
   "metadata": {},
   "source": [
    "Сохраним"
   ]
  },
  {
   "cell_type": "code",
   "execution_count": 57,
   "id": "54291b27",
   "metadata": {},
   "outputs": [],
   "source": [
    "# df.to_csv(\"df_da_sa_wip.csv\")"
   ]
  },
  {
   "cell_type": "code",
   "execution_count": 58,
   "id": "56664535",
   "metadata": {},
   "outputs": [],
   "source": [
    "# df = pd.read_csv('df_da_sa_wip.csv')"
   ]
  },
  {
   "cell_type": "code",
   "execution_count": 59,
   "id": "26f9f3f1",
   "metadata": {
    "scrolled": false
   },
   "outputs": [
    {
     "name": "stdout",
     "output_type": "stream",
     "text": [
      "<class 'pandas.core.frame.DataFrame'>\n",
      "RangeIndex: 8168 entries, 0 to 8167\n",
      "Data columns (total 21 columns):\n",
      " #   Column               Non-Null Count  Dtype  \n",
      "---  ------               --------------  -----  \n",
      " 0   Unnamed: 0           8168 non-null   int64  \n",
      " 1   id                   8168 non-null   int64  \n",
      " 2   name                 8168 non-null   object \n",
      " 3   department           1673 non-null   object \n",
      " 4   area                 8168 non-null   object \n",
      " 5   published_at         8168 non-null   object \n",
      " 6   url                  8168 non-null   object \n",
      " 7   employer             8168 non-null   object \n",
      " 8   schedule             8168 non-null   object \n",
      " 9   professional_roles   8168 non-null   object \n",
      " 10  experience           8168 non-null   object \n",
      " 11  employment           8168 non-null   object \n",
      " 12  salary_from          1860 non-null   float64\n",
      " 13  salary_to            1221 non-null   float64\n",
      " 14  salary_gross         2231 non-null   object \n",
      " 15  salary_currency      2231 non-null   object \n",
      " 16  description          8168 non-null   object \n",
      " 17  key_skills           5127 non-null   object \n",
      " 18  standardized_skills  5127 non-null   object \n",
      " 19  vacancy              8168 non-null   object \n",
      " 20  average_salary       2231 non-null   float64\n",
      "dtypes: float64(3), int64(2), object(16)\n",
      "memory usage: 1.3+ MB\n"
     ]
    }
   ],
   "source": [
    "df.info()"
   ]
  },
  {
   "cell_type": "markdown",
   "id": "6bf9eefe",
   "metadata": {},
   "source": [
    "Теперь нам не очень нужны исходные столбцы с ЗП и исходные ключевые навыки. Удалим их вместе со всем лишним:"
   ]
  },
  {
   "cell_type": "code",
   "execution_count": 60,
   "id": "4b7ea6c7",
   "metadata": {},
   "outputs": [],
   "source": [
    "df = df.drop(df.columns[[0, 12, 13, 14, 15, 17]], axis=1)"
   ]
  },
  {
   "cell_type": "markdown",
   "id": "2816dee2",
   "metadata": {},
   "source": [
    "Исправим тип данных для столбца published_at:"
   ]
  },
  {
   "cell_type": "code",
   "execution_count": 61,
   "id": "954cecf5",
   "metadata": {},
   "outputs": [],
   "source": [
    "# Преобразуем столбец в формат даты-времени\n",
    "df['published_at'] = pd.to_datetime(df['published_at'])"
   ]
  },
  {
   "cell_type": "code",
   "execution_count": 62,
   "id": "6be5d5a9",
   "metadata": {},
   "outputs": [],
   "source": [
    "df['published_at'] = df['published_at'].dt.tz_localize(None)"
   ]
  },
  {
   "cell_type": "markdown",
   "id": "6d6a5c20",
   "metadata": {},
   "source": [
    "Создадим новый столбец, в котором только дата вакансии"
   ]
  },
  {
   "cell_type": "code",
   "execution_count": 63,
   "id": "4b7d2747",
   "metadata": {},
   "outputs": [],
   "source": [
    "df['date'] = df['published_at'].dt.date"
   ]
  },
  {
   "cell_type": "markdown",
   "id": "d6ed4016",
   "metadata": {},
   "source": [
    "Попробуем еще раз поискать дубликаты строк по отдельным столбцам. Предположим, что одна и та же вакансия была опубликована несколько раз в разные даты"
   ]
  },
  {
   "cell_type": "code",
   "execution_count": 64,
   "id": "caa14639",
   "metadata": {
    "scrolled": false
   },
   "outputs": [
    {
     "data": {
      "text/plain": [
       "29"
      ]
     },
     "execution_count": 64,
     "metadata": {},
     "output_type": "execute_result"
    }
   ],
   "source": [
    "# Столбцы, по которым не нужно искать дубликаты\n",
    "columns_to_exclude = ['id', 'published_at', 'url', 'date']\n",
    "\n",
    "# Получаем все столбцы, кроме указанных\n",
    "columns_to_check = [col for col in df.columns if col not in columns_to_exclude]\n",
    "\n",
    "# Проверяем дубликаты по оставшимся столбцам\n",
    "duplicates_count = df[columns_to_check].duplicated().sum()\n",
    "duplicates_count"
   ]
  },
  {
   "cell_type": "markdown",
   "id": "106e1c77",
   "metadata": {},
   "source": [
    "Сложно сказать, почему они были продублированы. Но, давайте удалим их."
   ]
  },
  {
   "cell_type": "code",
   "execution_count": 65,
   "id": "d2fe5eca",
   "metadata": {},
   "outputs": [],
   "source": [
    "# Удаляем дубликаты, оставляя последний экземпляр\n",
    "df_unique = df.drop_duplicates(subset=columns_to_check, keep='last')"
   ]
  },
  {
   "cell_type": "code",
   "execution_count": 66,
   "id": "c9fe82e6",
   "metadata": {},
   "outputs": [
    {
     "data": {
      "text/plain": [
       "0"
      ]
     },
     "execution_count": 66,
     "metadata": {},
     "output_type": "execute_result"
    }
   ],
   "source": [
    "duplicates_count = df_unique[columns_to_check].duplicated().sum()\n",
    "duplicates_count"
   ]
  },
  {
   "cell_type": "markdown",
   "id": "18abf76d",
   "metadata": {},
   "source": [
    "Далее должен был идти довольно большой кусок работы, где обработывался текст описания, для получения из него дополнительного списка навыков. Пока оставили эту затею, чтобы успеть сдать исследование на проверку в срок, но позже конечно доработаем этот момент, чтобы получить дополнительную информацию для исследования. Был составлен словарь навыков из столбца standardized_skill и осуществлялся поиск в тексте вакансий навыков из словаря. Другой подход предполагал лемматизацию текста вакансии и выявление наиболее характерных слов и сочетаний."
   ]
  },
  {
   "cell_type": "markdown",
   "id": "ecca5387",
   "metadata": {},
   "source": [
    "## 3. Исследовательский анализ данных"
   ]
  },
  {
   "cell_type": "markdown",
   "id": "771afcca",
   "metadata": {},
   "source": [
    "Интересно посмотреть, в какое время обычно публикуются вакансии в течение дня. Разобъем день на получасовые интервалы и построим гистограмму:"
   ]
  },
  {
   "cell_type": "code",
   "execution_count": 67,
   "id": "6306ee08",
   "metadata": {
    "scrolled": false
   },
   "outputs": [
    {
     "data": {
      "image/png": "[encoded data removed]",
      "text/plain": [
       "<Figure size 1500x700 with 1 Axes>"
      ]
     },
     "metadata": {},
     "output_type": "display_data"
    }
   ],
   "source": [
    "# Устанавливаем 'published_at' как индекс\n",
    "df_30min = df_unique.set_index('published_at')\n",
    "\n",
    "# Ресемплируем данные по получасовым интервалам\n",
    "df_resampled = df_30min.resample('30T').count()  # Подсчет количества событий в каждом интервале\n",
    "\n",
    "# Добавляем столбец с временем дня\n",
    "df_resampled['time'] = df_resampled.index.time\n",
    "\n",
    "# Группируем по времени дня (по получасовым интервалам в течение дня)\n",
    "df_grouped = df_resampled.groupby('time').sum()\n",
    "\n",
    "# Построение гистограммы\n",
    "plt.figure(figsize=(15, 7))\n",
    "plt.bar(df_grouped.index.astype(str), df_grouped['id'])\n",
    "# Настройка меток по оси X\n",
    "tick_interval = 2  # Показывать метку каждые 60 минут (2 * 30 минут)\n",
    "plt.xticks(range(0, len(df_grouped.index), tick_interval), \n",
    "           [df_grouped.index[i].strftime('%H:%M') for i in range(0, len(df_grouped.index), tick_interval)],\n",
    "           rotation=90)\n",
    "plt.xlabel('Время (30-минутные интервалы)', labelpad=20)\n",
    "plt.ylabel('Частота публикации вакансий')\n",
    "plt.title('Частота публикации вакансий в получасовых интервалах за месяц')\n",
    "plt.show()"
   ]
  },
  {
   "cell_type": "markdown",
   "id": "d366c2eb",
   "metadata": {},
   "source": [
    "Есть два небольших возвышения в районе 9-11 часов и 16-17 часов. Грубо говоря, в начале и в конце рабочего дня"
   ]
  },
  {
   "cell_type": "markdown",
   "id": "bff69563",
   "metadata": {},
   "source": [
    "Теперь посмотрим, как публиковались вакансии по дням недели."
   ]
  },
  {
   "cell_type": "code",
   "execution_count": 68,
   "id": "5f9ecb3c",
   "metadata": {},
   "outputs": [
    {
     "data": {
      "image/png": "[encoded data removed]",
      "text/plain": [
       "<Figure size 1500x700 with 1 Axes>"
      ]
     },
     "metadata": {},
     "output_type": "display_data"
    }
   ],
   "source": [
    "# Группируем по дате и считаем количество событий\n",
    "df_daily = df_unique.groupby('date').size()\n",
    "\n",
    "# Построение гистограммы\n",
    "plt.figure(figsize=(15, 7))\n",
    "plt.bar(df_daily.index, df_daily)\n",
    "\n",
    "plt.xlabel('Дата')\n",
    "plt.ylabel('Частота событий')\n",
    "plt.title('Частота событий по дням')\n",
    "# Форматирование меток на оси X\n",
    "plt.gca().xaxis.set_major_locator(mdates.DayLocator())  # Показать метки для каждого дня\n",
    "plt.gca().xaxis.set_major_formatter(mdates.DateFormatter('%Y-%m-%d'))  # Форматирование меток в виде 'год-месяц-день'\n",
    "plt.xticks(rotation=90)  # Поворот меток по оси X для лучшей читаемости\n",
    "plt.show()"
   ]
  },
  {
   "cell_type": "markdown",
   "id": "3ec52f92",
   "metadata": {},
   "source": [
    "Видно, что понедельник является самым популярным днем, а в выходные число публикуемых вакансий резко снижается. На графике видна устойчивая тенденция роста среднего числа вакансий, но здесь ничего удивительного, т.к. это только открытые вакансии и естественно, что старых открытых вакансий меньше, чем новых. Самы высокий бар - это пятница 16 августа, из него понятно примерное число вакансий, которое публикуется в течение дня по нашим специальностям."
   ]
  },
  {
   "cell_type": "markdown",
   "id": "4d310c24",
   "metadata": {},
   "source": [
    "Проверим гипотезу, высказанную на старте исследования о том, что высокооплачиваемые вакансии закрываются быстрее остальных и это искажает данные по средней ЗП."
   ]
  },
  {
   "cell_type": "markdown",
   "id": "a71d3a23",
   "metadata": {},
   "source": [
    "Выберем для проверки наиболее многочисленную группу:"
   ]
  },
  {
   "cell_type": "code",
   "execution_count": 69,
   "id": "517d1a29",
   "metadata": {
    "scrolled": true
   },
   "outputs": [
    {
     "data": {
      "text/plain": [
       "vacancy             experience\n",
       "Аналитик данных     Junior         566\n",
       "                    Junior+       3357\n",
       "                    Middle        1730\n",
       "                    Senior          72\n",
       "Системный аналитик  Junior         129\n",
       "                    Junior+       1008\n",
       "                    Middle        1230\n",
       "                    Senior          47\n",
       "Name: id, dtype: int64"
      ]
     },
     "execution_count": 69,
     "metadata": {},
     "output_type": "execute_result"
    }
   ],
   "source": [
    "df_unique.groupby(['vacancy', 'experience'])['id'].count()"
   ]
  },
  {
   "cell_type": "markdown",
   "id": "e0197844",
   "metadata": {},
   "source": [
    "Это Аналитики данных уровня Junior+"
   ]
  },
  {
   "cell_type": "code",
   "execution_count": 70,
   "id": "74f960f0",
   "metadata": {},
   "outputs": [
    {
     "data": {
      "image/png": "[encoded data removed]",
      "text/plain": [
       "<Figure size 1200x600 with 1 Axes>"
      ]
     },
     "metadata": {},
     "output_type": "display_data"
    }
   ],
   "source": [
    "# Группируем по дате и считаем среднюю ЗП\n",
    "df_daily_salary = df_unique.query('vacancy==\"Аналитик данных\" and experience==\"Junior+\"').groupby('date')['average_salary'].mean()\n",
    "\n",
    "plt.figure(figsize=(12, 6))\n",
    "\n",
    "# Построение графика\n",
    "plt.plot(df_daily_salary.index, df_daily_salary.values, marker='o', linestyle='-')\n",
    "\n",
    "# Настройка меток оси X и их формата\n",
    "ax = plt.gca()  # Получаем текущую ось\n",
    "ax.xaxis.set_major_locator(mdates.DayLocator())  # Основные метки - каждый день\n",
    "ax.xaxis.set_major_formatter(mdates.DateFormatter('%Y-%m-%d'))  # Формат меток оси X\n",
    "\n",
    "# Добавление сетки\n",
    "ax.grid(which='major', linestyle='-', linewidth='0.5', color='black')  # Основная сетка\n",
    "\n",
    "# Заголовки и метки осей\n",
    "plt.title('Средняя зарплата аналитиков данных уровня Junior+ по датам')\n",
    "plt.xlabel('Дата')\n",
    "plt.ylabel('Средняя зарплата')\n",
    "plt.xticks(rotation=45)\n",
    "\n",
    "plt.show()"
   ]
  },
  {
   "cell_type": "markdown",
   "id": "dd23c5d9",
   "metadata": {},
   "source": [
    "Какой-то явной тенденции к увеличению средней ЗП из-за \"плохих\" старых вакансий и \"выгодных\" новых нет. Гипотеза не подтвердилась."
   ]
  },
  {
   "cell_type": "markdown",
   "id": "887957ee",
   "metadata": {},
   "source": [
    "## 4. Определение долей грейдов для аналитиков данных и системных аналитиков"
   ]
  },
  {
   "cell_type": "code",
   "execution_count": 71,
   "id": "6c0fb6ae",
   "metadata": {},
   "outputs": [],
   "source": [
    "df_unique = pd.read_csv(\"df_unique_fin.csv\", usecols=lambda column: column != 'Unnamed: 0')"
   ]
  },
  {
   "cell_type": "code",
   "execution_count": 72,
   "id": "cd87d9c9",
   "metadata": {},
   "outputs": [
    {
     "data": {
      "text/plain": [
       "Junior      566\n",
       "Junior+    3357\n",
       "Middle     1730\n",
       "Senior       72\n",
       "Name: id, dtype: int64"
      ]
     },
     "execution_count": 72,
     "metadata": {},
     "output_type": "execute_result"
    }
   ],
   "source": [
    "df_da = df_unique.query('vacancy==\"Аналитик данных\"').groupby('experience')['id'].count()\n",
    "df_da.index = ['Junior', 'Junior+', 'Middle', 'Senior']\n",
    "df_da"
   ]
  },
  {
   "cell_type": "code",
   "execution_count": 73,
   "id": "dcc6a7ca",
   "metadata": {},
   "outputs": [
    {
     "data": {
      "text/plain": [
       "Junior      129\n",
       "Junior+    1008\n",
       "Middle     1230\n",
       "Senior       47\n",
       "Name: id, dtype: int64"
      ]
     },
     "execution_count": 73,
     "metadata": {},
     "output_type": "execute_result"
    }
   ],
   "source": [
    "df_sa = df_unique.query('vacancy==\"Системный аналитик\"').groupby('experience')['id'].count()\n",
    "df_sa.index = ['Junior', 'Junior+', 'Middle', 'Senior']\n",
    "df_sa"
   ]
  },
  {
   "cell_type": "code",
   "execution_count": 74,
   "id": "5e2a03ff",
   "metadata": {},
   "outputs": [
    {
     "data": {
      "image/png": "[encoded data removed]",
      "text/plain": [
       "<Figure size 1400x700 with 2 Axes>"
      ]
     },
     "metadata": {},
     "output_type": "display_data"
    }
   ],
   "source": [
    "# Создание цветовой палитры\n",
    "colors1 = sns.color_palette('Blues')\n",
    "colors2 = sns.color_palette('Greys')\n",
    "\n",
    "# Создание фигуры и осей\n",
    "fig, axes = plt.subplots(1, 2, figsize=(14, 7))  # 1 строка, 2 столбца\n",
    "\n",
    "# Первый пайчарт\n",
    "axes[0].pie(df_da, labels=df_da.index, colors=colors1,\n",
    "            autopct='%.0f%%', pctdistance=0.7, labeldistance=1.1,\n",
    "            startangle=90, radius=1.1, \n",
    "            textprops={'fontsize': 14, 'color': '#464451'})\n",
    "axes[0].set_title('Доли грейдов\\nаналитиков данных', \n",
    "                  fontsize=14, y=1.07, color='#464451')\n",
    "\n",
    "# Второй пайчарт\n",
    "axes[1].pie(df_sa, labels=df_sa.index, colors=colors2,\n",
    "            autopct='%.0f%%', pctdistance=0.8, labeldistance=1.1,\n",
    "            startangle=90, radius=1.1, \n",
    "            textprops={'fontsize': 14, 'color': '#464451'})\n",
    "axes[1].set_title('Доли грейдов\\nсистемных аналитиков', \n",
    "                  fontsize=14, y=1.07, color='#464451')\n",
    "\n",
    "plt.show()"
   ]
  },
  {
   "cell_type": "markdown",
   "id": "04e4c738",
   "metadata": {},
   "source": [
    "У аналитиков данных наибольшую долю вакансий 59% занял грейд Junior+. У системных аналитиков грейд Middle занимает также более половины всех вакансий - 51%."
   ]
  },
  {
   "cell_type": "markdown",
   "id": "fa8509fc",
   "metadata": {},
   "source": [
    "## 5. Определение типичного места работы для разных грейдов"
   ]
  },
  {
   "cell_type": "code",
   "execution_count": 75,
   "id": "903e0857",
   "metadata": {
    "scrolled": false
   },
   "outputs": [
    {
     "name": "stdout",
     "output_type": "stream",
     "text": [
      "<class 'pandas.core.frame.DataFrame'>\n",
      "RangeIndex: 8139 entries, 0 to 8138\n",
      "Data columns (total 17 columns):\n",
      " #   Column                   Non-Null Count  Dtype  \n",
      "---  ------                   --------------  -----  \n",
      " 0   id                       8139 non-null   int64  \n",
      " 1   name                     8139 non-null   object \n",
      " 2   department               1661 non-null   object \n",
      " 3   area                     8139 non-null   object \n",
      " 4   published_at             8139 non-null   object \n",
      " 5   url                      8139 non-null   object \n",
      " 6   employer                 8139 non-null   object \n",
      " 7   schedule                 8139 non-null   object \n",
      " 8   professional_roles       8139 non-null   object \n",
      " 9   experience               8139 non-null   object \n",
      " 10  employment               8139 non-null   object \n",
      " 11  description              8139 non-null   object \n",
      " 12  standardized_skills      5115 non-null   object \n",
      " 13  vacancy                  8139 non-null   object \n",
      " 14  average_salary           2224 non-null   float64\n",
      " 15  date                     8139 non-null   object \n",
      " 16  skills_from_description  8105 non-null   object \n",
      "dtypes: float64(1), int64(1), object(15)\n",
      "memory usage: 1.1+ MB\n"
     ]
    }
   ],
   "source": [
    "df_unique.info()"
   ]
  },
  {
   "cell_type": "markdown",
   "id": "672cae99",
   "metadata": {},
   "source": [
    "### 5.1 ТОП работодателей"
   ]
  },
  {
   "cell_type": "markdown",
   "id": "50fe5538",
   "metadata": {},
   "source": [
    "Отсортируем число вакансий по работодателям и их департаментам в порядке убывания и выведем первые 10 работодателей"
   ]
  },
  {
   "cell_type": "code",
   "execution_count": 76,
   "id": "81a3ad7b",
   "metadata": {
    "scrolled": false
   },
   "outputs": [
    {
     "data": {
      "text/html": [
       "<div>\n",
       "<style scoped>\n",
       "    .dataframe tbody tr th:only-of-type {\n",
       "        vertical-align: middle;\n",
       "    }\n",
       "\n",
       "    .dataframe tbody tr th {\n",
       "        vertical-align: top;\n",
       "    }\n",
       "\n",
       "    .dataframe thead th {\n",
       "        text-align: right;\n",
       "    }\n",
       "</style>\n",
       "<table border=\"1\" class=\"dataframe\">\n",
       "  <thead>\n",
       "    <tr style=\"text-align: right;\">\n",
       "      <th></th>\n",
       "      <th>employer</th>\n",
       "      <th>department</th>\n",
       "      <th>department_vacancies</th>\n",
       "      <th>employer_vacancies</th>\n",
       "    </tr>\n",
       "  </thead>\n",
       "  <tbody>\n",
       "    <tr>\n",
       "      <th>186</th>\n",
       "      <td>СБЕР</td>\n",
       "      <td>Сбер для экспертов</td>\n",
       "      <td>216</td>\n",
       "      <td>256</td>\n",
       "    </tr>\n",
       "    <tr>\n",
       "      <th>188</th>\n",
       "      <td>СБЕР</td>\n",
       "      <td>Сбер. IT</td>\n",
       "      <td>34</td>\n",
       "      <td>256</td>\n",
       "    </tr>\n",
       "    <tr>\n",
       "      <th>187</th>\n",
       "      <td>СБЕР</td>\n",
       "      <td>Сбер. Data Science</td>\n",
       "      <td>4</td>\n",
       "      <td>256</td>\n",
       "    </tr>\n",
       "    <tr>\n",
       "      <th>189</th>\n",
       "      <td>СБЕР</td>\n",
       "      <td>Сбер. Кибербезопасность</td>\n",
       "      <td>2</td>\n",
       "      <td>256</td>\n",
       "    </tr>\n",
       "    <tr>\n",
       "      <th>206</th>\n",
       "      <td>Т1</td>\n",
       "      <td>ГК Иннотех | Финтех (Иннотех)</td>\n",
       "      <td>125</td>\n",
       "      <td>206</td>\n",
       "    </tr>\n",
       "    <tr>\n",
       "      <th>201</th>\n",
       "      <td>Т1</td>\n",
       "      <td>ГК Иннотех | Большие данные</td>\n",
       "      <td>48</td>\n",
       "      <td>206</td>\n",
       "    </tr>\n",
       "    <tr>\n",
       "      <th>204</th>\n",
       "      <td>Т1</td>\n",
       "      <td>ГК Иннотех | Мультипродакт</td>\n",
       "      <td>20</td>\n",
       "      <td>206</td>\n",
       "    </tr>\n",
       "    <tr>\n",
       "      <th>202</th>\n",
       "      <td>Т1</td>\n",
       "      <td>ГК Иннотех | Интеграция Консалтинг</td>\n",
       "      <td>10</td>\n",
       "      <td>206</td>\n",
       "    </tr>\n",
       "    <tr>\n",
       "      <th>205</th>\n",
       "      <td>Т1</td>\n",
       "      <td>ГК Иннотех | Сервионика</td>\n",
       "      <td>2</td>\n",
       "      <td>206</td>\n",
       "    </tr>\n",
       "    <tr>\n",
       "      <th>203</th>\n",
       "      <td>Т1</td>\n",
       "      <td>ГК Иннотех | Клауд</td>\n",
       "      <td>1</td>\n",
       "      <td>206</td>\n",
       "    </tr>\n",
       "    <tr>\n",
       "      <th>136</th>\n",
       "      <td>МТС</td>\n",
       "      <td>«МТС», Digital</td>\n",
       "      <td>58</td>\n",
       "      <td>103</td>\n",
       "    </tr>\n",
       "    <tr>\n",
       "      <th>133</th>\n",
       "      <td>МТС</td>\n",
       "      <td>«МТС»</td>\n",
       "      <td>35</td>\n",
       "      <td>103</td>\n",
       "    </tr>\n",
       "    <tr>\n",
       "      <th>135</th>\n",
       "      <td>МТС</td>\n",
       "      <td>«МТС» Кибербезопасность</td>\n",
       "      <td>5</td>\n",
       "      <td>103</td>\n",
       "    </tr>\n",
       "    <tr>\n",
       "      <th>134</th>\n",
       "      <td>МТС</td>\n",
       "      <td>«МТС» КИОН</td>\n",
       "      <td>3</td>\n",
       "      <td>103</td>\n",
       "    </tr>\n",
       "    <tr>\n",
       "      <th>137</th>\n",
       "      <td>МТС</td>\n",
       "      <td>«МТС», Live</td>\n",
       "      <td>1</td>\n",
       "      <td>103</td>\n",
       "    </tr>\n",
       "    <tr>\n",
       "      <th>138</th>\n",
       "      <td>МТС</td>\n",
       "      <td>«МТС», Стажировки</td>\n",
       "      <td>1</td>\n",
       "      <td>103</td>\n",
       "    </tr>\n",
       "    <tr>\n",
       "      <th>66</th>\n",
       "      <td>Банк ВТБ (ПАО)</td>\n",
       "      <td>ПАО ВТБ, Технологический блок</td>\n",
       "      <td>21</td>\n",
       "      <td>70</td>\n",
       "    </tr>\n",
       "    <tr>\n",
       "      <th>64</th>\n",
       "      <td>Банк ВТБ (ПАО)</td>\n",
       "      <td>ПАО ВТБ, Розничный бизнес</td>\n",
       "      <td>20</td>\n",
       "      <td>70</td>\n",
       "    </tr>\n",
       "    <tr>\n",
       "      <th>65</th>\n",
       "      <td>Банк ВТБ (ПАО)</td>\n",
       "      <td>ПАО ВТБ, Средний и малый бизнес</td>\n",
       "      <td>18</td>\n",
       "      <td>70</td>\n",
       "    </tr>\n",
       "    <tr>\n",
       "      <th>63</th>\n",
       "      <td>Банк ВТБ (ПАО)</td>\n",
       "      <td>ПАО ВТБ, Подразделения Поддержки и Контроля</td>\n",
       "      <td>11</td>\n",
       "      <td>70</td>\n",
       "    </tr>\n",
       "    <tr>\n",
       "      <th>27</th>\n",
       "      <td>Ozon</td>\n",
       "      <td>Ozon Информационные технологии</td>\n",
       "      <td>26</td>\n",
       "      <td>70</td>\n",
       "    </tr>\n",
       "    <tr>\n",
       "      <th>25</th>\n",
       "      <td>Ozon</td>\n",
       "      <td>Ozon Fintech</td>\n",
       "      <td>19</td>\n",
       "      <td>70</td>\n",
       "    </tr>\n",
       "    <tr>\n",
       "      <th>28</th>\n",
       "      <td>Ozon</td>\n",
       "      <td>Ozon Офис и Коммерция</td>\n",
       "      <td>16</td>\n",
       "      <td>70</td>\n",
       "    </tr>\n",
       "    <tr>\n",
       "      <th>26</th>\n",
       "      <td>Ozon</td>\n",
       "      <td>Ozon fresh</td>\n",
       "      <td>6</td>\n",
       "      <td>70</td>\n",
       "    </tr>\n",
       "    <tr>\n",
       "      <th>29</th>\n",
       "      <td>Ozon</td>\n",
       "      <td>Ozon Производство</td>\n",
       "      <td>3</td>\n",
       "      <td>70</td>\n",
       "    </tr>\n",
       "    <tr>\n",
       "      <th>165</th>\n",
       "      <td>ПСБ (ПАО «Промсвязьбанк»)</td>\n",
       "      <td>ПАО «Промсвязьбанк», ИТ</td>\n",
       "      <td>46</td>\n",
       "      <td>67</td>\n",
       "    </tr>\n",
       "    <tr>\n",
       "      <th>164</th>\n",
       "      <td>ПСБ (ПАО «Промсвязьбанк»)</td>\n",
       "      <td>ПАО «Промсвязьбанк», Бизнес и инфраструктура</td>\n",
       "      <td>21</td>\n",
       "      <td>67</td>\n",
       "    </tr>\n",
       "    <tr>\n",
       "      <th>59</th>\n",
       "      <td>Альфа-Банк</td>\n",
       "      <td>Альфа-Банк</td>\n",
       "      <td>28</td>\n",
       "      <td>58</td>\n",
       "    </tr>\n",
       "    <tr>\n",
       "      <th>62</th>\n",
       "      <td>Альфа-Банк</td>\n",
       "      <td>Альфа-Банк. Центральный офис</td>\n",
       "      <td>19</td>\n",
       "      <td>58</td>\n",
       "    </tr>\n",
       "    <tr>\n",
       "      <th>60</th>\n",
       "      <td>Альфа-Банк</td>\n",
       "      <td>Альфа-Банк. ИТ-специалисты</td>\n",
       "      <td>10</td>\n",
       "      <td>58</td>\n",
       "    </tr>\n",
       "    <tr>\n",
       "      <th>61</th>\n",
       "      <td>Альфа-Банк</td>\n",
       "      <td>Альфа-Банк. Работа без опыта</td>\n",
       "      <td>1</td>\n",
       "      <td>58</td>\n",
       "    </tr>\n",
       "    <tr>\n",
       "      <th>230</th>\n",
       "      <td>Яндекс</td>\n",
       "      <td>Яндекс</td>\n",
       "      <td>48</td>\n",
       "      <td>51</td>\n",
       "    </tr>\n",
       "    <tr>\n",
       "      <th>231</th>\n",
       "      <td>Яндекс</td>\n",
       "      <td>Яндекс.Маркет</td>\n",
       "      <td>3</td>\n",
       "      <td>51</td>\n",
       "    </tr>\n",
       "    <tr>\n",
       "      <th>235</th>\n",
       "      <td>билайн</td>\n",
       "      <td>билайн: ИТ, Data, Digital</td>\n",
       "      <td>26</td>\n",
       "      <td>40</td>\n",
       "    </tr>\n",
       "    <tr>\n",
       "      <th>233</th>\n",
       "      <td>билайн</td>\n",
       "      <td>билайн</td>\n",
       "      <td>7</td>\n",
       "      <td>40</td>\n",
       "    </tr>\n",
       "    <tr>\n",
       "      <th>234</th>\n",
       "      <td>билайн</td>\n",
       "      <td>билайн: Бизнес</td>\n",
       "      <td>4</td>\n",
       "      <td>40</td>\n",
       "    </tr>\n",
       "    <tr>\n",
       "      <th>236</th>\n",
       "      <td>билайн</td>\n",
       "      <td>билайн: Контактные центры</td>\n",
       "      <td>3</td>\n",
       "      <td>40</td>\n",
       "    </tr>\n",
       "    <tr>\n",
       "      <th>198</th>\n",
       "      <td>Спортмастер</td>\n",
       "      <td>Компания «СПОРТМАСТЕР», Логистика</td>\n",
       "      <td>18</td>\n",
       "      <td>40</td>\n",
       "    </tr>\n",
       "    <tr>\n",
       "      <th>199</th>\n",
       "      <td>Спортмастер</td>\n",
       "      <td>Компания «СПОРТМАСТЕР», Офис</td>\n",
       "      <td>11</td>\n",
       "      <td>40</td>\n",
       "    </tr>\n",
       "    <tr>\n",
       "      <th>197</th>\n",
       "      <td>Спортмастер</td>\n",
       "      <td>Компания «СПОРТМАСТЕР», Sportmaster Lab</td>\n",
       "      <td>8</td>\n",
       "      <td>40</td>\n",
       "    </tr>\n",
       "    <tr>\n",
       "      <th>200</th>\n",
       "      <td>Спортмастер</td>\n",
       "      <td>Компания «СПОРТМАСТЕР», Управление бизнесами</td>\n",
       "      <td>3</td>\n",
       "      <td>40</td>\n",
       "    </tr>\n",
       "  </tbody>\n",
       "</table>\n",
       "</div>"
      ],
      "text/plain": [
       "                      employer                                    department  \\\n",
       "186                       СБЕР                            Сбер для экспертов   \n",
       "188                       СБЕР                                      Сбер. IT   \n",
       "187                       СБЕР                            Сбер. Data Science   \n",
       "189                       СБЕР                       Сбер. Кибербезопасность   \n",
       "206                         Т1                 ГК Иннотех | Финтех (Иннотех)   \n",
       "201                         Т1                   ГК Иннотех | Большие данные   \n",
       "204                         Т1                    ГК Иннотех | Мультипродакт   \n",
       "202                         Т1            ГК Иннотех | Интеграция Консалтинг   \n",
       "205                         Т1                       ГК Иннотех | Сервионика   \n",
       "203                         Т1                            ГК Иннотех | Клауд   \n",
       "136                        МТС                                «МТС», Digital   \n",
       "133                        МТС                                        «МТС»    \n",
       "135                        МТС                       «МТС» Кибербезопасность   \n",
       "134                        МТС                                    «МТС» КИОН   \n",
       "137                        МТС                                   «МТС», Live   \n",
       "138                        МТС                             «МТС», Стажировки   \n",
       "66              Банк ВТБ (ПАО)                 ПАО ВТБ, Технологический блок   \n",
       "64              Банк ВТБ (ПАО)                     ПАО ВТБ, Розничный бизнес   \n",
       "65              Банк ВТБ (ПАО)               ПАО ВТБ, Средний и малый бизнес   \n",
       "63              Банк ВТБ (ПАО)   ПАО ВТБ, Подразделения Поддержки и Контроля   \n",
       "27                        Ozon                Ozon Информационные технологии   \n",
       "25                        Ozon                                  Ozon Fintech   \n",
       "28                        Ozon                         Ozon Офис и Коммерция   \n",
       "26                        Ozon                                    Ozon fresh   \n",
       "29                        Ozon                             Ozon Производство   \n",
       "165  ПСБ (ПАО «Промсвязьбанк»)                       ПАО «Промсвязьбанк», ИТ   \n",
       "164  ПСБ (ПАО «Промсвязьбанк»)  ПАО «Промсвязьбанк», Бизнес и инфраструктура   \n",
       "59                  Альфа-Банк                                    Альфа-Банк   \n",
       "62                  Альфа-Банк                  Альфа-Банк. Центральный офис   \n",
       "60                  Альфа-Банк                    Альфа-Банк. ИТ-специалисты   \n",
       "61                  Альфа-Банк                  Альфа-Банк. Работа без опыта   \n",
       "230                     Яндекс                                        Яндекс   \n",
       "231                     Яндекс                                 Яндекс.Маркет   \n",
       "235                     билайн                     билайн: ИТ, Data, Digital   \n",
       "233                     билайн                                        билайн   \n",
       "234                     билайн                                билайн: Бизнес   \n",
       "236                     билайн                     билайн: Контактные центры   \n",
       "198                Спортмастер             Компания «СПОРТМАСТЕР», Логистика   \n",
       "199                Спортмастер                  Компания «СПОРТМАСТЕР», Офис   \n",
       "197                Спортмастер       Компания «СПОРТМАСТЕР», Sportmaster Lab   \n",
       "200                Спортмастер  Компания «СПОРТМАСТЕР», Управление бизнесами   \n",
       "\n",
       "     department_vacancies  employer_vacancies  \n",
       "186                   216                 256  \n",
       "188                    34                 256  \n",
       "187                     4                 256  \n",
       "189                     2                 256  \n",
       "206                   125                 206  \n",
       "201                    48                 206  \n",
       "204                    20                 206  \n",
       "202                    10                 206  \n",
       "205                     2                 206  \n",
       "203                     1                 206  \n",
       "136                    58                 103  \n",
       "133                    35                 103  \n",
       "135                     5                 103  \n",
       "134                     3                 103  \n",
       "137                     1                 103  \n",
       "138                     1                 103  \n",
       "66                     21                  70  \n",
       "64                     20                  70  \n",
       "65                     18                  70  \n",
       "63                     11                  70  \n",
       "27                     26                  70  \n",
       "25                     19                  70  \n",
       "28                     16                  70  \n",
       "26                      6                  70  \n",
       "29                      3                  70  \n",
       "165                    46                  67  \n",
       "164                    21                  67  \n",
       "59                     28                  58  \n",
       "62                     19                  58  \n",
       "60                     10                  58  \n",
       "61                      1                  58  \n",
       "230                    48                  51  \n",
       "231                     3                  51  \n",
       "235                    26                  40  \n",
       "233                     7                  40  \n",
       "234                     4                  40  \n",
       "236                     3                  40  \n",
       "198                    18                  40  \n",
       "199                    11                  40  \n",
       "197                     8                  40  \n",
       "200                     3                  40  "
      ]
     },
     "execution_count": 76,
     "metadata": {},
     "output_type": "execute_result"
    }
   ],
   "source": [
    "# Шаг 1: Подсчитываем количество вакансий для каждой организации и департамента\n",
    "vacancies_count = df_unique.groupby(['employer', 'department']).size().reset_index(name='department_vacancies')\n",
    "\n",
    "# Шаг 2: Рассчитываем общее количество вакансий для каждой организации\n",
    "total_vacancies = vacancies_count.groupby('employer')['department_vacancies'].sum().reset_index(name='employer_vacancies')\n",
    "\n",
    "# Шаг 3: Объединяем общее количество вакансий обратно с подсчитанным количеством по департаментам\n",
    "vacancies_count = vacancies_count.merge(total_vacancies, on='employer')\n",
    "\n",
    "# Шаг 4: Сортируем по общему количеству вакансий (по убыванию), затем по количеству вакансий в департаменте (по убыванию)\n",
    "vacancies_sorted = vacancies_count.sort_values(by=['employer_vacancies', 'employer', 'department_vacancies'], ascending=False)\n",
    "\n",
    "vacancies_sorted.head(41)"
   ]
  },
  {
   "cell_type": "markdown",
   "id": "3e0cf6f4",
   "metadata": {},
   "source": [
    "Лидирует СБЕР, замыкает десятку Спортмастер."
   ]
  },
  {
   "cell_type": "markdown",
   "id": "ae25f1e0",
   "metadata": {},
   "source": [
    "### 5.2 Распределение ЗП по грейдам"
   ]
  },
  {
   "cell_type": "code",
   "execution_count": 77,
   "id": "ce0799cf",
   "metadata": {},
   "outputs": [],
   "source": [
    "df_salary = df_unique.pivot_table(index=['vacancy', 'experience'], values='average_salary', aggfunc='mean', fill_value=0)"
   ]
  },
  {
   "cell_type": "code",
   "execution_count": 78,
   "id": "8ea35df0",
   "metadata": {
    "scrolled": true
   },
   "outputs": [
    {
     "data": {
      "text/html": [
       "<div>\n",
       "<style scoped>\n",
       "    .dataframe tbody tr th:only-of-type {\n",
       "        vertical-align: middle;\n",
       "    }\n",
       "\n",
       "    .dataframe tbody tr th {\n",
       "        vertical-align: top;\n",
       "    }\n",
       "\n",
       "    .dataframe thead th {\n",
       "        text-align: right;\n",
       "    }\n",
       "</style>\n",
       "<table border=\"1\" class=\"dataframe\">\n",
       "  <thead>\n",
       "    <tr style=\"text-align: right;\">\n",
       "      <th></th>\n",
       "      <th></th>\n",
       "      <th>average_salary</th>\n",
       "    </tr>\n",
       "    <tr>\n",
       "      <th>vacancy</th>\n",
       "      <th>experience</th>\n",
       "      <th></th>\n",
       "    </tr>\n",
       "  </thead>\n",
       "  <tbody>\n",
       "    <tr>\n",
       "      <th rowspan=\"4\" valign=\"top\">Аналитик данных</th>\n",
       "      <th>Junior</th>\n",
       "      <td>61383.0</td>\n",
       "    </tr>\n",
       "    <tr>\n",
       "      <th>Junior+</th>\n",
       "      <td>95498.0</td>\n",
       "    </tr>\n",
       "    <tr>\n",
       "      <th>Middle</th>\n",
       "      <td>169638.0</td>\n",
       "    </tr>\n",
       "    <tr>\n",
       "      <th>Senior</th>\n",
       "      <td>229993.0</td>\n",
       "    </tr>\n",
       "    <tr>\n",
       "      <th rowspan=\"4\" valign=\"top\">Системный аналитик</th>\n",
       "      <th>Junior</th>\n",
       "      <td>67331.0</td>\n",
       "    </tr>\n",
       "    <tr>\n",
       "      <th>Junior+</th>\n",
       "      <td>141309.0</td>\n",
       "    </tr>\n",
       "    <tr>\n",
       "      <th>Middle</th>\n",
       "      <td>255623.0</td>\n",
       "    </tr>\n",
       "    <tr>\n",
       "      <th>Senior</th>\n",
       "      <td>302325.0</td>\n",
       "    </tr>\n",
       "  </tbody>\n",
       "</table>\n",
       "</div>"
      ],
      "text/plain": [
       "                               average_salary\n",
       "vacancy            experience                \n",
       "Аналитик данных    Junior             61383.0\n",
       "                   Junior+            95498.0\n",
       "                   Middle            169638.0\n",
       "                   Senior            229993.0\n",
       "Системный аналитик Junior             67331.0\n",
       "                   Junior+           141309.0\n",
       "                   Middle            255623.0\n",
       "                   Senior            302325.0"
      ]
     },
     "execution_count": 78,
     "metadata": {},
     "output_type": "execute_result"
    }
   ],
   "source": [
    "df_salary = df_salary.round()\n",
    "df_salary"
   ]
  },
  {
   "cell_type": "code",
   "execution_count": 79,
   "id": "bacdfdce",
   "metadata": {
    "scrolled": false
   },
   "outputs": [
    {
     "data": {
      "image/png": "[encoded data removed]",
      "text/plain": [
       "<Figure size 1200x700 with 1 Axes>"
      ]
     },
     "metadata": {},
     "output_type": "display_data"
    }
   ],
   "source": [
    "# Установка цветовой палитры\n",
    "color_palette = plt.get_cmap('Set3').colors\n",
    "\n",
    "# Построение сложенной гистограммы\n",
    "ax = df_salary.plot(kind='bar', stacked=True, figsize=(12, 7), color=color_palette)\n",
    "\n",
    "# Установка заголовков и меток\n",
    "plt.title('Распределение зарплат по опыту')\n",
    "plt.ylabel('Средняя зарплата')\n",
    "\n",
    "# Изменение меток оси X\n",
    "new_labels = [exp for vac, exp in df_salary.index]\n",
    "ax.set_xticklabels(new_labels, rotation=0)\n",
    "\n",
    "# Добавление группировки по вакансии\n",
    "vacancies = df_salary.index.get_level_values('vacancy').unique()\n",
    "vacancy_positions = []\n",
    "\n",
    "# Определение позиций для меток вакансий\n",
    "for vacancy in vacancies:\n",
    "    vacancy_positions.append(\n",
    "        df_salary.index.get_level_values('vacancy').tolist().index(vacancy) +\n",
    "        df_salary.index.get_level_values('vacancy').tolist().count(vacancy) / 2 - 0.5\n",
    "    )\n",
    "\n",
    "ax.set_xticks(ax.get_xticks())\n",
    "\n",
    "# Установка меток групп аналитиков\n",
    "for i, (vacancy, pos) in enumerate(zip(vacancies, vacancy_positions)):\n",
    "    ax.text(pos, -0.1, vacancy, ha='center', va='top', transform=ax.get_xaxis_transform())\n",
    "    \n",
    "# Удаление общей подписи оси X\n",
    "ax.set_xlabel('')\n",
    "\n",
    "# Добавление фоновый сетки\n",
    "ax.grid(True, linestyle='--', alpha=0.3)\n",
    "\n",
    "plt.show()"
   ]
  },
  {
   "cell_type": "markdown",
   "id": "4d77b20d",
   "metadata": {},
   "source": [
    "Посчитаем ЗП для Москвы и сравним, сколько процентов добавляется по сравнению со средней ЗП"
   ]
  },
  {
   "cell_type": "code",
   "execution_count": 80,
   "id": "d0429298",
   "metadata": {},
   "outputs": [],
   "source": [
    "df_salary_msk = (df_unique.query('area==\"Москва\"')\n",
    "                 .pivot_table(index=['vacancy', 'experience'], \n",
    "                              values='average_salary', \n",
    "                              aggfunc='mean', \n",
    "                              fill_value=0)\n",
    "                .round())"
   ]
  },
  {
   "cell_type": "code",
   "execution_count": 81,
   "id": "dfcd1131",
   "metadata": {
    "scrolled": true
   },
   "outputs": [
    {
     "data": {
      "text/html": [
       "<div>\n",
       "<style scoped>\n",
       "    .dataframe tbody tr th:only-of-type {\n",
       "        vertical-align: middle;\n",
       "    }\n",
       "\n",
       "    .dataframe tbody tr th {\n",
       "        vertical-align: top;\n",
       "    }\n",
       "\n",
       "    .dataframe thead th {\n",
       "        text-align: right;\n",
       "    }\n",
       "</style>\n",
       "<table border=\"1\" class=\"dataframe\">\n",
       "  <thead>\n",
       "    <tr style=\"text-align: right;\">\n",
       "      <th></th>\n",
       "      <th></th>\n",
       "      <th>average_salary</th>\n",
       "      <th>salary_msk</th>\n",
       "      <th>+%</th>\n",
       "    </tr>\n",
       "    <tr>\n",
       "      <th>vacancy</th>\n",
       "      <th>experience</th>\n",
       "      <th></th>\n",
       "      <th></th>\n",
       "      <th></th>\n",
       "    </tr>\n",
       "  </thead>\n",
       "  <tbody>\n",
       "    <tr>\n",
       "      <th rowspan=\"4\" valign=\"top\">Аналитик данных</th>\n",
       "      <th>Junior</th>\n",
       "      <td>61383.0</td>\n",
       "      <td>74866.0</td>\n",
       "      <td>22.0</td>\n",
       "    </tr>\n",
       "    <tr>\n",
       "      <th>Junior+</th>\n",
       "      <td>95498.0</td>\n",
       "      <td>121684.0</td>\n",
       "      <td>27.4</td>\n",
       "    </tr>\n",
       "    <tr>\n",
       "      <th>Middle</th>\n",
       "      <td>169638.0</td>\n",
       "      <td>200949.0</td>\n",
       "      <td>18.5</td>\n",
       "    </tr>\n",
       "    <tr>\n",
       "      <th>Senior</th>\n",
       "      <td>229993.0</td>\n",
       "      <td>239185.0</td>\n",
       "      <td>4.0</td>\n",
       "    </tr>\n",
       "    <tr>\n",
       "      <th rowspan=\"4\" valign=\"top\">Системный аналитик</th>\n",
       "      <th>Junior</th>\n",
       "      <td>67331.0</td>\n",
       "      <td>91686.0</td>\n",
       "      <td>36.2</td>\n",
       "    </tr>\n",
       "    <tr>\n",
       "      <th>Junior+</th>\n",
       "      <td>141309.0</td>\n",
       "      <td>171694.0</td>\n",
       "      <td>21.5</td>\n",
       "    </tr>\n",
       "    <tr>\n",
       "      <th>Middle</th>\n",
       "      <td>255623.0</td>\n",
       "      <td>267329.0</td>\n",
       "      <td>4.6</td>\n",
       "    </tr>\n",
       "    <tr>\n",
       "      <th>Senior</th>\n",
       "      <td>302325.0</td>\n",
       "      <td>330000.0</td>\n",
       "      <td>9.2</td>\n",
       "    </tr>\n",
       "  </tbody>\n",
       "</table>\n",
       "</div>"
      ],
      "text/plain": [
       "                               average_salary  salary_msk    +%\n",
       "vacancy            experience                                  \n",
       "Аналитик данных    Junior             61383.0     74866.0  22.0\n",
       "                   Junior+            95498.0    121684.0  27.4\n",
       "                   Middle            169638.0    200949.0  18.5\n",
       "                   Senior            229993.0    239185.0   4.0\n",
       "Системный аналитик Junior             67331.0     91686.0  36.2\n",
       "                   Junior+           141309.0    171694.0  21.5\n",
       "                   Middle            255623.0    267329.0   4.6\n",
       "                   Senior            302325.0    330000.0   9.2"
      ]
     },
     "execution_count": 81,
     "metadata": {},
     "output_type": "execute_result"
    }
   ],
   "source": [
    "df_salary['salary_msk'] = df_salary_msk['average_salary']\n",
    "df_salary['+%'] = round((df_salary['salary_msk']/df_salary['average_salary'] - 1)*100, 1)\n",
    "df_salary"
   ]
  },
  {
   "cell_type": "markdown",
   "id": "4256a1f6",
   "metadata": {},
   "source": [
    "А как обстоит дело с ЗП при удаленном режиме работы? "
   ]
  },
  {
   "cell_type": "code",
   "execution_count": 82,
   "id": "30ac24af",
   "metadata": {},
   "outputs": [],
   "source": [
    "df_salary_remote = (df_unique.query('schedule==\"Удаленная работа\"')\n",
    "                    .pivot_table(index=['vacancy', 'experience'], \n",
    "                                 values='average_salary', \n",
    "                                 aggfunc='mean', \n",
    "                                 fill_value=0)\n",
    "                   .round())"
   ]
  },
  {
   "cell_type": "code",
   "execution_count": 83,
   "id": "45f5fed9",
   "metadata": {},
   "outputs": [],
   "source": [
    "df_salary_remote_msk = (df_unique.query('area==\"Москва\" and schedule==\"Удаленная работа\"')\n",
    "                 .pivot_table(index=['vacancy', 'experience'], \n",
    "                              values='average_salary', \n",
    "                              aggfunc='mean', \n",
    "                              fill_value=0)\n",
    "                .round())"
   ]
  },
  {
   "cell_type": "code",
   "execution_count": 84,
   "id": "27eac2a2",
   "metadata": {
    "scrolled": true
   },
   "outputs": [
    {
     "data": {
      "text/html": [
       "<div>\n",
       "<style scoped>\n",
       "    .dataframe tbody tr th:only-of-type {\n",
       "        vertical-align: middle;\n",
       "    }\n",
       "\n",
       "    .dataframe tbody tr th {\n",
       "        vertical-align: top;\n",
       "    }\n",
       "\n",
       "    .dataframe thead th {\n",
       "        text-align: right;\n",
       "    }\n",
       "</style>\n",
       "<table border=\"1\" class=\"dataframe\">\n",
       "  <thead>\n",
       "    <tr style=\"text-align: right;\">\n",
       "      <th></th>\n",
       "      <th></th>\n",
       "      <th>average_salary</th>\n",
       "      <th>salary_remote_msk</th>\n",
       "      <th>+%_remote</th>\n",
       "    </tr>\n",
       "    <tr>\n",
       "      <th>vacancy</th>\n",
       "      <th>experience</th>\n",
       "      <th></th>\n",
       "      <th></th>\n",
       "      <th></th>\n",
       "    </tr>\n",
       "  </thead>\n",
       "  <tbody>\n",
       "    <tr>\n",
       "      <th rowspan=\"4\" valign=\"top\">Аналитик данных</th>\n",
       "      <th>Junior</th>\n",
       "      <td>60367.0</td>\n",
       "      <td>57410.0</td>\n",
       "      <td>-4.9</td>\n",
       "    </tr>\n",
       "    <tr>\n",
       "      <th>Junior+</th>\n",
       "      <td>96230.0</td>\n",
       "      <td>121494.0</td>\n",
       "      <td>26.3</td>\n",
       "    </tr>\n",
       "    <tr>\n",
       "      <th>Middle</th>\n",
       "      <td>208052.0</td>\n",
       "      <td>224860.0</td>\n",
       "      <td>8.1</td>\n",
       "    </tr>\n",
       "    <tr>\n",
       "      <th>Senior</th>\n",
       "      <td>292000.0</td>\n",
       "      <td>315000.0</td>\n",
       "      <td>7.9</td>\n",
       "    </tr>\n",
       "    <tr>\n",
       "      <th rowspan=\"4\" valign=\"top\">Системный аналитик</th>\n",
       "      <th>Junior</th>\n",
       "      <td>68412.0</td>\n",
       "      <td>80786.0</td>\n",
       "      <td>18.1</td>\n",
       "    </tr>\n",
       "    <tr>\n",
       "      <th>Junior+</th>\n",
       "      <td>158331.0</td>\n",
       "      <td>178245.0</td>\n",
       "      <td>12.6</td>\n",
       "    </tr>\n",
       "    <tr>\n",
       "      <th>Middle</th>\n",
       "      <td>266274.0</td>\n",
       "      <td>272998.0</td>\n",
       "      <td>2.5</td>\n",
       "    </tr>\n",
       "    <tr>\n",
       "      <th>Senior</th>\n",
       "      <td>316000.0</td>\n",
       "      <td>320000.0</td>\n",
       "      <td>1.3</td>\n",
       "    </tr>\n",
       "  </tbody>\n",
       "</table>\n",
       "</div>"
      ],
      "text/plain": [
       "                               average_salary  salary_remote_msk  +%_remote\n",
       "vacancy            experience                                              \n",
       "Аналитик данных    Junior             60367.0            57410.0       -4.9\n",
       "                   Junior+            96230.0           121494.0       26.3\n",
       "                   Middle            208052.0           224860.0        8.1\n",
       "                   Senior            292000.0           315000.0        7.9\n",
       "Системный аналитик Junior             68412.0            80786.0       18.1\n",
       "                   Junior+           158331.0           178245.0       12.6\n",
       "                   Middle            266274.0           272998.0        2.5\n",
       "                   Senior            316000.0           320000.0        1.3"
      ]
     },
     "execution_count": 84,
     "metadata": {},
     "output_type": "execute_result"
    }
   ],
   "source": [
    "df_salary_remote['salary_remote_msk'] = df_salary_remote_msk['average_salary']\n",
    "df_salary_remote['+%_remote'] = round((df_salary_remote['salary_remote_msk']/df_salary_remote['average_salary'] - 1)*100, 1)\n",
    "df_salary_remote"
   ]
  },
  {
   "cell_type": "markdown",
   "id": "04176028",
   "metadata": {},
   "source": [
    "В среднем, без привязки к рабочему месту, преимущество москвичей снизилось."
   ]
  },
  {
   "cell_type": "markdown",
   "id": "fb9f5126",
   "metadata": {},
   "source": [
    "### 5.3 Распределение типов занятости по грейдам"
   ]
  },
  {
   "cell_type": "code",
   "execution_count": 85,
   "id": "781e204d",
   "metadata": {},
   "outputs": [],
   "source": [
    "df_employment = df_unique.pivot_table(index=['vacancy', 'experience'], columns='employment', aggfunc='size', fill_value=0)"
   ]
  },
  {
   "cell_type": "code",
   "execution_count": 86,
   "id": "1163b867",
   "metadata": {
    "scrolled": true
   },
   "outputs": [
    {
     "data": {
      "text/html": [
       "<div>\n",
       "<style scoped>\n",
       "    .dataframe tbody tr th:only-of-type {\n",
       "        vertical-align: middle;\n",
       "    }\n",
       "\n",
       "    .dataframe tbody tr th {\n",
       "        vertical-align: top;\n",
       "    }\n",
       "\n",
       "    .dataframe thead th {\n",
       "        text-align: right;\n",
       "    }\n",
       "</style>\n",
       "<table border=\"1\" class=\"dataframe\">\n",
       "  <thead>\n",
       "    <tr style=\"text-align: right;\">\n",
       "      <th></th>\n",
       "      <th>employment</th>\n",
       "      <th>Волонтерство</th>\n",
       "      <th>Полная занятость</th>\n",
       "      <th>Проектная работа</th>\n",
       "      <th>Стажировка</th>\n",
       "      <th>Частичная занятость</th>\n",
       "    </tr>\n",
       "    <tr>\n",
       "      <th>vacancy</th>\n",
       "      <th>experience</th>\n",
       "      <th></th>\n",
       "      <th></th>\n",
       "      <th></th>\n",
       "      <th></th>\n",
       "      <th></th>\n",
       "    </tr>\n",
       "  </thead>\n",
       "  <tbody>\n",
       "    <tr>\n",
       "      <th rowspan=\"4\" valign=\"top\">Аналитик данных</th>\n",
       "      <th>Junior</th>\n",
       "      <td>0</td>\n",
       "      <td>470</td>\n",
       "      <td>0</td>\n",
       "      <td>93</td>\n",
       "      <td>3</td>\n",
       "    </tr>\n",
       "    <tr>\n",
       "      <th>Junior+</th>\n",
       "      <td>1</td>\n",
       "      <td>3326</td>\n",
       "      <td>5</td>\n",
       "      <td>4</td>\n",
       "      <td>21</td>\n",
       "    </tr>\n",
       "    <tr>\n",
       "      <th>Middle</th>\n",
       "      <td>0</td>\n",
       "      <td>1711</td>\n",
       "      <td>8</td>\n",
       "      <td>0</td>\n",
       "      <td>11</td>\n",
       "    </tr>\n",
       "    <tr>\n",
       "      <th>Senior</th>\n",
       "      <td>0</td>\n",
       "      <td>69</td>\n",
       "      <td>3</td>\n",
       "      <td>0</td>\n",
       "      <td>0</td>\n",
       "    </tr>\n",
       "    <tr>\n",
       "      <th rowspan=\"4\" valign=\"top\">Системный аналитик</th>\n",
       "      <th>Junior</th>\n",
       "      <td>0</td>\n",
       "      <td>69</td>\n",
       "      <td>0</td>\n",
       "      <td>60</td>\n",
       "      <td>0</td>\n",
       "    </tr>\n",
       "    <tr>\n",
       "      <th>Junior+</th>\n",
       "      <td>0</td>\n",
       "      <td>1005</td>\n",
       "      <td>1</td>\n",
       "      <td>0</td>\n",
       "      <td>2</td>\n",
       "    </tr>\n",
       "    <tr>\n",
       "      <th>Middle</th>\n",
       "      <td>0</td>\n",
       "      <td>1220</td>\n",
       "      <td>5</td>\n",
       "      <td>0</td>\n",
       "      <td>5</td>\n",
       "    </tr>\n",
       "    <tr>\n",
       "      <th>Senior</th>\n",
       "      <td>0</td>\n",
       "      <td>46</td>\n",
       "      <td>1</td>\n",
       "      <td>0</td>\n",
       "      <td>0</td>\n",
       "    </tr>\n",
       "  </tbody>\n",
       "</table>\n",
       "</div>"
      ],
      "text/plain": [
       "employment                     Волонтерство  Полная занятость  \\\n",
       "vacancy            experience                                   \n",
       "Аналитик данных    Junior                 0               470   \n",
       "                   Junior+                1              3326   \n",
       "                   Middle                 0              1711   \n",
       "                   Senior                 0                69   \n",
       "Системный аналитик Junior                 0                69   \n",
       "                   Junior+                0              1005   \n",
       "                   Middle                 0              1220   \n",
       "                   Senior                 0                46   \n",
       "\n",
       "employment                     Проектная работа  Стажировка  \\\n",
       "vacancy            experience                                 \n",
       "Аналитик данных    Junior                     0          93   \n",
       "                   Junior+                    5           4   \n",
       "                   Middle                     8           0   \n",
       "                   Senior                     3           0   \n",
       "Системный аналитик Junior                     0          60   \n",
       "                   Junior+                    1           0   \n",
       "                   Middle                     5           0   \n",
       "                   Senior                     1           0   \n",
       "\n",
       "employment                     Частичная занятость  \n",
       "vacancy            experience                       \n",
       "Аналитик данных    Junior                        3  \n",
       "                   Junior+                      21  \n",
       "                   Middle                       11  \n",
       "                   Senior                        0  \n",
       "Системный аналитик Junior                        0  \n",
       "                   Junior+                       2  \n",
       "                   Middle                        5  \n",
       "                   Senior                        0  "
      ]
     },
     "execution_count": 86,
     "metadata": {},
     "output_type": "execute_result"
    }
   ],
   "source": [
    "df_employment"
   ]
  },
  {
   "cell_type": "code",
   "execution_count": 87,
   "id": "48319395",
   "metadata": {},
   "outputs": [
    {
     "data": {
      "image/png": "[encoded data removed]",
      "text/plain": [
       "<Figure size 1200x700 with 1 Axes>"
      ]
     },
     "metadata": {},
     "output_type": "display_data"
    }
   ],
   "source": [
    "# Установка цветовой палитры\n",
    "color_palette = plt.get_cmap('Set3').colors\n",
    "\n",
    "# Построение сложенной гистограммы\n",
    "ax = df_employment.plot(kind='bar', stacked=True, figsize=(12, 7), color=color_palette)\n",
    "\n",
    "# Установка заголовков и меток\n",
    "plt.title('Распределение вакансий по опыту и типу занятости')\n",
    "plt.ylabel('Количество вакансий')\n",
    "\n",
    "# Изменение меток оси X\n",
    "new_labels = [exp for vac, exp in df_employment.index]\n",
    "ax.set_xticklabels(new_labels, rotation=0)\n",
    "\n",
    "# Добавление группировки по вакансии\n",
    "vacancies = df_employment.index.get_level_values('vacancy').unique()\n",
    "vacancy_positions = []\n",
    "\n",
    "# Определение позиций для меток вакансий\n",
    "for vacancy in vacancies:\n",
    "    vacancy_positions.append(\n",
    "        df_employment.index.get_level_values('vacancy').tolist().index(vacancy) +\n",
    "        df_employment.index.get_level_values('vacancy').tolist().count(vacancy) / 2 - 0.5\n",
    "    )\n",
    "\n",
    "ax.set_xticks(ax.get_xticks())\n",
    "\n",
    "# Установка меток групп аналитиков\n",
    "for i, (vacancy, pos) in enumerate(zip(vacancies, vacancy_positions)):\n",
    "    ax.text(pos, -0.1, vacancy, ha='center', va='top', transform=ax.get_xaxis_transform())\n",
    "    \n",
    "# Удаление общей подписи оси X\n",
    "ax.set_xlabel('')\n",
    "\n",
    "# Добавление нечастой полупрозрачной фоновый сетки\n",
    "ax.grid(True, linestyle='--', alpha=0.3)\n",
    "\n",
    "plt.show()\n"
   ]
  },
  {
   "cell_type": "markdown",
   "id": "6e4fb47e",
   "metadata": {},
   "source": [
    "Мы видим, что полная занятость безальтернативна. Для специалистов без опыта часто может встречаться стажировка."
   ]
  },
  {
   "cell_type": "markdown",
   "id": "d2986ed4",
   "metadata": {},
   "source": [
    "### 5.4 Распределение графиков работы по грейдам"
   ]
  },
  {
   "cell_type": "code",
   "execution_count": 88,
   "id": "50e4d28a",
   "metadata": {},
   "outputs": [],
   "source": [
    "df_schedule = df_unique.pivot_table(index=['vacancy', 'experience'], columns='schedule', aggfunc='size', fill_value=0)"
   ]
  },
  {
   "cell_type": "code",
   "execution_count": 89,
   "id": "371d7240",
   "metadata": {
    "scrolled": true
   },
   "outputs": [
    {
     "data": {
      "text/html": [
       "<div>\n",
       "<style scoped>\n",
       "    .dataframe tbody tr th:only-of-type {\n",
       "        vertical-align: middle;\n",
       "    }\n",
       "\n",
       "    .dataframe tbody tr th {\n",
       "        vertical-align: top;\n",
       "    }\n",
       "\n",
       "    .dataframe thead th {\n",
       "        text-align: right;\n",
       "    }\n",
       "</style>\n",
       "<table border=\"1\" class=\"dataframe\">\n",
       "  <thead>\n",
       "    <tr style=\"text-align: right;\">\n",
       "      <th></th>\n",
       "      <th>schedule</th>\n",
       "      <th>Вахтовый метод</th>\n",
       "      <th>Гибкий график</th>\n",
       "      <th>Полный день</th>\n",
       "      <th>Сменный график</th>\n",
       "      <th>Удаленная работа</th>\n",
       "    </tr>\n",
       "    <tr>\n",
       "      <th>vacancy</th>\n",
       "      <th>experience</th>\n",
       "      <th></th>\n",
       "      <th></th>\n",
       "      <th></th>\n",
       "      <th></th>\n",
       "      <th></th>\n",
       "    </tr>\n",
       "  </thead>\n",
       "  <tbody>\n",
       "    <tr>\n",
       "      <th rowspan=\"4\" valign=\"top\">Аналитик данных</th>\n",
       "      <th>Junior</th>\n",
       "      <td>0</td>\n",
       "      <td>41</td>\n",
       "      <td>459</td>\n",
       "      <td>3</td>\n",
       "      <td>63</td>\n",
       "    </tr>\n",
       "    <tr>\n",
       "      <th>Junior+</th>\n",
       "      <td>1</td>\n",
       "      <td>61</td>\n",
       "      <td>2800</td>\n",
       "      <td>22</td>\n",
       "      <td>473</td>\n",
       "    </tr>\n",
       "    <tr>\n",
       "      <th>Middle</th>\n",
       "      <td>1</td>\n",
       "      <td>74</td>\n",
       "      <td>1299</td>\n",
       "      <td>2</td>\n",
       "      <td>354</td>\n",
       "    </tr>\n",
       "    <tr>\n",
       "      <th>Senior</th>\n",
       "      <td>0</td>\n",
       "      <td>3</td>\n",
       "      <td>51</td>\n",
       "      <td>0</td>\n",
       "      <td>18</td>\n",
       "    </tr>\n",
       "    <tr>\n",
       "      <th rowspan=\"4\" valign=\"top\">Системный аналитик</th>\n",
       "      <th>Junior</th>\n",
       "      <td>0</td>\n",
       "      <td>15</td>\n",
       "      <td>58</td>\n",
       "      <td>0</td>\n",
       "      <td>56</td>\n",
       "    </tr>\n",
       "    <tr>\n",
       "      <th>Junior+</th>\n",
       "      <td>0</td>\n",
       "      <td>44</td>\n",
       "      <td>666</td>\n",
       "      <td>2</td>\n",
       "      <td>296</td>\n",
       "    </tr>\n",
       "    <tr>\n",
       "      <th>Middle</th>\n",
       "      <td>0</td>\n",
       "      <td>42</td>\n",
       "      <td>715</td>\n",
       "      <td>1</td>\n",
       "      <td>472</td>\n",
       "    </tr>\n",
       "    <tr>\n",
       "      <th>Senior</th>\n",
       "      <td>0</td>\n",
       "      <td>4</td>\n",
       "      <td>26</td>\n",
       "      <td>0</td>\n",
       "      <td>17</td>\n",
       "    </tr>\n",
       "  </tbody>\n",
       "</table>\n",
       "</div>"
      ],
      "text/plain": [
       "schedule                       Вахтовый метод  Гибкий график  Полный день  \\\n",
       "vacancy            experience                                               \n",
       "Аналитик данных    Junior                   0             41          459   \n",
       "                   Junior+                  1             61         2800   \n",
       "                   Middle                   1             74         1299   \n",
       "                   Senior                   0              3           51   \n",
       "Системный аналитик Junior                   0             15           58   \n",
       "                   Junior+                  0             44          666   \n",
       "                   Middle                   0             42          715   \n",
       "                   Senior                   0              4           26   \n",
       "\n",
       "schedule                       Сменный график  Удаленная работа  \n",
       "vacancy            experience                                    \n",
       "Аналитик данных    Junior                   3                63  \n",
       "                   Junior+                 22               473  \n",
       "                   Middle                   2               354  \n",
       "                   Senior                   0                18  \n",
       "Системный аналитик Junior                   0                56  \n",
       "                   Junior+                  2               296  \n",
       "                   Middle                   1               472  \n",
       "                   Senior                   0                17  "
      ]
     },
     "execution_count": 89,
     "metadata": {},
     "output_type": "execute_result"
    }
   ],
   "source": [
    "df_schedule"
   ]
  },
  {
   "cell_type": "code",
   "execution_count": 90,
   "id": "93df91e9",
   "metadata": {},
   "outputs": [
    {
     "data": {
      "image/png": "[encoded data removed]",
      "text/plain": [
       "<Figure size 1200x700 with 1 Axes>"
      ]
     },
     "metadata": {},
     "output_type": "display_data"
    }
   ],
   "source": [
    "# Установка цветовой палитры\n",
    "color_palette = plt.get_cmap('Set3').colors\n",
    "\n",
    "# Построение сложенной гистограммы\n",
    "ax = df_schedule.plot(kind='bar', stacked=True, figsize=(12, 7), color=color_palette)\n",
    "\n",
    "# Установка заголовков и меток\n",
    "plt.title('Распределение вакансий по опыту и графику работы')\n",
    "plt.ylabel('Количество вакансий')\n",
    "\n",
    "# Изменение меток оси X\n",
    "new_labels = [exp for vac, exp in df_schedule.index]\n",
    "ax.set_xticklabels(new_labels, rotation=0)\n",
    "\n",
    "# Добавление группировки по вакансии\n",
    "vacancies = df_schedule.index.get_level_values('vacancy').unique()\n",
    "vacancy_positions = []\n",
    "\n",
    "# Определение позиций для меток вакансий\n",
    "for vacancy in vacancies:\n",
    "    vacancy_positions.append(\n",
    "        df_schedule.index.get_level_values('vacancy').tolist().index(vacancy) +\n",
    "        df_schedule.index.get_level_values('vacancy').tolist().count(vacancy) / 2 - 0.5\n",
    "    )\n",
    "\n",
    "ax.set_xticks(ax.get_xticks())\n",
    "\n",
    "# Установка меток групп аналитиков\n",
    "for i, (vacancy, pos) in enumerate(zip(vacancies, vacancy_positions)):\n",
    "    ax.text(pos, -0.1, vacancy, ha='center', va='top', transform=ax.get_xaxis_transform())\n",
    "    \n",
    "# Удаление общей подписи оси X\n",
    "ax.set_xlabel('')\n",
    "\n",
    "# Добавление нечастой полупрозрачной фоновый сетки\n",
    "ax.grid(True, linestyle='--', alpha=0.3)\n",
    "\n",
    "plt.show()\n"
   ]
  },
  {
   "cell_type": "markdown",
   "id": "e8393eb0",
   "metadata": {},
   "source": [
    "До сих пор преобладает работа в офисе полный день. Этому варианту пытается составить конкуренцию удаленный режим работы, но пока проигрывает."
   ]
  },
  {
   "cell_type": "markdown",
   "id": "367034be",
   "metadata": {},
   "source": [
    "## 6 Требование \"твердых\" и \"мягких\" навыков в вакансиях от грейда к грейду."
   ]
  },
  {
   "cell_type": "markdown",
   "id": "b336d778",
   "metadata": {},
   "source": [
    "Снова посчитаем все навыки и получим отсортированный список:"
   ]
  },
  {
   "cell_type": "code",
   "execution_count": 91,
   "id": "88bd48d5",
   "metadata": {
    "scrolled": true
   },
   "outputs": [],
   "source": [
    "# Разделяем строки на отдельные навыки и создаем список всех навыков\n",
    "all_skills = df_unique['standardized_skills'].str.split(', ').explode()\n",
    "\n",
    "# Подсчитываем количество вхождений каждого навыка\n",
    "skill_counts = all_skills.value_counts()"
   ]
  },
  {
   "cell_type": "code",
   "execution_count": 92,
   "id": "2a51df60",
   "metadata": {},
   "outputs": [],
   "source": [
    "sklls = pd.DataFrame(skill_counts)"
   ]
  },
  {
   "cell_type": "code",
   "execution_count": 93,
   "id": "b31ce2b1",
   "metadata": {},
   "outputs": [],
   "source": [
    "skills_list = sklls.index.tolist()"
   ]
  },
  {
   "cell_type": "code",
   "execution_count": 94,
   "id": "83e6f640",
   "metadata": {},
   "outputs": [
    {
     "data": {
      "text/plain": [
       "2611"
      ]
     },
     "execution_count": 94,
     "metadata": {},
     "output_type": "execute_result"
    }
   ],
   "source": [
    "len(skills_list)"
   ]
  },
  {
   "cell_type": "markdown",
   "id": "aaa7eb98",
   "metadata": {},
   "source": [
    "Возьмем первые двести навыков и разложим вручную их по двум спискам - хард и софт скиллс."
   ]
  },
  {
   "cell_type": "code",
   "execution_count": 95,
   "id": "1bed59e2",
   "metadata": {},
   "outputs": [],
   "source": [
    "hard_skills = ['SQL', 'BPMN', 'Системный анализ', 'UML', 'Анализ данных', 'Excel', 'REST', \n",
    " 'Python', 'Базы данных', 'Аналитика', 'Работа с большим объемом информации', 'Бизнес-анализ', 'Разработка ТЗ', \n",
    " 'SOAP', 'JSON', 'Power BI', 'Аналитические исследования', 'XML', 'API', 'Jira', 'Сбор и анализ информации', \n",
    " 'Confluence', 'PowerPoint', 'Kafka', 'Анализ рынка', 'Анализ бизнес показателей', 'Agile', 'Английский', \n",
    " 'Моделирование бизнес процессов', 'Маркетинговый анализ', 'Прогнозирование', 'Оптимизация бизнес-процессов', 'DWH', \n",
    " 'Аналитика продаж', 'Математическая статистика', 'Oracle', 'Маркетинговые исследования', 'Visio', \n",
    " 'Техническая документация', 'Scrum', 'Системная интеграция', 'Статистический анализ', 'Tableau', 'ETL', \n",
    " 'Анализ конкурентной среды', 'Use Case', 'Postman', 'A/B-тест', 'Анализ требований', 'Сводные таблицы', 'Power Query', \n",
    " 'Git', 'Clickhouse', 'XSD', 'Swagger', 'Управление проектами', 'User Story', 'Информационные технологии', \n",
    " 'Анализ бизнес-процессов', 'Математический анализ', 'RabbitMQ', 'Яндекс.Метрика', 'Визуализация данных', 'VBA', \n",
    " 'Big Data', 'Подготовка отчетов', 'HR-аналитика', 'MS Office', 'Hadoop', 'Описание бизнес-процессов', \n",
    " 'Google Analytics', 'CRM', 'Ценообразование', 'Формирование аналитической отчетности', 'Автоматизация процессов',\n",
    " 'Greenplum', 'Проектная документация', 'Экономический анализ', 'Анализ ассортиментной линейки',\n",
    " 'Анализ финансовых показателей', 'Конкурентная аналитика', 'Финансовый анализ', 'Разработка ПО', 'Linux', \n",
    " 'Пользователь ПК', 'Анализ продаж', 'ABC-анализ', 'Java', 'Микросервисная архитектура', 'HTTP', 'ВПР', \n",
    " 'Сбор требований', 'JavaScript', 'Исследования рынка', 'Power Pivot', 'Figma', 'Разработка функциональных требований', \n",
    " 'HTML', 'Документирование бизнес-требований', 'Оптимизация численности персонала', 'Финансовая отчетность', 'Camunda', \n",
    " 'SWOT анализ', 'Разработка инструкций', 'pandas', '1С: Предприятие 8', 'Управленческая отчетность', 'Мониторинг рынка', \n",
    " 'MS Access', 'Анализ ценообразования', 'Анализ рисков', 'Математическое моделирование', 'Веб-аналитика', \n",
    " 'Бухгалтерский учет', 'Разработка проектной документации', 'IDEF0', 'DAX', 'MS Word', 'ERD', 'Управление требованиями',\n",
    " 'IDEF', 'Планирование продаж', 'Apache Airflow', 'Планирование', 'Airflow', 'WMS', 'Статистика', 'Grafana', \n",
    " 'Мониторинг цен', 'MS Project', 'Контроль и анализ ценообразования', 'Тестирование', 'Qlik Sense', 'E-Commerce', \n",
    " 'Маркетплейсы', 'Моделирование бизнес-процессов', 'Прогнозирование продаж', 'Складская логистика', 'Ведение отчетности',\n",
    " 'Retail', 'Продуктовые метрики', 'Сквозная аналитика', 'Docker', 'Аналитика маркетплейсов', 'Business Intelligence Systems',\n",
    " 'Работа с системами аналитики', 'Реинжиниринг бизнес-процессов', 'Разработка маркетинговой стратегии', 'Продвижение бренда',\n",
    " 'Spark', 'Бизнес-консультирование', 'Разработка бизнес-требований', 'WEB аналитика', 'Веб-программирование', 'Анализ ФХД', \n",
    " 'ERP', 'ГОСТ', 'Waterfall', 'Маркетинговое планирование', 'data base', 'Информационная безопасность', 'Kubernetes', \n",
    " 'жизненный цикл ПО', 'Draw.io', 'МСФО', 'ООП', 'Разработка технической документации', \n",
    " 'Анализ эффективности маркетинговых кампаний', 'Numpy', 'Бизнес-моделирование', 'ARIS']"
   ]
  },
  {
   "cell_type": "code",
   "execution_count": 96,
   "id": "2c14eab3",
   "metadata": {},
   "outputs": [],
   "source": [
    "soft_skills = ['Аналитическое мышление', 'Постановка задач разработчикам', 'Подготовка презентаций', 'Аналитический склад ума', \n",
    " 'Работа в команде', 'Системное мышление', 'Деловая коммуникация', 'Грамотная речь', 'Обучение и развитие', \n",
    " 'Навыки презентации', 'Ответственность', 'Многозадачность', 'Деловая переписка', 'Точность и внимательность к деталям', \n",
    " 'Системный подход', 'Работа в режиме многозадачности', 'Командообразование', 'Ориентация на результат', \n",
    " 'Организаторские навыки', 'Коммуникабельность', 'Грамотность', 'Аналитические способности', 'Проведение презентаций',\n",
    " 'Деловое общение', 'Работа в условиях многозадачности', 'Внимательность', 'Стратегическое мышление', \n",
    " 'Навыки переговоров', 'Управление командой']"
   ]
  },
  {
   "cell_type": "markdown",
   "id": "cabfe066",
   "metadata": {},
   "source": [
    "Используем функцию для вычисления доли твердых и мягких навыков. Создадим под них новые столбцы. Также, поскольку списки содержат только двести навыков, посчитаем и долю неотнесенных к той или иной категории навыков - тех, что не попали в наш список."
   ]
  },
  {
   "cell_type": "code",
   "execution_count": 97,
   "id": "9d4254cd",
   "metadata": {},
   "outputs": [],
   "source": [
    "# Функция для вычисления соотношения\n",
    "def calculate_skill_ratio(skills_str):\n",
    "    if pd.isna(skills_str):\n",
    "        return (np.nan, np.nan, np.nan)  # Возвращаем кортеж из NaN, если значение отсутствует\n",
    "\n",
    "    skills = skills_str.split(', ')\n",
    "    hard_count = sum(skill in hard_skills for skill in skills)\n",
    "    soft_count = sum(skill in soft_skills for skill in skills)\n",
    "    random_count = len(skills) - hard_count - soft_count  # Количество неопознанных навыков\n",
    "    \n",
    "    total_skills = hard_count + soft_count + random_count\n",
    "    \n",
    "    if total_skills == 0:\n",
    "        return (np.nan, np.nan, np.nan)  # Возвращаем кортеж из NaN, если нет известных навыков\n",
    "    \n",
    "    # Вычисляем соотношения\n",
    "    soft_ratio = soft_count / total_skills\n",
    "    hard_ratio = hard_count / total_skills\n",
    "    random_ratio = random_count / total_skills\n",
    "\n",
    "    return (soft_ratio, hard_ratio, random_ratio)\n",
    "\n",
    "# Применяем функцию к каждому значению в столбце standardized_skills\n",
    "df_unique['soft_skill_ratio'], df_unique['hard_skill_ratio'], df_unique['random_skill_ratio'] = zip(*df_unique['standardized_skills'].apply(calculate_skill_ratio))"
   ]
  },
  {
   "cell_type": "markdown",
   "id": "dc60aef9",
   "metadata": {},
   "source": [
    "Соберем новые данные по долям навыков в таблицу, усреднив их по нашим грейдам"
   ]
  },
  {
   "cell_type": "code",
   "execution_count": 98,
   "id": "32569ac8",
   "metadata": {
    "scrolled": true
   },
   "outputs": [
    {
     "data": {
      "text/html": [
       "<div>\n",
       "<style scoped>\n",
       "    .dataframe tbody tr th:only-of-type {\n",
       "        vertical-align: middle;\n",
       "    }\n",
       "\n",
       "    .dataframe tbody tr th {\n",
       "        vertical-align: top;\n",
       "    }\n",
       "\n",
       "    .dataframe thead th {\n",
       "        text-align: right;\n",
       "    }\n",
       "</style>\n",
       "<table border=\"1\" class=\"dataframe\">\n",
       "  <thead>\n",
       "    <tr style=\"text-align: right;\">\n",
       "      <th>experience</th>\n",
       "      <th>vacancy</th>\n",
       "      <th>skill_type</th>\n",
       "      <th>Junior</th>\n",
       "      <th>Junior+</th>\n",
       "      <th>Middle</th>\n",
       "      <th>Senior</th>\n",
       "    </tr>\n",
       "  </thead>\n",
       "  <tbody>\n",
       "    <tr>\n",
       "      <th>0</th>\n",
       "      <td>Аналитик данных</td>\n",
       "      <td>hard_skill_ratio</td>\n",
       "      <td>63.0</td>\n",
       "      <td>72.2</td>\n",
       "      <td>75.4</td>\n",
       "      <td>81.1</td>\n",
       "    </tr>\n",
       "    <tr>\n",
       "      <th>1</th>\n",
       "      <td>Аналитик данных</td>\n",
       "      <td>random_skill_ratio</td>\n",
       "      <td>19.3</td>\n",
       "      <td>17.8</td>\n",
       "      <td>17.9</td>\n",
       "      <td>15.2</td>\n",
       "    </tr>\n",
       "    <tr>\n",
       "      <th>2</th>\n",
       "      <td>Аналитик данных</td>\n",
       "      <td>soft_skill_ratio</td>\n",
       "      <td>17.6</td>\n",
       "      <td>10.0</td>\n",
       "      <td>6.7</td>\n",
       "      <td>3.7</td>\n",
       "    </tr>\n",
       "    <tr>\n",
       "      <th>3</th>\n",
       "      <td>Системный аналитик</td>\n",
       "      <td>hard_skill_ratio</td>\n",
       "      <td>67.6</td>\n",
       "      <td>80.6</td>\n",
       "      <td>86.0</td>\n",
       "      <td>80.9</td>\n",
       "    </tr>\n",
       "    <tr>\n",
       "      <th>4</th>\n",
       "      <td>Системный аналитик</td>\n",
       "      <td>random_skill_ratio</td>\n",
       "      <td>15.2</td>\n",
       "      <td>13.2</td>\n",
       "      <td>10.2</td>\n",
       "      <td>13.6</td>\n",
       "    </tr>\n",
       "    <tr>\n",
       "      <th>5</th>\n",
       "      <td>Системный аналитик</td>\n",
       "      <td>soft_skill_ratio</td>\n",
       "      <td>17.2</td>\n",
       "      <td>6.3</td>\n",
       "      <td>3.8</td>\n",
       "      <td>5.5</td>\n",
       "    </tr>\n",
       "  </tbody>\n",
       "</table>\n",
       "</div>"
      ],
      "text/plain": [
       "experience             vacancy          skill_type  Junior  Junior+  Middle  \\\n",
       "0              Аналитик данных    hard_skill_ratio    63.0     72.2    75.4   \n",
       "1              Аналитик данных  random_skill_ratio    19.3     17.8    17.9   \n",
       "2              Аналитик данных    soft_skill_ratio    17.6     10.0     6.7   \n",
       "3           Системный аналитик    hard_skill_ratio    67.6     80.6    86.0   \n",
       "4           Системный аналитик  random_skill_ratio    15.2     13.2    10.2   \n",
       "5           Системный аналитик    soft_skill_ratio    17.2      6.3     3.8   \n",
       "\n",
       "experience  Senior  \n",
       "0             81.1  \n",
       "1             15.2  \n",
       "2              3.7  \n",
       "3             80.9  \n",
       "4             13.6  \n",
       "5              5.5  "
      ]
     },
     "execution_count": 98,
     "metadata": {},
     "output_type": "execute_result"
    }
   ],
   "source": [
    "df_skill_ratio = df_unique.groupby(['vacancy', 'experience'])[['soft_skill_ratio', \n",
    "                                                               'hard_skill_ratio', \n",
    "                                                               'random_skill_ratio']].mean().reset_index()\n",
    "df_skill_ratio[['soft_skill_ratio', \n",
    "                 'hard_skill_ratio', \n",
    "                 'random_skill_ratio']] = df_skill_ratio[['soft_skill_ratio', \n",
    "                                                          'hard_skill_ratio', \n",
    "                                                          'random_skill_ratio']]*100\n",
    "df_skill_ratio = round(df_skill_ratio, 1)\n",
    "\n",
    "# Используем melt для преобразования skill_ratio в строки\n",
    "df_melted = df_skill_ratio.melt(id_vars=['vacancy', 'experience'], \n",
    "                                value_vars=['soft_skill_ratio', 'hard_skill_ratio', 'random_skill_ratio'],\n",
    "                                var_name='skill_type', value_name='value')\n",
    "\n",
    "# Применяем pivot для того, чтобы experience стал заголовками столбцов\n",
    "df_result = df_melted.pivot_table(index=['vacancy', 'skill_type'], columns='experience', values='value')\n",
    "\n",
    "# Сбрасываем индекс, чтобы получить DataFrame в удобном формате\n",
    "df_result = df_result.reset_index()\n",
    "df_result"
   ]
  },
  {
   "cell_type": "markdown",
   "id": "52331c35",
   "metadata": {},
   "source": [
    "## 7. Определение наиболее важных хард и софт скиллов кандидатов на вакансии аналитика данных и системного аналитика с разбивкой по грейдам"
   ]
  },
  {
   "cell_type": "markdown",
   "id": "06aa9205",
   "metadata": {},
   "source": [
    "Здесь используется функция, которая отбирает навыки для каждого грейда. В данном случае эмпирическим путем установлен порог в 40% кумулятивной доли наиболее важных навыков. Исключены навыки с совсем абстрактной формулировкой - \"Анализ данных\" и \"Аналитика\"."
   ]
  },
  {
   "cell_type": "code",
   "execution_count": 99,
   "id": "08f53f56",
   "metadata": {},
   "outputs": [],
   "source": [
    "# Список навыков, которые нужно исключить\n",
    "excluded_skills = {'Анализ данных', 'Аналитика'}\n",
    "\n",
    "# Определяем функцию для получения топ-40% навыков в каждой группе\n",
    "def top_40_percent_skills(group):\n",
    "    # Убираем строки с NaN или пустыми значениями\n",
    "    group = group.dropna(subset=['standardized_skills'])\n",
    "    group = group[group['standardized_skills'].str.strip() != '']\n",
    "    \n",
    "    # Объединяем все строки в одну и разделяем на отдельные навыки\n",
    "    all_skills = ', '.join(group['standardized_skills']).split(', ')\n",
    "    \n",
    "    # Подсчитываем частоту каждого навыка, игнорируя исключенные навыки\n",
    "    skill_counts = Counter(skill.strip() for skill in all_skills if skill.strip() and skill.strip() not in excluded_skills)\n",
    "    \n",
    "    # Преобразуем в DataFrame для удобства\n",
    "    skill_counts_df = pd.DataFrame(skill_counts.items(), columns=['Skill', 'Count'])\n",
    "    \n",
    "    # Считаем общее количество навыков\n",
    "    total_count = skill_counts_df['Count'].sum()\n",
    "    \n",
    "    # Вычисляем кумулятивную долю\n",
    "    skill_counts_df = skill_counts_df.sort_values(by='Count', ascending=False)\n",
    "    skill_counts_df['Cumulative'] = skill_counts_df['Count'].cumsum() / total_count\n",
    "    \n",
    "    # Фильтруем навыки, которые составляют 40% упоминаний\n",
    "    top_skills_df = skill_counts_df[skill_counts_df['Cumulative'] <= 0.40]\n",
    "    \n",
    "    # Получаем навыки, которые составляют до 40% упоминаний\n",
    "    top_skills = top_skills_df['Skill'].tolist()\n",
    "    \n",
    "    # Преобразуем список навыков в строку, разделенную запятыми\n",
    "    top_skills_str = ', '.join(top_skills)\n",
    "    \n",
    "    return top_skills_str\n",
    "\n",
    "# Применяем функцию к каждой группе и получаем DataFrame\n",
    "result_1 = df_unique.groupby(['vacancy', 'experience']).apply(top_40_percent_skills).reset_index()"
   ]
  },
  {
   "cell_type": "code",
   "execution_count": 100,
   "id": "4d38ee51",
   "metadata": {},
   "outputs": [],
   "source": [
    "# Установим максимальное количество отображаемых символов в строке\n",
    "pd.options.display.max_colwidth = 300"
   ]
  },
  {
   "cell_type": "code",
   "execution_count": 101,
   "id": "074ace7b",
   "metadata": {},
   "outputs": [
    {
     "data": {
      "text/html": [
       "<div>\n",
       "<style scoped>\n",
       "    .dataframe tbody tr th:only-of-type {\n",
       "        vertical-align: middle;\n",
       "    }\n",
       "\n",
       "    .dataframe tbody tr th {\n",
       "        vertical-align: top;\n",
       "    }\n",
       "\n",
       "    .dataframe thead th {\n",
       "        text-align: right;\n",
       "    }\n",
       "</style>\n",
       "<table border=\"1\" class=\"dataframe\">\n",
       "  <thead>\n",
       "    <tr style=\"text-align: right;\">\n",
       "      <th></th>\n",
       "      <th>vacancy</th>\n",
       "      <th>experience</th>\n",
       "      <th>0</th>\n",
       "    </tr>\n",
       "  </thead>\n",
       "  <tbody>\n",
       "    <tr>\n",
       "      <th>0</th>\n",
       "      <td>Аналитик данных</td>\n",
       "      <td>Junior</td>\n",
       "      <td>Аналитическое мышление, Excel, SQL, Работа с большим объемом информации, Базы данных, Python, Сбор и анализ информации, PowerPoint, Power BI, Аналитические исследования, Бизнес-анализ, Сводные таблицы, Аналитический склад ума, Статистический анализ</td>\n",
       "    </tr>\n",
       "    <tr>\n",
       "      <th>1</th>\n",
       "      <td>Аналитик данных</td>\n",
       "      <td>Junior+</td>\n",
       "      <td>SQL, Аналитическое мышление, Excel, Работа с большим объемом информации, Python, Базы данных, Power BI, Аналитические исследования, Бизнес-анализ, BPMN, Сбор и анализ информации, Системный анализ, PowerPoint, Разработка ТЗ, UML</td>\n",
       "    </tr>\n",
       "    <tr>\n",
       "      <th>2</th>\n",
       "      <td>Аналитик данных</td>\n",
       "      <td>Middle</td>\n",
       "      <td>SQL, Python, Аналитическое мышление, BPMN, Системный анализ, Бизнес-анализ, Excel, Базы данных, UML, Power BI, REST, Аналитические исследования, Работа с большим объемом информации, Разработка ТЗ</td>\n",
       "    </tr>\n",
       "    <tr>\n",
       "      <th>3</th>\n",
       "      <td>Аналитик данных</td>\n",
       "      <td>Senior</td>\n",
       "      <td>SQL, BPMN, Python, Системный анализ, Бизнес-анализ, UML, Разработка ТЗ, REST, Базы данных, Jira, Power BI</td>\n",
       "    </tr>\n",
       "    <tr>\n",
       "      <th>4</th>\n",
       "      <td>Системный аналитик</td>\n",
       "      <td>Junior</td>\n",
       "      <td>SQL, Системный анализ, Аналитическое мышление, Бизнес-анализ, Базы данных, REST, JSON, BPMN, UML, Аналитический склад ума, Python</td>\n",
       "    </tr>\n",
       "    <tr>\n",
       "      <th>5</th>\n",
       "      <td>Системный аналитик</td>\n",
       "      <td>Junior+</td>\n",
       "      <td>SQL, BPMN, Системный анализ, UML, REST, Разработка ТЗ</td>\n",
       "    </tr>\n",
       "    <tr>\n",
       "      <th>6</th>\n",
       "      <td>Системный аналитик</td>\n",
       "      <td>Middle</td>\n",
       "      <td>SQL, UML, BPMN, Системный анализ</td>\n",
       "    </tr>\n",
       "    <tr>\n",
       "      <th>7</th>\n",
       "      <td>Системный аналитик</td>\n",
       "      <td>Senior</td>\n",
       "      <td>Системный анализ, UML, BPMN, SQL</td>\n",
       "    </tr>\n",
       "  </tbody>\n",
       "</table>\n",
       "</div>"
      ],
      "text/plain": [
       "              vacancy experience  \\\n",
       "0     Аналитик данных     Junior   \n",
       "1     Аналитик данных    Junior+   \n",
       "2     Аналитик данных     Middle   \n",
       "3     Аналитик данных     Senior   \n",
       "4  Системный аналитик     Junior   \n",
       "5  Системный аналитик    Junior+   \n",
       "6  Системный аналитик     Middle   \n",
       "7  Системный аналитик     Senior   \n",
       "\n",
       "                                                                                                                                                                                                                                                          0  \n",
       "0  Аналитическое мышление, Excel, SQL, Работа с большим объемом информации, Базы данных, Python, Сбор и анализ информации, PowerPoint, Power BI, Аналитические исследования, Бизнес-анализ, Сводные таблицы, Аналитический склад ума, Статистический анализ  \n",
       "1                       SQL, Аналитическое мышление, Excel, Работа с большим объемом информации, Python, Базы данных, Power BI, Аналитические исследования, Бизнес-анализ, BPMN, Сбор и анализ информации, Системный анализ, PowerPoint, Разработка ТЗ, UML  \n",
       "2                                                       SQL, Python, Аналитическое мышление, BPMN, Системный анализ, Бизнес-анализ, Excel, Базы данных, UML, Power BI, REST, Аналитические исследования, Работа с большим объемом информации, Разработка ТЗ  \n",
       "3                                                                                                                                                 SQL, BPMN, Python, Системный анализ, Бизнес-анализ, UML, Разработка ТЗ, REST, Базы данных, Jira, Power BI  \n",
       "4                                                                                                                         SQL, Системный анализ, Аналитическое мышление, Бизнес-анализ, Базы данных, REST, JSON, BPMN, UML, Аналитический склад ума, Python  \n",
       "5                                                                                                                                                                                                     SQL, BPMN, Системный анализ, UML, REST, Разработка ТЗ  \n",
       "6                                                                                                                                                                                                                          SQL, UML, BPMN, Системный анализ  \n",
       "7                                                                                                                                                                                                                          Системный анализ, UML, BPMN, SQL  "
      ]
     },
     "execution_count": 101,
     "metadata": {},
     "output_type": "execute_result"
    }
   ],
   "source": [
    "result_1"
   ]
  },
  {
   "cell_type": "markdown",
   "id": "c54f96fa",
   "metadata": {},
   "source": [
    "Наблюдается интересная тенденция - с ростом грейда уменьшается разнообразие скиллов, входящих в первые 40%. Это не означает, что к претендентам предъявляются пониженные требования. Скорее, с ростом уровня специалиста увеличивается разнообразие требований и в первые 40% в итоге попадают только самые общие.\n",
    "\n",
    "Также, для аналитиков данных начиная с уровня Junior+ в ТОП попали навыки, которые наиболее востребованы у системных аналитиков. Этот вопрос требует дополнительного изучения. Возможно, мы не очень удачно поделили вакансии для системных и дата аналитиков, что привело к такому результату. В дальнейшем планируется выявить дополнительный критерий для уточнения выбора между одними и другими."
   ]
  },
  {
   "cell_type": "markdown",
   "id": "5f366dd1",
   "metadata": {},
   "source": [
    "## 8. Выводы"
   ]
  },
  {
   "cell_type": "markdown",
   "id": "0057e85d",
   "metadata": {},
   "source": [
    "* Вакансии наиболее активно размещаются в начале и в конце рабочего дня;\n",
    "* В течение недели больше всего вакансий публикуется в понедельник. Каждый день,кроме выходных, публикуется более 500 вакансий по аналитика данных и системным аналитикам;\n",
    "* Была проверена гипотеза о большей средней ЗП для свежих вакансий. Она не подтвердилась;\n",
    "* Число вакансий в зависимости от грейда распределилось следующим образом - для аналитиков данных 59% занял грейд Junior+, Middle - 30%, Junior - 10%, Senior - 1%. У системных аналитиков грейд Middle занимает - 51%, Junior+ - 42%, Junior - 5%, Senior - 2%;\n",
    "* ТОП-10 работодателей - Сбер, Т1, МТС, ВТБ, Ozon, ПСБ, Альфа-банк, Яндекс, Билайн, Спортмастер;\n",
    "* Средние ЗП получились следующие. Для дата аналитиков Джуниор - 61 тыс, Джуниор+ - 95 тыс, Миддл - 170 тыс, Сеньор - 230 тыс. Для системных аналитиков, соответственно - 67 тыс, 141 тыс, 255 тыс, 302 тыс. Видно, что ЗП системных аналитиков гораздо больше;\n",
    "* Мы сравнили московскую зарплату с региональной и получили разницу более 20% для низких грейдов в пользу московской ЗП. Для мидлов и сеньоров разница не так велика, но тоже есть;\n",
    "* В каждом грейде преобладает полная занятость. Для специалистов без опыта часто может встречаться стажировка;\n",
    "* Основной график работы для всех грейдов - полный день в офисе;\n",
    "* Твердые и мягкие навыки распределились в пользу твердых навыков, процент которых может достигать 80 но не менее 60%. Мягкие навыки занимают от 10 до 20 процентов. Оставшийся процент для неклассифицированных навыков может сыграть как в одну, так и в другую сторону, но существенно уже ничего не поменяет;\n",
    "* Определяя наиболее важные навыки мы выяснили, что с ростом уровня специалиста увеличивается разнообразие требований к ним, когда помимо основных скиллов требуются знания в специфичесикх областях;"
   ]
  }
 ],
 "metadata": {
  "kernelspec": {
   "display_name": "Python 3 (ipykernel)",
   "language": "python",
   "name": "python3"
  },
  "language_info": {
   "codemirror_mode": {
    "name": "ipython",
    "version": 3
   },
   "file_extension": ".py",
   "mimetype": "text/x-python",
   "name": "python",
   "nbconvert_exporter": "python",
   "pygments_lexer": "ipython3",
   "version": "3.11.5"
  },
  "toc": {
   "base_numbering": 1,
   "nav_menu": {
    "height": "171px",
    "width": "398.4px"
   },
   "number_sections": false,
   "sideBar": true,
   "skip_h1_title": true,
   "title_cell": "Table of Contents",
   "title_sidebar": "Содержание",
   "toc_cell": false,
   "toc_position": {
    "height": "calc(100% - 180px)",
    "left": "10px",
    "top": "150px",
    "width": "543.8px"
   },
   "toc_section_display": true,
   "toc_window_display": false
  },
  "varInspector": {
   "cols": {
    "lenName": 16,
    "lenType": 16,
    "lenVar": 40
   },
   "kernels_config": {
    "python": {
     "delete_cmd_postfix": "",
     "delete_cmd_prefix": "del ",
     "library": "var_list.py",
     "varRefreshCmd": "print(var_dic_list())"
    },
    "r": {
     "delete_cmd_postfix": ") ",
     "delete_cmd_prefix": "rm(",
     "library": "var_list.r",
     "varRefreshCmd": "cat(var_dic_list()) "
    }
   },
   "types_to_exclude": [
    "module",
    "function",
    "builtin_function_or_method",
    "instance",
    "_Feature"
   ],
   "window_display": false
  }
 },
 "nbformat": 4,
 "nbformat_minor": 5
}
